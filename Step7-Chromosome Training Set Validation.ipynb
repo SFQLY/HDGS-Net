{
 "cells": [
  {
   "cell_type": "code",
   "execution_count": 1,
   "id": "669b847e-8119-428e-997c-69fc539b5e21",
   "metadata": {},
   "outputs": [],
   "source": [
    "import numpy as np\n",
    "import time\n",
    "from tqdm import tqdm\n",
    "from tensorflow import keras"
   ]
  },
  {
   "cell_type": "code",
   "execution_count": null,
   "id": "a51cca8f-a442-4df9-9b4e-d342d73bcec5",
   "metadata": {},
   "outputs": [],
   "source": []
  },
  {
   "cell_type": "code",
   "execution_count": 2,
   "id": "af6cfb8d-2ab5-481d-a58d-99bb856184b4",
   "metadata": {},
   "outputs": [
    {
     "name": "stderr",
     "output_type": "stream",
     "text": [
      "Predicting: 100%|██████████████████████████| 6557/6557 [04:03<00:00, 26.96it/s]\n"
     ]
    }
   ],
   "source": [
    "with open('SAC1基因组去空格/CH1n.txt', \"r\") as f:\n",
    "    strn = f.read()\n",
    "data = np.loadtxt(\"训练位点和占据率/ch1训练.csv\", delimiter=\",\", skiprows=1, usecols=[0, 1])\n",
    "base = ['AA', 'AC', 'AG', 'AT', 'CA', 'CC', 'CG', 'CT', 'GA', 'GC', 'GG', 'GT', 'TA', 'TC', 'TG', 'TT']\n",
    "levelp = np.zeros(data.shape[0])\n",
    "model1 = keras.models.load_model('卷积神经网络模型/chA(no10)模型.h5')\n",
    "for i in tqdm(range(data.shape[0]), desc=\"Predicting\"):\n",
    "    Nuar = np.zeros((1, 16, 146, 1))\n",
    "    s = int(data[i][0])\n",
    "    strs = strn[s-74:s+73]\n",
    "    for n in range(len(base)):\n",
    "        for m in range(len(strs) - 1):\n",
    "            dinu = strs[m] + strs[m + 1]\n",
    "            if dinu == base[n]:\n",
    "                Nuar[0][n][m][0] = 1\n",
    "    result = model1.predict(Nuar)\n",
    "    levelp[i] = result[0][0]\n",
    "np.savetxt(\"染色体预测结果（训练）/ch1_levelp(t).txt\", levelp, fmt='%f', delimiter=',')"
   ]
  },
  {
   "cell_type": "code",
   "execution_count": null,
   "id": "4972d28a-d4e4-448e-84e3-1aaa8733bc45",
   "metadata": {},
   "outputs": [],
   "source": []
  },
  {
   "cell_type": "code",
   "execution_count": 3,
   "id": "6fcc96ab-6297-4de3-856f-1f7d42be92ba",
   "metadata": {},
   "outputs": [
    {
     "name": "stderr",
     "output_type": "stream",
     "text": [
      "Predicting: 100%|████████████████████████| 29077/29077 [17:23<00:00, 27.86it/s]\n"
     ]
    }
   ],
   "source": [
    "with open('SAC1基因组去空格/CH2n.txt', \"r\") as f:\n",
    "    strn = f.read()\n",
    "data = np.loadtxt(\"训练位点和占据率/ch2训练.csv\", delimiter=\",\", skiprows=1, usecols=[0, 1])\n",
    "base = ['AA', 'AC', 'AG', 'AT', 'CA', 'CC', 'CG', 'CT', 'GA', 'GC', 'GG', 'GT', 'TA', 'TC', 'TG', 'TT']\n",
    "levelp = np.zeros(data.shape[0])\n",
    "model1 = keras.models.load_model('卷积神经网络模型/chA(no10)模型.h5')\n",
    "for i in tqdm(range(data.shape[0]), desc=\"Predicting\"):\n",
    "    Nuar = np.zeros((1, 16, 146, 1))\n",
    "    s = int(data[i][0])\n",
    "    strs = strn[s-74:s+73]\n",
    "    for n in range(len(base)):\n",
    "        for m in range(len(strs) - 1):\n",
    "            dinu = strs[m] + strs[m + 1]\n",
    "            if dinu == base[n]:\n",
    "                Nuar[0][n][m][0] = 1\n",
    "    result = model1.predict(Nuar)\n",
    "    levelp[i] = result[0][0]\n",
    "np.savetxt(\"染色体预测结果（训练）/ch2_levelp(t).txt\", levelp, fmt='%f', delimiter=',')"
   ]
  },
  {
   "cell_type": "code",
   "execution_count": null,
   "id": "146bd7fc-7c3d-43d3-a523-07ab289059cb",
   "metadata": {},
   "outputs": [],
   "source": []
  },
  {
   "cell_type": "code",
   "execution_count": 4,
   "id": "d340bf8c-40f2-4367-873a-411cf9006ff0",
   "metadata": {},
   "outputs": [
    {
     "name": "stderr",
     "output_type": "stream",
     "text": [
      "Predicting: 100%|██████████████████████████| 9140/9140 [05:36<00:00, 27.14it/s]\n"
     ]
    }
   ],
   "source": [
    "with open('SAC1基因组去空格/CH3n.txt', \"r\") as f:\n",
    "    strn = f.read()\n",
    "data = np.loadtxt(\"训练位点和占据率/ch3训练.csv\", delimiter=\",\", skiprows=1, usecols=[0, 1])\n",
    "base = ['AA', 'AC', 'AG', 'AT', 'CA', 'CC', 'CG', 'CT', 'GA', 'GC', 'GG', 'GT', 'TA', 'TC', 'TG', 'TT']\n",
    "levelp = np.zeros(data.shape[0])\n",
    "model1 = keras.models.load_model('卷积神经网络模型/chA(no10)模型.h5')\n",
    "for i in tqdm(range(data.shape[0]), desc=\"Predicting\"):\n",
    "    Nuar = np.zeros((1, 16, 146, 1))\n",
    "    s = int(data[i][0])\n",
    "    strs = strn[s-74:s+73]\n",
    "    for n in range(len(base)):\n",
    "        for m in range(len(strs) - 1):\n",
    "            dinu = strs[m] + strs[m + 1]\n",
    "            if dinu == base[n]:\n",
    "                Nuar[0][n][m][0] = 1\n",
    "    result = model1.predict(Nuar)\n",
    "    levelp[i] = result[0][0]\n",
    "np.savetxt(\"染色体预测结果（训练）/ch3_levelp(t).txt\", levelp, fmt='%f', delimiter=',')"
   ]
  },
  {
   "cell_type": "code",
   "execution_count": null,
   "id": "6e606762-d312-4fa0-a9a0-e34f6bcd71f2",
   "metadata": {},
   "outputs": [],
   "source": []
  },
  {
   "cell_type": "code",
   "execution_count": 5,
   "id": "7f2afed7-4811-478c-8ab2-fb873dd7318f",
   "metadata": {},
   "outputs": [
    {
     "name": "stderr",
     "output_type": "stream",
     "text": [
      "Predicting: 100%|████████████████████████| 54086/54086 [33:58<00:00, 26.53it/s]\n"
     ]
    }
   ],
   "source": [
    "with open('SAC1基因组去空格/CH4n.txt', \"r\") as f:\n",
    "    strn = f.read()\n",
    "data = np.loadtxt(\"训练位点和占据率/ch4训练.csv\", delimiter=\",\", skiprows=1, usecols=[0, 1])\n",
    "base = ['AA', 'AC', 'AG', 'AT', 'CA', 'CC', 'CG', 'CT', 'GA', 'GC', 'GG', 'GT', 'TA', 'TC', 'TG', 'TT']\n",
    "levelp = np.zeros(data.shape[0])\n",
    "model1 = keras.models.load_model('卷积神经网络模型/chA(no10)模型.h5')\n",
    "for i in tqdm(range(data.shape[0]), desc=\"Predicting\"):\n",
    "    Nuar = np.zeros((1, 16, 146, 1))\n",
    "    s = int(data[i][0])\n",
    "    strs = strn[s-74:s+73]\n",
    "    for n in range(len(base)):\n",
    "        for m in range(len(strs) - 1):\n",
    "            dinu = strs[m] + strs[m + 1]\n",
    "            if dinu == base[n]:\n",
    "                Nuar[0][n][m][0] = 1\n",
    "    result = model1.predict(Nuar)\n",
    "    levelp[i] = result[0][0]\n",
    "np.savetxt(\"染色体预测结果（训练）/ch4_levelp(t).txt\", levelp, fmt='%f', delimiter=',')"
   ]
  },
  {
   "cell_type": "code",
   "execution_count": null,
   "id": "f912b032-fd0e-4c55-b995-c63557528f60",
   "metadata": {},
   "outputs": [],
   "source": []
  },
  {
   "cell_type": "code",
   "execution_count": 2,
   "id": "6d198917-6c9c-41b4-a916-f3ad02c68bdd",
   "metadata": {},
   "outputs": [
    {
     "name": "stderr",
     "output_type": "stream",
     "text": [
      "Predicting: 100%|████████████████████████| 19920/19920 [11:24<00:00, 29.11it/s]\n"
     ]
    }
   ],
   "source": [
    "with open('SAC1基因组去空格/CH5n.txt', \"r\") as f:\n",
    "    strn = f.read()\n",
    "data = np.loadtxt(\"训练位点和占据率/ch5训练.csv\", delimiter=\",\", skiprows=1, usecols=[0, 1])\n",
    "base = ['AA', 'AC', 'AG', 'AT', 'CA', 'CC', 'CG', 'CT', 'GA', 'GC', 'GG', 'GT', 'TA', 'TC', 'TG', 'TT']\n",
    "levelp = np.zeros(data.shape[0])\n",
    "model1 = keras.models.load_model('卷积神经网络模型/chA(no10)模型.h5')\n",
    "for i in tqdm(range(data.shape[0]), desc=\"Predicting\"):\n",
    "    Nuar = np.zeros((1, 16, 146, 1))\n",
    "    s = int(data[i][0])\n",
    "    strs = strn[s-74:s+73]\n",
    "    for n in range(len(base)):\n",
    "        for m in range(len(strs) - 1):\n",
    "            dinu = strs[m] + strs[m + 1]\n",
    "            if dinu == base[n]:\n",
    "                Nuar[0][n][m][0] = 1\n",
    "    result = model1.predict(Nuar)\n",
    "    levelp[i] = result[0][0]\n",
    "np.savetxt(\"染色体预测结果（训练）/ch5_levelp(t).txt\", levelp, fmt='%f', delimiter=',')"
   ]
  },
  {
   "cell_type": "code",
   "execution_count": null,
   "id": "a476fa58-0bd4-467c-b663-dac5ad91d554",
   "metadata": {},
   "outputs": [],
   "source": []
  },
  {
   "cell_type": "code",
   "execution_count": 2,
   "id": "4bf8e309-d06c-4b95-b92a-80cec54b0dcc",
   "metadata": {},
   "outputs": [
    {
     "name": "stderr",
     "output_type": "stream",
     "text": [
      "Predicting: 100%|██████████████████████████| 8793/8793 [05:08<00:00, 28.48it/s]\n"
     ]
    }
   ],
   "source": [
    "with open('SAC1基因组去空格/CH6n.txt', \"r\") as f:\n",
    "    strn = f.read()\n",
    "data = np.loadtxt(\"训练位点和占据率/ch6训练.csv\", delimiter=\",\", skiprows=1, usecols=[0, 1])\n",
    "base = ['AA', 'AC', 'AG', 'AT', 'CA', 'CC', 'CG', 'CT', 'GA', 'GC', 'GG', 'GT', 'TA', 'TC', 'TG', 'TT']\n",
    "levelp = np.zeros(data.shape[0])\n",
    "model1 = keras.models.load_model('卷积神经网络模型/chA(no10)模型.h5')\n",
    "for i in tqdm(range(data.shape[0]), desc=\"Predicting\"):\n",
    "    Nuar = np.zeros((1, 16, 146, 1))\n",
    "    s = int(data[i][0])\n",
    "    strs = strn[s-74:s+73]\n",
    "    for n in range(len(base)):\n",
    "        for m in range(len(strs) - 1):\n",
    "            dinu = strs[m] + strs[m + 1]\n",
    "            if dinu == base[n]:\n",
    "                Nuar[0][n][m][0] = 1\n",
    "    result = model1.predict(Nuar)\n",
    "    levelp[i] = result[0][0]\n",
    "np.savetxt(\"染色体预测结果（训练）/ch6_levelp(t).txt\", levelp, fmt='%f', delimiter=',')"
   ]
  },
  {
   "cell_type": "code",
   "execution_count": null,
   "id": "109c464e-ce19-447a-ba4e-7ee1eb098aca",
   "metadata": {},
   "outputs": [],
   "source": []
  },
  {
   "cell_type": "code",
   "execution_count": 3,
   "id": "58ee69f2-6cab-49f6-99ce-bc4bc816251e",
   "metadata": {},
   "outputs": [
    {
     "name": "stderr",
     "output_type": "stream",
     "text": [
      "Predicting: 100%|████████████████████████| 38445/38445 [22:35<00:00, 28.35it/s]\n"
     ]
    }
   ],
   "source": [
    "with open('SAC1基因组去空格/CH7n.txt', \"r\") as f:\n",
    "    strn = f.read()\n",
    "data = np.loadtxt(\"训练位点和占据率/ch7训练.csv\", delimiter=\",\", skiprows=1, usecols=[0, 1])\n",
    "base = ['AA', 'AC', 'AG', 'AT', 'CA', 'CC', 'CG', 'CT', 'GA', 'GC', 'GG', 'GT', 'TA', 'TC', 'TG', 'TT']\n",
    "levelp = np.zeros(data.shape[0])\n",
    "model1 = keras.models.load_model('卷积神经网络模型/chA(no10)模型.h5')\n",
    "for i in tqdm(range(data.shape[0]), desc=\"Predicting\"):\n",
    "    Nuar = np.zeros((1, 16, 146, 1))\n",
    "    s = int(data[i][0])\n",
    "    strs = strn[s-74:s+73]\n",
    "    for n in range(len(base)):\n",
    "        for m in range(len(strs) - 1):\n",
    "            dinu = strs[m] + strs[m + 1]\n",
    "            if dinu == base[n]:\n",
    "                Nuar[0][n][m][0] = 1\n",
    "    result = model1.predict(Nuar)\n",
    "    levelp[i] = result[0][0]\n",
    "np.savetxt(\"染色体预测结果（训练）/ch7_levelp(t).txt\", levelp, fmt='%f', delimiter=',')"
   ]
  },
  {
   "cell_type": "code",
   "execution_count": null,
   "id": "74c884dd-7097-48f5-9507-a04bdac5cf90",
   "metadata": {},
   "outputs": [],
   "source": []
  },
  {
   "cell_type": "code",
   "execution_count": 4,
   "id": "75b24933-cdad-4d65-a3fe-71cb70ecf99d",
   "metadata": {},
   "outputs": [
    {
     "name": "stderr",
     "output_type": "stream",
     "text": [
      "Predicting: 100%|████████████████████████| 19040/19040 [11:29<00:00, 27.60it/s]\n"
     ]
    }
   ],
   "source": [
    "with open('SAC1基因组去空格/CH8n.txt', \"r\") as f:\n",
    "    strn = f.read()\n",
    "data = np.loadtxt(\"训练位点和占据率/ch8训练.csv\", delimiter=\",\", skiprows=1, usecols=[0, 1])\n",
    "base = ['AA', 'AC', 'AG', 'AT', 'CA', 'CC', 'CG', 'CT', 'GA', 'GC', 'GG', 'GT', 'TA', 'TC', 'TG', 'TT']\n",
    "levelp = np.zeros(data.shape[0])\n",
    "model1 = keras.models.load_model('卷积神经网络模型/chA(no10)模型.h5')\n",
    "for i in tqdm(range(data.shape[0]), desc=\"Predicting\"):\n",
    "    Nuar = np.zeros((1, 16, 146, 1))\n",
    "    s = int(data[i][0])\n",
    "    strs = strn[s-74:s+73]\n",
    "    for n in range(len(base)):\n",
    "        for m in range(len(strs) - 1):\n",
    "            dinu = strs[m] + strs[m + 1]\n",
    "            if dinu == base[n]:\n",
    "                Nuar[0][n][m][0] = 1\n",
    "    result = model1.predict(Nuar)\n",
    "    levelp[i] = result[0][0]\n",
    "np.savetxt(\"染色体预测结果（训练）/ch8_levelp(t).txt\", levelp, fmt='%f', delimiter=',')"
   ]
  },
  {
   "cell_type": "code",
   "execution_count": null,
   "id": "30d0f8de-fe96-4cf9-94b3-95983088ab53",
   "metadata": {},
   "outputs": [],
   "source": []
  },
  {
   "cell_type": "code",
   "execution_count": 5,
   "id": "cb33e428-66dd-4370-9da8-1d46eeae0b3b",
   "metadata": {},
   "outputs": [
    {
     "name": "stderr",
     "output_type": "stream",
     "text": [
      "Predicting: 100%|████████████████████████| 14270/14270 [09:05<00:00, 26.18it/s]\n"
     ]
    }
   ],
   "source": [
    "with open('SAC1基因组去空格/CH9n.txt', \"r\") as f:\n",
    "    strn = f.read()\n",
    "data = np.loadtxt(\"训练位点和占据率/ch9训练.csv\", delimiter=\",\", skiprows=1, usecols=[0, 1])\n",
    "base = ['AA', 'AC', 'AG', 'AT', 'CA', 'CC', 'CG', 'CT', 'GA', 'GC', 'GG', 'GT', 'TA', 'TC', 'TG', 'TT']\n",
    "levelp = np.zeros(data.shape[0])\n",
    "model1 = keras.models.load_model('卷积神经网络模型/chA(no10)模型.h5')\n",
    "for i in tqdm(range(data.shape[0]), desc=\"Predicting\"):\n",
    "    Nuar = np.zeros((1, 16, 146, 1))\n",
    "    s = int(data[i][0])\n",
    "    strs = strn[s-74:s+73]\n",
    "    for n in range(len(base)):\n",
    "        for m in range(len(strs) - 1):\n",
    "            dinu = strs[m] + strs[m + 1]\n",
    "            if dinu == base[n]:\n",
    "                Nuar[0][n][m][0] = 1\n",
    "    result = model1.predict(Nuar)\n",
    "    levelp[i] = result[0][0]\n",
    "np.savetxt(\"染色体预测结果（训练）/ch9_levelp(t).txt\", levelp, fmt='%f', delimiter=',')"
   ]
  },
  {
   "cell_type": "code",
   "execution_count": null,
   "id": "63ef0457-7ffa-4032-98da-a1ca1ff31c89",
   "metadata": {},
   "outputs": [],
   "source": []
  },
  {
   "cell_type": "code",
   "execution_count": 6,
   "id": "7a0b23cb-8fb8-4e18-936d-e2ee6707bf73",
   "metadata": {},
   "outputs": [
    {
     "name": "stderr",
     "output_type": "stream",
     "text": [
      "Predicting: 100%|████████████████████████| 25671/25671 [16:25<00:00, 26.06it/s]\n"
     ]
    }
   ],
   "source": [
    "with open('SAC1基因组去空格/CH10n.txt', \"r\") as f:\n",
    "    strn = f.read()\n",
    "data = np.loadtxt(\"训练位点和占据率/ch10训练.csv\", delimiter=\",\", skiprows=1, usecols=[0, 1])\n",
    "base = ['AA', 'AC', 'AG', 'AT', 'CA', 'CC', 'CG', 'CT', 'GA', 'GC', 'GG', 'GT', 'TA', 'TC', 'TG', 'TT']\n",
    "levelp = np.zeros(data.shape[0])\n",
    "model1 = keras.models.load_model('卷积神经网络模型/chA(no10)模型.h5')\n",
    "for i in tqdm(range(data.shape[0]), desc=\"Predicting\"):\n",
    "    Nuar = np.zeros((1, 16, 146, 1))\n",
    "    s = int(data[i][0])\n",
    "    strs = strn[s-74:s+73]\n",
    "    for n in range(len(base)):\n",
    "        for m in range(len(strs) - 1):\n",
    "            dinu = strs[m] + strs[m + 1]\n",
    "            if dinu == base[n]:\n",
    "                Nuar[0][n][m][0] = 1\n",
    "    result = model1.predict(Nuar)\n",
    "    levelp[i] = result[0][0]\n",
    "np.savetxt(\"染色体预测结果（训练）/ch10_levelp(t).txt\", levelp, fmt='%f', delimiter=',')"
   ]
  },
  {
   "cell_type": "code",
   "execution_count": null,
   "id": "d3539b93-5d17-4908-9544-659b6dcb65b4",
   "metadata": {},
   "outputs": [],
   "source": []
  },
  {
   "cell_type": "code",
   "execution_count": 2,
   "id": "58f6dfbd-f77a-4269-a417-7f7894207668",
   "metadata": {},
   "outputs": [
    {
     "name": "stderr",
     "output_type": "stream",
     "text": [
      "Predicting: 100%|████████████████████████| 25094/25094 [14:17<00:00, 29.25it/s]\n"
     ]
    }
   ],
   "source": [
    "with open('SAC1基因组去空格/CH11n.txt', \"r\") as f:\n",
    "    strn = f.read()\n",
    "data = np.loadtxt(\"训练位点和占据率/ch11训练.csv\", delimiter=\",\", skiprows=1, usecols=[0, 1])\n",
    "base = ['AA', 'AC', 'AG', 'AT', 'CA', 'CC', 'CG', 'CT', 'GA', 'GC', 'GG', 'GT', 'TA', 'TC', 'TG', 'TT']\n",
    "levelp = np.zeros(data.shape[0])\n",
    "model1 = keras.models.load_model('卷积神经网络模型/chA(no10)模型.h5')\n",
    "for i in tqdm(range(data.shape[0]), desc=\"Predicting\"):\n",
    "    Nuar = np.zeros((1, 16, 146, 1))\n",
    "    s = int(data[i][0])\n",
    "    strs = strn[s-74:s+73]\n",
    "    for n in range(len(base)):\n",
    "        for m in range(len(strs) - 1):\n",
    "            dinu = strs[m] + strs[m + 1]\n",
    "            if dinu == base[n]:\n",
    "                Nuar[0][n][m][0] = 1\n",
    "    result = model1.predict(Nuar)\n",
    "    levelp[i] = result[0][0]\n",
    "np.savetxt(\"染色体预测结果（训练）/ch11_levelp(t).txt\", levelp, fmt='%f', delimiter=',')"
   ]
  },
  {
   "cell_type": "code",
   "execution_count": null,
   "id": "28c28829-bf5d-4787-a1e6-efd6e416adaf",
   "metadata": {},
   "outputs": [],
   "source": []
  },
  {
   "cell_type": "code",
   "execution_count": 3,
   "id": "1b1c3c31-7ed1-4716-b87b-b06347a17d93",
   "metadata": {},
   "outputs": [
    {
     "name": "stderr",
     "output_type": "stream",
     "text": [
      "Predicting: 100%|████████████████████████| 36380/36380 [23:23<00:00, 25.92it/s]\n"
     ]
    }
   ],
   "source": [
    "with open('SAC1基因组去空格/CH12n.txt', \"r\") as f:\n",
    "    strn = f.read()\n",
    "data = np.loadtxt(\"训练位点和占据率/ch12训练.csv\", delimiter=\",\", skiprows=1, usecols=[0, 1])\n",
    "base = ['AA', 'AC', 'AG', 'AT', 'CA', 'CC', 'CG', 'CT', 'GA', 'GC', 'GG', 'GT', 'TA', 'TC', 'TG', 'TT']\n",
    "levelp = np.zeros(data.shape[0])\n",
    "model1 = keras.models.load_model('卷积神经网络模型/chA(no10)模型.h5')\n",
    "for i in tqdm(range(data.shape[0]), desc=\"Predicting\"):\n",
    "    Nuar = np.zeros((1, 16, 146, 1))\n",
    "    s = int(data[i][0])\n",
    "    strs = strn[s-74:s+73]\n",
    "    for n in range(len(base)):\n",
    "        for m in range(len(strs) - 1):\n",
    "            dinu = strs[m] + strs[m + 1]\n",
    "            if dinu == base[n]:\n",
    "                Nuar[0][n][m][0] = 1\n",
    "    result = model1.predict(Nuar)\n",
    "    levelp[i] = result[0][0]\n",
    "np.savetxt(\"染色体预测结果（训练）/ch12_levelp(t).txt\", levelp, fmt='%f', delimiter=',')"
   ]
  },
  {
   "cell_type": "code",
   "execution_count": null,
   "id": "d466f2ae-4252-4cfd-b1dd-e2253ac59060",
   "metadata": {},
   "outputs": [],
   "source": []
  },
  {
   "cell_type": "code",
   "execution_count": 2,
   "id": "dd13a93a-2ba6-4540-ab76-73fe39a75b35",
   "metadata": {},
   "outputs": [
    {
     "name": "stderr",
     "output_type": "stream",
     "text": [
      "Predicting: 100%|████████████████████████| 33587/33587 [20:02<00:00, 27.92it/s]\n"
     ]
    }
   ],
   "source": [
    "with open('SAC1基因组去空格/CH13n.txt', \"r\") as f:\n",
    "    strn = f.read()\n",
    "data = np.loadtxt(\"训练位点和占据率/ch13训练.csv\", delimiter=\",\", skiprows=1, usecols=[0, 1])\n",
    "base = ['AA', 'AC', 'AG', 'AT', 'CA', 'CC', 'CG', 'CT', 'GA', 'GC', 'GG', 'GT', 'TA', 'TC', 'TG', 'TT']\n",
    "levelp = np.zeros(data.shape[0])\n",
    "model1 = keras.models.load_model('卷积神经网络模型/chA(no10)模型.h5')\n",
    "for i in tqdm(range(data.shape[0]), desc=\"Predicting\"):\n",
    "    Nuar = np.zeros((1, 16, 146, 1))\n",
    "    s = int(data[i][0])\n",
    "    strs = strn[s-74:s+73]\n",
    "    for n in range(len(base)):\n",
    "        for m in range(len(strs) - 1):\n",
    "            dinu = strs[m] + strs[m + 1]\n",
    "            if dinu == base[n]:\n",
    "                Nuar[0][n][m][0] = 1\n",
    "    result = model1.predict(Nuar)\n",
    "    levelp[i] = result[0][0]\n",
    "np.savetxt(\"染色体预测结果（训练）/ch13_levelp(t).txt\", levelp, fmt='%f', delimiter=',')"
   ]
  },
  {
   "cell_type": "code",
   "execution_count": null,
   "id": "e3ccbb1e-83fc-4adf-9244-425f09be5aad",
   "metadata": {},
   "outputs": [],
   "source": []
  },
  {
   "cell_type": "code",
   "execution_count": 3,
   "id": "af7dc22e-7ddf-4e3e-a4a6-6183605e230f",
   "metadata": {},
   "outputs": [
    {
     "name": "stderr",
     "output_type": "stream",
     "text": [
      "Predicting: 100%|████████████████████████| 27752/27752 [18:29<00:00, 25.02it/s]\n"
     ]
    }
   ],
   "source": [
    "with open('SAC1基因组去空格/CH14n.txt', \"r\") as f:\n",
    "    strn = f.read()\n",
    "data = np.loadtxt(\"训练位点和占据率/ch14训练.csv\", delimiter=\",\", skiprows=1, usecols=[0, 1])\n",
    "base = ['AA', 'AC', 'AG', 'AT', 'CA', 'CC', 'CG', 'CT', 'GA', 'GC', 'GG', 'GT', 'TA', 'TC', 'TG', 'TT']\n",
    "levelp = np.zeros(data.shape[0])\n",
    "model1 = keras.models.load_model('卷积神经网络模型/chA(no10)模型.h5')\n",
    "for i in tqdm(range(data.shape[0]), desc=\"Predicting\"):\n",
    "    Nuar = np.zeros((1, 16, 146, 1))\n",
    "    s = int(data[i][0])\n",
    "    strs = strn[s-74:s+73]\n",
    "    for n in range(len(base)):\n",
    "        for m in range(len(strs) - 1):\n",
    "            dinu = strs[m] + strs[m + 1]\n",
    "            if dinu == base[n]:\n",
    "                Nuar[0][n][m][0] = 1\n",
    "    result = model1.predict(Nuar)\n",
    "    levelp[i] = result[0][0]\n",
    "np.savetxt(\"染色体预测结果（训练）/ch14_levelp(t).txt\", levelp, fmt='%f', delimiter=',')"
   ]
  },
  {
   "cell_type": "code",
   "execution_count": null,
   "id": "3f638dbc-890a-4e7d-b5af-7e6d9cd40bf0",
   "metadata": {},
   "outputs": [],
   "source": []
  },
  {
   "cell_type": "code",
   "execution_count": 2,
   "id": "c6251eaa-b8f4-4228-a782-1c9279a42e5c",
   "metadata": {},
   "outputs": [
    {
     "name": "stderr",
     "output_type": "stream",
     "text": [
      "Predicting: 100%|████████████████████████| 38604/38604 [21:49<00:00, 29.48it/s]\n"
     ]
    }
   ],
   "source": [
    "with open('SAC1基因组去空格/CH15n.txt', \"r\") as f:\n",
    "    strn = f.read()\n",
    "data = np.loadtxt(\"训练位点和占据率/ch15训练.csv\", delimiter=\",\", skiprows=1, usecols=[0, 1])\n",
    "base = ['AA', 'AC', 'AG', 'AT', 'CA', 'CC', 'CG', 'CT', 'GA', 'GC', 'GG', 'GT', 'TA', 'TC', 'TG', 'TT']\n",
    "levelp = np.zeros(data.shape[0])\n",
    "model1 = keras.models.load_model('卷积神经网络模型/chA(no10)模型.h5')\n",
    "for i in tqdm(range(data.shape[0]), desc=\"Predicting\"):\n",
    "    Nuar = np.zeros((1, 16, 146, 1))\n",
    "    s = int(data[i][0])\n",
    "    strs = strn[s-74:s+73]\n",
    "    for n in range(len(base)):\n",
    "        for m in range(len(strs) - 1):\n",
    "            dinu = strs[m] + strs[m + 1]\n",
    "            if dinu == base[n]:\n",
    "                Nuar[0][n][m][0] = 1\n",
    "    result = model1.predict(Nuar)\n",
    "    levelp[i] = result[0][0]\n",
    "np.savetxt(\"染色体预测结果（训练）/ch15_levelp(t).txt\", levelp, fmt='%f', delimiter=',')"
   ]
  },
  {
   "cell_type": "code",
   "execution_count": null,
   "id": "10a67db7-17c3-45b9-bd42-774d781e623f",
   "metadata": {},
   "outputs": [],
   "source": []
  },
  {
   "cell_type": "code",
   "execution_count": 3,
   "id": "c16e1d4b-7bd9-43c7-9ff0-9c4fd7adb22b",
   "metadata": {},
   "outputs": [
    {
     "name": "stderr",
     "output_type": "stream",
     "text": [
      "Predicting: 100%|████████████████████████| 34569/34569 [22:10<00:00, 25.99it/s]\n"
     ]
    }
   ],
   "source": [
    "with open('SAC1基因组去空格/CH16n.txt', \"r\") as f:\n",
    "    strn = f.read()\n",
    "data = np.loadtxt(\"训练位点和占据率/ch16训练.csv\", delimiter=\",\", skiprows=1, usecols=[0, 1])\n",
    "base = ['AA', 'AC', 'AG', 'AT', 'CA', 'CC', 'CG', 'CT', 'GA', 'GC', 'GG', 'GT', 'TA', 'TC', 'TG', 'TT']\n",
    "levelp = np.zeros(data.shape[0])\n",
    "model1 = keras.models.load_model('卷积神经网络模型/chA(no10)模型.h5')\n",
    "for i in tqdm(range(data.shape[0]), desc=\"Predicting\"):\n",
    "    Nuar = np.zeros((1, 16, 146, 1))\n",
    "    s = int(data[i][0])\n",
    "    strs = strn[s-74:s+73]\n",
    "    for n in range(len(base)):\n",
    "        for m in range(len(strs) - 1):\n",
    "            dinu = strs[m] + strs[m + 1]\n",
    "            if dinu == base[n]:\n",
    "                Nuar[0][n][m][0] = 1\n",
    "    result = model1.predict(Nuar)\n",
    "    levelp[i] = result[0][0]\n",
    "np.savetxt(\"染色体预测结果（训练）/ch16_levelp(t).txt\", levelp, fmt='%f', delimiter=',')"
   ]
  },
  {
   "cell_type": "code",
   "execution_count": null,
   "id": "01c8c118-78df-4a39-a1c8-79506a49037a",
   "metadata": {},
   "outputs": [],
   "source": []
  }
 ],
 "metadata": {
  "kernelspec": {
   "display_name": "tf",
   "language": "python",
   "name": "tf"
  },
  "language_info": {
   "codemirror_mode": {
    "name": "ipython",
    "version": 3
   },
   "file_extension": ".py",
   "mimetype": "text/x-python",
   "name": "python",
   "nbconvert_exporter": "python",
   "pygments_lexer": "ipython3",
   "version": "3.7.1"
  }
 },
 "nbformat": 4,
 "nbformat_minor": 5
}
