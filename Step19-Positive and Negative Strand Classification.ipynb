{
 "cells": [
  {
   "cell_type": "code",
   "execution_count": 12,
   "id": "51ff8e65-b775-4e2c-b2d8-5a3bf70da391",
   "metadata": {},
   "outputs": [
    {
     "name": "stdout",
     "output_type": "stream",
     "text": [
      "Nuar 数据集形状: (4480, 16, 146)\n",
      "Label 数据集形状: (4480,)\n",
      "标签唯一值及其计数: {0: 2240, 1: 2240}\n"
     ]
    }
   ],
   "source": [
    "import numpy as np\n",
    "import h5py\n",
    "file1 = h5py.File('TSS-TTS矩阵/数字矩阵_+SNFR+1N-ALL.h5', 'r')\n",
    "file2 = h5py.File('TSS-TTS矩阵/数字矩阵_-SNFR+1N-ALL.h5', 'r')\n",
    "nuar1 = file1['Nuar'][:]\n",
    "nuar2 = file2['Nuar'][:]\n",
    "labels1 = np.zeros(nuar1.shape[0], dtype=int)\n",
    "labels2 = np.ones(nuar2.shape[0], dtype=int)\n",
    "min_samples = min(nuar1.shape[0], nuar2.shape[0])\n",
    "nuar1 = nuar1[:min_samples]\n",
    "labels1 = labels1[:min_samples]\n",
    "nuar2 = nuar2[:min_samples]\n",
    "labels2 = labels2[:min_samples]\n",
    "X = np.concatenate((nuar1, nuar2), axis=0)\n",
    "y = np.concatenate((labels1, labels2), axis=0)\n",
    "merged_file = h5py.File('TSS-TTS矩阵/矩阵_SNFR+1N-ALL.h5', 'w')\n",
    "merged_file.create_dataset('Nuar', data=X)\n",
    "merged_file.create_dataset('label', data=y)\n",
    "merged_file.close()\n",
    "file1.close()\n",
    "file2.close()\n",
    "merged_file_path = 'TSS-TTS矩阵/矩阵_SNFR+1N-ALL.h5'\n",
    "with h5py.File(merged_file_path, 'r') as f:\n",
    "    nuar = f['Nuar']\n",
    "    label = f['label']\n",
    "    print(f\"Nuar 数据集形状: {nuar.shape}\")\n",
    "    print(f\"Label 数据集形状: {label.shape}\")\n",
    "    unique_labels, counts = np.unique(label, return_counts=True)\n",
    "    print(f\"标签唯一值及其计数: {dict(zip(unique_labels, counts))}\")"
   ]
  },
  {
   "cell_type": "code",
   "execution_count": null,
   "id": "80ca3256-2838-447e-ae57-30020d2a267f",
   "metadata": {},
   "outputs": [],
   "source": []
  },
  {
   "cell_type": "code",
   "execution_count": 13,
   "id": "ad27b293-0071-46db-9156-1b02dfed98c8",
   "metadata": {},
   "outputs": [
    {
     "name": "stdout",
     "output_type": "stream",
     "text": [
      "Nuar 数据集形状: (4480, 16, 146)\n",
      "Label 数据集形状: (4480,)\n",
      "标签唯一值及其计数: {0: 2240, 1: 2240}\n"
     ]
    }
   ],
   "source": [
    "import numpy as np\n",
    "import h5py\n",
    "file1 = h5py.File('TSS-TTS矩阵/数字矩阵_+SNFR+2N-ALL.h5', 'r')\n",
    "file2 = h5py.File('TSS-TTS矩阵/数字矩阵_-SNFR+2N-ALL.h5', 'r')\n",
    "nuar1 = file1['Nuar'][:]\n",
    "nuar2 = file2['Nuar'][:]\n",
    "labels1 = np.zeros(nuar1.shape[0], dtype=int)\n",
    "labels2 = np.ones(nuar2.shape[0], dtype=int)\n",
    "min_samples = min(nuar1.shape[0], nuar2.shape[0])\n",
    "nuar1 = nuar1[:min_samples]\n",
    "labels1 = labels1[:min_samples]\n",
    "nuar2 = nuar2[:min_samples]\n",
    "labels2 = labels2[:min_samples]\n",
    "X = np.concatenate((nuar1, nuar2), axis=0)\n",
    "y = np.concatenate((labels1, labels2), axis=0)\n",
    "merged_file = h5py.File('TSS-TTS矩阵/矩阵_SNFR+2N-ALL.h5', 'w')\n",
    "merged_file.create_dataset('Nuar', data=X)\n",
    "merged_file.create_dataset('label', data=y)\n",
    "merged_file.close()\n",
    "file1.close()\n",
    "file2.close()\n",
    "merged_file_path = 'TSS-TTS矩阵/矩阵_SNFR+2N-ALL.h5'\n",
    "with h5py.File(merged_file_path, 'r') as f:\n",
    "    nuar = f['Nuar']\n",
    "    label = f['label']\n",
    "    print(f\"Nuar 数据集形状: {nuar.shape}\")\n",
    "    print(f\"Label 数据集形状: {label.shape}\")\n",
    "    unique_labels, counts = np.unique(label, return_counts=True)\n",
    "    print(f\"标签唯一值及其计数: {dict(zip(unique_labels, counts))}\")"
   ]
  },
  {
   "cell_type": "code",
   "execution_count": null,
   "id": "dd7e1d1d-2055-49a4-8bb7-cfa610610260",
   "metadata": {},
   "outputs": [],
   "source": []
  },
  {
   "cell_type": "code",
   "execution_count": 14,
   "id": "f3bb96cf-0ec9-40eb-aea0-6360ddde02c4",
   "metadata": {},
   "outputs": [
    {
     "name": "stdout",
     "output_type": "stream",
     "text": [
      "Nuar 数据集形状: (4480, 16, 146)\n",
      "Label 数据集形状: (4480,)\n",
      "标签唯一值及其计数: {0: 2240, 1: 2240}\n"
     ]
    }
   ],
   "source": [
    "import numpy as np\n",
    "import h5py\n",
    "file1 = h5py.File('TSS-TTS矩阵/数字矩阵_+SNFR+3N-ALL.h5', 'r')\n",
    "file2 = h5py.File('TSS-TTS矩阵/数字矩阵_-SNFR+3N-ALL.h5', 'r')\n",
    "nuar1 = file1['Nuar'][:]\n",
    "nuar2 = file2['Nuar'][:]\n",
    "labels1 = np.zeros(nuar1.shape[0], dtype=int)\n",
    "labels2 = np.ones(nuar2.shape[0], dtype=int)\n",
    "min_samples = min(nuar1.shape[0], nuar2.shape[0])\n",
    "nuar1 = nuar1[:min_samples]\n",
    "labels1 = labels1[:min_samples]\n",
    "nuar2 = nuar2[:min_samples]\n",
    "labels2 = labels2[:min_samples]\n",
    "X = np.concatenate((nuar1, nuar2), axis=0)\n",
    "y = np.concatenate((labels1, labels2), axis=0)\n",
    "merged_file = h5py.File('TSS-TTS矩阵/矩阵_SNFR+3N-ALL.h5', 'w')\n",
    "merged_file.create_dataset('Nuar', data=X)\n",
    "merged_file.create_dataset('label', data=y)\n",
    "merged_file.close()\n",
    "file1.close()\n",
    "file2.close()\n",
    "merged_file_path = 'TSS-TTS矩阵/矩阵_SNFR+3N-ALL.h5'\n",
    "with h5py.File(merged_file_path, 'r') as f:\n",
    "    nuar = f['Nuar']\n",
    "    label = f['label']\n",
    "    print(f\"Nuar 数据集形状: {nuar.shape}\")\n",
    "    print(f\"Label 数据集形状: {label.shape}\")\n",
    "    unique_labels, counts = np.unique(label, return_counts=True)\n",
    "    print(f\"标签唯一值及其计数: {dict(zip(unique_labels, counts))}\")"
   ]
  },
  {
   "cell_type": "code",
   "execution_count": null,
   "id": "c1feb593-5f09-4dc1-ba0c-e9e0e78d7f2b",
   "metadata": {},
   "outputs": [],
   "source": []
  },
  {
   "cell_type": "code",
   "execution_count": 15,
   "id": "971dc40c-5197-4f30-9d87-b1f6f0d0afd5",
   "metadata": {},
   "outputs": [
    {
     "name": "stdout",
     "output_type": "stream",
     "text": [
      "Nuar 数据集形状: (4480, 16, 146)\n",
      "Label 数据集形状: (4480,)\n",
      "标签唯一值及其计数: {0: 2240, 1: 2240}\n"
     ]
    }
   ],
   "source": [
    "import numpy as np\n",
    "import h5py\n",
    "file1 = h5py.File('TSS-TTS矩阵/数字矩阵_+SNFR-1N-ALL.h5', 'r')\n",
    "file2 = h5py.File('TSS-TTS矩阵/数字矩阵_-SNFR-1N-ALL.h5', 'r')\n",
    "nuar1 = file1['Nuar'][:]\n",
    "nuar2 = file2['Nuar'][:]\n",
    "labels1 = np.zeros(nuar1.shape[0], dtype=int)\n",
    "labels2 = np.ones(nuar2.shape[0], dtype=int)\n",
    "min_samples = min(nuar1.shape[0], nuar2.shape[0])\n",
    "nuar1 = nuar1[:min_samples]\n",
    "labels1 = labels1[:min_samples]\n",
    "nuar2 = nuar2[:min_samples]\n",
    "labels2 = labels2[:min_samples]\n",
    "X = np.concatenate((nuar1, nuar2), axis=0)\n",
    "y = np.concatenate((labels1, labels2), axis=0)\n",
    "merged_file = h5py.File('TSS-TTS矩阵/矩阵_SNFR-1N-ALL.h5', 'w')\n",
    "merged_file.create_dataset('Nuar', data=X)\n",
    "merged_file.create_dataset('label', data=y)\n",
    "merged_file.close()\n",
    "file1.close()\n",
    "file2.close()\n",
    "merged_file_path = 'TSS-TTS矩阵/矩阵_SNFR-1N-ALL.h5'\n",
    "with h5py.File(merged_file_path, 'r') as f:\n",
    "    nuar = f['Nuar']\n",
    "    label = f['label']\n",
    "    print(f\"Nuar 数据集形状: {nuar.shape}\")\n",
    "    print(f\"Label 数据集形状: {label.shape}\")\n",
    "    unique_labels, counts = np.unique(label, return_counts=True)\n",
    "    print(f\"标签唯一值及其计数: {dict(zip(unique_labels, counts))}\")"
   ]
  },
  {
   "cell_type": "code",
   "execution_count": null,
   "id": "72978fd6-b9dd-46d1-ba95-248aa65293b3",
   "metadata": {},
   "outputs": [],
   "source": []
  },
  {
   "cell_type": "code",
   "execution_count": 16,
   "id": "d4363a61-ae9b-46b0-ba18-be0acd933d65",
   "metadata": {},
   "outputs": [
    {
     "name": "stdout",
     "output_type": "stream",
     "text": [
      "Nuar 数据集形状: (4480, 16, 146)\n",
      "Label 数据集形状: (4480,)\n",
      "标签唯一值及其计数: {0: 2240, 1: 2240}\n"
     ]
    }
   ],
   "source": [
    "import numpy as np\n",
    "import h5py\n",
    "file1 = h5py.File('TSS-TTS矩阵/数字矩阵_+SNFR-2N-ALL.h5', 'r')\n",
    "file2 = h5py.File('TSS-TTS矩阵/数字矩阵_-SNFR-2N-ALL.h5', 'r')\n",
    "nuar1 = file1['Nuar'][:]\n",
    "nuar2 = file2['Nuar'][:]\n",
    "labels1 = np.zeros(nuar1.shape[0], dtype=int)\n",
    "labels2 = np.ones(nuar2.shape[0], dtype=int)\n",
    "min_samples = min(nuar1.shape[0], nuar2.shape[0])\n",
    "nuar1 = nuar1[:min_samples]\n",
    "labels1 = labels1[:min_samples]\n",
    "nuar2 = nuar2[:min_samples]\n",
    "labels2 = labels2[:min_samples]\n",
    "X = np.concatenate((nuar1, nuar2), axis=0)\n",
    "y = np.concatenate((labels1, labels2), axis=0)\n",
    "merged_file = h5py.File('TSS-TTS矩阵/矩阵_SNFR-2N-ALL.h5', 'w')\n",
    "merged_file.create_dataset('Nuar', data=X)\n",
    "merged_file.create_dataset('label', data=y)\n",
    "merged_file.close()\n",
    "file1.close()\n",
    "file2.close()\n",
    "merged_file_path = 'TSS-TTS矩阵/矩阵_SNFR-2N-ALL.h5'\n",
    "with h5py.File(merged_file_path, 'r') as f:\n",
    "    nuar = f['Nuar']\n",
    "    label = f['label']\n",
    "    print(f\"Nuar 数据集形状: {nuar.shape}\")\n",
    "    print(f\"Label 数据集形状: {label.shape}\")\n",
    "    unique_labels, counts = np.unique(label, return_counts=True)\n",
    "    print(f\"标签唯一值及其计数: {dict(zip(unique_labels, counts))}\")"
   ]
  },
  {
   "cell_type": "code",
   "execution_count": null,
   "id": "d0f6187f-b704-48ce-9f67-ac0e9389098b",
   "metadata": {},
   "outputs": [],
   "source": []
  },
  {
   "cell_type": "code",
   "execution_count": 17,
   "id": "5ccf2a6a-9a26-440f-91cb-d338f862f6d8",
   "metadata": {},
   "outputs": [
    {
     "name": "stdout",
     "output_type": "stream",
     "text": [
      "Nuar 数据集形状: (4480, 16, 146)\n",
      "Label 数据集形状: (4480,)\n",
      "标签唯一值及其计数: {0: 2240, 1: 2240}\n"
     ]
    }
   ],
   "source": [
    "import numpy as np\n",
    "import h5py\n",
    "file1 = h5py.File('TSS-TTS矩阵/数字矩阵_+SNFR-3N-ALL.h5', 'r')\n",
    "file2 = h5py.File('TSS-TTS矩阵/数字矩阵_-SNFR-3N-ALL.h5', 'r')\n",
    "nuar1 = file1['Nuar'][:]\n",
    "nuar2 = file2['Nuar'][:]\n",
    "labels1 = np.zeros(nuar1.shape[0], dtype=int)\n",
    "labels2 = np.ones(nuar2.shape[0], dtype=int)\n",
    "min_samples = min(nuar1.shape[0], nuar2.shape[0])\n",
    "nuar1 = nuar1[:min_samples]\n",
    "labels1 = labels1[:min_samples]\n",
    "nuar2 = nuar2[:min_samples]\n",
    "labels2 = labels2[:min_samples]\n",
    "X = np.concatenate((nuar1, nuar2), axis=0)\n",
    "y = np.concatenate((labels1, labels2), axis=0)\n",
    "merged_file = h5py.File('TSS-TTS矩阵/矩阵_SNFR-3N-ALL.h5', 'w')\n",
    "merged_file.create_dataset('Nuar', data=X)\n",
    "merged_file.create_dataset('label', data=y)\n",
    "merged_file.close()\n",
    "file1.close()\n",
    "file2.close()\n",
    "merged_file_path = 'TSS-TTS矩阵/矩阵_SNFR-3N-ALL.h5'\n",
    "with h5py.File(merged_file_path, 'r') as f:\n",
    "    nuar = f['Nuar']\n",
    "    label = f['label']\n",
    "    print(f\"Nuar 数据集形状: {nuar.shape}\")\n",
    "    print(f\"Label 数据集形状: {label.shape}\")\n",
    "    unique_labels, counts = np.unique(label, return_counts=True)\n",
    "    print(f\"标签唯一值及其计数: {dict(zip(unique_labels, counts))}\")"
   ]
  },
  {
   "cell_type": "code",
   "execution_count": null,
   "id": "a5ef2142-dc36-4966-aa55-cf53b4088684",
   "metadata": {},
   "outputs": [],
   "source": []
  },
  {
   "cell_type": "code",
   "execution_count": null,
   "id": "608de4a7-b931-4f53-9ce9-acad00b50535",
   "metadata": {},
   "outputs": [],
   "source": []
  },
  {
   "cell_type": "code",
   "execution_count": null,
   "id": "c8efd577-9367-4a02-b8be-49192c4574bf",
   "metadata": {},
   "outputs": [],
   "source": []
  },
  {
   "cell_type": "code",
   "execution_count": null,
   "id": "6b5b1f99-3506-4578-8384-1fdc158c5642",
   "metadata": {},
   "outputs": [],
   "source": []
  },
  {
   "cell_type": "code",
   "execution_count": null,
   "id": "febf3359-ce9b-4e7f-ac7c-e4b83333654a",
   "metadata": {},
   "outputs": [],
   "source": []
  },
  {
   "cell_type": "code",
   "execution_count": 18,
   "id": "3354d8e6-38b0-43cc-ac16-804ef2c2684c",
   "metadata": {},
   "outputs": [
    {
     "name": "stdout",
     "output_type": "stream",
     "text": [
      "Nuar 数据集形状: (2248, 16, 146)\n",
      "Label 数据集形状: (2248,)\n",
      "标签唯一值及其计数: {0: 1124, 1: 1124}\n"
     ]
    }
   ],
   "source": [
    "import numpy as np\n",
    "import h5py\n",
    "file1 = h5py.File('TSS-TTS矩阵/数字矩阵_+NNFR+1N-ALL.h5', 'r')\n",
    "file2 = h5py.File('TSS-TTS矩阵/数字矩阵_-NNFR+1N-ALL.h5', 'r')\n",
    "nuar1 = file1['Nuar'][:]\n",
    "nuar2 = file2['Nuar'][:]\n",
    "labels1 = np.zeros(nuar1.shape[0], dtype=int)\n",
    "labels2 = np.ones(nuar2.shape[0], dtype=int)\n",
    "min_samples = min(nuar1.shape[0], nuar2.shape[0])\n",
    "nuar1 = nuar1[:min_samples]\n",
    "labels1 = labels1[:min_samples]\n",
    "nuar2 = nuar2[:min_samples]\n",
    "labels2 = labels2[:min_samples]\n",
    "X = np.concatenate((nuar1, nuar2), axis=0)\n",
    "y = np.concatenate((labels1, labels2), axis=0)\n",
    "merged_file = h5py.File('TSS-TTS矩阵/矩阵_NNFR+1N-ALL.h5', 'w')\n",
    "merged_file.create_dataset('Nuar', data=X)\n",
    "merged_file.create_dataset('label', data=y)\n",
    "merged_file.close()\n",
    "file1.close()\n",
    "file2.close()\n",
    "merged_file_path = 'TSS-TTS矩阵/矩阵_NNFR+1N-ALL.h5'\n",
    "with h5py.File(merged_file_path, 'r') as f:\n",
    "    nuar = f['Nuar']\n",
    "    label = f['label']\n",
    "    print(f\"Nuar 数据集形状: {nuar.shape}\")\n",
    "    print(f\"Label 数据集形状: {label.shape}\")\n",
    "    unique_labels, counts = np.unique(label, return_counts=True)\n",
    "    print(f\"标签唯一值及其计数: {dict(zip(unique_labels, counts))}\")"
   ]
  },
  {
   "cell_type": "code",
   "execution_count": null,
   "id": "4c912f57-557f-419c-a627-03a928cb53bb",
   "metadata": {},
   "outputs": [],
   "source": []
  },
  {
   "cell_type": "code",
   "execution_count": 19,
   "id": "2e63275e-1557-4a4f-bf26-5575bd78ad6e",
   "metadata": {},
   "outputs": [
    {
     "name": "stdout",
     "output_type": "stream",
     "text": [
      "Nuar 数据集形状: (2248, 16, 146)\n",
      "Label 数据集形状: (2248,)\n",
      "标签唯一值及其计数: {0: 1124, 1: 1124}\n"
     ]
    }
   ],
   "source": [
    "import numpy as np\n",
    "import h5py\n",
    "file1 = h5py.File('TSS-TTS矩阵/数字矩阵_+NNFR+2N-ALL.h5', 'r')\n",
    "file2 = h5py.File('TSS-TTS矩阵/数字矩阵_-NNFR+2N-ALL.h5', 'r')\n",
    "nuar1 = file1['Nuar'][:]\n",
    "nuar2 = file2['Nuar'][:]\n",
    "labels1 = np.zeros(nuar1.shape[0], dtype=int)\n",
    "labels2 = np.ones(nuar2.shape[0], dtype=int)\n",
    "min_samples = min(nuar1.shape[0], nuar2.shape[0])\n",
    "nuar1 = nuar1[:min_samples]\n",
    "labels1 = labels1[:min_samples]\n",
    "nuar2 = nuar2[:min_samples]\n",
    "labels2 = labels2[:min_samples]\n",
    "X = np.concatenate((nuar1, nuar2), axis=0)\n",
    "y = np.concatenate((labels1, labels2), axis=0)\n",
    "merged_file = h5py.File('TSS-TTS矩阵/矩阵_NNFR+2N-ALL.h5', 'w')\n",
    "merged_file.create_dataset('Nuar', data=X)\n",
    "merged_file.create_dataset('label', data=y)\n",
    "merged_file.close()\n",
    "file1.close()\n",
    "file2.close()\n",
    "merged_file_path = 'TSS-TTS矩阵/矩阵_NNFR+2N-ALL.h5'\n",
    "with h5py.File(merged_file_path, 'r') as f:\n",
    "    nuar = f['Nuar']\n",
    "    label = f['label']\n",
    "    print(f\"Nuar 数据集形状: {nuar.shape}\")\n",
    "    print(f\"Label 数据集形状: {label.shape}\")\n",
    "    unique_labels, counts = np.unique(label, return_counts=True)\n",
    "    print(f\"标签唯一值及其计数: {dict(zip(unique_labels, counts))}\")"
   ]
  },
  {
   "cell_type": "code",
   "execution_count": null,
   "id": "73357e50-17f8-4841-9668-76bdc30fb569",
   "metadata": {},
   "outputs": [],
   "source": []
  },
  {
   "cell_type": "code",
   "execution_count": 20,
   "id": "8bfb8df4-0f2a-443d-b4d3-e8a750536db8",
   "metadata": {},
   "outputs": [
    {
     "name": "stdout",
     "output_type": "stream",
     "text": [
      "Nuar 数据集形状: (2248, 16, 146)\n",
      "Label 数据集形状: (2248,)\n",
      "标签唯一值及其计数: {0: 1124, 1: 1124}\n"
     ]
    }
   ],
   "source": [
    "import numpy as np\n",
    "import h5py\n",
    "file1 = h5py.File('TSS-TTS矩阵/数字矩阵_+NNFR+3N-ALL.h5', 'r')\n",
    "file2 = h5py.File('TSS-TTS矩阵/数字矩阵_-NNFR+3N-ALL.h5', 'r')\n",
    "nuar1 = file1['Nuar'][:]\n",
    "nuar2 = file2['Nuar'][:]\n",
    "labels1 = np.zeros(nuar1.shape[0], dtype=int)\n",
    "labels2 = np.ones(nuar2.shape[0], dtype=int)\n",
    "min_samples = min(nuar1.shape[0], nuar2.shape[0])\n",
    "nuar1 = nuar1[:min_samples]\n",
    "labels1 = labels1[:min_samples]\n",
    "nuar2 = nuar2[:min_samples]\n",
    "labels2 = labels2[:min_samples]\n",
    "X = np.concatenate((nuar1, nuar2), axis=0)\n",
    "y = np.concatenate((labels1, labels2), axis=0)\n",
    "merged_file = h5py.File('TSS-TTS矩阵/矩阵_NNFR+3N-ALL.h5', 'w')\n",
    "merged_file.create_dataset('Nuar', data=X)\n",
    "merged_file.create_dataset('label', data=y)\n",
    "merged_file.close()\n",
    "file1.close()\n",
    "file2.close()\n",
    "merged_file_path = 'TSS-TTS矩阵/矩阵_NNFR+3N-ALL.h5'\n",
    "with h5py.File(merged_file_path, 'r') as f:\n",
    "    nuar = f['Nuar']\n",
    "    label = f['label']\n",
    "    print(f\"Nuar 数据集形状: {nuar.shape}\")\n",
    "    print(f\"Label 数据集形状: {label.shape}\")\n",
    "    unique_labels, counts = np.unique(label, return_counts=True)\n",
    "    print(f\"标签唯一值及其计数: {dict(zip(unique_labels, counts))}\")"
   ]
  },
  {
   "cell_type": "code",
   "execution_count": null,
   "id": "f4e67a1e-6732-47bc-8a75-2c411a5db9cb",
   "metadata": {},
   "outputs": [],
   "source": []
  },
  {
   "cell_type": "code",
   "execution_count": 21,
   "id": "2ebe3940-73d3-4793-ac10-ebc97f3e1e29",
   "metadata": {},
   "outputs": [
    {
     "name": "stdout",
     "output_type": "stream",
     "text": [
      "Nuar 数据集形状: (2248, 16, 146)\n",
      "Label 数据集形状: (2248,)\n",
      "标签唯一值及其计数: {0: 1124, 1: 1124}\n"
     ]
    }
   ],
   "source": [
    "import numpy as np\n",
    "import h5py\n",
    "file1 = h5py.File('TSS-TTS矩阵/数字矩阵_+NNFR-1N-ALL.h5', 'r')\n",
    "file2 = h5py.File('TSS-TTS矩阵/数字矩阵_-NNFR-1N-ALL.h5', 'r')\n",
    "nuar1 = file1['Nuar'][:]\n",
    "nuar2 = file2['Nuar'][:]\n",
    "labels1 = np.zeros(nuar1.shape[0], dtype=int)\n",
    "labels2 = np.ones(nuar2.shape[0], dtype=int)\n",
    "min_samples = min(nuar1.shape[0], nuar2.shape[0])\n",
    "nuar1 = nuar1[:min_samples]\n",
    "labels1 = labels1[:min_samples]\n",
    "nuar2 = nuar2[:min_samples]\n",
    "labels2 = labels2[:min_samples]\n",
    "X = np.concatenate((nuar1, nuar2), axis=0)\n",
    "y = np.concatenate((labels1, labels2), axis=0)\n",
    "merged_file = h5py.File('TSS-TTS矩阵/矩阵_NNFR-1N-ALL.h5', 'w')\n",
    "merged_file.create_dataset('Nuar', data=X)\n",
    "merged_file.create_dataset('label', data=y)\n",
    "merged_file.close()\n",
    "file1.close()\n",
    "file2.close()\n",
    "merged_file_path = 'TSS-TTS矩阵/矩阵_NNFR-1N-ALL.h5'\n",
    "with h5py.File(merged_file_path, 'r') as f:\n",
    "    nuar = f['Nuar']\n",
    "    label = f['label']\n",
    "    print(f\"Nuar 数据集形状: {nuar.shape}\")\n",
    "    print(f\"Label 数据集形状: {label.shape}\")\n",
    "    unique_labels, counts = np.unique(label, return_counts=True)\n",
    "    print(f\"标签唯一值及其计数: {dict(zip(unique_labels, counts))}\")"
   ]
  },
  {
   "cell_type": "code",
   "execution_count": null,
   "id": "e95fb89a-d408-4124-b208-9ff4a6f779c5",
   "metadata": {},
   "outputs": [],
   "source": []
  },
  {
   "cell_type": "code",
   "execution_count": 22,
   "id": "c6c31553-90b6-4e1d-b970-866c173b66b3",
   "metadata": {},
   "outputs": [
    {
     "name": "stdout",
     "output_type": "stream",
     "text": [
      "Nuar 数据集形状: (2248, 16, 146)\n",
      "Label 数据集形状: (2248,)\n",
      "标签唯一值及其计数: {0: 1124, 1: 1124}\n"
     ]
    }
   ],
   "source": [
    "import numpy as np\n",
    "import h5py\n",
    "file1 = h5py.File('TSS-TTS矩阵/数字矩阵_+NNFR-2N-ALL.h5', 'r')\n",
    "file2 = h5py.File('TSS-TTS矩阵/数字矩阵_-NNFR-2N-ALL.h5', 'r')\n",
    "nuar1 = file1['Nuar'][:]\n",
    "nuar2 = file2['Nuar'][:]\n",
    "labels1 = np.zeros(nuar1.shape[0], dtype=int)\n",
    "labels2 = np.ones(nuar2.shape[0], dtype=int)\n",
    "min_samples = min(nuar1.shape[0], nuar2.shape[0])\n",
    "nuar1 = nuar1[:min_samples]\n",
    "labels1 = labels1[:min_samples]\n",
    "nuar2 = nuar2[:min_samples]\n",
    "labels2 = labels2[:min_samples]\n",
    "X = np.concatenate((nuar1, nuar2), axis=0)\n",
    "y = np.concatenate((labels1, labels2), axis=0)\n",
    "merged_file = h5py.File('TSS-TTS矩阵/矩阵_NNFR-2N-ALL.h5', 'w')\n",
    "merged_file.create_dataset('Nuar', data=X)\n",
    "merged_file.create_dataset('label', data=y)\n",
    "merged_file.close()\n",
    "file1.close()\n",
    "file2.close()\n",
    "merged_file_path = 'TSS-TTS矩阵/矩阵_NNFR-2N-ALL.h5'\n",
    "with h5py.File(merged_file_path, 'r') as f:\n",
    "    nuar = f['Nuar']\n",
    "    label = f['label']\n",
    "    print(f\"Nuar 数据集形状: {nuar.shape}\")\n",
    "    print(f\"Label 数据集形状: {label.shape}\")\n",
    "    unique_labels, counts = np.unique(label, return_counts=True)\n",
    "    print(f\"标签唯一值及其计数: {dict(zip(unique_labels, counts))}\")"
   ]
  },
  {
   "cell_type": "code",
   "execution_count": null,
   "id": "19c1b7f7-0e28-45b2-b0f1-9fa74af7b1f9",
   "metadata": {},
   "outputs": [],
   "source": []
  },
  {
   "cell_type": "code",
   "execution_count": 23,
   "id": "f30276e2-d738-4c11-be50-ef0711b33723",
   "metadata": {},
   "outputs": [
    {
     "name": "stdout",
     "output_type": "stream",
     "text": [
      "Nuar 数据集形状: (2248, 16, 146)\n",
      "Label 数据集形状: (2248,)\n",
      "标签唯一值及其计数: {0: 1124, 1: 1124}\n"
     ]
    }
   ],
   "source": [
    "import numpy as np\n",
    "import h5py\n",
    "file1 = h5py.File('TSS-TTS矩阵/数字矩阵_+NNFR-3N-ALL.h5', 'r')\n",
    "file2 = h5py.File('TSS-TTS矩阵/数字矩阵_-NNFR-3N-ALL.h5', 'r')\n",
    "nuar1 = file1['Nuar'][:]\n",
    "nuar2 = file2['Nuar'][:]\n",
    "labels1 = np.zeros(nuar1.shape[0], dtype=int)\n",
    "labels2 = np.ones(nuar2.shape[0], dtype=int)\n",
    "min_samples = min(nuar1.shape[0], nuar2.shape[0])\n",
    "nuar1 = nuar1[:min_samples]\n",
    "labels1 = labels1[:min_samples]\n",
    "nuar2 = nuar2[:min_samples]\n",
    "labels2 = labels2[:min_samples]\n",
    "X = np.concatenate((nuar1, nuar2), axis=0)\n",
    "y = np.concatenate((labels1, labels2), axis=0)\n",
    "merged_file = h5py.File('TSS-TTS矩阵/矩阵_NNFR-3N-ALL.h5', 'w')\n",
    "merged_file.create_dataset('Nuar', data=X)\n",
    "merged_file.create_dataset('label', data=y)\n",
    "merged_file.close()\n",
    "file1.close()\n",
    "file2.close()\n",
    "merged_file_path = 'TSS-TTS矩阵/矩阵_NNFR-3N-ALL.h5'\n",
    "with h5py.File(merged_file_path, 'r') as f:\n",
    "    nuar = f['Nuar']\n",
    "    label = f['label']\n",
    "    print(f\"Nuar 数据集形状: {nuar.shape}\")\n",
    "    print(f\"Label 数据集形状: {label.shape}\")\n",
    "    unique_labels, counts = np.unique(label, return_counts=True)\n",
    "    print(f\"标签唯一值及其计数: {dict(zip(unique_labels, counts))}\")"
   ]
  },
  {
   "cell_type": "code",
   "execution_count": null,
   "id": "2ec417e9-2597-4a09-a582-f2754cdc0a66",
   "metadata": {},
   "outputs": [],
   "source": []
  },
  {
   "cell_type": "code",
   "execution_count": null,
   "id": "33d152de-7996-4478-b342-b52e3f7fc618",
   "metadata": {},
   "outputs": [],
   "source": []
  },
  {
   "cell_type": "code",
   "execution_count": null,
   "id": "bcc3a62b-1d84-4c73-8329-b2e8f0012660",
   "metadata": {},
   "outputs": [],
   "source": []
  },
  {
   "cell_type": "code",
   "execution_count": null,
   "id": "4e407ec5-3ba1-441b-b3ab-f5a8c7bf00f1",
   "metadata": {},
   "outputs": [],
   "source": []
  },
  {
   "cell_type": "code",
   "execution_count": null,
   "id": "3706f130-17f2-4016-968d-15f8034b6839",
   "metadata": {},
   "outputs": [],
   "source": []
  },
  {
   "cell_type": "code",
   "execution_count": 21,
   "id": "bd21c395-916f-4b90-bfd7-af5e4d64337a",
   "metadata": {},
   "outputs": [
    {
     "name": "stdout",
     "output_type": "stream",
     "text": [
      "              precision    recall  f1-score   support\n",
      "\n",
      "      class0       0.68      0.67      0.68       445\n",
      "      class1       0.68      0.69      0.69       451\n",
      "\n",
      "    accuracy                           0.68       896\n",
      "   macro avg       0.68      0.68      0.68       896\n",
      "weighted avg       0.68      0.68      0.68       896\n",
      "\n",
      "五折交叉验证的平均准确率为：0.7469\n"
     ]
    }
   ],
   "source": [
    "import h5py\n",
    "import numpy as np\n",
    "from tensorflow.keras.models import load_model\n",
    "from sklearn.model_selection import cross_val_score\n",
    "from sklearn.metrics import classification_report\n",
    "from sklearn.model_selection import KFold\n",
    "from sklearn.metrics import accuracy_score\n",
    "from sklearn.model_selection import train_test_split\n",
    "f = h5py.File('TSS-TTS矩阵/矩阵_SNFR+1N-ALL.h5', 'r')\n",
    "Nuar = f['Nuar']  \n",
    "Nuar = np.array(Nuar)\n",
    "label = f['label']   \n",
    "label = np.array(label)\n",
    "Nuar = Nuar.reshape(4480, 16, 146, 1)\n",
    "X_train,X_test,y_train,y_test=train_test_split(Nuar,label,test_size=0.2,random_state=1)\n",
    "model = load_model('TSS-TTS模型/分类模型1-1.h5')\n",
    "y_pred= model.predict(X_test) \n",
    "y_pred = (y_pred > 0.5).astype(\"int32\")\n",
    "target_names =['class0','class1']\n",
    "print(classification_report(y_test,y_pred,target_names=target_names))\n",
    "kf = KFold(n_splits=5, shuffle=True, random_state=42)\n",
    "accuracies = []\n",
    "for train_index, val_index in kf.split(Nuar):\n",
    "    X_val, y_val = Nuar[val_index], label[val_index]\n",
    "    y_pred = model.predict(X_val)\n",
    "    y_pred = (y_pred > 0.5).astype(\"int32\")\n",
    "    accuracy = accuracy_score(y_val, y_pred)\n",
    "    accuracies.append(accuracy)\n",
    "average_accuracy = np.mean(accuracies)\n",
    "print(f\"五折交叉验证的平均准确率为：{average_accuracy:.4f}\")"
   ]
  },
  {
   "cell_type": "code",
   "execution_count": null,
   "id": "2d0ef1d3-eee5-4921-b5de-0e7fa4312442",
   "metadata": {},
   "outputs": [],
   "source": []
  },
  {
   "cell_type": "code",
   "execution_count": 22,
   "id": "03a135a3-08a1-4e24-bf8d-40b15a7d41d1",
   "metadata": {},
   "outputs": [
    {
     "name": "stdout",
     "output_type": "stream",
     "text": [
      "              precision    recall  f1-score   support\n",
      "\n",
      "      class0       0.62      0.71      0.66       445\n",
      "      class1       0.67      0.58      0.62       451\n",
      "\n",
      "    accuracy                           0.64       896\n",
      "   macro avg       0.65      0.64      0.64       896\n",
      "weighted avg       0.65      0.64      0.64       896\n",
      "\n",
      "五折交叉验证的平均准确率为：0.7199\n"
     ]
    }
   ],
   "source": [
    "import h5py\n",
    "import numpy as np\n",
    "from tensorflow.keras.models import load_model\n",
    "from sklearn.model_selection import cross_val_score\n",
    "from sklearn.metrics import classification_report\n",
    "from sklearn.model_selection import KFold\n",
    "from sklearn.metrics import accuracy_score\n",
    "from sklearn.model_selection import train_test_split\n",
    "f = h5py.File('TSS-TTS矩阵/矩阵_SNFR+2N-ALL.h5', 'r')\n",
    "Nuar = f['Nuar']  \n",
    "Nuar = np.array(Nuar)\n",
    "label = f['label']   \n",
    "label = np.array(label)\n",
    "Nuar = Nuar.reshape(4480, 16, 146, 1)\n",
    "X_train,X_test,y_train,y_test=train_test_split(Nuar,label,test_size=0.2,random_state=1)\n",
    "model = load_model('TSS-TTS模型/分类模型1-2.h5')\n",
    "y_pred= model.predict(X_test) \n",
    "y_pred = (y_pred > 0.5).astype(\"int32\")\n",
    "target_names =['class0','class1']\n",
    "print(classification_report(y_test,y_pred,target_names=target_names))\n",
    "kf = KFold(n_splits=5, shuffle=True, random_state=42)\n",
    "accuracies = []\n",
    "for train_index, val_index in kf.split(Nuar):\n",
    "    X_val, y_val = Nuar[val_index], label[val_index]\n",
    "    y_pred = model.predict(X_val)\n",
    "    y_pred = (y_pred > 0.5).astype(\"int32\")\n",
    "    accuracy = accuracy_score(y_val, y_pred)\n",
    "    accuracies.append(accuracy)\n",
    "average_accuracy = np.mean(accuracies)\n",
    "print(f\"五折交叉验证的平均准确率为：{average_accuracy:.4f}\")"
   ]
  },
  {
   "cell_type": "code",
   "execution_count": null,
   "id": "830e6188-7475-4672-abb0-b34aa59526e3",
   "metadata": {},
   "outputs": [],
   "source": []
  },
  {
   "cell_type": "code",
   "execution_count": 23,
   "id": "086074ea-5e6f-4111-805e-c4de2bcd2349",
   "metadata": {},
   "outputs": [
    {
     "name": "stdout",
     "output_type": "stream",
     "text": [
      "              precision    recall  f1-score   support\n",
      "\n",
      "      class0       0.60      0.58      0.59       445\n",
      "      class1       0.59      0.61      0.60       451\n",
      "\n",
      "    accuracy                           0.59       896\n",
      "   macro avg       0.59      0.59      0.59       896\n",
      "weighted avg       0.59      0.59      0.59       896\n",
      "\n",
      "五折交叉验证的平均准确率为：0.7020\n"
     ]
    }
   ],
   "source": [
    "import h5py\n",
    "import numpy as np\n",
    "from tensorflow.keras.models import load_model\n",
    "from sklearn.model_selection import cross_val_score\n",
    "from sklearn.metrics import classification_report\n",
    "from sklearn.model_selection import KFold\n",
    "from sklearn.metrics import accuracy_score\n",
    "from sklearn.model_selection import train_test_split\n",
    "f = h5py.File('TSS-TTS矩阵/矩阵_SNFR+3N-ALL.h5', 'r')\n",
    "Nuar = f['Nuar']  \n",
    "Nuar = np.array(Nuar)\n",
    "label = f['label']   \n",
    "label = np.array(label)\n",
    "Nuar = Nuar.reshape(4480, 16, 146, 1)\n",
    "X_train,X_test,y_train,y_test=train_test_split(Nuar,label,test_size=0.2,random_state=1)\n",
    "model = load_model('TSS-TTS模型/分类模型1-3.h5')\n",
    "y_pred= model.predict(X_test) \n",
    "y_pred = (y_pred > 0.5).astype(\"int32\")\n",
    "target_names =['class0','class1']\n",
    "print(classification_report(y_test,y_pred,target_names=target_names))\n",
    "kf = KFold(n_splits=5, shuffle=True, random_state=42)\n",
    "accuracies = []\n",
    "for train_index, val_index in kf.split(Nuar):\n",
    "    X_val, y_val = Nuar[val_index], label[val_index]\n",
    "    y_pred = model.predict(X_val)\n",
    "    y_pred = (y_pred > 0.5).astype(\"int32\")\n",
    "    accuracy = accuracy_score(y_val, y_pred)\n",
    "    accuracies.append(accuracy)\n",
    "average_accuracy = np.mean(accuracies)\n",
    "print(f\"五折交叉验证的平均准确率为：{average_accuracy:.4f}\")"
   ]
  },
  {
   "cell_type": "code",
   "execution_count": null,
   "id": "3b6fcd83-064c-4686-a1e5-636a1a293cec",
   "metadata": {},
   "outputs": [],
   "source": []
  },
  {
   "cell_type": "code",
   "execution_count": 1,
   "id": "f8f78882-a206-48d2-bf9d-de8fc00034c0",
   "metadata": {},
   "outputs": [
    {
     "name": "stdout",
     "output_type": "stream",
     "text": [
      "              precision    recall  f1-score   support\n",
      "\n",
      "      class0       0.54      0.44      0.49       445\n",
      "      class1       0.53      0.62      0.57       451\n",
      "\n",
      "    accuracy                           0.53       896\n",
      "   macro avg       0.54      0.53      0.53       896\n",
      "weighted avg       0.54      0.53      0.53       896\n",
      "\n",
      "五折交叉验证的平均准确率为：0.5949\n"
     ]
    }
   ],
   "source": [
    "import h5py\n",
    "import numpy as np\n",
    "from tensorflow.keras.models import load_model\n",
    "from sklearn.model_selection import cross_val_score\n",
    "from sklearn.metrics import classification_report\n",
    "from sklearn.model_selection import KFold\n",
    "from sklearn.metrics import accuracy_score\n",
    "from sklearn.model_selection import train_test_split\n",
    "f = h5py.File('TSS-TTS矩阵/矩阵_SNFR-1N-ALL.h5', 'r')\n",
    "Nuar = f['Nuar']  \n",
    "Nuar = np.array(Nuar)\n",
    "label = f['label']   \n",
    "label = np.array(label)\n",
    "Nuar = Nuar.reshape(4480, 16, 146, 1)\n",
    "X_train,X_test,y_train,y_test=train_test_split(Nuar,label,test_size=0.2,random_state=1)\n",
    "model = load_model('TSS-TTS模型/分类模型1-4.h5')\n",
    "y_pred= model.predict(X_test) \n",
    "y_pred = (y_pred > 0.5).astype(\"int32\")\n",
    "target_names =['class0','class1']\n",
    "print(classification_report(y_test,y_pred,target_names=target_names))\n",
    "kf = KFold(n_splits=5, shuffle=True, random_state=42)\n",
    "accuracies = []\n",
    "for train_index, val_index in kf.split(Nuar):\n",
    "    X_val, y_val = Nuar[val_index], label[val_index]\n",
    "    y_pred = model.predict(X_val)\n",
    "    y_pred = (y_pred > 0.5).astype(\"int32\")\n",
    "    accuracy = accuracy_score(y_val, y_pred)\n",
    "    accuracies.append(accuracy)\n",
    "average_accuracy = np.mean(accuracies)\n",
    "print(f\"五折交叉验证的平均准确率为：{average_accuracy:.4f}\")"
   ]
  },
  {
   "cell_type": "code",
   "execution_count": null,
   "id": "d38cc2ce-7910-47c3-8238-8915f2eea4bb",
   "metadata": {},
   "outputs": [],
   "source": []
  },
  {
   "cell_type": "code",
   "execution_count": 2,
   "id": "6696a100-6c32-48f1-804e-fff0c76aaf24",
   "metadata": {},
   "outputs": [
    {
     "name": "stdout",
     "output_type": "stream",
     "text": [
      "              precision    recall  f1-score   support\n",
      "\n",
      "      class0       0.50      0.39      0.44       445\n",
      "      class1       0.50      0.61      0.55       451\n",
      "\n",
      "    accuracy                           0.50       896\n",
      "   macro avg       0.50      0.50      0.49       896\n",
      "weighted avg       0.50      0.50      0.50       896\n",
      "\n",
      "五折交叉验证的平均准确率为：0.5754\n"
     ]
    }
   ],
   "source": [
    "import h5py\n",
    "import numpy as np\n",
    "from tensorflow.keras.models import load_model\n",
    "from sklearn.model_selection import cross_val_score\n",
    "from sklearn.metrics import classification_report\n",
    "from sklearn.model_selection import KFold\n",
    "from sklearn.metrics import accuracy_score\n",
    "from sklearn.model_selection import train_test_split\n",
    "f = h5py.File('TSS-TTS矩阵/矩阵_SNFR-2N-ALL.h5', 'r')\n",
    "Nuar = f['Nuar']  \n",
    "Nuar = np.array(Nuar)\n",
    "label = f['label']   \n",
    "label = np.array(label)\n",
    "Nuar = Nuar.reshape(4480, 16, 146, 1)\n",
    "X_train,X_test,y_train,y_test=train_test_split(Nuar,label,test_size=0.2,random_state=1)\n",
    "model = load_model('TSS-TTS模型/分类模型1-5.h5')\n",
    "y_pred= model.predict(X_test) \n",
    "y_pred = (y_pred > 0.5).astype(\"int32\")\n",
    "target_names =['class0','class1']\n",
    "print(classification_report(y_test,y_pred,target_names=target_names))\n",
    "kf = KFold(n_splits=5, shuffle=True, random_state=42)\n",
    "accuracies = []\n",
    "for train_index, val_index in kf.split(Nuar):\n",
    "    X_val, y_val = Nuar[val_index], label[val_index]\n",
    "    y_pred = model.predict(X_val)\n",
    "    y_pred = (y_pred > 0.5).astype(\"int32\")\n",
    "    accuracy = accuracy_score(y_val, y_pred)\n",
    "    accuracies.append(accuracy)\n",
    "average_accuracy = np.mean(accuracies)\n",
    "print(f\"五折交叉验证的平均准确率为：{average_accuracy:.4f}\")"
   ]
  },
  {
   "cell_type": "code",
   "execution_count": null,
   "id": "7e176813-ffb1-4d9c-a5c4-be207bc437cd",
   "metadata": {},
   "outputs": [],
   "source": []
  },
  {
   "cell_type": "code",
   "execution_count": 3,
   "id": "93f395a5-9f21-4c95-bcbd-0d40f01db663",
   "metadata": {},
   "outputs": [
    {
     "name": "stdout",
     "output_type": "stream",
     "text": [
      "              precision    recall  f1-score   support\n",
      "\n",
      "      class0       0.52      0.41      0.46       445\n",
      "      class1       0.52      0.63      0.57       451\n",
      "\n",
      "    accuracy                           0.52       896\n",
      "   macro avg       0.52      0.52      0.51       896\n",
      "weighted avg       0.52      0.52      0.51       896\n",
      "\n",
      "五折交叉验证的平均准确率为：0.5723\n"
     ]
    }
   ],
   "source": [
    "import h5py\n",
    "import numpy as np\n",
    "from tensorflow.keras.models import load_model\n",
    "from sklearn.model_selection import cross_val_score\n",
    "from sklearn.metrics import classification_report\n",
    "from sklearn.model_selection import KFold\n",
    "from sklearn.metrics import accuracy_score\n",
    "from sklearn.model_selection import train_test_split\n",
    "f = h5py.File('TSS-TTS矩阵/矩阵_SNFR-3N-ALL.h5', 'r')\n",
    "Nuar = f['Nuar']  \n",
    "Nuar = np.array(Nuar)\n",
    "label = f['label']   \n",
    "label = np.array(label)\n",
    "Nuar = Nuar.reshape(4480, 16, 146, 1)\n",
    "X_train,X_test,y_train,y_test=train_test_split(Nuar,label,test_size=0.2,random_state=1)\n",
    "model = load_model('TSS-TTS模型/分类模型1-6.h5')\n",
    "y_pred= model.predict(X_test) \n",
    "y_pred = (y_pred > 0.5).astype(\"int32\")\n",
    "target_names =['class0','class1']\n",
    "print(classification_report(y_test,y_pred,target_names=target_names))\n",
    "kf = KFold(n_splits=5, shuffle=True, random_state=42)\n",
    "accuracies = []\n",
    "for train_index, val_index in kf.split(Nuar):\n",
    "    X_val, y_val = Nuar[val_index], label[val_index]\n",
    "    y_pred = model.predict(X_val)\n",
    "    y_pred = (y_pred > 0.5).astype(\"int32\")\n",
    "    accuracy = accuracy_score(y_val, y_pred)\n",
    "    accuracies.append(accuracy)\n",
    "average_accuracy = np.mean(accuracies)\n",
    "print(f\"五折交叉验证的平均准确率为：{average_accuracy:.4f}\")"
   ]
  },
  {
   "cell_type": "code",
   "execution_count": null,
   "id": "26d0bcd5-b06a-42cd-b1b0-da39cce42b47",
   "metadata": {},
   "outputs": [],
   "source": []
  },
  {
   "cell_type": "code",
   "execution_count": 1,
   "id": "b624a6c8-d705-4639-a5d7-09cb25b520ba",
   "metadata": {},
   "outputs": [
    {
     "name": "stdout",
     "output_type": "stream",
     "text": [
      "              precision    recall  f1-score   support\n",
      "\n",
      "      class0       0.53      0.49      0.51       211\n",
      "      class1       0.58      0.62      0.60       239\n",
      "\n",
      "    accuracy                           0.56       450\n",
      "   macro avg       0.55      0.55      0.55       450\n",
      "weighted avg       0.56      0.56      0.56       450\n",
      "\n",
      "五折交叉验证的平均准确率为：0.6521\n"
     ]
    }
   ],
   "source": [
    "import h5py\n",
    "import numpy as np\n",
    "from tensorflow.keras.models import load_model\n",
    "from sklearn.model_selection import cross_val_score\n",
    "from sklearn.metrics import classification_report\n",
    "from sklearn.model_selection import KFold\n",
    "from sklearn.metrics import accuracy_score\n",
    "from sklearn.model_selection import train_test_split\n",
    "f = h5py.File('TSS-TTS矩阵/矩阵_NNFR+1N-ALL.h5', 'r')\n",
    "Nuar = f['Nuar']  \n",
    "Nuar = np.array(Nuar)\n",
    "label = f['label']   \n",
    "label = np.array(label)\n",
    "Nuar = Nuar.reshape(2248, 16, 146, 1)\n",
    "X_train,X_test,y_train,y_test=train_test_split(Nuar,label,test_size=0.2,random_state=1)\n",
    "model = load_model('TSS-TTS模型/分类模型1-7.h5')\n",
    "y_pred= model.predict(X_test) \n",
    "y_pred = (y_pred > 0.5).astype(\"int32\")\n",
    "target_names =['class0','class1']\n",
    "print(classification_report(y_test,y_pred,target_names=target_names))\n",
    "kf = KFold(n_splits=5, shuffle=True, random_state=42)\n",
    "accuracies = []\n",
    "for train_index, val_index in kf.split(Nuar):\n",
    "    X_val, y_val = Nuar[val_index], label[val_index]\n",
    "    y_pred = model.predict(X_val)\n",
    "    y_pred = (y_pred > 0.5).astype(\"int32\")\n",
    "    accuracy = accuracy_score(y_val, y_pred)\n",
    "    accuracies.append(accuracy)\n",
    "average_accuracy = np.mean(accuracies)\n",
    "print(f\"五折交叉验证的平均准确率为：{average_accuracy:.4f}\")"
   ]
  },
  {
   "cell_type": "code",
   "execution_count": null,
   "id": "de0e1286-b157-48d9-93dc-454852518fa8",
   "metadata": {},
   "outputs": [],
   "source": []
  },
  {
   "cell_type": "code",
   "execution_count": 2,
   "id": "c9098e28-fa6f-40b4-a220-b7a9cbbae2ed",
   "metadata": {},
   "outputs": [
    {
     "name": "stdout",
     "output_type": "stream",
     "text": [
      "              precision    recall  f1-score   support\n",
      "\n",
      "      class0       0.50      0.49      0.50       211\n",
      "      class1       0.56      0.57      0.56       239\n",
      "\n",
      "    accuracy                           0.53       450\n",
      "   macro avg       0.53      0.53      0.53       450\n",
      "weighted avg       0.53      0.53      0.53       450\n",
      "\n",
      "五折交叉验证的平均准确率为：0.6214\n"
     ]
    }
   ],
   "source": [
    "import h5py\n",
    "import numpy as np\n",
    "from tensorflow.keras.models import load_model\n",
    "from sklearn.model_selection import cross_val_score\n",
    "from sklearn.metrics import classification_report\n",
    "from sklearn.model_selection import KFold\n",
    "from sklearn.metrics import accuracy_score\n",
    "from sklearn.model_selection import train_test_split\n",
    "f = h5py.File('TSS-TTS矩阵/矩阵_NNFR+2N-ALL.h5', 'r')\n",
    "Nuar = f['Nuar']  \n",
    "Nuar = np.array(Nuar)\n",
    "label = f['label']   \n",
    "label = np.array(label)\n",
    "Nuar = Nuar.reshape(2248, 16, 146, 1)\n",
    "X_train,X_test,y_train,y_test=train_test_split(Nuar,label,test_size=0.2,random_state=1)\n",
    "model = load_model('TSS-TTS模型/分类模型1-8.h5')\n",
    "y_pred= model.predict(X_test) \n",
    "y_pred = (y_pred > 0.5).astype(\"int32\")\n",
    "target_names =['class0','class1']\n",
    "print(classification_report(y_test,y_pred,target_names=target_names))\n",
    "kf = KFold(n_splits=5, shuffle=True, random_state=42)\n",
    "accuracies = []\n",
    "for train_index, val_index in kf.split(Nuar):\n",
    "    X_val, y_val = Nuar[val_index], label[val_index]\n",
    "    y_pred = model.predict(X_val)\n",
    "    y_pred = (y_pred > 0.5).astype(\"int32\")\n",
    "    accuracy = accuracy_score(y_val, y_pred)\n",
    "    accuracies.append(accuracy)\n",
    "average_accuracy = np.mean(accuracies)\n",
    "print(f\"五折交叉验证的平均准确率为：{average_accuracy:.4f}\")"
   ]
  },
  {
   "cell_type": "code",
   "execution_count": null,
   "id": "a303a79b-d3ca-4b15-8ebe-4e05f4001167",
   "metadata": {},
   "outputs": [],
   "source": []
  },
  {
   "cell_type": "code",
   "execution_count": 3,
   "id": "17a824f0-0c1f-4911-a977-21f97d3bab98",
   "metadata": {},
   "outputs": [
    {
     "name": "stdout",
     "output_type": "stream",
     "text": [
      "              precision    recall  f1-score   support\n",
      "\n",
      "      class0       0.50      0.48      0.49       211\n",
      "      class1       0.55      0.57      0.56       239\n",
      "\n",
      "    accuracy                           0.53       450\n",
      "   macro avg       0.52      0.52      0.52       450\n",
      "weighted avg       0.53      0.53      0.53       450\n",
      "\n",
      "五折交叉验证的平均准确率为：0.6228\n"
     ]
    }
   ],
   "source": [
    "import h5py\n",
    "import numpy as np\n",
    "from tensorflow.keras.models import load_model\n",
    "from sklearn.model_selection import cross_val_score\n",
    "from sklearn.metrics import classification_report\n",
    "from sklearn.model_selection import KFold\n",
    "from sklearn.metrics import accuracy_score\n",
    "from sklearn.model_selection import train_test_split\n",
    "f = h5py.File('TSS-TTS矩阵/矩阵_NNFR+3N-ALL.h5', 'r')\n",
    "Nuar = f['Nuar']  \n",
    "Nuar = np.array(Nuar)\n",
    "label = f['label']   \n",
    "label = np.array(label)\n",
    "Nuar = Nuar.reshape(2248, 16, 146, 1)\n",
    "X_train,X_test,y_train,y_test=train_test_split(Nuar,label,test_size=0.2,random_state=1)\n",
    "model = load_model('TSS-TTS模型/分类模型1-9.h5')\n",
    "y_pred= model.predict(X_test) \n",
    "y_pred = (y_pred > 0.5).astype(\"int32\")\n",
    "target_names =['class0','class1']\n",
    "print(classification_report(y_test,y_pred,target_names=target_names))\n",
    "kf = KFold(n_splits=5, shuffle=True, random_state=42)\n",
    "accuracies = []\n",
    "for train_index, val_index in kf.split(Nuar):\n",
    "    X_val, y_val = Nuar[val_index], label[val_index]\n",
    "    y_pred = model.predict(X_val)\n",
    "    y_pred = (y_pred > 0.5).astype(\"int32\")\n",
    "    accuracy = accuracy_score(y_val, y_pred)\n",
    "    accuracies.append(accuracy)\n",
    "average_accuracy = np.mean(accuracies)\n",
    "print(f\"五折交叉验证的平均准确率为：{average_accuracy:.4f}\")"
   ]
  },
  {
   "cell_type": "code",
   "execution_count": null,
   "id": "aacc930e-a2e6-4d1a-908d-45eb20b17b12",
   "metadata": {},
   "outputs": [],
   "source": []
  },
  {
   "cell_type": "code",
   "execution_count": 1,
   "id": "63212873-f255-451d-84f1-08eee122a44f",
   "metadata": {},
   "outputs": [
    {
     "name": "stdout",
     "output_type": "stream",
     "text": [
      "              precision    recall  f1-score   support\n",
      "\n",
      "      class0       0.49      0.37      0.42       211\n",
      "      class1       0.54      0.65      0.59       239\n",
      "\n",
      "    accuracy                           0.52       450\n",
      "   macro avg       0.51      0.51      0.51       450\n",
      "weighted avg       0.52      0.52      0.51       450\n",
      "\n",
      "五折交叉验证的平均准确率为：0.5369\n"
     ]
    }
   ],
   "source": [
    "import h5py\n",
    "import numpy as np\n",
    "from tensorflow.keras.models import load_model\n",
    "from sklearn.model_selection import cross_val_score\n",
    "from sklearn.metrics import classification_report\n",
    "from sklearn.model_selection import KFold\n",
    "from sklearn.metrics import accuracy_score\n",
    "from sklearn.model_selection import train_test_split\n",
    "f = h5py.File('TSS-TTS矩阵/矩阵_NNFR-1N-ALL.h5', 'r')\n",
    "Nuar = f['Nuar']  \n",
    "Nuar = np.array(Nuar)\n",
    "label = f['label']   \n",
    "label = np.array(label)\n",
    "Nuar = Nuar.reshape(2248, 16, 146, 1)\n",
    "X_train,X_test,y_train,y_test=train_test_split(Nuar,label,test_size=0.2,random_state=1)\n",
    "model = load_model('TSS-TTS模型/分类模型1-10.h5')\n",
    "y_pred= model.predict(X_test) \n",
    "y_pred = (y_pred > 0.5).astype(\"int32\")\n",
    "target_names =['class0','class1']\n",
    "print(classification_report(y_test,y_pred,target_names=target_names))\n",
    "kf = KFold(n_splits=5, shuffle=True, random_state=42)\n",
    "accuracies = []\n",
    "for train_index, val_index in kf.split(Nuar):\n",
    "    X_val, y_val = Nuar[val_index], label[val_index]\n",
    "    y_pred = model.predict(X_val)\n",
    "    y_pred = (y_pred > 0.5).astype(\"int32\")\n",
    "    accuracy = accuracy_score(y_val, y_pred)\n",
    "    accuracies.append(accuracy)\n",
    "average_accuracy = np.mean(accuracies)\n",
    "print(f\"五折交叉验证的平均准确率为：{average_accuracy:.4f}\")"
   ]
  },
  {
   "cell_type": "code",
   "execution_count": null,
   "id": "89abd82d-79ad-4e2c-a620-add39c1b0522",
   "metadata": {},
   "outputs": [],
   "source": []
  },
  {
   "cell_type": "code",
   "execution_count": 2,
   "id": "5c244764-b22d-44f0-ae36-761c52cf917f",
   "metadata": {},
   "outputs": [
    {
     "name": "stdout",
     "output_type": "stream",
     "text": [
      "              precision    recall  f1-score   support\n",
      "\n",
      "      class0       0.55      0.45      0.50       211\n",
      "      class1       0.58      0.67      0.62       239\n",
      "\n",
      "    accuracy                           0.57       450\n",
      "   macro avg       0.56      0.56      0.56       450\n",
      "weighted avg       0.56      0.57      0.56       450\n",
      "\n",
      "五折交叉验证的平均准确率为：0.5383\n"
     ]
    }
   ],
   "source": [
    "import h5py\n",
    "import numpy as np\n",
    "from tensorflow.keras.models import load_model\n",
    "from sklearn.model_selection import cross_val_score\n",
    "from sklearn.metrics import classification_report\n",
    "from sklearn.model_selection import KFold\n",
    "from sklearn.metrics import accuracy_score\n",
    "from sklearn.model_selection import train_test_split\n",
    "f = h5py.File('TSS-TTS矩阵/矩阵_NNFR-2N-ALL.h5', 'r')\n",
    "Nuar = f['Nuar']  \n",
    "Nuar = np.array(Nuar)\n",
    "label = f['label']   \n",
    "label = np.array(label)\n",
    "Nuar = Nuar.reshape(2248, 16, 146, 1)\n",
    "X_train,X_test,y_train,y_test=train_test_split(Nuar,label,test_size=0.2,random_state=1)\n",
    "model = load_model('TSS-TTS模型/分类模型1-11.h5')\n",
    "y_pred= model.predict(X_test) \n",
    "y_pred = (y_pred > 0.5).astype(\"int32\")\n",
    "target_names =['class0','class1']\n",
    "print(classification_report(y_test,y_pred,target_names=target_names))\n",
    "kf = KFold(n_splits=5, shuffle=True, random_state=42)\n",
    "accuracies = []\n",
    "for train_index, val_index in kf.split(Nuar):\n",
    "    X_val, y_val = Nuar[val_index], label[val_index]\n",
    "    y_pred = model.predict(X_val)\n",
    "    y_pred = (y_pred > 0.5).astype(\"int32\")\n",
    "    accuracy = accuracy_score(y_val, y_pred)\n",
    "    accuracies.append(accuracy)\n",
    "average_accuracy = np.mean(accuracies)\n",
    "print(f\"五折交叉验证的平均准确率为：{average_accuracy:.4f}\")"
   ]
  },
  {
   "cell_type": "code",
   "execution_count": null,
   "id": "78dabaef-497a-42c5-a827-53570c3ad083",
   "metadata": {},
   "outputs": [],
   "source": []
  },
  {
   "cell_type": "code",
   "execution_count": 3,
   "id": "e139fb54-06f0-4def-af6f-754f93092632",
   "metadata": {},
   "outputs": [
    {
     "name": "stdout",
     "output_type": "stream",
     "text": [
      "              precision    recall  f1-score   support\n",
      "\n",
      "      class0       0.43      0.36      0.39       211\n",
      "      class1       0.51      0.58      0.54       239\n",
      "\n",
      "    accuracy                           0.48       450\n",
      "   macro avg       0.47      0.47      0.46       450\n",
      "weighted avg       0.47      0.48      0.47       450\n",
      "\n",
      "五折交叉验证的平均准确率为：0.5538\n"
     ]
    }
   ],
   "source": [
    "import h5py\n",
    "import numpy as np\n",
    "from tensorflow.keras.models import load_model\n",
    "from sklearn.model_selection import cross_val_score\n",
    "from sklearn.metrics import classification_report\n",
    "from sklearn.model_selection import KFold\n",
    "from sklearn.metrics import accuracy_score\n",
    "from sklearn.model_selection import train_test_split\n",
    "f = h5py.File('TSS-TTS矩阵/矩阵_NNFR-3N-ALL.h5', 'r')\n",
    "Nuar = f['Nuar']  \n",
    "Nuar = np.array(Nuar)\n",
    "label = f['label']   \n",
    "label = np.array(label)\n",
    "Nuar = Nuar.reshape(2248, 16, 146, 1)\n",
    "X_train,X_test,y_train,y_test=train_test_split(Nuar,label,test_size=0.2,random_state=1)\n",
    "model = load_model('TSS-TTS模型/分类模型1-12.h5')\n",
    "y_pred= model.predict(X_test) \n",
    "y_pred = (y_pred > 0.5).astype(\"int32\")\n",
    "target_names =['class0','class1']\n",
    "print(classification_report(y_test,y_pred,target_names=target_names))\n",
    "kf = KFold(n_splits=5, shuffle=True, random_state=42)\n",
    "accuracies = []\n",
    "for train_index, val_index in kf.split(Nuar):\n",
    "    X_val, y_val = Nuar[val_index], label[val_index]\n",
    "    y_pred = model.predict(X_val)\n",
    "    y_pred = (y_pred > 0.5).astype(\"int32\")\n",
    "    accuracy = accuracy_score(y_val, y_pred)\n",
    "    accuracies.append(accuracy)\n",
    "average_accuracy = np.mean(accuracies)\n",
    "print(f\"五折交叉验证的平均准确率为：{average_accuracy:.4f}\")"
   ]
  },
  {
   "cell_type": "code",
   "execution_count": null,
   "id": "83c298ff-606f-4823-be53-e984fde10b9d",
   "metadata": {},
   "outputs": [],
   "source": []
  }
 ],
 "metadata": {
  "kernelspec": {
   "display_name": "tf",
   "language": "python",
   "name": "tf"
  },
  "language_info": {
   "codemirror_mode": {
    "name": "ipython",
    "version": 3
   },
   "file_extension": ".py",
   "mimetype": "text/x-python",
   "name": "python",
   "nbconvert_exporter": "python",
   "pygments_lexer": "ipython3",
   "version": "3.7.1"
  }
 },
 "nbformat": 4,
 "nbformat_minor": 5
}
