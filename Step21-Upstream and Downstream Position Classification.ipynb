{
 "cells": [
  {
   "cell_type": "code",
   "execution_count": 8,
   "id": "203b07ae-e80e-429a-8405-3218cf34cb3e",
   "metadata": {},
   "outputs": [
    {
     "name": "stdout",
     "output_type": "stream",
     "text": [
      "合并后的数据形状: (6911, 16, 146)\n"
     ]
    }
   ],
   "source": [
    "import h5py\n",
    "import numpy as np\n",
    "file1 = h5py.File('TSS-TTS矩阵/SNFR+1N.h5', 'r')\n",
    "file2 = h5py.File('TSS-TTS矩阵/NNFR+1N.h5', 'r')\n",
    "nuar1 = file1['Nuar'][:]\n",
    "nuar2 = file2['Nuar'][:]\n",
    "X = np.concatenate((nuar1, nuar2), axis=0)\n",
    "merged_file_path = 'TSS-TTS矩阵/+1N.h5'\n",
    "with h5py.File(merged_file_path, 'w') as merged_file:\n",
    "    merged_file.create_dataset('Nuar', data=X)\n",
    "file1.close()\n",
    "file2.close()\n",
    "with h5py.File(merged_file_path, 'r') as merged_file:\n",
    "    nuar_merged = merged_file['Nuar'][:]\n",
    "    print(f\"合并后的数据形状: {nuar_merged.shape}\")"
   ]
  },
  {
   "cell_type": "code",
   "execution_count": null,
   "id": "b394ff72-b015-4203-bcd4-d8c3ff342671",
   "metadata": {},
   "outputs": [],
   "source": []
  },
  {
   "cell_type": "code",
   "execution_count": 9,
   "id": "2a9978c3-af23-45fe-ad84-fc84e7953b2c",
   "metadata": {},
   "outputs": [
    {
     "name": "stdout",
     "output_type": "stream",
     "text": [
      "合并后的数据形状: (6911, 16, 146)\n"
     ]
    }
   ],
   "source": [
    "import h5py\n",
    "import numpy as np\n",
    "file1 = h5py.File('TSS-TTS矩阵/SNFR+2N.h5', 'r')\n",
    "file2 = h5py.File('TSS-TTS矩阵/NNFR+2N.h5', 'r')\n",
    "nuar1 = file1['Nuar'][:]\n",
    "nuar2 = file2['Nuar'][:]\n",
    "X = np.concatenate((nuar1, nuar2), axis=0)\n",
    "merged_file_path = 'TSS-TTS矩阵/+2N.h5'\n",
    "with h5py.File(merged_file_path, 'w') as merged_file:\n",
    "    merged_file.create_dataset('Nuar', data=X)\n",
    "file1.close()\n",
    "file2.close()\n",
    "with h5py.File(merged_file_path, 'r') as merged_file:\n",
    "    nuar_merged = merged_file['Nuar'][:]\n",
    "    print(f\"合并后的数据形状: {nuar_merged.shape}\")"
   ]
  },
  {
   "cell_type": "code",
   "execution_count": null,
   "id": "79442d97-d734-4551-96b6-eb513303d762",
   "metadata": {},
   "outputs": [],
   "source": []
  },
  {
   "cell_type": "code",
   "execution_count": 10,
   "id": "ab639d71-c67c-4c49-a6d8-8b1ac469d5bc",
   "metadata": {},
   "outputs": [
    {
     "name": "stdout",
     "output_type": "stream",
     "text": [
      "合并后的数据形状: (6911, 16, 146)\n"
     ]
    }
   ],
   "source": [
    "import h5py\n",
    "import numpy as np\n",
    "file1 = h5py.File('TSS-TTS矩阵/SNFR+3N.h5', 'r')\n",
    "file2 = h5py.File('TSS-TTS矩阵/NNFR+3N.h5', 'r')\n",
    "nuar1 = file1['Nuar'][:]\n",
    "nuar2 = file2['Nuar'][:]\n",
    "X = np.concatenate((nuar1, nuar2), axis=0)\n",
    "merged_file_path = 'TSS-TTS矩阵/+3N.h5'\n",
    "with h5py.File(merged_file_path, 'w') as merged_file:\n",
    "    merged_file.create_dataset('Nuar', data=X)\n",
    "file1.close()\n",
    "file2.close()\n",
    "with h5py.File(merged_file_path, 'r') as merged_file:\n",
    "    nuar_merged = merged_file['Nuar'][:]\n",
    "    print(f\"合并后的数据形状: {nuar_merged.shape}\")"
   ]
  },
  {
   "cell_type": "code",
   "execution_count": null,
   "id": "2337b7a6-6386-4e77-87b3-b7c7c48ceaa1",
   "metadata": {},
   "outputs": [],
   "source": []
  },
  {
   "cell_type": "code",
   "execution_count": 11,
   "id": "8fb39af0-a849-4963-9d11-88b1bd1b9a8a",
   "metadata": {},
   "outputs": [
    {
     "name": "stdout",
     "output_type": "stream",
     "text": [
      "合并后的数据形状: (6911, 16, 146)\n"
     ]
    }
   ],
   "source": [
    "import h5py\n",
    "import numpy as np\n",
    "file1 = h5py.File('TSS-TTS矩阵/SNFR-1N.h5', 'r')\n",
    "file2 = h5py.File('TSS-TTS矩阵/NNFR-1N.h5', 'r')\n",
    "nuar1 = file1['Nuar'][:]\n",
    "nuar2 = file2['Nuar'][:]\n",
    "X = np.concatenate((nuar1, nuar2), axis=0)\n",
    "merged_file_path = 'TSS-TTS矩阵/-1N.h5'\n",
    "with h5py.File(merged_file_path, 'w') as merged_file:\n",
    "    merged_file.create_dataset('Nuar', data=X)\n",
    "file1.close()\n",
    "file2.close()\n",
    "with h5py.File(merged_file_path, 'r') as merged_file:\n",
    "    nuar_merged = merged_file['Nuar'][:]\n",
    "    print(f\"合并后的数据形状: {nuar_merged.shape}\")"
   ]
  },
  {
   "cell_type": "code",
   "execution_count": null,
   "id": "931fa5b2-37e8-49b7-9bcb-61c31bc99a10",
   "metadata": {},
   "outputs": [],
   "source": []
  },
  {
   "cell_type": "code",
   "execution_count": 12,
   "id": "9a593521-6981-420c-8a5f-4e90a62b166f",
   "metadata": {},
   "outputs": [
    {
     "name": "stdout",
     "output_type": "stream",
     "text": [
      "合并后的数据形状: (6911, 16, 146)\n"
     ]
    }
   ],
   "source": [
    "import h5py\n",
    "import numpy as np\n",
    "file1 = h5py.File('TSS-TTS矩阵/SNFR-2N.h5', 'r')\n",
    "file2 = h5py.File('TSS-TTS矩阵/NNFR-2N.h5', 'r')\n",
    "nuar1 = file1['Nuar'][:]\n",
    "nuar2 = file2['Nuar'][:]\n",
    "X = np.concatenate((nuar1, nuar2), axis=0)\n",
    "merged_file_path = 'TSS-TTS矩阵/-2N.h5'\n",
    "with h5py.File(merged_file_path, 'w') as merged_file:\n",
    "    merged_file.create_dataset('Nuar', data=X)\n",
    "file1.close()\n",
    "file2.close()\n",
    "with h5py.File(merged_file_path, 'r') as merged_file:\n",
    "    nuar_merged = merged_file['Nuar'][:]\n",
    "    print(f\"合并后的数据形状: {nuar_merged.shape}\")"
   ]
  },
  {
   "cell_type": "code",
   "execution_count": null,
   "id": "09102811-5719-42c2-a243-c5c93aaeafe8",
   "metadata": {},
   "outputs": [],
   "source": []
  },
  {
   "cell_type": "code",
   "execution_count": 13,
   "id": "f8902880-8104-4741-8b75-24b605a00962",
   "metadata": {},
   "outputs": [
    {
     "name": "stdout",
     "output_type": "stream",
     "text": [
      "合并后的数据形状: (6911, 16, 146)\n"
     ]
    }
   ],
   "source": [
    "import h5py\n",
    "import numpy as np\n",
    "file1 = h5py.File('TSS-TTS矩阵/SNFR-3N.h5', 'r')\n",
    "file2 = h5py.File('TSS-TTS矩阵/NNFR-3N.h5', 'r')\n",
    "nuar1 = file1['Nuar'][:]\n",
    "nuar2 = file2['Nuar'][:]\n",
    "X = np.concatenate((nuar1, nuar2), axis=0)\n",
    "merged_file_path = 'TSS-TTS矩阵/-3N.h5'\n",
    "with h5py.File(merged_file_path, 'w') as merged_file:\n",
    "    merged_file.create_dataset('Nuar', data=X)\n",
    "file1.close()\n",
    "file2.close()\n",
    "with h5py.File(merged_file_path, 'r') as merged_file:\n",
    "    nuar_merged = merged_file['Nuar'][:]\n",
    "    print(f\"合并后的数据形状: {nuar_merged.shape}\")"
   ]
  },
  {
   "cell_type": "code",
   "execution_count": null,
   "id": "e8341249-7568-474a-b9ba-473d9f456ce8",
   "metadata": {},
   "outputs": [],
   "source": []
  },
  {
   "cell_type": "code",
   "execution_count": null,
   "id": "bae31c23-f3c3-46f5-bbad-7c56d75b7085",
   "metadata": {},
   "outputs": [],
   "source": []
  },
  {
   "cell_type": "code",
   "execution_count": null,
   "id": "dac24847-7ef9-42f1-9841-5ff90087c7b4",
   "metadata": {},
   "outputs": [],
   "source": []
  },
  {
   "cell_type": "code",
   "execution_count": null,
   "id": "b09a863b-7c1a-4c38-b078-1e9990dc2957",
   "metadata": {},
   "outputs": [],
   "source": []
  },
  {
   "cell_type": "code",
   "execution_count": null,
   "id": "bb27b66a-496a-4256-ae04-7ecff4ec31e5",
   "metadata": {},
   "outputs": [],
   "source": []
  },
  {
   "cell_type": "code",
   "execution_count": 1,
   "id": "4be649fb-63ff-4ca5-b446-7eb320297159",
   "metadata": {},
   "outputs": [
    {
     "name": "stdout",
     "output_type": "stream",
     "text": [
      "合并后的数据形状: (13822, 16, 146)\n",
      "合并后的标签形状: (13822,)\n",
      "标签分布情况: 0 - 6911, 1 - 6911\n"
     ]
    }
   ],
   "source": [
    "import h5py\n",
    "import numpy as np\n",
    "file1 = h5py.File('TSS-TTS矩阵/+1N.h5', 'r')\n",
    "file2 = h5py.File('TSS-TTS矩阵/-1N.h5', 'r')\n",
    "nuar1 = file1['Nuar'][:]\n",
    "nuar2 = file2['Nuar'][:]\n",
    "min_samples = min(nuar1.shape[0], nuar2.shape[0])\n",
    "nuar1 = nuar1[:min_samples]\n",
    "nuar2 = nuar2[:min_samples]\n",
    "X = np.concatenate((nuar1, nuar2), axis=0)\n",
    "y1 = np.zeros(min_samples, dtype=int)\n",
    "y2 = np.ones(min_samples, dtype=int)\n",
    "y = np.concatenate((y1, y2), axis=0)\n",
    "merged_file_path = 'TSS-TTS矩阵/-+_1N.h5'\n",
    "with h5py.File(merged_file_path, 'w') as merged_file:\n",
    "    merged_file.create_dataset('Nuar', data=X)\n",
    "    merged_file.create_dataset('label', data=y)\n",
    "file1.close()\n",
    "file2.close()\n",
    "with h5py.File(merged_file_path, 'r') as merged_file:\n",
    "    nuar_merged = merged_file['Nuar'][:]\n",
    "    label_merged = merged_file['label'][:]\n",
    "    print(f\"合并后的数据形状: {nuar_merged.shape}\")\n",
    "    print(f\"合并后的标签形状: {label_merged.shape}\")\n",
    "    print(f\"标签分布情况: 0 - {np.sum(label_merged == 0)}, 1 - {np.sum(label_merged == 1)}\")"
   ]
  },
  {
   "cell_type": "code",
   "execution_count": null,
   "id": "fd1d6251-1e19-468b-8a59-344ce2a2f5ad",
   "metadata": {},
   "outputs": [],
   "source": []
  },
  {
   "cell_type": "code",
   "execution_count": 2,
   "id": "a3d12902-981b-4a83-aecb-efe908d03f35",
   "metadata": {},
   "outputs": [
    {
     "name": "stdout",
     "output_type": "stream",
     "text": [
      "合并后的数据形状: (13822, 16, 146)\n",
      "合并后的标签形状: (13822,)\n",
      "标签分布情况: 0 - 6911, 1 - 6911\n"
     ]
    }
   ],
   "source": [
    "import h5py\n",
    "import numpy as np\n",
    "file1 = h5py.File('TSS-TTS矩阵/+2N.h5', 'r')\n",
    "file2 = h5py.File('TSS-TTS矩阵/-2N.h5', 'r')\n",
    "nuar1 = file1['Nuar'][:]\n",
    "nuar2 = file2['Nuar'][:]\n",
    "min_samples = min(nuar1.shape[0], nuar2.shape[0])\n",
    "nuar1 = nuar1[:min_samples]\n",
    "nuar2 = nuar2[:min_samples]\n",
    "X = np.concatenate((nuar1, nuar2), axis=0)\n",
    "y1 = np.zeros(min_samples, dtype=int)\n",
    "y2 = np.ones(min_samples, dtype=int)\n",
    "y = np.concatenate((y1, y2), axis=0)\n",
    "merged_file_path = 'TSS-TTS矩阵/-+_2N.h5'\n",
    "with h5py.File(merged_file_path, 'w') as merged_file:\n",
    "    merged_file.create_dataset('Nuar', data=X)\n",
    "    merged_file.create_dataset('label', data=y)\n",
    "file1.close()\n",
    "file2.close()\n",
    "with h5py.File(merged_file_path, 'r') as merged_file:\n",
    "    nuar_merged = merged_file['Nuar'][:]\n",
    "    label_merged = merged_file['label'][:]\n",
    "    print(f\"合并后的数据形状: {nuar_merged.shape}\")\n",
    "    print(f\"合并后的标签形状: {label_merged.shape}\")\n",
    "    print(f\"标签分布情况: 0 - {np.sum(label_merged == 0)}, 1 - {np.sum(label_merged == 1)}\")"
   ]
  },
  {
   "cell_type": "code",
   "execution_count": null,
   "id": "c4b79bd2-20aa-405b-8229-ac3ad72f7d34",
   "metadata": {},
   "outputs": [],
   "source": []
  },
  {
   "cell_type": "code",
   "execution_count": 3,
   "id": "77534530-dbd1-4ec0-95a6-611f28d9cfb1",
   "metadata": {},
   "outputs": [
    {
     "name": "stdout",
     "output_type": "stream",
     "text": [
      "合并后的数据形状: (13822, 16, 146)\n",
      "合并后的标签形状: (13822,)\n",
      "标签分布情况: 0 - 6911, 1 - 6911\n"
     ]
    }
   ],
   "source": [
    "import h5py\n",
    "import numpy as np\n",
    "file1 = h5py.File('TSS-TTS矩阵/+3N.h5', 'r')\n",
    "file2 = h5py.File('TSS-TTS矩阵/-3N.h5', 'r')\n",
    "nuar1 = file1['Nuar'][:]\n",
    "nuar2 = file2['Nuar'][:]\n",
    "min_samples = min(nuar1.shape[0], nuar2.shape[0])\n",
    "nuar1 = nuar1[:min_samples]\n",
    "nuar2 = nuar2[:min_samples]\n",
    "X = np.concatenate((nuar1, nuar2), axis=0)\n",
    "y1 = np.zeros(min_samples, dtype=int)\n",
    "y2 = np.ones(min_samples, dtype=int)\n",
    "y = np.concatenate((y1, y2), axis=0)\n",
    "merged_file_path = 'TSS-TTS矩阵/-+_3N.h5'\n",
    "with h5py.File(merged_file_path, 'w') as merged_file:\n",
    "    merged_file.create_dataset('Nuar', data=X)\n",
    "    merged_file.create_dataset('label', data=y)\n",
    "file1.close()\n",
    "file2.close()\n",
    "with h5py.File(merged_file_path, 'r') as merged_file:\n",
    "    nuar_merged = merged_file['Nuar'][:]\n",
    "    label_merged = merged_file['label'][:]\n",
    "    print(f\"合并后的数据形状: {nuar_merged.shape}\")\n",
    "    print(f\"合并后的标签形状: {label_merged.shape}\")\n",
    "    print(f\"标签分布情况: 0 - {np.sum(label_merged == 0)}, 1 - {np.sum(label_merged == 1)}\")"
   ]
  },
  {
   "cell_type": "code",
   "execution_count": null,
   "id": "816f1e2b-aeb8-459e-a6f3-03ed9b75098a",
   "metadata": {},
   "outputs": [],
   "source": []
  },
  {
   "cell_type": "code",
   "execution_count": null,
   "id": "850dd242-fce1-4449-b68f-e2565a31cb13",
   "metadata": {},
   "outputs": [],
   "source": []
  },
  {
   "cell_type": "code",
   "execution_count": null,
   "id": "944e3ff6-e75e-4319-8cba-3c2fa29480ef",
   "metadata": {},
   "outputs": [],
   "source": []
  },
  {
   "cell_type": "code",
   "execution_count": null,
   "id": "6fbf5627-bae3-4352-90d6-7dcdffe8121a",
   "metadata": {},
   "outputs": [],
   "source": []
  },
  {
   "cell_type": "code",
   "execution_count": null,
   "id": "2330e1e3-b12b-4286-9ad4-c14947e5f4b2",
   "metadata": {},
   "outputs": [],
   "source": []
  },
  {
   "cell_type": "code",
   "execution_count": 1,
   "id": "0b7cc4e6-adf3-4195-b636-ccc7698ba0b8",
   "metadata": {},
   "outputs": [
    {
     "name": "stdout",
     "output_type": "stream",
     "text": [
      "              precision    recall  f1-score   support\n",
      "\n",
      "      class0       0.54      0.46      0.49      1379\n",
      "      class1       0.53      0.61      0.57      1386\n",
      "\n",
      "    accuracy                           0.53      2765\n",
      "   macro avg       0.53      0.53      0.53      2765\n",
      "weighted avg       0.53      0.53      0.53      2765\n",
      "\n",
      "五折交叉验证的平均准确率为：0.5713\n"
     ]
    }
   ],
   "source": [
    "import h5py\n",
    "import numpy as np\n",
    "from tensorflow.keras.models import load_model\n",
    "from sklearn.model_selection import cross_val_score\n",
    "from sklearn.metrics import classification_report\n",
    "from sklearn.model_selection import KFold\n",
    "from sklearn.metrics import accuracy_score\n",
    "from sklearn.model_selection import train_test_split\n",
    "f = h5py.File('TSS-TTS矩阵/-+_1N.h5', 'r')\n",
    "Nuar = f['Nuar']  \n",
    "Nuar = np.array(Nuar)\n",
    "label = f['label']   \n",
    "label = np.array(label)\n",
    "Nuar = Nuar.reshape(13822, 16, 146, 1)\n",
    "X_train,X_test,y_train,y_test=train_test_split(Nuar,label,test_size=0.2,random_state=1)\n",
    "model = load_model('TSS-TTS模型/分类模型3-1.h5')\n",
    "y_pred= model.predict(X_test) \n",
    "y_pred = (y_pred > 0.5).astype(\"int32\")\n",
    "target_names =['class0','class1']\n",
    "print(classification_report(y_test,y_pred,target_names=target_names))\n",
    "kf = KFold(n_splits=5, shuffle=True, random_state=42)\n",
    "accuracies = []\n",
    "for train_index, val_index in kf.split(Nuar):\n",
    "    X_val, y_val = Nuar[val_index], label[val_index]\n",
    "    y_pred = model.predict(X_val)\n",
    "    y_pred = (y_pred > 0.5).astype(\"int32\")\n",
    "    accuracy = accuracy_score(y_val, y_pred)\n",
    "    accuracies.append(accuracy)\n",
    "average_accuracy = np.mean(accuracies)\n",
    "print(f\"五折交叉验证的平均准确率为：{average_accuracy:.4f}\")"
   ]
  },
  {
   "cell_type": "code",
   "execution_count": null,
   "id": "bf7acae2-d8c5-4545-93c2-ea6b3cc81c09",
   "metadata": {},
   "outputs": [],
   "source": []
  },
  {
   "cell_type": "code",
   "execution_count": 2,
   "id": "f3f8cfec-623b-4652-b5d9-995fcf9cd2c2",
   "metadata": {},
   "outputs": [
    {
     "name": "stdout",
     "output_type": "stream",
     "text": [
      "              precision    recall  f1-score   support\n",
      "\n",
      "      class0       0.57      0.55      0.56      1379\n",
      "      class1       0.56      0.58      0.57      1386\n",
      "\n",
      "    accuracy                           0.56      2765\n",
      "   macro avg       0.56      0.56      0.56      2765\n",
      "weighted avg       0.56      0.56      0.56      2765\n",
      "\n",
      "五折交叉验证的平均准确率为：0.6157\n"
     ]
    }
   ],
   "source": [
    "import h5py\n",
    "import numpy as np\n",
    "from tensorflow.keras.models import load_model\n",
    "from sklearn.model_selection import cross_val_score\n",
    "from sklearn.metrics import classification_report\n",
    "from sklearn.model_selection import KFold\n",
    "from sklearn.metrics import accuracy_score\n",
    "from sklearn.model_selection import train_test_split\n",
    "f = h5py.File('TSS-TTS矩阵/-+_2N.h5', 'r')\n",
    "Nuar = f['Nuar']  \n",
    "Nuar = np.array(Nuar)\n",
    "label = f['label']   \n",
    "label = np.array(label)\n",
    "Nuar = Nuar.reshape(13822, 16, 146, 1)\n",
    "X_train,X_test,y_train,y_test=train_test_split(Nuar,label,test_size=0.2,random_state=1)\n",
    "model = load_model('TSS-TTS模型/分类模型3-2.h5')\n",
    "y_pred= model.predict(X_test) \n",
    "y_pred = (y_pred > 0.5).astype(\"int32\")\n",
    "target_names =['class0','class1']\n",
    "print(classification_report(y_test,y_pred,target_names=target_names))\n",
    "kf = KFold(n_splits=5, shuffle=True, random_state=42)\n",
    "accuracies = []\n",
    "for train_index, val_index in kf.split(Nuar):\n",
    "    X_val, y_val = Nuar[val_index], label[val_index]\n",
    "    y_pred = model.predict(X_val)\n",
    "    y_pred = (y_pred > 0.5).astype(\"int32\")\n",
    "    accuracy = accuracy_score(y_val, y_pred)\n",
    "    accuracies.append(accuracy)\n",
    "average_accuracy = np.mean(accuracies)\n",
    "print(f\"五折交叉验证的平均准确率为：{average_accuracy:.4f}\")"
   ]
  },
  {
   "cell_type": "code",
   "execution_count": null,
   "id": "4ecbbe52-039e-4927-ae1d-75e838e50018",
   "metadata": {},
   "outputs": [],
   "source": []
  },
  {
   "cell_type": "code",
   "execution_count": 4,
   "id": "eef982a0-a900-494d-9cb2-0319c4878ea7",
   "metadata": {},
   "outputs": [
    {
     "name": "stdout",
     "output_type": "stream",
     "text": [
      "              precision    recall  f1-score   support\n",
      "\n",
      "      class0       0.48      0.27      0.34      1379\n",
      "      class1       0.49      0.71      0.58      1386\n",
      "\n",
      "    accuracy                           0.49      2765\n",
      "   macro avg       0.49      0.49      0.46      2765\n",
      "weighted avg       0.49      0.49      0.46      2765\n",
      "\n",
      "五折交叉验证的平均准确率为：0.5448\n"
     ]
    }
   ],
   "source": [
    "import h5py\n",
    "import numpy as np\n",
    "from tensorflow.keras.models import load_model\n",
    "from sklearn.model_selection import cross_val_score\n",
    "from sklearn.metrics import classification_report\n",
    "from sklearn.model_selection import KFold\n",
    "from sklearn.metrics import accuracy_score\n",
    "from sklearn.model_selection import train_test_split\n",
    "f = h5py.File('TSS-TTS矩阵/-+_3N.h5', 'r')\n",
    "Nuar = f['Nuar']  \n",
    "Nuar = np.array(Nuar)\n",
    "label = f['label']   \n",
    "label = np.array(label)\n",
    "Nuar = Nuar.reshape(13822, 16, 146, 1)\n",
    "X_train,X_test,y_train,y_test=train_test_split(Nuar,label,test_size=0.2,random_state=1)\n",
    "model = load_model('TSS-TTS模型/分类模型3-3.h5')\n",
    "y_pred= model.predict(X_test) \n",
    "y_pred = (y_pred > 0.5).astype(\"int32\")\n",
    "target_names =['class0','class1']\n",
    "print(classification_report(y_test,y_pred,target_names=target_names))\n",
    "kf = KFold(n_splits=5, shuffle=True, random_state=42)\n",
    "accuracies = []\n",
    "for train_index, val_index in kf.split(Nuar):\n",
    "    X_val, y_val = Nuar[val_index], label[val_index]\n",
    "    y_pred = model.predict(X_val)\n",
    "    y_pred = (y_pred > 0.5).astype(\"int32\")\n",
    "    accuracy = accuracy_score(y_val, y_pred)\n",
    "    accuracies.append(accuracy)\n",
    "average_accuracy = np.mean(accuracies)\n",
    "print(f\"五折交叉验证的平均准确率为：{average_accuracy:.4f}\")"
   ]
  },
  {
   "cell_type": "code",
   "execution_count": null,
   "id": "e289e5d9-54fc-48f5-bef7-a333ddbd5092",
   "metadata": {},
   "outputs": [],
   "source": []
  }
 ],
 "metadata": {
  "kernelspec": {
   "display_name": "tf",
   "language": "python",
   "name": "tf"
  },
  "language_info": {
   "codemirror_mode": {
    "name": "ipython",
    "version": 3
   },
   "file_extension": ".py",
   "mimetype": "text/x-python",
   "name": "python",
   "nbconvert_exporter": "python",
   "pygments_lexer": "ipython3",
   "version": "3.7.1"
  }
 },
 "nbformat": 4,
 "nbformat_minor": 5
}
