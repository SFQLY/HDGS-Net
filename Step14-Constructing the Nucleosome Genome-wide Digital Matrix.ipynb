{
 "cells": [
  {
   "cell_type": "code",
   "execution_count": 1,
   "id": "39ac298f-b16b-4989-bea3-bf1587fd1c79",
   "metadata": {},
   "outputs": [],
   "source": [
    "import h5py\n",
    "import numpy as np\n",
    "import pandas as pd"
   ]
  },
  {
   "cell_type": "code",
   "execution_count": 2,
   "id": "eb3cd1b3-68d9-453e-a210-9867a9f1bd22",
   "metadata": {},
   "outputs": [
    {
     "data": {
      "text/plain": [
       "(168234,)"
      ]
     },
     "execution_count": 2,
     "metadata": {},
     "output_type": "execute_result"
    }
   ],
   "source": [
    "f = pd.read_csv('分类染色体/ch1.csv')\n",
    "site = f['site']    \n",
    "site = np.array(site)\n",
    "level = f['value']    \n",
    "level = np.array(level)\n",
    "level.shape"
   ]
  },
  {
   "cell_type": "code",
   "execution_count": 3,
   "id": "5bd3840a-9449-47b9-92c5-36b04a0a6aab",
   "metadata": {},
   "outputs": [],
   "source": [
    "with open('SAC1基因组去空格/CH1n.txt',\"r\") as f:    \n",
    "    strn = f.read() \n",
    "fh = open('核小体数字矩阵/chr1序列.txt', 'w')\n",
    "for i in range(len(site)):\n",
    "    strs = strn[int(site[i])-74:int(site[i])+73]\n",
    "    fh.write(strs)\n",
    "    fh.write('\\n')\n",
    "fh.close()"
   ]
  },
  {
   "cell_type": "code",
   "execution_count": 4,
   "id": "10b97e3e-3bcb-466b-a200-90fe9f795a73",
   "metadata": {},
   "outputs": [
    {
     "name": "stderr",
     "output_type": "stream",
     "text": [
      "Processing sequences: 168234it [01:22, 2029.67it/s]\n"
     ]
    }
   ],
   "source": [
    "import numpy as np\n",
    "import time\n",
    "from tqdm import tqdm\n",
    "import h5py\n",
    "base = ['AA', 'AC', 'AG', 'AT', 'CA', 'CC', 'CG', 'CT', 'GA', 'GC', 'GG', 'GT', 'TA', 'TC', 'TG', 'TT']\n",
    "num_sequences = 168234\n",
    "sequence_length = 147 \n",
    "matrix_height = 16 \n",
    "Nuar = np.zeros((num_sequences, matrix_height, sequence_length - 1))\n",
    "with open('核小体数字矩阵/chr1序列.txt', 'r') as f:\n",
    "    for i, line in enumerate(tqdm(f, desc=\"Processing sequences\")):\n",
    "        line = line.strip() \n",
    "        if len(line) != sequence_length:\n",
    "            raise ValueError(f\"Sequence {i} has invalid length: {len(line)} (expected {sequence_length})\")\n",
    "        for n in range(len(base)):\n",
    "            dinucleotide = base[n]\n",
    "            for m in range(len(line) - 1):\n",
    "                current_dinucleotide = line[m] + line[m+1]\n",
    "                if current_dinucleotide == dinucleotide:\n",
    "                    Nuar[i, n, m] = 1\n",
    "with h5py.File('核小体数字矩阵/chr1-数字矩阵.h5', 'w') as f:\n",
    "    f.create_dataset('Nuar', data=Nuar,dtype=np.float32)\n",
    "    f.create_dataset('label', data=level,dtype=np.float32)"
   ]
  },
  {
   "cell_type": "code",
   "execution_count": 5,
   "id": "a2356fac-7fb7-4dea-b452-c5b530bd2e72",
   "metadata": {},
   "outputs": [
    {
     "name": "stdout",
     "output_type": "stream",
     "text": [
      "Data sets in the file: ['Nuar', 'label']\n",
      "Nuar shape: (168234, 16, 146)\n",
      "label shape: (168234,)\n"
     ]
    }
   ],
   "source": [
    "import h5py\n",
    "import numpy as np\n",
    "file_path = '核小体数字矩阵/chr1-数字矩阵.h5'\n",
    "with h5py.File(file_path, 'r') as f:\n",
    "    print(\"Data sets in the file:\", list(f.keys()))\n",
    "    nuar = f['Nuar'][:]\n",
    "    label = f['label'][:]\n",
    "    print(\"Nuar shape:\", nuar.shape)\n",
    "    print(\"label shape:\", label.shape)"
   ]
  },
  {
   "cell_type": "code",
   "execution_count": null,
   "id": "c32ab74c-5c49-4675-8107-930638a4c6ed",
   "metadata": {},
   "outputs": [],
   "source": []
  }
 ],
 "metadata": {
  "kernelspec": {
   "display_name": "Python 3 (ipykernel)",
   "language": "python",
   "name": "python3"
  },
  "language_info": {
   "codemirror_mode": {
    "name": "ipython",
    "version": 3
   },
   "file_extension": ".py",
   "mimetype": "text/x-python",
   "name": "python",
   "nbconvert_exporter": "python",
   "pygments_lexer": "ipython3",
   "version": "3.12.7"
  }
 },
 "nbformat": 4,
 "nbformat_minor": 5
}
