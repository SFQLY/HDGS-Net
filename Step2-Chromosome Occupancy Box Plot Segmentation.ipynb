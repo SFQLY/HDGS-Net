{
 "cells": [
  {
   "cell_type": "code",
   "execution_count": 2,
   "metadata": {},
   "outputs": [],
   "source": [
    "library(readxl)  \n",
    "library(tidyverse)"
   ]
  },
  {
   "cell_type": "code",
   "execution_count": 3,
   "metadata": {},
   "outputs": [
    {
     "data": {
      "text/html": [
       "<strong>75%:</strong> 2.439"
      ],
      "text/latex": [
       "\\textbf{75\\textbackslash{}\\%:} 2.439"
      ],
      "text/markdown": [
       "**75%:** 2.439"
      ],
      "text/plain": [
       "  75% \n",
       "2.439 "
      ]
     },
     "metadata": {},
     "output_type": "display_data"
    }
   ],
   "source": [
    "data <- read.csv(\"分类染色体/ch1.csv\", header = TRUE)\n",
    "h=quantile(data$value,0.75)+(quantile(data$value,0.75)-quantile(data$value,0.25))*1.5;h"
   ]
  },
  {
   "cell_type": "code",
   "execution_count": 4,
   "metadata": {},
   "outputs": [
    {
     "data": {
      "image/png": "[encoded data removed]",
      "text/plain": [
       "plot without title"
      ]
     },
     "metadata": {
      "image/png": {
       "height": 420,
       "width": 420
      }
     },
     "output_type": "display_data"
    }
   ],
   "source": [
    "boxplot(data$value,col=c(\"steelblue\"),notch = TRUE,cex.axis=1.5)\n",
    "abline(h=quantile(data$value,0.25),col=\"red\",lty=2)\n",
    "abline(h=quantile(data$value,0.75),col=\"red\",lty=2)\n",
    "abline(h=quantile(data$value,0.5),col=\"red\",lty=2)\n",
    "abline(h=quantile(data$value,0.75)+(quantile(data$value,0.75)-quantile(data$value,0.25))*1.5,\n",
    "       col=\"red\",lty=2)"
   ]
  },
  {
   "cell_type": "code",
   "execution_count": 5,
   "metadata": {},
   "outputs": [
    {
     "data": {
      "text/html": [
       "<strong>pdf:</strong> 2"
      ],
      "text/latex": [
       "\\textbf{pdf:} 2"
      ],
      "text/markdown": [
       "**pdf:** 2"
      ],
      "text/plain": [
       "pdf \n",
       "  2 "
      ]
     },
     "metadata": {},
     "output_type": "display_data"
    },
    {
     "data": {
      "image/png": "[encoded data removed]",
      "text/plain": [
       "plot without title"
      ]
     },
     "metadata": {
      "image/png": {
       "height": 420,
       "width": 420
      }
     },
     "output_type": "display_data"
    }
   ],
   "source": [
    "png(\"可视化图/ch1_boxplot.png\", width = 8, height = 6, units = \"in\", res = 120)\n",
    "par(mai=c(0.9, 1.1, 0.2, 0.2))\n",
    "boxplot(data$value,col=c(\"steelblue\"),xlab = \"Chr1\",ylab = \"dMean\",notch = TRUE,\n",
    "        cex.axis=2,cex.lab=2,family='Arial',font=2)\n",
    "abline(h=quantile(data$value,0.75)+(quantile(data$value,0.75)-quantile(data$value,0.25))*1.5,\n",
    "       col=\"red\",lty=5,lwd=2)\n",
    "dev.off()\n",
    "par(mai=c(0.9, 1.1, 0.2, 0.2))\n",
    "boxplot(data$value,col=c(\"steelblue\"),xlab = \"Chr1\",ylab = \"dMean\",notch = TRUE,\n",
    "        cex.axis=2,cex.lab=2,family='Arial',font=2)\n",
    "abline(h=quantile(data$value,0.75)+(quantile(data$value,0.75)-quantile(data$value,0.25))*1.5,\n",
    "       col=\"red\",lty=5,lwd=2)"
   ]
  },
  {
   "cell_type": "code",
   "execution_count": 6,
   "metadata": {},
   "outputs": [
    {
     "data": {
      "text/plain": [
       "NULL"
      ]
     },
     "metadata": {},
     "output_type": "display_data"
    },
    {
     "data": {
      "image/png": "[encoded data removed]",
      "text/plain": [
       "Plot with title \" \""
      ]
     },
     "metadata": {
      "image/png": {
       "height": 420,
       "width": 420
      }
     },
     "output_type": "display_data"
    }
   ],
   "source": [
    "par(mai=c(1, 1, 0.2, 0.2))\n",
    "hist(data$value,col = \"steelblue\",breaks=seq(0,5,0.1),axes = T,main = \" \",\n",
    "xlab = \"区间\",ylab = \"频数\",cex.axis=1.3,cex.lab=1.5,font.lab=2,freq=T) + geom_density(alpha = 0.3)\n",
    "abline(v=2.439,lty=2)"
   ]
  },
  {
   "cell_type": "code",
   "execution_count": null,
   "metadata": {},
   "outputs": [],
   "source": []
  },
  {
   "cell_type": "code",
   "execution_count": 7,
   "metadata": {},
   "outputs": [
    {
     "data": {
      "text/html": [
       "<strong>75%:</strong> 2.439"
      ],
      "text/latex": [
       "\\textbf{75\\textbackslash{}\\%:} 2.439"
      ],
      "text/markdown": [
       "**75%:** 2.439"
      ],
      "text/plain": [
       "  75% \n",
       "2.439 "
      ]
     },
     "metadata": {},
     "output_type": "display_data"
    },
    {
     "data": {
      "text/html": [
       "<strong>75%:</strong> 2.711"
      ],
      "text/latex": [
       "\\textbf{75\\textbackslash{}\\%:} 2.711"
      ],
      "text/markdown": [
       "**75%:** 2.711"
      ],
      "text/plain": [
       "  75% \n",
       "2.711 "
      ]
     },
     "metadata": {},
     "output_type": "display_data"
    },
    {
     "data": {
      "text/html": [
       "<strong>75%:</strong> 2.656"
      ],
      "text/latex": [
       "\\textbf{75\\textbackslash{}\\%:} 2.656"
      ],
      "text/markdown": [
       "**75%:** 2.656"
      ],
      "text/plain": [
       "  75% \n",
       "2.656 "
      ]
     },
     "metadata": {},
     "output_type": "display_data"
    },
    {
     "data": {
      "text/html": [
       "<strong>75%:</strong> 2.6825"
      ],
      "text/latex": [
       "\\textbf{75\\textbackslash{}\\%:} 2.6825"
      ],
      "text/markdown": [
       "**75%:** 2.6825"
      ],
      "text/plain": [
       "   75% \n",
       "2.6825 "
      ]
     },
     "metadata": {},
     "output_type": "display_data"
    },
    {
     "data": {
      "text/html": [
       "<strong>75%:</strong> 2.6595"
      ],
      "text/latex": [
       "\\textbf{75\\textbackslash{}\\%:} 2.6595"
      ],
      "text/markdown": [
       "**75%:** 2.6595"
      ],
      "text/plain": [
       "   75% \n",
       "2.6595 "
      ]
     },
     "metadata": {},
     "output_type": "display_data"
    },
    {
     "data": {
      "text/html": [
       "<strong>75%:</strong> 2.522"
      ],
      "text/latex": [
       "\\textbf{75\\textbackslash{}\\%:} 2.522"
      ],
      "text/markdown": [
       "**75%:** 2.522"
      ],
      "text/plain": [
       "  75% \n",
       "2.522 "
      ]
     },
     "metadata": {},
     "output_type": "display_data"
    },
    {
     "data": {
      "text/html": [
       "<strong>75%:</strong> 2.753"
      ],
      "text/latex": [
       "\\textbf{75\\textbackslash{}\\%:} 2.753"
      ],
      "text/markdown": [
       "**75%:** 2.753"
      ],
      "text/plain": [
       "  75% \n",
       "2.753 "
      ]
     },
     "metadata": {},
     "output_type": "display_data"
    },
    {
     "data": {
      "text/html": [
       "<strong>75%:</strong> 2.5745"
      ],
      "text/latex": [
       "\\textbf{75\\textbackslash{}\\%:} 2.5745"
      ],
      "text/markdown": [
       "**75%:** 2.5745"
      ],
      "text/plain": [
       "   75% \n",
       "2.5745 "
      ]
     },
     "metadata": {},
     "output_type": "display_data"
    },
    {
     "data": {
      "text/html": [
       "<strong>75%:</strong> 2.6"
      ],
      "text/latex": [
       "\\textbf{75\\textbackslash{}\\%:} 2.6"
      ],
      "text/markdown": [
       "**75%:** 2.6"
      ],
      "text/plain": [
       "75% \n",
       "2.6 "
      ]
     },
     "metadata": {},
     "output_type": "display_data"
    },
    {
     "data": {
      "text/html": [
       "<strong>75%:</strong> 2.7125"
      ],
      "text/latex": [
       "\\textbf{75\\textbackslash{}\\%:} 2.7125"
      ],
      "text/markdown": [
       "**75%:** 2.7125"
      ],
      "text/plain": [
       "   75% \n",
       "2.7125 "
      ]
     },
     "metadata": {},
     "output_type": "display_data"
    },
    {
     "data": {
      "text/html": [
       "<strong>75%:</strong> 2.6235"
      ],
      "text/latex": [
       "\\textbf{75\\textbackslash{}\\%:} 2.6235"
      ],
      "text/markdown": [
       "**75%:** 2.6235"
      ],
      "text/plain": [
       "   75% \n",
       "2.6235 "
      ]
     },
     "metadata": {},
     "output_type": "display_data"
    },
    {
     "data": {
      "text/html": [
       "<strong>75%:</strong> 2.9305"
      ],
      "text/latex": [
       "\\textbf{75\\textbackslash{}\\%:} 2.9305"
      ],
      "text/markdown": [
       "**75%:** 2.9305"
      ],
      "text/plain": [
       "   75% \n",
       "2.9305 "
      ]
     },
     "metadata": {},
     "output_type": "display_data"
    },
    {
     "data": {
      "text/html": [
       "<strong>75%:</strong> 2.703"
      ],
      "text/latex": [
       "\\textbf{75\\textbackslash{}\\%:} 2.703"
      ],
      "text/markdown": [
       "**75%:** 2.703"
      ],
      "text/plain": [
       "  75% \n",
       "2.703 "
      ]
     },
     "metadata": {},
     "output_type": "display_data"
    },
    {
     "data": {
      "text/html": [
       "<strong>75%:</strong> 2.715"
      ],
      "text/latex": [
       "\\textbf{75\\textbackslash{}\\%:} 2.715"
      ],
      "text/markdown": [
       "**75%:** 2.715"
      ],
      "text/plain": [
       "  75% \n",
       "2.715 "
      ]
     },
     "metadata": {},
     "output_type": "display_data"
    },
    {
     "data": {
      "text/html": [
       "<strong>75%:</strong> 2.7095"
      ],
      "text/latex": [
       "\\textbf{75\\textbackslash{}\\%:} 2.7095"
      ],
      "text/markdown": [
       "**75%:** 2.7095"
      ],
      "text/plain": [
       "   75% \n",
       "2.7095 "
      ]
     },
     "metadata": {},
     "output_type": "display_data"
    },
    {
     "data": {
      "text/html": [
       "<strong>75%:</strong> 2.62"
      ],
      "text/latex": [
       "\\textbf{75\\textbackslash{}\\%:} 2.62"
      ],
      "text/markdown": [
       "**75%:** 2.62"
      ],
      "text/plain": [
       " 75% \n",
       "2.62 "
      ]
     },
     "metadata": {},
     "output_type": "display_data"
    }
   ],
   "source": [
    "data <- read.csv(\"分类染色体/ch1.csv\", header = TRUE)\n",
    "h1=quantile(data$value,0.75)+(quantile(data$value,0.75)-quantile(data$value,0.25))*1.5;h1\n",
    "data <- read.csv(\"分类染色体/ch2.csv\", header = TRUE)\n",
    "h2=quantile(data$value,0.75)+(quantile(data$value,0.75)-quantile(data$value,0.25))*1.5;h2\n",
    "data <- read.csv(\"分类染色体/ch3.csv\", header = TRUE)\n",
    "h3=quantile(data$value,0.75)+(quantile(data$value,0.75)-quantile(data$value,0.25))*1.5;h3\n",
    "data <- read.csv(\"分类染色体/ch4.csv\", header = TRUE)\n",
    "h4=quantile(data$value,0.75)+(quantile(data$value,0.75)-quantile(data$value,0.25))*1.5;h4\n",
    "data <- read.csv(\"分类染色体/ch5.csv\", header = TRUE)\n",
    "h5=quantile(data$value,0.75)+(quantile(data$value,0.75)-quantile(data$value,0.25))*1.5;h5\n",
    "data <- read.csv(\"分类染色体/ch6.csv\", header = TRUE)\n",
    "h6=quantile(data$value,0.75)+(quantile(data$value,0.75)-quantile(data$value,0.25))*1.5;h6\n",
    "data <- read.csv(\"分类染色体/ch7.csv\", header = TRUE)\n",
    "h7=quantile(data$value,0.75)+(quantile(data$value,0.75)-quantile(data$value,0.25))*1.5;h7\n",
    "data <- read.csv(\"分类染色体/ch8.csv\", header = TRUE)\n",
    "h8=quantile(data$value,0.75)+(quantile(data$value,0.75)-quantile(data$value,0.25))*1.5;h8\n",
    "data <- read.csv(\"分类染色体/ch9.csv\", header = TRUE)\n",
    "h9=quantile(data$value,0.75)+(quantile(data$value,0.75)-quantile(data$value,0.25))*1.5;h9\n",
    "data <- read.csv(\"分类染色体/ch10.csv\", header = TRUE)\n",
    "h10=quantile(data$value,0.75)+(quantile(data$value,0.75)-quantile(data$value,0.25))*1.5;h10\n",
    "data <- read.csv(\"分类染色体/ch11.csv\", header = TRUE)\n",
    "h11=quantile(data$value,0.75)+(quantile(data$value,0.75)-quantile(data$value,0.25))*1.5;h11\n",
    "data <- read.csv(\"分类染色体/ch12.csv\", header = TRUE)\n",
    "h12=quantile(data$value,0.75)+(quantile(data$value,0.75)-quantile(data$value,0.25))*1.5;h12\n",
    "data <- read.csv(\"分类染色体/ch13.csv\", header = TRUE)\n",
    "h13=quantile(data$value,0.75)+(quantile(data$value,0.75)-quantile(data$value,0.25))*1.5;h13\n",
    "data <- read.csv(\"分类染色体/ch14.csv\", header = TRUE)\n",
    "h14=quantile(data$value,0.75)+(quantile(data$value,0.75)-quantile(data$value,0.25))*1.5;h14\n",
    "data <- read.csv(\"分类染色体/ch15.csv\", header = TRUE)\n",
    "h15=quantile(data$value,0.75)+(quantile(data$value,0.75)-quantile(data$value,0.25))*1.5;h15\n",
    "data <- read.csv(\"分类染色体/ch16.csv\", header = TRUE)\n",
    "h16=quantile(data$value,0.75)+(quantile(data$value,0.75)-quantile(data$value,0.25))*1.5;h16"
   ]
  },
  {
   "cell_type": "code",
   "execution_count": 8,
   "metadata": {},
   "outputs": [],
   "source": [
    "ch <- c(1, 2, 3, 4, 5, 6, 7, 8, 9, 10, 11, 12, 13, 14, 15, 16)\n",
    "split <- c(2.439, 2.711, 2.656, 2.682, 2.659, 2.522, 2.753, 2.574, 2.6, 2.712, 2.623,\n",
    "           2.93, 2.703, 2.715, 2.709, 2.62)\n",
    "df <- data.frame(ch = ch, split = split)\n",
    "write.csv(df, file = \"分类染色体/各染色质核小体占据率分割值.csv\", row.names = FALSE)"
   ]
  },
  {
   "cell_type": "code",
   "execution_count": null,
   "metadata": {},
   "outputs": [],
   "source": []
  },
  {
   "cell_type": "code",
   "execution_count": 9,
   "metadata": {},
   "outputs": [],
   "source": [
    "library(readxl)  \n",
    "library(tidyverse)"
   ]
  },
  {
   "cell_type": "code",
   "execution_count": 10,
   "metadata": {},
   "outputs": [],
   "source": [
    "data <- read.csv('分类染色体/InVitro_dMean.csv',na=':')"
   ]
  },
  {
   "cell_type": "code",
   "execution_count": 11,
   "metadata": {},
   "outputs": [
    {
     "data": {
      "text/html": [
       "<style>\n",
       ".list-inline {list-style: none; margin:0; padding: 0}\n",
       ".list-inline>li {display: inline-block}\n",
       ".list-inline>li:not(:last-child)::after {content: \"\\00b7\"; padding: 0 .5ex}\n",
       "</style>\n",
       "<ol class=list-inline><li>10774972</li><li>3</li></ol>\n"
      ],
      "text/latex": [
       "\\begin{enumerate*}\n",
       "\\item 10774972\n",
       "\\item 3\n",
       "\\end{enumerate*}\n"
      ],
      "text/markdown": [
       "1. 10774972\n",
       "2. 3\n",
       "\n",
       "\n"
      ],
      "text/plain": [
       "[1] 10774972        3"
      ]
     },
     "metadata": {},
     "output_type": "display_data"
    }
   ],
   "source": [
    "dim(data)"
   ]
  },
  {
   "cell_type": "code",
   "execution_count": 12,
   "metadata": {},
   "outputs": [
    {
     "data": {
      "text/html": [
       "<table class=\"dataframe\">\n",
       "<caption>A data.frame: 6 × 3</caption>\n",
       "<thead>\n",
       "\t<tr><th></th><th scope=col>ch</th><th scope=col>site</th><th scope=col>value</th></tr>\n",
       "\t<tr><th></th><th scope=col>&lt;dbl&gt;</th><th scope=col>&lt;dbl&gt;</th><th scope=col>&lt;dbl&gt;</th></tr>\n",
       "</thead>\n",
       "<tbody>\n",
       "\t<tr><th scope=row>1</th><td>1</td><td>2904</td><td>1.066</td></tr>\n",
       "\t<tr><th scope=row>2</th><td>1</td><td>2905</td><td>1.050</td></tr>\n",
       "\t<tr><th scope=row>3</th><td>1</td><td>2906</td><td>1.035</td></tr>\n",
       "\t<tr><th scope=row>4</th><td>1</td><td>2907</td><td>1.035</td></tr>\n",
       "\t<tr><th scope=row>5</th><td>1</td><td>2908</td><td>1.020</td></tr>\n",
       "\t<tr><th scope=row>6</th><td>1</td><td>2909</td><td>1.020</td></tr>\n",
       "</tbody>\n",
       "</table>\n"
      ],
      "text/latex": [
       "A data.frame: 6 × 3\n",
       "\\begin{tabular}{r|lll}\n",
       "  & ch & site & value\\\\\n",
       "  & <dbl> & <dbl> & <dbl>\\\\\n",
       "\\hline\n",
       "\t1 & 1 & 2904 & 1.066\\\\\n",
       "\t2 & 1 & 2905 & 1.050\\\\\n",
       "\t3 & 1 & 2906 & 1.035\\\\\n",
       "\t4 & 1 & 2907 & 1.035\\\\\n",
       "\t5 & 1 & 2908 & 1.020\\\\\n",
       "\t6 & 1 & 2909 & 1.020\\\\\n",
       "\\end{tabular}\n"
      ],
      "text/markdown": [
       "\n",
       "A data.frame: 6 × 3\n",
       "\n",
       "| <!--/--> | ch &lt;dbl&gt; | site &lt;dbl&gt; | value &lt;dbl&gt; |\n",
       "|---|---|---|---|\n",
       "| 1 | 1 | 2904 | 1.066 |\n",
       "| 2 | 1 | 2905 | 1.050 |\n",
       "| 3 | 1 | 2906 | 1.035 |\n",
       "| 4 | 1 | 2907 | 1.035 |\n",
       "| 5 | 1 | 2908 | 1.020 |\n",
       "| 6 | 1 | 2909 | 1.020 |\n",
       "\n"
      ],
      "text/plain": [
       "  ch site value\n",
       "1 1  2904 1.066\n",
       "2 1  2905 1.050\n",
       "3 1  2906 1.035\n",
       "4 1  2907 1.035\n",
       "5 1  2908 1.020\n",
       "6 1  2909 1.020"
      ]
     },
     "metadata": {},
     "output_type": "display_data"
    }
   ],
   "source": [
    "head(data)"
   ]
  },
  {
   "cell_type": "code",
   "execution_count": 13,
   "metadata": {},
   "outputs": [
    {
     "data": {
      "text/html": [
       "<table class=\"dataframe\">\n",
       "<caption>A data.frame: 6 × 3</caption>\n",
       "<thead>\n",
       "\t<tr><th></th><th scope=col>ch</th><th scope=col>site</th><th scope=col>value</th></tr>\n",
       "\t<tr><th></th><th scope=col>&lt;dbl&gt;</th><th scope=col>&lt;dbl&gt;</th><th scope=col>&lt;dbl&gt;</th></tr>\n",
       "</thead>\n",
       "<tbody>\n",
       "\t<tr><th scope=row>10774967</th><td>9</td><td>436918</td><td>0.161</td></tr>\n",
       "\t<tr><th scope=row>10774968</th><td>9</td><td>436919</td><td>0.169</td></tr>\n",
       "\t<tr><th scope=row>10774969</th><td>9</td><td>436920</td><td>0.213</td></tr>\n",
       "\t<tr><th scope=row>10774970</th><td>9</td><td>436921</td><td>0.213</td></tr>\n",
       "\t<tr><th scope=row>10774971</th><td>9</td><td>436922</td><td>0.213</td></tr>\n",
       "\t<tr><th scope=row>10774972</th><td>9</td><td>436923</td><td>0.213</td></tr>\n",
       "</tbody>\n",
       "</table>\n"
      ],
      "text/latex": [
       "A data.frame: 6 × 3\n",
       "\\begin{tabular}{r|lll}\n",
       "  & ch & site & value\\\\\n",
       "  & <dbl> & <dbl> & <dbl>\\\\\n",
       "\\hline\n",
       "\t10774967 & 9 & 436918 & 0.161\\\\\n",
       "\t10774968 & 9 & 436919 & 0.169\\\\\n",
       "\t10774969 & 9 & 436920 & 0.213\\\\\n",
       "\t10774970 & 9 & 436921 & 0.213\\\\\n",
       "\t10774971 & 9 & 436922 & 0.213\\\\\n",
       "\t10774972 & 9 & 436923 & 0.213\\\\\n",
       "\\end{tabular}\n"
      ],
      "text/markdown": [
       "\n",
       "A data.frame: 6 × 3\n",
       "\n",
       "| <!--/--> | ch &lt;dbl&gt; | site &lt;dbl&gt; | value &lt;dbl&gt; |\n",
       "|---|---|---|---|\n",
       "| 10774967 | 9 | 436918 | 0.161 |\n",
       "| 10774968 | 9 | 436919 | 0.169 |\n",
       "| 10774969 | 9 | 436920 | 0.213 |\n",
       "| 10774970 | 9 | 436921 | 0.213 |\n",
       "| 10774971 | 9 | 436922 | 0.213 |\n",
       "| 10774972 | 9 | 436923 | 0.213 |\n",
       "\n"
      ],
      "text/plain": [
       "         ch site   value\n",
       "10774967 9  436918 0.161\n",
       "10774968 9  436919 0.169\n",
       "10774969 9  436920 0.213\n",
       "10774970 9  436921 0.213\n",
       "10774971 9  436922 0.213\n",
       "10774972 9  436923 0.213"
      ]
     },
     "metadata": {},
     "output_type": "display_data"
    }
   ],
   "source": [
    "tail(data)"
   ]
  },
  {
   "cell_type": "code",
   "execution_count": 14,
   "metadata": {},
   "outputs": [
    {
     "data": {
      "text/html": [
       "<strong>pdf:</strong> 2"
      ],
      "text/latex": [
       "\\textbf{pdf:} 2"
      ],
      "text/markdown": [
       "**pdf:** 2"
      ],
      "text/plain": [
       "pdf \n",
       "  2 "
      ]
     },
     "metadata": {},
     "output_type": "display_data"
    },
    {
     "data": {
      "image/png": "[encoded data removed]",
      "text/plain": [
       "plot without title"
      ]
     },
     "metadata": {
      "image/png": {
       "height": 420,
       "width": 420
      }
     },
     "output_type": "display_data"
    }
   ],
   "source": [
    "library(RColorBrewer)\n",
    "data$ch <- as.factor(data$ch)\n",
    "n_categories <- length(unique(data$ch))\n",
    "if (n_categories > 9) {\n",
    "  extended_palette <- colorRampPalette(brewer.pal(9, \"Set1\"))(n_categories)\n",
    "} else {\n",
    "  extended_palette <- brewer.pal(n_categories, \"Set1\")\n",
    "}\n",
    "png(filename = \"可视化图/chA_boxplot.png\", width = 1800, height = 700, units = \"px\", res = 120)\n",
    "p <- ggplot(data, aes(x = ch, y = value)) +\n",
    "  geom_boxplot(aes(fill = ch), notch = TRUE) +\n",
    "  stat_boxplot(geom = 'errorbar', width = 0.3) +\n",
    "  scale_fill_manual(values = extended_palette) +\n",
    "  theme_light() + ylab(\"dMean\")+xlab(\"Chr\") +\n",
    "  theme(\n",
    "    axis.text.x = element_text(hjust = 1, color = \"black\", size = 28),\n",
    "    axis.text.y = element_text(color = \"black\", size = 28),\n",
    "    axis.title.y = element_text(angle = 90,vjust = 0.5,size = 32),\n",
    "    axis.title.x = element_text(size = 32),\n",
    "    panel.border = element_rect(fill = \"transparent\", color = \"black\", linewidth = 1),\n",
    "    axis.ticks = element_line(color = \"black\", linewidth = 1),\n",
    "    panel.grid.major = element_blank(),\n",
    "    panel.grid.minor = element_blank(),\n",
    "    legend.position = \"none\")\n",
    "print(p)\n",
    "dev.off()\n",
    "data$ch <- as.factor(data$ch)\n",
    "p <- ggplot(data, aes(x = ch, y = value)) +\n",
    "  geom_boxplot(aes(fill = ch), notch = TRUE) +\n",
    "  stat_boxplot(geom = 'errorbar', width = 0.3) +\n",
    "  scale_fill_manual(values = extended_palette) +\n",
    "  theme_light() + ylab(\"dMean\")+xlab(\"Chr\") +\n",
    "  theme(\n",
    "    axis.text.x = element_text(hjust = 1, color = \"black\", size = 28),\n",
    "    axis.text.y = element_text(color = \"black\", size = 28),\n",
    "    axis.title.y = element_text(angle = 90,vjust = 0.5,size = 32),\n",
    "    axis.title.x = element_text(size = 32),\n",
    "    panel.border = element_rect(fill = \"transparent\", color = \"black\", linewidth = 1),\n",
    "    axis.ticks = element_line(color = \"black\", linewidth = 1),\n",
    "    panel.grid.major = element_blank(),\n",
    "    panel.grid.minor = element_blank(),\n",
    "    legend.position = \"none\")\n",
    "print(p)"
   ]
  },
  {
   "cell_type": "code",
   "execution_count": 15,
   "metadata": {},
   "outputs": [
    {
     "data": {
      "image/png": "[encoded data removed]",
      "text/plain": [
       "plot without title"
      ]
     },
     "metadata": {
      "image/png": {
       "height": 420,
       "width": 420
      }
     },
     "output_type": "display_data"
    }
   ],
   "source": [
    "p <- ggplot(data, aes(x = ch, y = value)) +\n",
    "  geom_boxplot(aes(fill = ch), notch = TRUE) +\n",
    "  stat_boxplot(geom = 'errorbar', width = 0.3) +\n",
    "  scale_fill_manual(values = extended_palette) +\n",
    "  theme_light() +\n",
    "  ylab(\"dMean\") +\n",
    "  xlab(\"Chr\") +\n",
    "  theme(\n",
    "    axis.text.x = element_text(hjust = 1, color = \"black\", size = 28),\n",
    "    axis.text.y = element_text(color = \"black\", size = 28),\n",
    "    axis.title.y = element_text(angle = 90, vjust = 0.5, size = 32),\n",
    "    axis.title.x = element_text(size = 32),\n",
    "    panel.border = element_rect(fill = \"transparent\", color = \"black\", linewidth = 1),\n",
    "    axis.ticks = element_line(color = \"black\", linewidth = 1),\n",
    "    panel.grid.major = element_line(color = \"grey50\", linetype = \"solid\"),  \n",
    "    panel.grid.minor = element_line(color = \"grey50\", linetype = \"dashed\"), \n",
    "    panel.background = element_rect(fill = \"grey90\", color = NA), \n",
    "    legend.position = \"none\")\n",
    "print(p)"
   ]
  },
  {
   "cell_type": "code",
   "execution_count": null,
   "metadata": {},
   "outputs": [],
   "source": []
  }
 ],
 "metadata": {
  "kernelspec": {
   "display_name": "R",
   "language": "R",
   "name": "ir"
  },
  "language_info": {
   "codemirror_mode": "r",
   "file_extension": ".r",
   "mimetype": "text/x-r-source",
   "name": "R",
   "pygments_lexer": "r",
   "version": "4.4.1"
  }
 },
 "nbformat": 4,
 "nbformat_minor": 4
}
