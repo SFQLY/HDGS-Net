{
 "cells": [
  {
   "cell_type": "code",
   "execution_count": 2,
   "id": "fc1890b6-34fe-4b12-af2e-675dbbb55503",
   "metadata": {},
   "outputs": [],
   "source": [
    "import numpy as np\n",
    "import time\n",
    "from tqdm import tqdm\n",
    "from tqdm._tqdm import trange"
   ]
  },
  {
   "cell_type": "code",
   "execution_count": 3,
   "id": "05528391-bdb1-4193-a86b-a9e9edc00480",
   "metadata": {},
   "outputs": [],
   "source": [
    "base = ['AA','AC','AG','AT','CA','CC','CG','CT','GA','GC','GG','GT','TA','TC','TG','TT']"
   ]
  },
  {
   "cell_type": "code",
   "execution_count": 4,
   "id": "1e3813e8-8f5e-44dc-a3b4-fec90b6d7fc3",
   "metadata": {},
   "outputs": [],
   "source": [
    "Nuar = np.zeros((395314,16,146))"
   ]
  },
  {
   "cell_type": "code",
   "execution_count": 5,
   "id": "23558553-b34f-4a58-b25e-7fe68660a2eb",
   "metadata": {},
   "outputs": [
    {
     "name": "stderr",
     "output_type": "stream",
     "text": [
      "395314it [1:42:54, 64.02it/s]\n"
     ]
    }
   ],
   "source": [
    "i=0\n",
    "for line in tqdm(open('训练序列/CHAS(NO10).txt','r')):\n",
    "    time.sleep(0.01)\n",
    "    \n",
    "    for n in range(len(base)):\n",
    "        for m in range (len(line)-1):\n",
    "            dinu = line[m]+line[m+1]\n",
    "            if dinu==base[n]:\n",
    "                Nuar[i][n][m] = 1\n",
    "    i=i+1"
   ]
  },
  {
   "cell_type": "code",
   "execution_count": 6,
   "id": "75abb5ab-21da-4c33-a26a-ae9a196c12bb",
   "metadata": {},
   "outputs": [
    {
     "name": "stdout",
     "output_type": "stream",
     "text": [
      "(395314,)\n"
     ]
    }
   ],
   "source": [
    "import h5py\n",
    "fs = h5py.File('训练位点和占据率/训练标签A(no10).h5','r') \n",
    "level = fs['level']    \n",
    "level = np.array(level)\n",
    "print(level.shape)"
   ]
  },
  {
   "cell_type": "code",
   "execution_count": 7,
   "id": "4ba9eb84-7e19-447d-9bea-ba2c3acb4480",
   "metadata": {},
   "outputs": [],
   "source": [
    "f = h5py.File('训练特征标签矩阵/训练矩阵A(no10).h5', 'w')\n",
    "f.create_dataset('Nuar', data=Nuar)\n",
    "f.create_dataset('label', data=level)\n",
    "f.close()"
   ]
  },
  {
   "cell_type": "code",
   "execution_count": null,
   "id": "1ca1eeac-90fa-40a0-b74d-f0a76089c851",
   "metadata": {},
   "outputs": [],
   "source": []
  }
 ],
 "metadata": {
  "kernelspec": {
   "display_name": "tf",
   "language": "python",
   "name": "tf"
  },
  "language_info": {
   "codemirror_mode": {
    "name": "ipython",
    "version": 3
   },
   "file_extension": ".py",
   "mimetype": "text/x-python",
   "name": "python",
   "nbconvert_exporter": "python",
   "pygments_lexer": "ipython3",
   "version": "3.7.1"
  }
 },
 "nbformat": 4,
 "nbformat_minor": 5
}
