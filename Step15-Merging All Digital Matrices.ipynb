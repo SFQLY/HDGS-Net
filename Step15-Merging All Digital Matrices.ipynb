{
 "cells": [
  {
   "cell_type": "code",
   "execution_count": 1,
   "id": "f9cc7dac-85be-4432-9de0-00067ed035b4",
   "metadata": {},
   "outputs": [
    {
     "name": "stdout",
     "output_type": "stream",
     "text": [
      "已加载染色体 1 的数据。\n",
      "已加载染色体 2 的数据。\n",
      "已加载染色体 3 的数据。\n",
      "已加载染色体 4 的数据。\n",
      "已加载染色体 5 的数据。\n",
      "已加载染色体 6 的数据。\n",
      "已加载染色体 7 的数据。\n",
      "已加载染色体 8 的数据。\n",
      "已加载染色体 9 的数据。\n",
      "已加载染色体 10 的数据。\n",
      "已加载染色体 11 的数据。\n",
      "已加载染色体 12 的数据。\n",
      "已加载染色体 13 的数据。\n",
      "已加载染色体 14 的数据。\n",
      "已加载染色体 15 的数据。\n",
      "已加载染色体 16 的数据。\n",
      "合并完成，数据已保存到 D:/chr-数字矩阵.h5\n"
     ]
    }
   ],
   "source": [
    "import numpy as np\n",
    "import h5py\n",
    "import os\n",
    "\n",
    "def merge_h5_files(chromosomes, input_dir, output_file):\n",
    "    \"\"\"\n",
    "    合并多个HDF5文件中的数据\n",
    "    \n",
    "    参数:\n",
    "    chromosomes (list): 染色体编号列表\n",
    "    input_dir (str): 输入文件目录\n",
    "    output_file (str): 输出文件路径\n",
    "    \"\"\"\n",
    "    # 初始化存储特征和标签的列表\n",
    "    X_list = []\n",
    "    y_list = []\n",
    "    \n",
    "    # 遍历所有染色体文件\n",
    "    for chrom in chromosomes:\n",
    "        file_path = os.path.join(input_dir, f'chr{chrom}-数字矩阵.h5')\n",
    "        \n",
    "        # 检查文件是否存在\n",
    "        if not os.path.exists(file_path):\n",
    "            print(f\"警告：文件 {file_path} 不存在，跳过。\")\n",
    "            continue\n",
    "        \n",
    "        # 打开文件\n",
    "        try:\n",
    "            with h5py.File(file_path, 'r') as file:\n",
    "                # 提取特征和标签数据\n",
    "                nuar = file['Nuar'][:]\n",
    "                label = file['label'][:]\n",
    "                \n",
    "                # 添加到列表中\n",
    "                X_list.append(nuar)\n",
    "                y_list.append(label)\n",
    "                \n",
    "            print(f\"已加载染色体 {chrom} 的数据。\")\n",
    "        except Exception as e:\n",
    "            print(f\"错误：加载文件 {file_path} 时出错，原因：{e}\")\n",
    "            continue\n",
    "    \n",
    "    # 检查是否有数据需要合并\n",
    "    if not X_list or not y_list:\n",
    "        raise ValueError(\"没有找到有效的数据文件，无法合并。\")\n",
    "    \n",
    "    # 合并特征和标签\n",
    "    X = np.concatenate(X_list, axis=0)\n",
    "    y = np.concatenate(y_list, axis=0)\n",
    "    \n",
    "    # 保存合并后的数据到新的 HDF5 文件\n",
    "    with h5py.File(output_file, 'w') as merged_file:\n",
    "        merged_file.create_dataset('Nuar', data=X, dtype=np.float16)\n",
    "        merged_file.create_dataset('label', data=y, dtype=np.float16)\n",
    "    \n",
    "    print(f\"合并完成，数据已保存到 {output_file}\")\n",
    "\n",
    "# 定义染色体编号范围（1 到 16）\n",
    "chromosomes = range(1, 17)\n",
    "\n",
    "# 输入文件目录和输出文件路径\n",
    "input_dir = '核小体数字矩阵'\n",
    "output_file = 'D:/chr-数字矩阵.h5'\n",
    "\n",
    "# 调用函数合并文件\n",
    "merge_h5_files(chromosomes, input_dir, output_file)"
   ]
  },
  {
   "cell_type": "code",
   "execution_count": null,
   "id": "98fb13a2-00b0-4a70-8f18-f6f2b44cfa2f",
   "metadata": {},
   "outputs": [],
   "source": []
  },
  {
   "cell_type": "code",
   "execution_count": 2,
   "id": "685ae96b-a44f-496b-bba9-b32cd269a1b3",
   "metadata": {},
   "outputs": [
    {
     "name": "stdout",
     "output_type": "stream",
     "text": [
      "Data sets in the file: ['Nuar', 'label']\n",
      "Nuar shape: (10774972, 16, 146)\n",
      "label shape: (10774972,)\n",
      "Nuar dtype: float16\n",
      "label dtype: float16\n"
     ]
    }
   ],
   "source": [
    "import h5py\n",
    "import numpy as np\n",
    "file_path = 'D:/chr-数字矩阵.h5'\n",
    "with h5py.File(file_path, 'r') as f:\n",
    "    print(\"Data sets in the file:\", list(f.keys()))\n",
    "    if 'Nuar' in f and 'label' in f:\n",
    "        nuar = f['Nuar'][:]\n",
    "        label = f['label'][:]\n",
    "        print(\"Nuar shape:\", nuar.shape)\n",
    "        print(\"label shape:\", label.shape)\n",
    "        print(\"Nuar dtype:\", nuar.dtype)\n",
    "        print(\"label dtype:\", label.dtype)\n",
    "    else:\n",
    "        print(\"Error: 'Nuar' or 'label' dataset not found in the file.\")"
   ]
  },
  {
   "cell_type": "code",
   "execution_count": null,
   "id": "8695c69d-fa59-4a3c-88ae-8e180a4ff2a7",
   "metadata": {},
   "outputs": [],
   "source": []
  }
 ],
 "metadata": {
  "kernelspec": {
   "display_name": "Python 3 (ipykernel)",
   "language": "python",
   "name": "python3"
  },
  "language_info": {
   "codemirror_mode": {
    "name": "ipython",
    "version": 3
   },
   "file_extension": ".py",
   "mimetype": "text/x-python",
   "name": "python",
   "nbconvert_exporter": "python",
   "pygments_lexer": "ipython3",
   "version": "3.12.7"
  }
 },
 "nbformat": 4,
 "nbformat_minor": 5
}
