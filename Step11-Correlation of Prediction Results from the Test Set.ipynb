{
 "cells": [
  {
   "cell_type": "code",
   "execution_count": 1,
   "metadata": {},
   "outputs": [],
   "source": [
    "import numpy as np\n",
    "import csv"
   ]
  },
  {
   "cell_type": "code",
   "execution_count": 2,
   "metadata": {},
   "outputs": [
    {
     "name": "stdout",
     "output_type": "stream",
     "text": [
      "(161677,)\n",
      "(161677,)\n",
      "[[0.3396553  0.30609123]\n",
      " [0.30609123 0.35639648]]\n",
      "[[1.         0.87976156]\n",
      " [0.87976156 1.        ]]\n"
     ]
    }
   ],
   "source": [
    "data = np.loadtxt(\"测试位点和占据率/ch1测试.csv\",delimiter=\",\",skiprows=1,usecols=[0,1]) \n",
    "ori = data[:,1]\n",
    "print(ori.shape)\n",
    "res = np.loadtxt('染色体预测结果（测试）/ch1_levelp(f).txt',dtype=np.float32)\n",
    "print(res.shape)\n",
    "cor = np.vstack([ori,res]) \n",
    "print(np.cov(cor))\n",
    "print(np.corrcoef(cor))"
   ]
  },
  {
   "cell_type": "code",
   "execution_count": null,
   "metadata": {},
   "outputs": [],
   "source": []
  },
  {
   "cell_type": "code",
   "execution_count": null,
   "metadata": {},
   "outputs": [],
   "source": [
    "data = np.loadtxt(\"测试位点和占据率/ch2测试.csv\",delimiter=\",\",skiprows=1,usecols=[0,1]) \n",
    "ori = data[:,1]\n",
    "print(ori.shape)\n",
    "res = np.loadtxt('染色体预测结果（测试）/ch2_levelp(f).txt',dtype=np.float32)\n",
    "print(res.shape)\n",
    "cor = np.vstack([ori,res]) \n",
    "print(np.cov(cor))\n",
    "print(np.corrcoef(cor))"
   ]
  },
  {
   "cell_type": "code",
   "execution_count": null,
   "metadata": {},
   "outputs": [],
   "source": []
  },
  {
   "cell_type": "code",
   "execution_count": null,
   "metadata": {},
   "outputs": [],
   "source": [
    "data = np.loadtxt(\"测试位点和占据率/ch3测试.csv\",delimiter=\",\",skiprows=1,usecols=[0,1]) \n",
    "ori = data[:,1]\n",
    "print(ori.shape)\n",
    "res = np.loadtxt('染色体预测结果（测试）/ch3_levelp(f).txt',dtype=np.float32)\n",
    "print(res.shape)\n",
    "cor = np.vstack([ori,res]) \n",
    "print(np.cov(cor))\n",
    "print(np.corrcoef(cor))"
   ]
  },
  {
   "cell_type": "code",
   "execution_count": null,
   "metadata": {},
   "outputs": [],
   "source": []
  },
  {
   "cell_type": "code",
   "execution_count": null,
   "metadata": {},
   "outputs": [],
   "source": [
    "data = np.loadtxt(\"测试位点和占据率/ch4测试.csv\",delimiter=\",\",skiprows=1,usecols=[0,1]) \n",
    "ori = data[:,1]\n",
    "print(ori.shape)\n",
    "res = np.loadtxt('染色体预测结果（测试）/ch4_levelp(f).txt',dtype=np.float32)\n",
    "print(res.shape)\n",
    "cor = np.vstack([ori,res]) \n",
    "print(np.cov(cor))\n",
    "print(np.corrcoef(cor))"
   ]
  },
  {
   "cell_type": "code",
   "execution_count": null,
   "metadata": {},
   "outputs": [],
   "source": []
  },
  {
   "cell_type": "code",
   "execution_count": null,
   "metadata": {},
   "outputs": [],
   "source": [
    "data = np.loadtxt(\"测试位点和占据率/ch5测试.csv\",delimiter=\",\",skiprows=1,usecols=[0,1]) \n",
    "ori = data[:,1]\n",
    "print(ori.shape)\n",
    "res = np.loadtxt('染色体预测结果（测试）/ch5_levelp(f).txt',dtype=np.float32)\n",
    "print(res.shape)\n",
    "cor = np.vstack([ori,res]) \n",
    "print(np.cov(cor))\n",
    "print(np.corrcoef(cor))"
   ]
  },
  {
   "cell_type": "code",
   "execution_count": null,
   "metadata": {},
   "outputs": [],
   "source": []
  },
  {
   "cell_type": "code",
   "execution_count": null,
   "metadata": {},
   "outputs": [],
   "source": [
    "data = np.loadtxt(\"测试位点和占据率/ch6测试.csv\",delimiter=\",\",skiprows=1,usecols=[0,1]) \n",
    "ori = data[:,1]\n",
    "print(ori.shape)\n",
    "res = np.loadtxt('染色体预测结果（测试）/ch6_levelp(f).txt',dtype=np.float32)\n",
    "print(res.shape)\n",
    "cor = np.vstack([ori,res]) \n",
    "print(np.cov(cor))\n",
    "print(np.corrcoef(cor))"
   ]
  },
  {
   "cell_type": "code",
   "execution_count": null,
   "metadata": {},
   "outputs": [],
   "source": []
  },
  {
   "cell_type": "code",
   "execution_count": null,
   "metadata": {},
   "outputs": [],
   "source": [
    "data = np.loadtxt(\"测试位点和占据率/ch7测试.csv\",delimiter=\",\",skiprows=1,usecols=[0,1]) \n",
    "ori = data[:,1]\n",
    "print(ori.shape)\n",
    "res = np.loadtxt('染色体预测结果（测试）/ch7_levelp(f).txt',dtype=np.float32)\n",
    "print(res.shape)\n",
    "cor = np.vstack([ori,res]) \n",
    "print(np.cov(cor))\n",
    "print(np.corrcoef(cor))"
   ]
  },
  {
   "cell_type": "code",
   "execution_count": null,
   "metadata": {},
   "outputs": [],
   "source": []
  },
  {
   "cell_type": "code",
   "execution_count": null,
   "metadata": {},
   "outputs": [],
   "source": [
    "data = np.loadtxt(\"测试位点和占据率/ch8测试.csv\",delimiter=\",\",skiprows=1,usecols=[0,1]) \n",
    "ori = data[:,1]\n",
    "print(ori.shape)\n",
    "res = np.loadtxt('染色体预测结果（测试）/ch8_levelp(f).txt',dtype=np.float32)\n",
    "print(res.shape)\n",
    "cor = np.vstack([ori,res]) \n",
    "print(np.cov(cor))\n",
    "print(np.corrcoef(cor))"
   ]
  },
  {
   "cell_type": "code",
   "execution_count": null,
   "metadata": {},
   "outputs": [],
   "source": []
  },
  {
   "cell_type": "code",
   "execution_count": null,
   "metadata": {},
   "outputs": [],
   "source": [
    "data = np.loadtxt(\"测试位点和占据率/ch9测试.csv\",delimiter=\",\",skiprows=1,usecols=[0,1]) \n",
    "ori = data[:,1]\n",
    "print(ori.shape)\n",
    "res = np.loadtxt('染色体预测结果（测试）/ch9_levelp(f).txt',dtype=np.float32)\n",
    "print(res.shape)\n",
    "cor = np.vstack([ori,res]) \n",
    "print(np.cov(cor))\n",
    "print(np.corrcoef(cor))"
   ]
  },
  {
   "cell_type": "code",
   "execution_count": null,
   "metadata": {},
   "outputs": [],
   "source": []
  },
  {
   "cell_type": "code",
   "execution_count": null,
   "metadata": {},
   "outputs": [],
   "source": [
    "data = np.loadtxt(\"测试位点和占据率/ch10测试.csv\",delimiter=\",\",skiprows=1,usecols=[0,1]) \n",
    "ori = data[:,1]\n",
    "print(ori.shape)\n",
    "res = np.loadtxt('染色体预测结果（测试）/ch10_levelp(f).txt',dtype=np.float32)\n",
    "print(res.shape)\n",
    "cor = np.vstack([ori,res]) \n",
    "print(np.cov(cor))\n",
    "print(np.corrcoef(cor))"
   ]
  },
  {
   "cell_type": "code",
   "execution_count": null,
   "metadata": {},
   "outputs": [],
   "source": []
  },
  {
   "cell_type": "code",
   "execution_count": null,
   "metadata": {},
   "outputs": [],
   "source": [
    "data = np.loadtxt(\"测试位点和占据率/ch11测试.csv\",delimiter=\",\",skiprows=1,usecols=[0,1]) \n",
    "ori = data[:,1]\n",
    "print(ori.shape)\n",
    "res = np.loadtxt('染色体预测结果（测试）/ch11_levelp(f).txt',dtype=np.float32)\n",
    "print(res.shape)\n",
    "cor = np.vstack([ori,res]) \n",
    "print(np.cov(cor))\n",
    "print(np.corrcoef(cor))"
   ]
  },
  {
   "cell_type": "code",
   "execution_count": null,
   "metadata": {},
   "outputs": [],
   "source": []
  },
  {
   "cell_type": "code",
   "execution_count": null,
   "metadata": {},
   "outputs": [],
   "source": [
    "data = np.loadtxt(\"测试位点和占据率/ch12测试.csv\",delimiter=\",\",skiprows=1,usecols=[0,1]) \n",
    "ori = data[:,1]\n",
    "print(ori.shape)\n",
    "res = np.loadtxt('染色体预测结果（测试）/ch12_levelp(f).txt',dtype=np.float32)\n",
    "print(res.shape)\n",
    "cor = np.vstack([ori,res]) \n",
    "print(np.cov(cor))\n",
    "print(np.corrcoef(cor))"
   ]
  },
  {
   "cell_type": "code",
   "execution_count": null,
   "metadata": {},
   "outputs": [],
   "source": []
  },
  {
   "cell_type": "code",
   "execution_count": null,
   "metadata": {},
   "outputs": [],
   "source": [
    "data = np.loadtxt(\"测试位点和占据率/ch13测试.csv\",delimiter=\",\",skiprows=1,usecols=[0,1]) \n",
    "ori = data[:,1]\n",
    "print(ori.shape)\n",
    "res = np.loadtxt('染色体预测结果（测试）/ch13_levelp(f).txt',dtype=np.float32)\n",
    "print(res.shape)\n",
    "cor = np.vstack([ori,res]) \n",
    "print(np.cov(cor))\n",
    "print(np.corrcoef(cor))"
   ]
  },
  {
   "cell_type": "code",
   "execution_count": null,
   "metadata": {},
   "outputs": [],
   "source": []
  },
  {
   "cell_type": "code",
   "execution_count": null,
   "metadata": {},
   "outputs": [],
   "source": [
    "data = np.loadtxt(\"测试位点和占据率/ch14测试.csv\",delimiter=\",\",skiprows=1,usecols=[0,1]) \n",
    "ori = data[:,1]\n",
    "print(ori.shape)\n",
    "res = np.loadtxt('染色体预测结果（测试）/ch14_levelp(f).txt',dtype=np.float32)\n",
    "print(res.shape)\n",
    "cor = np.vstack([ori,res]) \n",
    "print(np.cov(cor))\n",
    "print(np.corrcoef(cor))"
   ]
  },
  {
   "cell_type": "code",
   "execution_count": null,
   "metadata": {},
   "outputs": [],
   "source": []
  },
  {
   "cell_type": "code",
   "execution_count": null,
   "metadata": {},
   "outputs": [],
   "source": [
    "data = np.loadtxt(\"测试位点和占据率/ch15测试.csv\",delimiter=\",\",skiprows=1,usecols=[0,1]) \n",
    "ori = data[:,1]\n",
    "print(ori.shape)\n",
    "res = np.loadtxt('染色体预测结果（测试）/ch15_levelp(f).txt',dtype=np.float32)\n",
    "print(res.shape)\n",
    "cor = np.vstack([ori,res]) \n",
    "print(np.cov(cor))\n",
    "print(np.corrcoef(cor))"
   ]
  },
  {
   "cell_type": "code",
   "execution_count": null,
   "metadata": {},
   "outputs": [],
   "source": []
  },
  {
   "cell_type": "code",
   "execution_count": null,
   "metadata": {},
   "outputs": [],
   "source": [
    "data = np.loadtxt(\"测试位点和占据率/ch16测试.csv\",delimiter=\",\",skiprows=1,usecols=[0,1]) \n",
    "ori = data[:,1]\n",
    "print(ori.shape)\n",
    "res = np.loadtxt('染色体预测结果（测试）/ch16_levelp(f).txt',dtype=np.float32)\n",
    "print(res.shape)\n",
    "cor = np.vstack([ori,res]) \n",
    "print(np.cov(cor))\n",
    "print(np.corrcoef(cor))"
   ]
  },
  {
   "cell_type": "code",
   "execution_count": null,
   "metadata": {},
   "outputs": [],
   "source": []
  },
  {
   "cell_type": "code",
   "execution_count": null,
   "metadata": {},
   "outputs": [],
   "source": []
  }
 ],
 "metadata": {
  "kernelspec": {
   "display_name": "Python 3 (ipykernel)",
   "language": "python",
   "name": "python3"
  },
  "language_info": {
   "codemirror_mode": {
    "name": "ipython",
    "version": 3
   },
   "file_extension": ".py",
   "mimetype": "text/x-python",
   "name": "python",
   "nbconvert_exporter": "python",
   "pygments_lexer": "ipython3",
   "version": "3.12.7"
  }
 },
 "nbformat": 4,
 "nbformat_minor": 4
}
