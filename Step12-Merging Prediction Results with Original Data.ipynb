{
 "cells": [
  {
   "cell_type": "code",
   "execution_count": 1,
   "metadata": {},
   "outputs": [],
   "source": [
    "import numpy as np\n",
    "import csv\n",
    "import pandas as pd"
   ]
  },
  {
   "cell_type": "code",
   "execution_count": 2,
   "metadata": {},
   "outputs": [
    {
     "name": "stdout",
     "output_type": "stream",
     "text": [
      "(161677,)\n",
      "(6557,)\n",
      "(168234, 1)\n",
      "(161677, 2)\n",
      "(6557, 2)\n",
      "(168234, 2)\n",
      "(168234, 3)\n"
     ]
    }
   ],
   "source": [
    "data_f= np.loadtxt('染色体预测结果（测试）/ch1_levelp(f).txt',dtype=np.float32)\n",
    "print(data_f.shape)\n",
    "data_t= np.loadtxt('染色体预测结果（训练）/ch1_levelp(t).txt',dtype=np.float32)\n",
    "print(data_t.shape)\n",
    "train = np.hstack([data_f, data_t]).reshape(-1, 1)\n",
    "print(train.shape)\n",
    "data_cf= np.loadtxt(\"测试位点和占据率/ch1测试.csv\",delimiter=\",\",skiprows=1,usecols=[0,1]) \n",
    "print(data_cf.shape)\n",
    "data_ct= np.loadtxt(\"训练位点和占据率/ch1训练.csv\",delimiter=\",\",skiprows=1,usecols=[0,1]) \n",
    "print(data_ct.shape)\n",
    "origin = np.vstack([data_cf,data_ct]) \n",
    "print(origin.shape)\n",
    "data_all = np.hstack([origin,train]) \n",
    "print(data_all.shape)\n",
    "idex = np.lexsort([data_all[:,0]])\n",
    "datar = data_all[idex, :]\n",
    "df = pd.DataFrame(datar,columns=['site','origin','train'])\n",
    "df.to_csv('染色体预测结果（全部）/ch1全.csv')"
   ]
  },
  {
   "cell_type": "code",
   "execution_count": null,
   "metadata": {},
   "outputs": [],
   "source": []
  },
  {
   "cell_type": "code",
   "execution_count": null,
   "metadata": {},
   "outputs": [],
   "source": [
    "data_f= np.loadtxt('染色体预测结果（测试）/ch2_levelp(f).txt',dtype=np.float32)\n",
    "print(data_f.shape)\n",
    "data_t= np.loadtxt('染色体预测结果（训练）/ch2_levelp(t).txt',dtype=np.float32)\n",
    "print(data_t.shape)\n",
    "train = np.hstack([data_f, data_t]).reshape(-1, 1)\n",
    "print(train.shape)\n",
    "data_cf= np.loadtxt(\"测试位点和占据率/ch2测试.csv\",delimiter=\",\",skiprows=1,usecols=[0,1]) \n",
    "print(data_cf.shape)\n",
    "data_ct= np.loadtxt(\"训练位点和占据率/ch2训练.csv\",delimiter=\",\",skiprows=1,usecols=[0,1]) \n",
    "print(data_ct.shape)\n",
    "origin = np.vstack([data_cf,data_ct]) \n",
    "print(origin.shape)\n",
    "data_all = np.hstack([origin,train]) \n",
    "print(data_all.shape)\n",
    "idex = np.lexsort([data_all[:,0]])\n",
    "datar = data_all[idex, :]\n",
    "df = pd.DataFrame(datar,columns=['site','origin','train'])\n",
    "df.to_csv('染色体预测结果（全部）/ch2全.csv')"
   ]
  },
  {
   "cell_type": "code",
   "execution_count": null,
   "metadata": {},
   "outputs": [],
   "source": []
  },
  {
   "cell_type": "code",
   "execution_count": null,
   "metadata": {},
   "outputs": [],
   "source": [
    "data_f= np.loadtxt('染色体预测结果（测试）/ch3_levelp(f).txt',dtype=np.float32)\n",
    "print(data_f.shape)\n",
    "data_t= np.loadtxt('染色体预测结果（训练）/ch3_levelp(t).txt',dtype=np.float32)\n",
    "print(data_t.shape)\n",
    "train = np.hstack([data_f, data_t]).reshape(-1, 1)\n",
    "print(train.shape)\n",
    "data_cf= np.loadtxt(\"测试位点和占据率/ch3测试.csv\",delimiter=\",\",skiprows=1,usecols=[0,1]) \n",
    "print(data_cf.shape)\n",
    "data_ct= np.loadtxt(\"训练位点和占据率/ch3训练.csv\",delimiter=\",\",skiprows=1,usecols=[0,1]) \n",
    "print(data_ct.shape)\n",
    "origin = np.vstack([data_cf,data_ct]) \n",
    "print(origin.shape)\n",
    "data_all = np.hstack([origin,train]) \n",
    "print(data_all.shape)\n",
    "idex = np.lexsort([data_all[:,0]])\n",
    "datar = data_all[idex, :]\n",
    "df = pd.DataFrame(datar,columns=['site','origin','train'])\n",
    "df.to_csv('染色体预测结果（全部）/ch3全.csv')"
   ]
  },
  {
   "cell_type": "code",
   "execution_count": null,
   "metadata": {},
   "outputs": [],
   "source": []
  },
  {
   "cell_type": "code",
   "execution_count": null,
   "metadata": {},
   "outputs": [],
   "source": [
    "data_f= np.loadtxt('染色体预测结果（测试）/ch4_levelp(f).txt',dtype=np.float32)\n",
    "print(data_f.shape)\n",
    "data_t= np.loadtxt('染色体预测结果（训练）/ch4_levelp(t).txt',dtype=np.float32)\n",
    "print(data_t.shape)\n",
    "train = np.hstack([data_f, data_t]).reshape(-1, 1)\n",
    "print(train.shape)\n",
    "data_cf= np.loadtxt(\"测试位点和占据率/ch4测试.csv\",delimiter=\",\",skiprows=1,usecols=[0,1]) \n",
    "print(data_cf.shape)\n",
    "data_ct= np.loadtxt(\"训练位点和占据率/ch4训练.csv\",delimiter=\",\",skiprows=1,usecols=[0,1]) \n",
    "print(data_ct.shape)\n",
    "origin = np.vstack([data_cf,data_ct]) \n",
    "print(origin.shape)\n",
    "data_all = np.hstack([origin,train]) \n",
    "print(data_all.shape)\n",
    "idex = np.lexsort([data_all[:,0]])\n",
    "datar = data_all[idex, :]\n",
    "df = pd.DataFrame(datar,columns=['site','origin','train'])\n",
    "df.to_csv('染色体预测结果（全部）/ch4全.csv')"
   ]
  },
  {
   "cell_type": "code",
   "execution_count": null,
   "metadata": {},
   "outputs": [],
   "source": []
  },
  {
   "cell_type": "code",
   "execution_count": null,
   "metadata": {},
   "outputs": [],
   "source": [
    "data_f= np.loadtxt('染色体预测结果（测试）/ch5_levelp(f).txt',dtype=np.float32)\n",
    "print(data_f.shape)\n",
    "data_t= np.loadtxt('染色体预测结果（训练）/ch5_levelp(t).txt',dtype=np.float32)\n",
    "print(data_t.shape)\n",
    "train = np.hstack([data_f, data_t]).reshape(-1, 1)\n",
    "print(train.shape)\n",
    "data_cf= np.loadtxt(\"测试位点和占据率/ch5测试.csv\",delimiter=\",\",skiprows=1,usecols=[0,1]) \n",
    "print(data_cf.shape)\n",
    "data_ct= np.loadtxt(\"训练位点和占据率/ch5训练.csv\",delimiter=\",\",skiprows=1,usecols=[0,1]) \n",
    "print(data_ct.shape)\n",
    "origin = np.vstack([data_cf,data_ct]) \n",
    "print(origin.shape)\n",
    "data_all = np.hstack([origin,train]) \n",
    "print(data_all.shape)\n",
    "idex = np.lexsort([data_all[:,0]])\n",
    "datar = data_all[idex, :]\n",
    "df = pd.DataFrame(datar,columns=['site','origin','train'])\n",
    "df.to_csv('染色体预测结果（全部）/ch5全.csv')"
   ]
  },
  {
   "cell_type": "code",
   "execution_count": null,
   "metadata": {},
   "outputs": [],
   "source": []
  },
  {
   "cell_type": "code",
   "execution_count": null,
   "metadata": {},
   "outputs": [],
   "source": [
    "data_f= np.loadtxt('染色体预测结果（测试）/ch6_levelp(f).txt',dtype=np.float32)\n",
    "print(data_f.shape)\n",
    "data_t= np.loadtxt('染色体预测结果（训练）/ch6_levelp(t).txt',dtype=np.float32)\n",
    "print(data_t.shape)\n",
    "train = np.hstack([data_f, data_t]).reshape(-1, 1)\n",
    "print(train.shape)\n",
    "data_cf= np.loadtxt(\"测试位点和占据率/ch6测试.csv\",delimiter=\",\",skiprows=1,usecols=[0,1]) \n",
    "print(data_cf.shape)\n",
    "data_ct= np.loadtxt(\"训练位点和占据率/ch6训练.csv\",delimiter=\",\",skiprows=1,usecols=[0,1]) \n",
    "print(data_ct.shape)\n",
    "origin = np.vstack([data_cf,data_ct]) \n",
    "print(origin.shape)\n",
    "data_all = np.hstack([origin,train]) \n",
    "print(data_all.shape)\n",
    "idex = np.lexsort([data_all[:,0]])\n",
    "datar = data_all[idex, :]\n",
    "df = pd.DataFrame(datar,columns=['site','origin','train'])\n",
    "df.to_csv('染色体预测结果（全部）/ch6全.csv')"
   ]
  },
  {
   "cell_type": "code",
   "execution_count": null,
   "metadata": {},
   "outputs": [],
   "source": []
  },
  {
   "cell_type": "code",
   "execution_count": null,
   "metadata": {},
   "outputs": [],
   "source": [
    "data_f= np.loadtxt('染色体预测结果（测试）/ch7_levelp(f).txt',dtype=np.float32)\n",
    "print(data_f.shape)\n",
    "data_t= np.loadtxt('染色体预测结果（训练）/ch7_levelp(t).txt',dtype=np.float32)\n",
    "print(data_t.shape)\n",
    "train = np.hstack([data_f, data_t]).reshape(-1, 1)\n",
    "print(train.shape)\n",
    "data_cf= np.loadtxt(\"测试位点和占据率/ch7测试.csv\",delimiter=\",\",skiprows=1,usecols=[0,1]) \n",
    "print(data_cf.shape)\n",
    "data_ct= np.loadtxt(\"训练位点和占据率/ch7训练.csv\",delimiter=\",\",skiprows=1,usecols=[0,1]) \n",
    "print(data_ct.shape)\n",
    "origin = np.vstack([data_cf,data_ct]) \n",
    "print(origin.shape)\n",
    "data_all = np.hstack([origin,train]) \n",
    "print(data_all.shape)\n",
    "idex = np.lexsort([data_all[:,0]])\n",
    "datar = data_all[idex, :]\n",
    "df = pd.DataFrame(datar,columns=['site','origin','train'])\n",
    "df.to_csv('染色体预测结果（全部）/ch7全.csv')"
   ]
  },
  {
   "cell_type": "code",
   "execution_count": null,
   "metadata": {},
   "outputs": [],
   "source": []
  },
  {
   "cell_type": "code",
   "execution_count": null,
   "metadata": {},
   "outputs": [],
   "source": [
    "data_f= np.loadtxt('染色体预测结果（测试）/ch8_levelp(f).txt',dtype=np.float32)\n",
    "print(data_f.shape)\n",
    "data_t= np.loadtxt('染色体预测结果（训练）/ch8_levelp(t).txt',dtype=np.float32)\n",
    "print(data_t.shape)\n",
    "train = np.hstack([data_f, data_t]).reshape(-1, 1)\n",
    "print(train.shape)\n",
    "data_cf= np.loadtxt(\"测试位点和占据率/ch8测试.csv\",delimiter=\",\",skiprows=1,usecols=[0,1]) \n",
    "print(data_cf.shape)\n",
    "data_ct= np.loadtxt(\"训练位点和占据率/ch8训练.csv\",delimiter=\",\",skiprows=1,usecols=[0,1]) \n",
    "print(data_ct.shape)\n",
    "origin = np.vstack([data_cf,data_ct]) \n",
    "print(origin.shape)\n",
    "data_all = np.hstack([origin,train]) \n",
    "print(data_all.shape)\n",
    "idex = np.lexsort([data_all[:,0]])\n",
    "datar = data_all[idex, :]\n",
    "df = pd.DataFrame(datar,columns=['site','origin','train'])\n",
    "df.to_csv('染色体预测结果（全部）/ch8全.csv')"
   ]
  },
  {
   "cell_type": "code",
   "execution_count": null,
   "metadata": {},
   "outputs": [],
   "source": []
  },
  {
   "cell_type": "code",
   "execution_count": null,
   "metadata": {},
   "outputs": [],
   "source": [
    "data_f= np.loadtxt('染色体预测结果（测试）/ch9_levelp(f).txt',dtype=np.float32)\n",
    "print(data_f.shape)\n",
    "data_t= np.loadtxt('染色体预测结果（训练）/ch9_levelp(t).txt',dtype=np.float32)\n",
    "print(data_t.shape)\n",
    "train = np.hstack([data_f, data_t]).reshape(-1, 1)\n",
    "print(train.shape)\n",
    "data_cf= np.loadtxt(\"测试位点和占据率/ch9测试.csv\",delimiter=\",\",skiprows=1,usecols=[0,1]) \n",
    "print(data_cf.shape)\n",
    "data_ct= np.loadtxt(\"训练位点和占据率/ch9训练.csv\",delimiter=\",\",skiprows=1,usecols=[0,1]) \n",
    "print(data_ct.shape)\n",
    "origin = np.vstack([data_cf,data_ct]) \n",
    "print(origin.shape)\n",
    "data_all = np.hstack([origin,train]) \n",
    "print(data_all.shape)\n",
    "idex = np.lexsort([data_all[:,0]])\n",
    "datar = data_all[idex, :]\n",
    "df = pd.DataFrame(datar,columns=['site','origin','train'])\n",
    "df.to_csv('染色体预测结果（全部）/ch9全.csv')"
   ]
  },
  {
   "cell_type": "code",
   "execution_count": null,
   "metadata": {},
   "outputs": [],
   "source": []
  },
  {
   "cell_type": "code",
   "execution_count": null,
   "metadata": {},
   "outputs": [],
   "source": [
    "data_f= np.loadtxt('染色体预测结果（测试）/ch10_levelp(f).txt',dtype=np.float32)\n",
    "print(data_f.shape)\n",
    "data_t= np.loadtxt('染色体预测结果（训练）/ch10_levelp(t).txt',dtype=np.float32)\n",
    "print(data_t.shape)\n",
    "train = np.hstack([data_f, data_t]).reshape(-1, 1)\n",
    "print(train.shape)\n",
    "data_cf= np.loadtxt(\"测试位点和占据率/ch10测试.csv\",delimiter=\",\",skiprows=1,usecols=[0,1]) \n",
    "print(data_cf.shape)\n",
    "data_ct= np.loadtxt(\"训练位点和占据率/ch10训练.csv\",delimiter=\",\",skiprows=1,usecols=[0,1]) \n",
    "print(data_ct.shape)\n",
    "origin = np.vstack([data_cf,data_ct]) \n",
    "print(origin.shape)\n",
    "data_all = np.hstack([origin,train]) \n",
    "print(data_all.shape)\n",
    "idex = np.lexsort([data_all[:,0]])\n",
    "datar = data_all[idex, :]\n",
    "df = pd.DataFrame(datar,columns=['site','origin','train'])\n",
    "df.to_csv('染色体预测结果（全部）/ch10全.csv')"
   ]
  },
  {
   "cell_type": "code",
   "execution_count": null,
   "metadata": {},
   "outputs": [],
   "source": []
  },
  {
   "cell_type": "code",
   "execution_count": null,
   "metadata": {},
   "outputs": [],
   "source": [
    "data_f= np.loadtxt('染色体预测结果（测试）/ch11_levelp(f).txt',dtype=np.float32)\n",
    "print(data_f.shape)\n",
    "data_t= np.loadtxt('染色体预测结果（训练）/ch11_levelp(t).txt',dtype=np.float32)\n",
    "print(data_t.shape)\n",
    "train = np.hstack([data_f, data_t]).reshape(-1, 1)\n",
    "print(train.shape)\n",
    "data_cf= np.loadtxt(\"测试位点和占据率/ch11测试.csv\",delimiter=\",\",skiprows=1,usecols=[0,1]) \n",
    "print(data_cf.shape)\n",
    "data_ct= np.loadtxt(\"训练位点和占据率/ch11训练.csv\",delimiter=\",\",skiprows=1,usecols=[0,1]) \n",
    "print(data_ct.shape)\n",
    "origin = np.vstack([data_cf,data_ct]) \n",
    "print(origin.shape)\n",
    "data_all = np.hstack([origin,train]) \n",
    "print(data_all.shape)\n",
    "idex = np.lexsort([data_all[:,0]])\n",
    "datar = data_all[idex, :]\n",
    "df = pd.DataFrame(datar,columns=['site','origin','train'])\n",
    "df.to_csv('染色体预测结果（全部）/ch11全.csv')"
   ]
  },
  {
   "cell_type": "code",
   "execution_count": null,
   "metadata": {},
   "outputs": [],
   "source": []
  },
  {
   "cell_type": "code",
   "execution_count": null,
   "metadata": {},
   "outputs": [],
   "source": [
    "data_f= np.loadtxt('染色体预测结果（测试）/ch12_levelp(f).txt',dtype=np.float32)\n",
    "print(data_f.shape)\n",
    "data_t= np.loadtxt('染色体预测结果（训练）/ch12_levelp(t).txt',dtype=np.float32)\n",
    "print(data_t.shape)\n",
    "train = np.hstack([data_f, data_t]).reshape(-1, 1)\n",
    "print(train.shape)\n",
    "data_cf= np.loadtxt(\"测试位点和占据率/ch12测试.csv\",delimiter=\",\",skiprows=1,usecols=[0,1]) \n",
    "print(data_cf.shape)\n",
    "data_ct= np.loadtxt(\"训练位点和占据率/ch12训练.csv\",delimiter=\",\",skiprows=1,usecols=[0,1]) \n",
    "print(data_ct.shape)\n",
    "origin = np.vstack([data_cf,data_ct]) \n",
    "print(origin.shape)\n",
    "data_all = np.hstack([origin,train]) \n",
    "print(data_all.shape)\n",
    "idex = np.lexsort([data_all[:,0]])\n",
    "datar = data_all[idex, :]\n",
    "df = pd.DataFrame(datar,columns=['site','origin','train'])\n",
    "df.to_csv('染色体预测结果（全部）/ch12全.csv')"
   ]
  },
  {
   "cell_type": "code",
   "execution_count": null,
   "metadata": {},
   "outputs": [],
   "source": []
  },
  {
   "cell_type": "code",
   "execution_count": null,
   "metadata": {},
   "outputs": [],
   "source": [
    "data_f= np.loadtxt('染色体预测结果（测试）/ch13_levelp(f).txt',dtype=np.float32)\n",
    "print(data_f.shape)\n",
    "data_t= np.loadtxt('染色体预测结果（训练）/ch13_levelp(t).txt',dtype=np.float32)\n",
    "print(data_t.shape)\n",
    "train = np.hstack([data_f, data_t]).reshape(-1, 1)\n",
    "print(train.shape)\n",
    "data_cf= np.loadtxt(\"测试位点和占据率/ch13测试.csv\",delimiter=\",\",skiprows=1,usecols=[0,1]) \n",
    "print(data_cf.shape)\n",
    "data_ct= np.loadtxt(\"训练位点和占据率/ch13训练.csv\",delimiter=\",\",skiprows=1,usecols=[0,1]) \n",
    "print(data_ct.shape)\n",
    "origin = np.vstack([data_cf,data_ct]) \n",
    "print(origin.shape)\n",
    "data_all = np.hstack([origin,train]) \n",
    "print(data_all.shape)\n",
    "idex = np.lexsort([data_all[:,0]])\n",
    "datar = data_all[idex, :]\n",
    "df = pd.DataFrame(datar,columns=['site','origin','train'])\n",
    "df.to_csv('染色体预测结果（全部）/ch13全.csv')"
   ]
  },
  {
   "cell_type": "code",
   "execution_count": null,
   "metadata": {},
   "outputs": [],
   "source": []
  },
  {
   "cell_type": "code",
   "execution_count": null,
   "metadata": {},
   "outputs": [],
   "source": [
    "data_f= np.loadtxt('染色体预测结果（测试）/ch14_levelp(f).txt',dtype=np.float32)\n",
    "print(data_f.shape)\n",
    "data_t= np.loadtxt('染色体预测结果（训练）/ch14_levelp(t).txt',dtype=np.float32)\n",
    "print(data_t.shape)\n",
    "train = np.hstack([data_f, data_t]).reshape(-1, 1)\n",
    "print(train.shape)\n",
    "data_cf= np.loadtxt(\"测试位点和占据率/ch14测试.csv\",delimiter=\",\",skiprows=1,usecols=[0,1]) \n",
    "print(data_cf.shape)\n",
    "data_ct= np.loadtxt(\"训练位点和占据率/ch14训练.csv\",delimiter=\",\",skiprows=1,usecols=[0,1]) \n",
    "print(data_ct.shape)\n",
    "origin = np.vstack([data_cf,data_ct]) \n",
    "print(origin.shape)\n",
    "data_all = np.hstack([origin,train]) \n",
    "print(data_all.shape)\n",
    "idex = np.lexsort([data_all[:,0]])\n",
    "datar = data_all[idex, :]\n",
    "df = pd.DataFrame(datar,columns=['site','origin','train'])\n",
    "df.to_csv('染色体预测结果（全部）/ch14全.csv')"
   ]
  },
  {
   "cell_type": "code",
   "execution_count": null,
   "metadata": {},
   "outputs": [],
   "source": []
  },
  {
   "cell_type": "code",
   "execution_count": null,
   "metadata": {},
   "outputs": [],
   "source": [
    "data_f= np.loadtxt('染色体预测结果（测试）/ch15_levelp(f).txt',dtype=np.float32)\n",
    "print(data_f.shape)\n",
    "data_t= np.loadtxt('染色体预测结果（训练）/ch15_levelp(t).txt',dtype=np.float32)\n",
    "print(data_t.shape)\n",
    "train = np.hstack([data_f, data_t]).reshape(-1, 1)\n",
    "print(train.shape)\n",
    "data_cf= np.loadtxt(\"测试位点和占据率/ch15测试.csv\",delimiter=\",\",skiprows=1,usecols=[0,1]) \n",
    "print(data_cf.shape)\n",
    "data_ct= np.loadtxt(\"训练位点和占据率/ch15训练.csv\",delimiter=\",\",skiprows=1,usecols=[0,1]) \n",
    "print(data_ct.shape)\n",
    "origin = np.vstack([data_cf,data_ct]) \n",
    "print(origin.shape)\n",
    "data_all = np.hstack([origin,train]) \n",
    "print(data_all.shape)\n",
    "idex = np.lexsort([data_all[:,0]])\n",
    "datar = data_all[idex, :]\n",
    "df = pd.DataFrame(datar,columns=['site','origin','train'])\n",
    "df.to_csv('染色体预测结果（全部）/ch15全.csv')"
   ]
  },
  {
   "cell_type": "code",
   "execution_count": null,
   "metadata": {},
   "outputs": [],
   "source": []
  },
  {
   "cell_type": "code",
   "execution_count": null,
   "metadata": {},
   "outputs": [],
   "source": [
    "data_f= np.loadtxt('染色体预测结果（测试）/ch16_levelp(f).txt',dtype=np.float32)\n",
    "print(data_f.shape)\n",
    "data_t= np.loadtxt('染色体预测结果（训练）/ch16_levelp(t).txt',dtype=np.float32)\n",
    "print(data_t.shape)\n",
    "train = np.hstack([data_f, data_t]).reshape(-1, 1)\n",
    "print(train.shape)\n",
    "data_cf= np.loadtxt(\"测试位点和占据率/ch16测试.csv\",delimiter=\",\",skiprows=1,usecols=[0,1]) \n",
    "print(data_cf.shape)\n",
    "data_ct= np.loadtxt(\"训练位点和占据率/ch16训练.csv\",delimiter=\",\",skiprows=1,usecols=[0,1]) \n",
    "print(data_ct.shape)\n",
    "origin = np.vstack([data_cf,data_ct]) \n",
    "print(origin.shape)\n",
    "data_all = np.hstack([origin,train]) \n",
    "print(data_all.shape)\n",
    "idex = np.lexsort([data_all[:,0]])\n",
    "datar = data_all[idex, :]\n",
    "df = pd.DataFrame(datar,columns=['site','origin','train'])\n",
    "df.to_csv('染色体预测结果（全部）/ch16全.csv')"
   ]
  },
  {
   "cell_type": "code",
   "execution_count": null,
   "metadata": {},
   "outputs": [],
   "source": []
  },
  {
   "cell_type": "code",
   "execution_count": null,
   "metadata": {},
   "outputs": [],
   "source": []
  }
 ],
 "metadata": {
  "kernelspec": {
   "display_name": "tf",
   "language": "python",
   "name": "tf"
  },
  "language_info": {
   "codemirror_mode": {
    "name": "ipython",
    "version": 3
   },
   "file_extension": ".py",
   "mimetype": "text/x-python",
   "name": "python",
   "nbconvert_exporter": "python",
   "pygments_lexer": "ipython3",
   "version": "3.7.1"
  }
 },
 "nbformat": 4,
 "nbformat_minor": 4
}
