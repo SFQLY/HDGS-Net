{
 "cells": [
  {
   "cell_type": "code",
   "execution_count": 1,
   "id": "51f85679-f655-4574-901a-e913fde0cb5f",
   "metadata": {},
   "outputs": [
    {
     "name": "stdout",
     "output_type": "stream",
     "text": [
      "合并后的数据形状: (4542, 16, 146)\n"
     ]
    }
   ],
   "source": [
    "import h5py\n",
    "import numpy as np\n",
    "file1 = h5py.File('TSS-TTS矩阵/数字矩阵_+SNFR+1N-ALL.h5', 'r')\n",
    "file2 = h5py.File('TSS-TTS矩阵/数字矩阵_-SNFR+1N-ALL.h5', 'r')\n",
    "nuar1 = file1['Nuar'][:]\n",
    "nuar2 = file2['Nuar'][:]\n",
    "X = np.concatenate((nuar1, nuar2), axis=0)\n",
    "merged_file = h5py.File('TSS-TTS矩阵/SNFR+1N.h5', 'w')\n",
    "merged_file.create_dataset('Nuar', data=X)\n",
    "merged_file.close()\n",
    "file1.close()\n",
    "file2.close()\n",
    "merged_file = h5py.File('TSS-TTS矩阵/SNFR+1N.h5', 'r')\n",
    "nuar = merged_file['Nuar'][:]\n",
    "print(f\"合并后的数据形状: {nuar.shape}\")\n",
    "merged_file.close()"
   ]
  },
  {
   "cell_type": "code",
   "execution_count": null,
   "id": "2e08e1d2-490e-410e-a2ec-4f2d000edf45",
   "metadata": {},
   "outputs": [],
   "source": []
  },
  {
   "cell_type": "code",
   "execution_count": 2,
   "id": "6e489e8d-1419-4b21-aa30-41d3ff3086f8",
   "metadata": {},
   "outputs": [
    {
     "name": "stdout",
     "output_type": "stream",
     "text": [
      "合并后的数据形状: (4542, 16, 146)\n"
     ]
    }
   ],
   "source": [
    "import h5py\n",
    "import numpy as np\n",
    "file1 = h5py.File('TSS-TTS矩阵/数字矩阵_+SNFR+2N-ALL.h5', 'r')\n",
    "file2 = h5py.File('TSS-TTS矩阵/数字矩阵_-SNFR+2N-ALL.h5', 'r')\n",
    "nuar1 = file1['Nuar'][:]\n",
    "nuar2 = file2['Nuar'][:]\n",
    "X = np.concatenate((nuar1, nuar2), axis=0)\n",
    "merged_file = h5py.File('TSS-TTS矩阵/SNFR+2N.h5', 'w')\n",
    "merged_file.create_dataset('Nuar', data=X)\n",
    "merged_file.close()\n",
    "file1.close()\n",
    "file2.close()\n",
    "merged_file = h5py.File('TSS-TTS矩阵/SNFR+2N.h5', 'r')\n",
    "nuar = merged_file['Nuar'][:]\n",
    "print(f\"合并后的数据形状: {nuar.shape}\")\n",
    "merged_file.close()"
   ]
  },
  {
   "cell_type": "code",
   "execution_count": null,
   "id": "fff8901e-daa6-4c7a-b4e3-05450eb08ec2",
   "metadata": {},
   "outputs": [],
   "source": []
  },
  {
   "cell_type": "code",
   "execution_count": 3,
   "id": "7435622d-71ae-495e-8e8e-5f143e4139aa",
   "metadata": {},
   "outputs": [
    {
     "name": "stdout",
     "output_type": "stream",
     "text": [
      "合并后的数据形状: (4542, 16, 146)\n"
     ]
    }
   ],
   "source": [
    "import h5py\n",
    "import numpy as np\n",
    "file1 = h5py.File('TSS-TTS矩阵/数字矩阵_+SNFR+3N-ALL.h5', 'r')\n",
    "file2 = h5py.File('TSS-TTS矩阵/数字矩阵_-SNFR+3N-ALL.h5', 'r')\n",
    "nuar1 = file1['Nuar'][:]\n",
    "nuar2 = file2['Nuar'][:]\n",
    "X = np.concatenate((nuar1, nuar2), axis=0)\n",
    "merged_file = h5py.File('TSS-TTS矩阵/SNFR+3N.h5', 'w')\n",
    "merged_file.create_dataset('Nuar', data=X)\n",
    "merged_file.close()\n",
    "file1.close()\n",
    "file2.close()\n",
    "merged_file = h5py.File('TSS-TTS矩阵/SNFR+3N.h5', 'r')\n",
    "nuar = merged_file['Nuar'][:]\n",
    "print(f\"合并后的数据形状: {nuar.shape}\")\n",
    "merged_file.close()"
   ]
  },
  {
   "cell_type": "code",
   "execution_count": null,
   "id": "4cd3b192-cd76-42d6-bc7e-701791d869cb",
   "metadata": {},
   "outputs": [],
   "source": []
  },
  {
   "cell_type": "code",
   "execution_count": 4,
   "id": "109efbdd-7609-4fe9-ba5c-9317bc0b3de9",
   "metadata": {},
   "outputs": [
    {
     "name": "stdout",
     "output_type": "stream",
     "text": [
      "合并后的数据形状: (4542, 16, 146)\n"
     ]
    }
   ],
   "source": [
    "import h5py\n",
    "import numpy as np\n",
    "file1 = h5py.File('TSS-TTS矩阵/数字矩阵_+SNFR-1N-ALL.h5', 'r')\n",
    "file2 = h5py.File('TSS-TTS矩阵/数字矩阵_-SNFR-1N-ALL.h5', 'r')\n",
    "nuar1 = file1['Nuar'][:]\n",
    "nuar2 = file2['Nuar'][:]\n",
    "X = np.concatenate((nuar1, nuar2), axis=0)\n",
    "merged_file = h5py.File('TSS-TTS矩阵/SNFR-1N.h5', 'w')\n",
    "merged_file.create_dataset('Nuar', data=X)\n",
    "merged_file.close()\n",
    "file1.close()\n",
    "file2.close()\n",
    "merged_file = h5py.File('TSS-TTS矩阵/SNFR-1N.h5', 'r')\n",
    "nuar = merged_file['Nuar'][:]\n",
    "print(f\"合并后的数据形状: {nuar.shape}\")\n",
    "merged_file.close()"
   ]
  },
  {
   "cell_type": "code",
   "execution_count": null,
   "id": "52242027-a481-4bdf-b4fa-e441997dedc3",
   "metadata": {},
   "outputs": [],
   "source": []
  },
  {
   "cell_type": "code",
   "execution_count": 5,
   "id": "56ea87a2-2da9-4d2d-9368-b119326db40c",
   "metadata": {},
   "outputs": [
    {
     "name": "stdout",
     "output_type": "stream",
     "text": [
      "合并后的数据形状: (4542, 16, 146)\n"
     ]
    }
   ],
   "source": [
    "import h5py\n",
    "import numpy as np\n",
    "file1 = h5py.File('TSS-TTS矩阵/数字矩阵_+SNFR-2N-ALL.h5', 'r')\n",
    "file2 = h5py.File('TSS-TTS矩阵/数字矩阵_-SNFR-2N-ALL.h5', 'r')\n",
    "nuar1 = file1['Nuar'][:]\n",
    "nuar2 = file2['Nuar'][:]\n",
    "X = np.concatenate((nuar1, nuar2), axis=0)\n",
    "merged_file = h5py.File('TSS-TTS矩阵/SNFR-2N.h5', 'w')\n",
    "merged_file.create_dataset('Nuar', data=X)\n",
    "merged_file.close()\n",
    "file1.close()\n",
    "file2.close()\n",
    "merged_file = h5py.File('TSS-TTS矩阵/SNFR-2N.h5', 'r')\n",
    "nuar = merged_file['Nuar'][:]\n",
    "print(f\"合并后的数据形状: {nuar.shape}\")\n",
    "merged_file.close()"
   ]
  },
  {
   "cell_type": "code",
   "execution_count": null,
   "id": "5d3713ee-3229-4ad0-9016-df388b181d8e",
   "metadata": {},
   "outputs": [],
   "source": []
  },
  {
   "cell_type": "code",
   "execution_count": 6,
   "id": "ce12df76-b4e5-4d84-8af7-e9bf910f622f",
   "metadata": {},
   "outputs": [
    {
     "name": "stdout",
     "output_type": "stream",
     "text": [
      "合并后的数据形状: (4542, 16, 146)\n"
     ]
    }
   ],
   "source": [
    "import h5py\n",
    "import numpy as np\n",
    "file1 = h5py.File('TSS-TTS矩阵/数字矩阵_+SNFR-3N-ALL.h5', 'r')\n",
    "file2 = h5py.File('TSS-TTS矩阵/数字矩阵_-SNFR-3N-ALL.h5', 'r')\n",
    "nuar1 = file1['Nuar'][:]\n",
    "nuar2 = file2['Nuar'][:]\n",
    "X = np.concatenate((nuar1, nuar2), axis=0)\n",
    "merged_file = h5py.File('TSS-TTS矩阵/SNFR-3N.h5', 'w')\n",
    "merged_file.create_dataset('Nuar', data=X)\n",
    "merged_file.close()\n",
    "file1.close()\n",
    "file2.close()\n",
    "merged_file = h5py.File('TSS-TTS矩阵/SNFR-3N.h5', 'r')\n",
    "nuar = merged_file['Nuar'][:]\n",
    "print(f\"合并后的数据形状: {nuar.shape}\")\n",
    "merged_file.close()"
   ]
  },
  {
   "cell_type": "code",
   "execution_count": null,
   "id": "e20edbf6-b64a-45e1-b7d5-1a85e6a986c7",
   "metadata": {},
   "outputs": [],
   "source": []
  },
  {
   "cell_type": "code",
   "execution_count": 7,
   "id": "40b36d68-3e4a-4554-becf-2822a3129463",
   "metadata": {},
   "outputs": [
    {
     "name": "stdout",
     "output_type": "stream",
     "text": [
      "合并后的数据形状: (2369, 16, 146)\n"
     ]
    }
   ],
   "source": [
    "import h5py\n",
    "import numpy as np\n",
    "file1 = h5py.File('TSS-TTS矩阵/数字矩阵_+NNFR+1N-ALL.h5', 'r')\n",
    "file2 = h5py.File('TSS-TTS矩阵/数字矩阵_-NNFR+1N-ALL.h5', 'r')\n",
    "nuar1 = file1['Nuar'][:]\n",
    "nuar2 = file2['Nuar'][:]\n",
    "X = np.concatenate((nuar1, nuar2), axis=0)\n",
    "merged_file = h5py.File('TSS-TTS矩阵/NNFR+1N.h5', 'w')\n",
    "merged_file.create_dataset('Nuar', data=X)\n",
    "merged_file.close()\n",
    "file1.close()\n",
    "file2.close()\n",
    "merged_file = h5py.File('TSS-TTS矩阵/NNFR+1N.h5', 'r')\n",
    "nuar = merged_file['Nuar'][:]\n",
    "print(f\"合并后的数据形状: {nuar.shape}\")\n",
    "merged_file.close()"
   ]
  },
  {
   "cell_type": "code",
   "execution_count": null,
   "id": "76b2338e-273a-45cd-bba7-6a7d19547f22",
   "metadata": {},
   "outputs": [],
   "source": []
  },
  {
   "cell_type": "code",
   "execution_count": 16,
   "id": "de14d658-e2e6-4a10-bc16-94bd38af168f",
   "metadata": {},
   "outputs": [
    {
     "name": "stdout",
     "output_type": "stream",
     "text": [
      "合并后的数据形状: (2369, 16, 146)\n"
     ]
    }
   ],
   "source": [
    "import h5py\n",
    "import numpy as np\n",
    "file1 = h5py.File('TSS-TTS矩阵/数字矩阵_+NNFR+2N-ALL.h5', 'r')\n",
    "file2 = h5py.File('TSS-TTS矩阵/数字矩阵_-NNFR+2N-ALL.h5', 'r')\n",
    "nuar1 = file1['Nuar'][:]\n",
    "nuar2 = file2['Nuar'][:]\n",
    "X = np.concatenate((nuar1, nuar2), axis=0)\n",
    "merged_file = h5py.File('TSS-TTS矩阵/NNFR+2N.h5', 'w')\n",
    "merged_file.create_dataset('Nuar', data=X)\n",
    "merged_file.close()\n",
    "file1.close()\n",
    "file2.close()\n",
    "merged_file = h5py.File('TSS-TTS矩阵/NNFR+2N.h5', 'r')\n",
    "nuar = merged_file['Nuar'][:]\n",
    "print(f\"合并后的数据形状: {nuar.shape}\")\n",
    "merged_file.close()"
   ]
  },
  {
   "cell_type": "code",
   "execution_count": null,
   "id": "350d9c58-6d15-4cec-9c73-77e276f373ee",
   "metadata": {},
   "outputs": [],
   "source": []
  },
  {
   "cell_type": "code",
   "execution_count": 17,
   "id": "e7b46c33-be7d-4e02-9c5e-d259baf76df4",
   "metadata": {},
   "outputs": [
    {
     "name": "stdout",
     "output_type": "stream",
     "text": [
      "合并后的数据形状: (2369, 16, 146)\n"
     ]
    }
   ],
   "source": [
    "import h5py\n",
    "import numpy as np\n",
    "file1 = h5py.File('TSS-TTS矩阵/数字矩阵_+NNFR+3N-ALL.h5', 'r')\n",
    "file2 = h5py.File('TSS-TTS矩阵/数字矩阵_-NNFR+3N-ALL.h5', 'r')\n",
    "nuar1 = file1['Nuar'][:]\n",
    "nuar2 = file2['Nuar'][:]\n",
    "X = np.concatenate((nuar1, nuar2), axis=0)\n",
    "merged_file = h5py.File('TSS-TTS矩阵/NNFR+3N.h5', 'w')\n",
    "merged_file.create_dataset('Nuar', data=X)\n",
    "merged_file.close()\n",
    "file1.close()\n",
    "file2.close()\n",
    "merged_file = h5py.File('TSS-TTS矩阵/NNFR+3N.h5', 'r')\n",
    "nuar = merged_file['Nuar'][:]\n",
    "print(f\"合并后的数据形状: {nuar.shape}\")\n",
    "merged_file.close()"
   ]
  },
  {
   "cell_type": "code",
   "execution_count": null,
   "id": "81403a4a-c201-4b18-98a2-aa692eb47204",
   "metadata": {},
   "outputs": [],
   "source": []
  },
  {
   "cell_type": "code",
   "execution_count": 18,
   "id": "7133206c-ad6c-4fbf-88ab-67e0e4b52ec9",
   "metadata": {},
   "outputs": [
    {
     "name": "stdout",
     "output_type": "stream",
     "text": [
      "合并后的数据形状: (2369, 16, 146)\n"
     ]
    }
   ],
   "source": [
    "import h5py\n",
    "import numpy as np\n",
    "file1 = h5py.File('TSS-TTS矩阵/数字矩阵_+NNFR-1N-ALL.h5', 'r')\n",
    "file2 = h5py.File('TSS-TTS矩阵/数字矩阵_-NNFR-1N-ALL.h5', 'r')\n",
    "nuar1 = file1['Nuar'][:]\n",
    "nuar2 = file2['Nuar'][:]\n",
    "X = np.concatenate((nuar1, nuar2), axis=0)\n",
    "merged_file = h5py.File('TSS-TTS矩阵/NNFR-1N.h5', 'w')\n",
    "merged_file.create_dataset('Nuar', data=X)\n",
    "merged_file.close()\n",
    "file1.close()\n",
    "file2.close()\n",
    "merged_file = h5py.File('TSS-TTS矩阵/NNFR-1N.h5', 'r')\n",
    "nuar = merged_file['Nuar'][:]\n",
    "print(f\"合并后的数据形状: {nuar.shape}\")\n",
    "merged_file.close()"
   ]
  },
  {
   "cell_type": "code",
   "execution_count": null,
   "id": "94d6e172-006f-4092-bfc0-5e59d623c87b",
   "metadata": {},
   "outputs": [],
   "source": []
  },
  {
   "cell_type": "code",
   "execution_count": 19,
   "id": "6adfde61-a5fc-4dc6-8478-48915ee18bf4",
   "metadata": {},
   "outputs": [
    {
     "name": "stdout",
     "output_type": "stream",
     "text": [
      "合并后的数据形状: (2369, 16, 146)\n"
     ]
    }
   ],
   "source": [
    "import h5py\n",
    "import numpy as np\n",
    "file1 = h5py.File('TSS-TTS矩阵/数字矩阵_+NNFR-2N-ALL.h5', 'r')\n",
    "file2 = h5py.File('TSS-TTS矩阵/数字矩阵_-NNFR-2N-ALL.h5', 'r')\n",
    "nuar1 = file1['Nuar'][:]\n",
    "nuar2 = file2['Nuar'][:]\n",
    "X = np.concatenate((nuar1, nuar2), axis=0)\n",
    "merged_file = h5py.File('TSS-TTS矩阵/NNFR-2N.h5', 'w')\n",
    "merged_file.create_dataset('Nuar', data=X)\n",
    "merged_file.close()\n",
    "file1.close()\n",
    "file2.close()\n",
    "merged_file = h5py.File('TSS-TTS矩阵/NNFR-2N.h5', 'r')\n",
    "nuar = merged_file['Nuar'][:]\n",
    "print(f\"合并后的数据形状: {nuar.shape}\")\n",
    "merged_file.close()"
   ]
  },
  {
   "cell_type": "code",
   "execution_count": null,
   "id": "66be5bc8-1dce-4dd4-a65b-e41ad226c2a4",
   "metadata": {},
   "outputs": [],
   "source": []
  },
  {
   "cell_type": "code",
   "execution_count": 20,
   "id": "134dd08e-0e3d-4dcb-9fda-143816ed7979",
   "metadata": {},
   "outputs": [
    {
     "name": "stdout",
     "output_type": "stream",
     "text": [
      "合并后的数据形状: (2369, 16, 146)\n"
     ]
    }
   ],
   "source": [
    "import h5py\n",
    "import numpy as np\n",
    "file1 = h5py.File('TSS-TTS矩阵/数字矩阵_+NNFR-3N-ALL.h5', 'r')\n",
    "file2 = h5py.File('TSS-TTS矩阵/数字矩阵_-NNFR-3N-ALL.h5', 'r')\n",
    "nuar1 = file1['Nuar'][:]\n",
    "nuar2 = file2['Nuar'][:]\n",
    "X = np.concatenate((nuar1, nuar2), axis=0)\n",
    "merged_file = h5py.File('TSS-TTS矩阵/NNFR-3N.h5', 'w')\n",
    "merged_file.create_dataset('Nuar', data=X)\n",
    "merged_file.close()\n",
    "file1.close()\n",
    "file2.close()\n",
    "merged_file = h5py.File('TSS-TTS矩阵/NNFR-3N.h5', 'r')\n",
    "nuar = merged_file['Nuar'][:]\n",
    "print(f\"合并后的数据形状: {nuar.shape}\")\n",
    "merged_file.close()"
   ]
  },
  {
   "cell_type": "code",
   "execution_count": null,
   "id": "3af04909-962f-4a81-aa32-fd06bf529e69",
   "metadata": {},
   "outputs": [],
   "source": []
  },
  {
   "cell_type": "code",
   "execution_count": null,
   "id": "2bbdcd9a-2b9c-4b5f-8e56-990550439602",
   "metadata": {},
   "outputs": [],
   "source": []
  },
  {
   "cell_type": "code",
   "execution_count": null,
   "id": "73b44c0b-32be-4a1f-b736-48f84e5098ce",
   "metadata": {},
   "outputs": [],
   "source": []
  },
  {
   "cell_type": "code",
   "execution_count": null,
   "id": "8c39b3b7-bf72-4181-a063-b5e339863b54",
   "metadata": {},
   "outputs": [],
   "source": []
  },
  {
   "cell_type": "code",
   "execution_count": null,
   "id": "03a83916-a511-445c-b8df-a1122deec1bd",
   "metadata": {},
   "outputs": [],
   "source": []
  },
  {
   "cell_type": "code",
   "execution_count": 1,
   "id": "4b55b230-dcf8-4fdc-8792-67893fa8296e",
   "metadata": {},
   "outputs": [
    {
     "name": "stdout",
     "output_type": "stream",
     "text": [
      "合并后的数据形状: (4738, 16, 146)\n"
     ]
    }
   ],
   "source": [
    "import h5py\n",
    "import numpy as np\n",
    "file1 = h5py.File('TSS-TTS矩阵/SNFR+1N.h5', 'r')\n",
    "file2 = h5py.File('TSS-TTS矩阵/NNFR+1N.h5', 'r')\n",
    "nuar1 = file1['Nuar'][:]\n",
    "nuar2 = file2['Nuar'][:]\n",
    "min_samples = min(nuar1.shape[0], nuar2.shape[0])\n",
    "nuar1 = nuar1[:min_samples]\n",
    "nuar2 = nuar2[:min_samples]\n",
    "X = np.concatenate((nuar1, nuar2), axis=0)\n",
    "y1 = np.zeros(min_samples, dtype=int) \n",
    "y2 = np.ones(min_samples, dtype=int)   \n",
    "y = np.concatenate((y1, y2), axis=0)\n",
    "merged_file_path = 'TSS-TTS矩阵/NNFR_SNFR+1N.h5'\n",
    "with h5py.File(merged_file_path, 'w') as merged_file:\n",
    "    merged_file.create_dataset('Nuar', data=X)\n",
    "    merged_file.create_dataset('label', data=y)\n",
    "file1.close()\n",
    "file2.close()\n",
    "with h5py.File(merged_file_path, 'r') as merged_file:\n",
    "    nuar_merged = merged_file['Nuar'][:]\n",
    "    label_merged = merged_file['label'][:]\n",
    "    print(f\"合并后的数据形状: {nuar_merged.shape}\")"
   ]
  },
  {
   "cell_type": "code",
   "execution_count": null,
   "id": "7c71e668-3780-416c-8d8d-bf21eb142ac0",
   "metadata": {},
   "outputs": [],
   "source": []
  },
  {
   "cell_type": "code",
   "execution_count": 2,
   "id": "2a4d0398-def0-4871-8671-b2cc3799c01a",
   "metadata": {},
   "outputs": [
    {
     "name": "stdout",
     "output_type": "stream",
     "text": [
      "合并后的数据形状: (4738, 16, 146)\n"
     ]
    }
   ],
   "source": [
    "import h5py\n",
    "import numpy as np\n",
    "file1 = h5py.File('TSS-TTS矩阵/SNFR+2N.h5', 'r')\n",
    "file2 = h5py.File('TSS-TTS矩阵/NNFR+2N.h5', 'r')\n",
    "nuar1 = file1['Nuar'][:]\n",
    "nuar2 = file2['Nuar'][:]\n",
    "min_samples = min(nuar1.shape[0], nuar2.shape[0])\n",
    "nuar1 = nuar1[:min_samples]\n",
    "nuar2 = nuar2[:min_samples]\n",
    "X = np.concatenate((nuar1, nuar2), axis=0)\n",
    "y1 = np.zeros(min_samples, dtype=int) \n",
    "y2 = np.ones(min_samples, dtype=int)   \n",
    "y = np.concatenate((y1, y2), axis=0)\n",
    "merged_file_path = 'TSS-TTS矩阵/NNFR_SNFR+2N.h5'\n",
    "with h5py.File(merged_file_path, 'w') as merged_file:\n",
    "    merged_file.create_dataset('Nuar', data=X)\n",
    "    merged_file.create_dataset('label', data=y)\n",
    "file1.close()\n",
    "file2.close()\n",
    "with h5py.File(merged_file_path, 'r') as merged_file:\n",
    "    nuar_merged = merged_file['Nuar'][:]\n",
    "    label_merged = merged_file['label'][:]\n",
    "    print(f\"合并后的数据形状: {nuar_merged.shape}\")"
   ]
  },
  {
   "cell_type": "code",
   "execution_count": null,
   "id": "67c96335-29b2-489d-9586-2f60abe04457",
   "metadata": {},
   "outputs": [],
   "source": []
  },
  {
   "cell_type": "code",
   "execution_count": 3,
   "id": "20b7d0bf-acfd-46fd-9144-f32a5e5cacbd",
   "metadata": {},
   "outputs": [
    {
     "name": "stdout",
     "output_type": "stream",
     "text": [
      "合并后的数据形状: (4738, 16, 146)\n"
     ]
    }
   ],
   "source": [
    "import h5py\n",
    "import numpy as np\n",
    "file1 = h5py.File('TSS-TTS矩阵/SNFR+3N.h5', 'r')\n",
    "file2 = h5py.File('TSS-TTS矩阵/NNFR+3N.h5', 'r')\n",
    "nuar1 = file1['Nuar'][:]\n",
    "nuar2 = file2['Nuar'][:]\n",
    "min_samples = min(nuar1.shape[0], nuar2.shape[0])\n",
    "nuar1 = nuar1[:min_samples]\n",
    "nuar2 = nuar2[:min_samples]\n",
    "X = np.concatenate((nuar1, nuar2), axis=0)\n",
    "y1 = np.zeros(min_samples, dtype=int) \n",
    "y2 = np.ones(min_samples, dtype=int)   \n",
    "y = np.concatenate((y1, y2), axis=0)\n",
    "merged_file_path = 'TSS-TTS矩阵/NNFR_SNFR+3N.h5'\n",
    "with h5py.File(merged_file_path, 'w') as merged_file:\n",
    "    merged_file.create_dataset('Nuar', data=X)\n",
    "    merged_file.create_dataset('label', data=y)\n",
    "file1.close()\n",
    "file2.close()\n",
    "with h5py.File(merged_file_path, 'r') as merged_file:\n",
    "    nuar_merged = merged_file['Nuar'][:]\n",
    "    label_merged = merged_file['label'][:]\n",
    "    print(f\"合并后的数据形状: {nuar_merged.shape}\")"
   ]
  },
  {
   "cell_type": "code",
   "execution_count": null,
   "id": "2c9f61ed-ffe6-4e9f-bc22-eb7621720db5",
   "metadata": {},
   "outputs": [],
   "source": []
  },
  {
   "cell_type": "code",
   "execution_count": 4,
   "id": "9ea69d9f-b8ba-401e-a967-9484289c6ed2",
   "metadata": {},
   "outputs": [
    {
     "name": "stdout",
     "output_type": "stream",
     "text": [
      "合并后的数据形状: (4738, 16, 146)\n"
     ]
    }
   ],
   "source": [
    "import h5py\n",
    "import numpy as np\n",
    "file1 = h5py.File('TSS-TTS矩阵/SNFR-1N.h5', 'r')\n",
    "file2 = h5py.File('TSS-TTS矩阵/NNFR-1N.h5', 'r')\n",
    "nuar1 = file1['Nuar'][:]\n",
    "nuar2 = file2['Nuar'][:]\n",
    "min_samples = min(nuar1.shape[0], nuar2.shape[0])\n",
    "nuar1 = nuar1[:min_samples]\n",
    "nuar2 = nuar2[:min_samples]\n",
    "X = np.concatenate((nuar1, nuar2), axis=0)\n",
    "y1 = np.zeros(min_samples, dtype=int) \n",
    "y2 = np.ones(min_samples, dtype=int)   \n",
    "y = np.concatenate((y1, y2), axis=0)\n",
    "merged_file_path = 'TSS-TTS矩阵/NNFR_SNFR-1N.h5'\n",
    "with h5py.File(merged_file_path, 'w') as merged_file:\n",
    "    merged_file.create_dataset('Nuar', data=X)\n",
    "    merged_file.create_dataset('label', data=y)\n",
    "file1.close()\n",
    "file2.close()\n",
    "with h5py.File(merged_file_path, 'r') as merged_file:\n",
    "    nuar_merged = merged_file['Nuar'][:]\n",
    "    label_merged = merged_file['label'][:]\n",
    "    print(f\"合并后的数据形状: {nuar_merged.shape}\")"
   ]
  },
  {
   "cell_type": "code",
   "execution_count": null,
   "id": "aa15d69d-fe50-4107-8ca1-c32b28eafb06",
   "metadata": {},
   "outputs": [],
   "source": []
  },
  {
   "cell_type": "code",
   "execution_count": 5,
   "id": "256a9b9f-885a-4f9e-b2fb-0f062faf4b38",
   "metadata": {},
   "outputs": [
    {
     "name": "stdout",
     "output_type": "stream",
     "text": [
      "合并后的数据形状: (4738, 16, 146)\n"
     ]
    }
   ],
   "source": [
    "import h5py\n",
    "import numpy as np\n",
    "file1 = h5py.File('TSS-TTS矩阵/SNFR-2N.h5', 'r')\n",
    "file2 = h5py.File('TSS-TTS矩阵/NNFR-2N.h5', 'r')\n",
    "nuar1 = file1['Nuar'][:]\n",
    "nuar2 = file2['Nuar'][:]\n",
    "min_samples = min(nuar1.shape[0], nuar2.shape[0])\n",
    "nuar1 = nuar1[:min_samples]\n",
    "nuar2 = nuar2[:min_samples]\n",
    "X = np.concatenate((nuar1, nuar2), axis=0)\n",
    "y1 = np.zeros(min_samples, dtype=int) \n",
    "y2 = np.ones(min_samples, dtype=int)   \n",
    "y = np.concatenate((y1, y2), axis=0)\n",
    "merged_file_path = 'TSS-TTS矩阵/NNFR_SNFR-2N.h5'\n",
    "with h5py.File(merged_file_path, 'w') as merged_file:\n",
    "    merged_file.create_dataset('Nuar', data=X)\n",
    "    merged_file.create_dataset('label', data=y)\n",
    "file1.close()\n",
    "file2.close()\n",
    "with h5py.File(merged_file_path, 'r') as merged_file:\n",
    "    nuar_merged = merged_file['Nuar'][:]\n",
    "    label_merged = merged_file['label'][:]\n",
    "    print(f\"合并后的数据形状: {nuar_merged.shape}\")"
   ]
  },
  {
   "cell_type": "code",
   "execution_count": null,
   "id": "b6f2ab84-00ee-4a9e-9c73-84d70ab07437",
   "metadata": {},
   "outputs": [],
   "source": []
  },
  {
   "cell_type": "code",
   "execution_count": 6,
   "id": "87c360f5-a0fa-4e0a-b7bf-9100ef002aeb",
   "metadata": {},
   "outputs": [
    {
     "name": "stdout",
     "output_type": "stream",
     "text": [
      "合并后的数据形状: (4738, 16, 146)\n"
     ]
    }
   ],
   "source": [
    "import h5py\n",
    "import numpy as np\n",
    "file1 = h5py.File('TSS-TTS矩阵/SNFR-3N.h5', 'r')\n",
    "file2 = h5py.File('TSS-TTS矩阵/NNFR-3N.h5', 'r')\n",
    "nuar1 = file1['Nuar'][:]\n",
    "nuar2 = file2['Nuar'][:]\n",
    "min_samples = min(nuar1.shape[0], nuar2.shape[0])\n",
    "nuar1 = nuar1[:min_samples]\n",
    "nuar2 = nuar2[:min_samples]\n",
    "X = np.concatenate((nuar1, nuar2), axis=0)\n",
    "y1 = np.zeros(min_samples, dtype=int) \n",
    "y2 = np.ones(min_samples, dtype=int)   \n",
    "y = np.concatenate((y1, y2), axis=0)\n",
    "merged_file_path = 'TSS-TTS矩阵/NNFR_SNFR-3N.h5'\n",
    "with h5py.File(merged_file_path, 'w') as merged_file:\n",
    "    merged_file.create_dataset('Nuar', data=X)\n",
    "    merged_file.create_dataset('label', data=y)\n",
    "file1.close()\n",
    "file2.close()\n",
    "with h5py.File(merged_file_path, 'r') as merged_file:\n",
    "    nuar_merged = merged_file['Nuar'][:]\n",
    "    label_merged = merged_file['label'][:]\n",
    "    print(f\"合并后的数据形状: {nuar_merged.shape}\")"
   ]
  },
  {
   "cell_type": "code",
   "execution_count": null,
   "id": "7c5ed937-71b0-4ad0-82c6-45efc8471412",
   "metadata": {},
   "outputs": [],
   "source": []
  },
  {
   "cell_type": "code",
   "execution_count": null,
   "id": "6f2a461f-49dc-48c4-bf8b-41e266bc7c08",
   "metadata": {},
   "outputs": [],
   "source": []
  },
  {
   "cell_type": "code",
   "execution_count": null,
   "id": "cf2ece99-35ca-4527-a137-75566f8bba68",
   "metadata": {},
   "outputs": [],
   "source": []
  },
  {
   "cell_type": "code",
   "execution_count": null,
   "id": "e06c766d-c9a8-4313-a0f6-c4daea624374",
   "metadata": {},
   "outputs": [],
   "source": []
  },
  {
   "cell_type": "code",
   "execution_count": null,
   "id": "c2a33593-7465-4342-9236-7115fdf8a4f9",
   "metadata": {},
   "outputs": [],
   "source": []
  },
  {
   "cell_type": "code",
   "execution_count": 1,
   "id": "2ebdca17-a70a-444d-a04f-db80423e1fa4",
   "metadata": {},
   "outputs": [
    {
     "name": "stdout",
     "output_type": "stream",
     "text": [
      "              precision    recall  f1-score   support\n",
      "\n",
      "      class0       0.58      0.53      0.55       478\n",
      "      class1       0.56      0.61      0.58       470\n",
      "\n",
      "    accuracy                           0.57       948\n",
      "   macro avg       0.57      0.57      0.57       948\n",
      "weighted avg       0.57      0.57      0.57       948\n",
      "\n",
      "五折交叉验证的平均准确率为：0.6416\n"
     ]
    }
   ],
   "source": [
    "import h5py\n",
    "import numpy as np\n",
    "from tensorflow.keras.models import load_model\n",
    "from sklearn.model_selection import cross_val_score\n",
    "from sklearn.metrics import classification_report\n",
    "from sklearn.model_selection import KFold\n",
    "from sklearn.metrics import accuracy_score\n",
    "from sklearn.model_selection import train_test_split\n",
    "f = h5py.File('TSS-TTS矩阵/NNFR_SNFR+1N.h5', 'r')\n",
    "Nuar = f['Nuar']  \n",
    "Nuar = np.array(Nuar)\n",
    "label = f['label']   \n",
    "label = np.array(label)\n",
    "Nuar = Nuar.reshape(4738, 16, 146, 1)\n",
    "X_train,X_test,y_train,y_test=train_test_split(Nuar,label,test_size=0.2,random_state=1)\n",
    "model = load_model('TSS-TTS模型/分类模型2-1.h5')\n",
    "y_pred= model.predict(X_test) \n",
    "y_pred = (y_pred > 0.5).astype(\"int32\")\n",
    "target_names =['class0','class1']\n",
    "print(classification_report(y_test,y_pred,target_names=target_names))\n",
    "kf = KFold(n_splits=5, shuffle=True, random_state=42)\n",
    "accuracies = []\n",
    "for train_index, val_index in kf.split(Nuar):\n",
    "    X_val, y_val = Nuar[val_index], label[val_index]\n",
    "    y_pred = model.predict(X_val)\n",
    "    y_pred = (y_pred > 0.5).astype(\"int32\")\n",
    "    accuracy = accuracy_score(y_val, y_pred)\n",
    "    accuracies.append(accuracy)\n",
    "average_accuracy = np.mean(accuracies)\n",
    "print(f\"五折交叉验证的平均准确率为：{average_accuracy:.4f}\")"
   ]
  },
  {
   "cell_type": "code",
   "execution_count": null,
   "id": "0422cd24-e22c-4b78-a5c4-d9c153518cfd",
   "metadata": {},
   "outputs": [],
   "source": []
  },
  {
   "cell_type": "code",
   "execution_count": 2,
   "id": "8757c828-bf83-431d-a57c-957e84fc3616",
   "metadata": {},
   "outputs": [
    {
     "name": "stdout",
     "output_type": "stream",
     "text": [
      "              precision    recall  f1-score   support\n",
      "\n",
      "      class0       0.53      0.61      0.57       478\n",
      "      class1       0.53      0.46      0.49       470\n",
      "\n",
      "    accuracy                           0.53       948\n",
      "   macro avg       0.53      0.53      0.53       948\n",
      "weighted avg       0.53      0.53      0.53       948\n",
      "\n",
      "五折交叉验证的平均准确率为：0.6496\n"
     ]
    }
   ],
   "source": [
    "import h5py\n",
    "import numpy as np\n",
    "from tensorflow.keras.models import load_model\n",
    "from sklearn.model_selection import cross_val_score\n",
    "from sklearn.metrics import classification_report\n",
    "from sklearn.model_selection import KFold\n",
    "from sklearn.metrics import accuracy_score\n",
    "from sklearn.model_selection import train_test_split\n",
    "f = h5py.File('TSS-TTS矩阵/NNFR_SNFR+2N.h5', 'r')\n",
    "Nuar = f['Nuar']  \n",
    "Nuar = np.array(Nuar)\n",
    "label = f['label']   \n",
    "label = np.array(label)\n",
    "Nuar = Nuar.reshape(4738, 16, 146, 1)\n",
    "X_train,X_test,y_train,y_test=train_test_split(Nuar,label,test_size=0.2,random_state=1)\n",
    "model = load_model('TSS-TTS模型/分类模型2-2.h5')\n",
    "y_pred= model.predict(X_test) \n",
    "y_pred = (y_pred > 0.5).astype(\"int32\")\n",
    "target_names =['class0','class1']\n",
    "print(classification_report(y_test,y_pred,target_names=target_names))\n",
    "kf = KFold(n_splits=5, shuffle=True, random_state=42)\n",
    "accuracies = []\n",
    "for train_index, val_index in kf.split(Nuar):\n",
    "    X_val, y_val = Nuar[val_index], label[val_index]\n",
    "    y_pred = model.predict(X_val)\n",
    "    y_pred = (y_pred > 0.5).astype(\"int32\")\n",
    "    accuracy = accuracy_score(y_val, y_pred)\n",
    "    accuracies.append(accuracy)\n",
    "average_accuracy = np.mean(accuracies)\n",
    "print(f\"五折交叉验证的平均准确率为：{average_accuracy:.4f}\")"
   ]
  },
  {
   "cell_type": "code",
   "execution_count": null,
   "id": "c76dc987-5101-4b78-bcb2-79e56071488e",
   "metadata": {},
   "outputs": [],
   "source": []
  },
  {
   "cell_type": "code",
   "execution_count": 3,
   "id": "ac4d53f6-2b60-4413-9cc6-98ecb0459a55",
   "metadata": {},
   "outputs": [
    {
     "name": "stdout",
     "output_type": "stream",
     "text": [
      "              precision    recall  f1-score   support\n",
      "\n",
      "      class0       0.52      0.45      0.49       478\n",
      "      class1       0.51      0.58      0.54       470\n",
      "\n",
      "    accuracy                           0.52       948\n",
      "   macro avg       0.52      0.52      0.52       948\n",
      "weighted avg       0.52      0.52      0.51       948\n",
      "\n",
      "五折交叉验证的平均准确率为：0.6062\n"
     ]
    }
   ],
   "source": [
    "import h5py\n",
    "import numpy as np\n",
    "from tensorflow.keras.models import load_model\n",
    "from sklearn.model_selection import cross_val_score\n",
    "from sklearn.metrics import classification_report\n",
    "from sklearn.model_selection import KFold\n",
    "from sklearn.metrics import accuracy_score\n",
    "from sklearn.model_selection import train_test_split\n",
    "f = h5py.File('TSS-TTS矩阵/NNFR_SNFR+3N.h5', 'r')\n",
    "Nuar = f['Nuar']  \n",
    "Nuar = np.array(Nuar)\n",
    "label = f['label']   \n",
    "label = np.array(label)\n",
    "Nuar = Nuar.reshape(4738, 16, 146, 1)\n",
    "X_train,X_test,y_train,y_test=train_test_split(Nuar,label,test_size=0.2,random_state=1)\n",
    "model = load_model('TSS-TTS模型/分类模型2-3.h5')\n",
    "y_pred= model.predict(X_test) \n",
    "y_pred = (y_pred > 0.5).astype(\"int32\")\n",
    "target_names =['class0','class1']\n",
    "print(classification_report(y_test,y_pred,target_names=target_names))\n",
    "kf = KFold(n_splits=5, shuffle=True, random_state=42)\n",
    "accuracies = []\n",
    "for train_index, val_index in kf.split(Nuar):\n",
    "    X_val, y_val = Nuar[val_index], label[val_index]\n",
    "    y_pred = model.predict(X_val)\n",
    "    y_pred = (y_pred > 0.5).astype(\"int32\")\n",
    "    accuracy = accuracy_score(y_val, y_pred)\n",
    "    accuracies.append(accuracy)\n",
    "average_accuracy = np.mean(accuracies)\n",
    "print(f\"五折交叉验证的平均准确率为：{average_accuracy:.4f}\")"
   ]
  },
  {
   "cell_type": "code",
   "execution_count": null,
   "id": "8607a5d2-dfa0-4b2a-b45c-70afbe82127a",
   "metadata": {},
   "outputs": [],
   "source": []
  },
  {
   "cell_type": "code",
   "execution_count": 8,
   "id": "e5fa7a44-204d-43bb-8558-1a4d1055ed09",
   "metadata": {},
   "outputs": [
    {
     "name": "stdout",
     "output_type": "stream",
     "text": [
      "              precision    recall  f1-score   support\n",
      "\n",
      "      class0       0.45      0.26      0.33       478\n",
      "      class1       0.47      0.68      0.56       470\n",
      "\n",
      "    accuracy                           0.47       948\n",
      "   macro avg       0.46      0.47      0.44       948\n",
      "weighted avg       0.46      0.47      0.44       948\n",
      "\n",
      "五折交叉验证的平均准确率为：0.5163\n"
     ]
    }
   ],
   "source": [
    "import h5py\n",
    "import numpy as np\n",
    "from tensorflow.keras.models import load_model\n",
    "from sklearn.model_selection import cross_val_score\n",
    "from sklearn.metrics import classification_report\n",
    "from sklearn.model_selection import KFold\n",
    "from sklearn.metrics import accuracy_score\n",
    "from sklearn.model_selection import train_test_split\n",
    "f = h5py.File('TSS-TTS矩阵/NNFR_SNFR-1N.h5', 'r')\n",
    "Nuar = f['Nuar']  \n",
    "Nuar = np.array(Nuar)\n",
    "label = f['label']   \n",
    "label = np.array(label)\n",
    "Nuar = Nuar.reshape(4738, 16, 146, 1)\n",
    "X_train,X_test,y_train,y_test=train_test_split(Nuar,label,test_size=0.2,random_state=1)\n",
    "model = load_model('TSS-TTS模型/分类模型2-4.h5')\n",
    "y_pred= model.predict(X_test) \n",
    "y_pred = (y_pred > 0.5).astype(\"int32\")\n",
    "target_names =['class0','class1']\n",
    "print(classification_report(y_test,y_pred,target_names=target_names))\n",
    "kf = KFold(n_splits=5, shuffle=True, random_state=42)\n",
    "accuracies = []\n",
    "for train_index, val_index in kf.split(Nuar):\n",
    "    X_val, y_val = Nuar[val_index], label[val_index]\n",
    "    y_pred = model.predict(X_val)\n",
    "    y_pred = (y_pred > 0.5).astype(\"int32\")\n",
    "    accuracy = accuracy_score(y_val, y_pred)\n",
    "    accuracies.append(accuracy)\n",
    "average_accuracy = np.mean(accuracies)\n",
    "print(f\"五折交叉验证的平均准确率为：{average_accuracy:.4f}\")"
   ]
  },
  {
   "cell_type": "code",
   "execution_count": null,
   "id": "635678a2-ee04-4882-b3a7-79974f0dd620",
   "metadata": {},
   "outputs": [],
   "source": []
  },
  {
   "cell_type": "code",
   "execution_count": 9,
   "id": "1bfdfdd0-65ee-4576-9a80-1da8141575a2",
   "metadata": {},
   "outputs": [
    {
     "name": "stdout",
     "output_type": "stream",
     "text": [
      "              precision    recall  f1-score   support\n",
      "\n",
      "      class0       0.50      0.31      0.38       478\n",
      "      class1       0.49      0.69      0.57       470\n",
      "\n",
      "    accuracy                           0.49       948\n",
      "   macro avg       0.50      0.50      0.48       948\n",
      "weighted avg       0.50      0.49      0.48       948\n",
      "\n",
      "五折交叉验证的平均准确率为：0.5770\n"
     ]
    }
   ],
   "source": [
    "import h5py\n",
    "import numpy as np\n",
    "from tensorflow.keras.models import load_model\n",
    "from sklearn.model_selection import cross_val_score\n",
    "from sklearn.metrics import classification_report\n",
    "from sklearn.model_selection import KFold\n",
    "from sklearn.metrics import accuracy_score\n",
    "from sklearn.model_selection import train_test_split\n",
    "f = h5py.File('TSS-TTS矩阵/NNFR_SNFR-2N.h5', 'r')\n",
    "Nuar = f['Nuar']  \n",
    "Nuar = np.array(Nuar)\n",
    "label = f['label']   \n",
    "label = np.array(label)\n",
    "Nuar = Nuar.reshape(4738, 16, 146, 1)\n",
    "X_train,X_test,y_train,y_test=train_test_split(Nuar,label,test_size=0.2,random_state=1)\n",
    "model = load_model('TSS-TTS模型/分类模型2-5.h5')\n",
    "y_pred= model.predict(X_test) \n",
    "y_pred = (y_pred > 0.5).astype(\"int32\")\n",
    "target_names =['class0','class1']\n",
    "print(classification_report(y_test,y_pred,target_names=target_names))\n",
    "kf = KFold(n_splits=5, shuffle=True, random_state=42)\n",
    "accuracies = []\n",
    "for train_index, val_index in kf.split(Nuar):\n",
    "    X_val, y_val = Nuar[val_index], label[val_index]\n",
    "    y_pred = model.predict(X_val)\n",
    "    y_pred = (y_pred > 0.5).astype(\"int32\")\n",
    "    accuracy = accuracy_score(y_val, y_pred)\n",
    "    accuracies.append(accuracy)\n",
    "average_accuracy = np.mean(accuracies)\n",
    "print(f\"五折交叉验证的平均准确率为：{average_accuracy:.4f}\")"
   ]
  },
  {
   "cell_type": "code",
   "execution_count": null,
   "id": "3d738297-3204-4347-b34e-3c3a66ebfc1e",
   "metadata": {},
   "outputs": [],
   "source": []
  },
  {
   "cell_type": "code",
   "execution_count": 1,
   "id": "f0eb4085-55f1-4285-96e9-53837f303854",
   "metadata": {},
   "outputs": [
    {
     "name": "stdout",
     "output_type": "stream",
     "text": [
      "              precision    recall  f1-score   support\n",
      "\n",
      "      class0       0.49      0.43      0.46       478\n",
      "      class1       0.48      0.54      0.51       470\n",
      "\n",
      "    accuracy                           0.48       948\n",
      "   macro avg       0.48      0.48      0.48       948\n",
      "weighted avg       0.48      0.48      0.48       948\n",
      "\n",
      "五折交叉验证的平均准确率为：0.5903\n"
     ]
    }
   ],
   "source": [
    "import h5py\n",
    "import numpy as np\n",
    "from tensorflow.keras.models import load_model\n",
    "from sklearn.model_selection import cross_val_score\n",
    "from sklearn.metrics import classification_report\n",
    "from sklearn.model_selection import KFold\n",
    "from sklearn.metrics import accuracy_score\n",
    "from sklearn.model_selection import train_test_split\n",
    "f = h5py.File('TSS-TTS矩阵/NNFR_SNFR-3N.h5', 'r')\n",
    "Nuar = f['Nuar']  \n",
    "Nuar = np.array(Nuar)\n",
    "label = f['label']   \n",
    "label = np.array(label)\n",
    "Nuar = Nuar.reshape(4738, 16, 146, 1)\n",
    "X_train,X_test,y_train,y_test=train_test_split(Nuar,label,test_size=0.2,random_state=1)\n",
    "model = load_model('TSS-TTS模型/分类模型2-6.h5')\n",
    "y_pred= model.predict(X_test) \n",
    "y_pred = (y_pred > 0.5).astype(\"int32\")\n",
    "target_names =['class0','class1']\n",
    "print(classification_report(y_test,y_pred,target_names=target_names))\n",
    "kf = KFold(n_splits=5, shuffle=True, random_state=42)\n",
    "accuracies = []\n",
    "for train_index, val_index in kf.split(Nuar):\n",
    "    X_val, y_val = Nuar[val_index], label[val_index]\n",
    "    y_pred = model.predict(X_val)\n",
    "    y_pred = (y_pred > 0.5).astype(\"int32\")\n",
    "    accuracy = accuracy_score(y_val, y_pred)\n",
    "    accuracies.append(accuracy)\n",
    "average_accuracy = np.mean(accuracies)\n",
    "print(f\"五折交叉验证的平均准确率为：{average_accuracy:.4f}\")"
   ]
  },
  {
   "cell_type": "code",
   "execution_count": null,
   "id": "ff5fd459-79af-4b10-b6df-717467ad1c4f",
   "metadata": {},
   "outputs": [],
   "source": []
  }
 ],
 "metadata": {
  "kernelspec": {
   "display_name": "tf",
   "language": "python",
   "name": "tf"
  },
  "language_info": {
   "codemirror_mode": {
    "name": "ipython",
    "version": 3
   },
   "file_extension": ".py",
   "mimetype": "text/x-python",
   "name": "python",
   "nbconvert_exporter": "python",
   "pygments_lexer": "ipython3",
   "version": "3.7.1"
  }
 },
 "nbformat": 4,
 "nbformat_minor": 5
}
