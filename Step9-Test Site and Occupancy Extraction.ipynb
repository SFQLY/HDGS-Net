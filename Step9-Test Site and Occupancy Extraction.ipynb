{
 "cells": [
  {
   "cell_type": "code",
   "execution_count": 1,
   "id": "1395e51a-df8f-4f78-9ede-9fa611f36f10",
   "metadata": {},
   "outputs": [],
   "source": [
    "import numpy as np\n",
    "import pandas as pd"
   ]
  },
  {
   "cell_type": "code",
   "execution_count": 2,
   "id": "dc354652-e296-4c7b-b40e-e6d36133f778",
   "metadata": {},
   "outputs": [
    {
     "name": "stdout",
     "output_type": "stream",
     "text": [
      "(168234, 2)\n"
     ]
    }
   ],
   "source": [
    "data_all = np.loadtxt(\"分类染色体/ch1.csv\" ,delimiter=\",\",skiprows=1,usecols=[2,3]) \n",
    "print(data_all.shape)\n",
    "idex = np.lexsort([data_all[:,0], -1*data_all[:,1]])\n",
    "datar = data_all[idex, :]"
   ]
  },
  {
   "cell_type": "code",
   "execution_count": 3,
   "id": "325ee719-5c5b-4005-8cfb-6979a5bdb736",
   "metadata": {},
   "outputs": [
    {
     "name": "stdout",
     "output_type": "stream",
     "text": [
      "(6557, 2)\n"
     ]
    }
   ],
   "source": [
    "data_t = np.loadtxt(\"训练位点和占据率/ch1训练.csv\",delimiter=\",\",skiprows=1,usecols=[0,1]) \n",
    "print(data_t.shape)\n",
    "idext = np.lexsort([data_t[:,0], -1*data_t[:,1]])\n",
    "datart = data_t[idext, :]"
   ]
  },
  {
   "cell_type": "code",
   "execution_count": 4,
   "id": "6c82a454-867a-4cf4-ba21-b42a7e9568c8",
   "metadata": {},
   "outputs": [],
   "source": [
    "indices = np.isin(datar[:, 0], datart[:, 0])\n",
    "s = np.where(indices)[0]\n",
    "c = np.delete(datar, s, axis=0)"
   ]
  },
  {
   "cell_type": "code",
   "execution_count": 5,
   "id": "389d61ff-54e0-40ad-abc1-64671a6c1906",
   "metadata": {},
   "outputs": [],
   "source": [
    "df = pd.DataFrame(c, columns=['site', 'value'])"
   ]
  },
  {
   "cell_type": "code",
   "execution_count": 6,
   "id": "7940d061-ba7f-4379-b5ff-2277aa2b8039",
   "metadata": {},
   "outputs": [
    {
     "data": {
      "text/html": [
       "<div>\n",
       "<style scoped>\n",
       "    .dataframe tbody tr th:only-of-type {\n",
       "        vertical-align: middle;\n",
       "    }\n",
       "\n",
       "    .dataframe tbody tr th {\n",
       "        vertical-align: top;\n",
       "    }\n",
       "\n",
       "    .dataframe thead th {\n",
       "        text-align: right;\n",
       "    }\n",
       "</style>\n",
       "<table border=\"1\" class=\"dataframe\">\n",
       "  <thead>\n",
       "    <tr style=\"text-align: right;\">\n",
       "      <th></th>\n",
       "      <th>site</th>\n",
       "      <th>value</th>\n",
       "    </tr>\n",
       "  </thead>\n",
       "  <tbody>\n",
       "    <tr>\n",
       "      <th>0</th>\n",
       "      <td>168792.0</td>\n",
       "      <td>4.142</td>\n",
       "    </tr>\n",
       "    <tr>\n",
       "      <th>1</th>\n",
       "      <td>168793.0</td>\n",
       "      <td>4.142</td>\n",
       "    </tr>\n",
       "    <tr>\n",
       "      <th>2</th>\n",
       "      <td>168798.0</td>\n",
       "      <td>4.127</td>\n",
       "    </tr>\n",
       "    <tr>\n",
       "      <th>3</th>\n",
       "      <td>168796.0</td>\n",
       "      <td>4.120</td>\n",
       "    </tr>\n",
       "    <tr>\n",
       "      <th>4</th>\n",
       "      <td>168799.0</td>\n",
       "      <td>4.120</td>\n",
       "    </tr>\n",
       "  </tbody>\n",
       "</table>\n",
       "</div>"
      ],
      "text/plain": [
       "       site  value\n",
       "0  168792.0  4.142\n",
       "1  168793.0  4.142\n",
       "2  168798.0  4.127\n",
       "3  168796.0  4.120\n",
       "4  168799.0  4.120"
      ]
     },
     "execution_count": 6,
     "metadata": {},
     "output_type": "execute_result"
    }
   ],
   "source": [
    "df.head()"
   ]
  },
  {
   "cell_type": "code",
   "execution_count": 7,
   "id": "0cdf38c4-a931-4fe9-8178-29eb9f0e86d1",
   "metadata": {},
   "outputs": [
    {
     "data": {
      "text/html": [
       "<div>\n",
       "<style scoped>\n",
       "    .dataframe tbody tr th:only-of-type {\n",
       "        vertical-align: middle;\n",
       "    }\n",
       "\n",
       "    .dataframe tbody tr th {\n",
       "        vertical-align: top;\n",
       "    }\n",
       "\n",
       "    .dataframe thead th {\n",
       "        text-align: right;\n",
       "    }\n",
       "</style>\n",
       "<table border=\"1\" class=\"dataframe\">\n",
       "  <thead>\n",
       "    <tr style=\"text-align: right;\">\n",
       "      <th></th>\n",
       "      <th>site</th>\n",
       "      <th>value</th>\n",
       "    </tr>\n",
       "  </thead>\n",
       "  <tbody>\n",
       "    <tr>\n",
       "      <th>161672</th>\n",
       "      <td>199945.0</td>\n",
       "      <td>0.0155</td>\n",
       "    </tr>\n",
       "    <tr>\n",
       "      <th>161673</th>\n",
       "      <td>199946.0</td>\n",
       "      <td>0.0155</td>\n",
       "    </tr>\n",
       "    <tr>\n",
       "      <th>161674</th>\n",
       "      <td>199947.0</td>\n",
       "      <td>0.0155</td>\n",
       "    </tr>\n",
       "    <tr>\n",
       "      <th>161675</th>\n",
       "      <td>199948.0</td>\n",
       "      <td>0.0155</td>\n",
       "    </tr>\n",
       "    <tr>\n",
       "      <th>161676</th>\n",
       "      <td>199949.0</td>\n",
       "      <td>0.0155</td>\n",
       "    </tr>\n",
       "  </tbody>\n",
       "</table>\n",
       "</div>"
      ],
      "text/plain": [
       "            site   value\n",
       "161672  199945.0  0.0155\n",
       "161673  199946.0  0.0155\n",
       "161674  199947.0  0.0155\n",
       "161675  199948.0  0.0155\n",
       "161676  199949.0  0.0155"
      ]
     },
     "execution_count": 7,
     "metadata": {},
     "output_type": "execute_result"
    }
   ],
   "source": [
    "df.tail()"
   ]
  },
  {
   "cell_type": "code",
   "execution_count": 8,
   "id": "144b9f1d-3c77-41aa-97e8-5fb2cdd7ffb6",
   "metadata": {},
   "outputs": [
    {
     "data": {
      "text/plain": [
       "(161677, 2)"
      ]
     },
     "execution_count": 8,
     "metadata": {},
     "output_type": "execute_result"
    }
   ],
   "source": [
    "df.shape"
   ]
  },
  {
   "cell_type": "code",
   "execution_count": 9,
   "id": "de891506-e08b-4935-a3f4-b7ce96e4be60",
   "metadata": {},
   "outputs": [],
   "source": [
    "df.to_csv('测试位点和占据率/ch1测试.csv',index=False)"
   ]
  },
  {
   "cell_type": "code",
   "execution_count": null,
   "id": "093a200a-9f51-41cc-8755-4255876840f1",
   "metadata": {},
   "outputs": [],
   "source": []
  },
  {
   "cell_type": "code",
   "execution_count": 10,
   "id": "bd840140-5d0c-4694-80ce-a435cd952674",
   "metadata": {},
   "outputs": [
    {
     "name": "stdout",
     "output_type": "stream",
     "text": [
      "(748431, 2)\n",
      "(29077, 2)\n",
      "(719354, 2)\n"
     ]
    }
   ],
   "source": [
    "data_all = np.loadtxt(\"分类染色体/ch2.csv\" ,delimiter=\",\",skiprows=1,usecols=[2,3]) \n",
    "print(data_all.shape)\n",
    "idex = np.lexsort([data_all[:,0], -1*data_all[:,1]])\n",
    "datar = data_all[idex, :]\n",
    "data_t = np.loadtxt(\"训练位点和占据率/ch2训练.csv\",delimiter=\",\",skiprows=1,usecols=[0,1]) \n",
    "print(data_t.shape)\n",
    "idext = np.lexsort([data_t[:,0], -1*data_t[:,1]])\n",
    "datart = data_t[idext, :]\n",
    "indices = np.isin(datar[:, 0], datart[:, 0])\n",
    "s = np.where(indices)[0]\n",
    "c = np.delete(datar, s, axis=0)\n",
    "df = pd.DataFrame(c, columns=['site', 'value'])\n",
    "print(df.shape)\n",
    "df.to_csv('测试位点和占据率/ch2测试.csv',index=False)"
   ]
  },
  {
   "cell_type": "code",
   "execution_count": null,
   "id": "cd8ebb12-e5d2-4d8f-858e-705db80e3805",
   "metadata": {},
   "outputs": [],
   "source": []
  },
  {
   "cell_type": "code",
   "execution_count": 11,
   "id": "f7abfb0a-552e-4e82-aede-dd5a9983905b",
   "metadata": {},
   "outputs": [
    {
     "name": "stdout",
     "output_type": "stream",
     "text": [
      "(244966, 2)\n",
      "(9140, 2)\n",
      "(235826, 2)\n"
     ]
    }
   ],
   "source": [
    "data_all = np.loadtxt(\"分类染色体/ch3.csv\" ,delimiter=\",\",skiprows=1,usecols=[2,3]) \n",
    "print(data_all.shape)\n",
    "idex = np.lexsort([data_all[:,0], -1*data_all[:,1]])\n",
    "datar = data_all[idex, :]\n",
    "data_t = np.loadtxt(\"训练位点和占据率/ch3训练.csv\",delimiter=\",\",skiprows=1,usecols=[0,1]) \n",
    "print(data_t.shape)\n",
    "idext = np.lexsort([data_t[:,0], -1*data_t[:,1]])\n",
    "datart = data_t[idext, :]\n",
    "indices = np.isin(datar[:, 0], datart[:, 0])\n",
    "s = np.where(indices)[0]\n",
    "c = np.delete(datar, s, axis=0)\n",
    "df = pd.DataFrame(c, columns=['site', 'value'])\n",
    "print(df.shape)\n",
    "df.to_csv('测试位点和占据率/ch3测试.csv',index=False)"
   ]
  },
  {
   "cell_type": "code",
   "execution_count": null,
   "id": "aa9ccb93-e71a-41bd-8869-05fb27bb63ea",
   "metadata": {},
   "outputs": [],
   "source": []
  },
  {
   "cell_type": "code",
   "execution_count": 12,
   "id": "99d02fbf-be67-4cc2-8043-155c932f2410",
   "metadata": {},
   "outputs": [
    {
     "name": "stdout",
     "output_type": "stream",
     "text": [
      "(1378420, 2)\n",
      "(54086, 2)\n",
      "(1324334, 2)\n"
     ]
    }
   ],
   "source": [
    "data_all = np.loadtxt(\"分类染色体/ch4.csv\" ,delimiter=\",\",skiprows=1,usecols=[2,3]) \n",
    "print(data_all.shape)\n",
    "idex = np.lexsort([data_all[:,0], -1*data_all[:,1]])\n",
    "datar = data_all[idex, :]\n",
    "data_t = np.loadtxt(\"训练位点和占据率/ch4训练.csv\",delimiter=\",\",skiprows=1,usecols=[0,1]) \n",
    "print(data_t.shape)\n",
    "idext = np.lexsort([data_t[:,0], -1*data_t[:,1]])\n",
    "datart = data_t[idext, :]\n",
    "indices = np.isin(datar[:, 0], datart[:, 0])\n",
    "s = np.where(indices)[0]\n",
    "c = np.delete(datar, s, axis=0)\n",
    "df = pd.DataFrame(c, columns=['site', 'value'])\n",
    "print(df.shape)\n",
    "df.to_csv('测试位点和占据率/ch4测试.csv',index=False)"
   ]
  },
  {
   "cell_type": "code",
   "execution_count": null,
   "id": "efed0499-f70a-4a69-8424-5ad71c4df664",
   "metadata": {},
   "outputs": [],
   "source": []
  },
  {
   "cell_type": "code",
   "execution_count": 13,
   "id": "2a0facb5-3c28-4ff9-a6ac-a5870682f3a6",
   "metadata": {},
   "outputs": [
    {
     "name": "stdout",
     "output_type": "stream",
     "text": [
      "(515003, 2)\n",
      "(19920, 2)\n",
      "(495083, 2)\n"
     ]
    }
   ],
   "source": [
    "data_all = np.loadtxt(\"分类染色体/ch5.csv\" ,delimiter=\",\",skiprows=1,usecols=[2,3]) \n",
    "print(data_all.shape)\n",
    "idex = np.lexsort([data_all[:,0], -1*data_all[:,1]])\n",
    "datar = data_all[idex, :]\n",
    "data_t = np.loadtxt(\"训练位点和占据率/ch5训练.csv\",delimiter=\",\",skiprows=1,usecols=[0,1]) \n",
    "print(data_t.shape)\n",
    "idext = np.lexsort([data_t[:,0], -1*data_t[:,1]])\n",
    "datart = data_t[idext, :]\n",
    "indices = np.isin(datar[:, 0], datart[:, 0])\n",
    "s = np.where(indices)[0]\n",
    "c = np.delete(datar, s, axis=0)\n",
    "df = pd.DataFrame(c, columns=['site', 'value'])\n",
    "print(df.shape)\n",
    "df.to_csv('测试位点和占据率/ch5测试.csv',index=False)"
   ]
  },
  {
   "cell_type": "code",
   "execution_count": null,
   "id": "1bc2502d-1ff1-49ac-b998-e19d62aa5b14",
   "metadata": {},
   "outputs": [],
   "source": []
  },
  {
   "cell_type": "code",
   "execution_count": 14,
   "id": "3461b81f-7bd4-47fc-93cf-a294060f0967",
   "metadata": {},
   "outputs": [
    {
     "name": "stdout",
     "output_type": "stream",
     "text": [
      "(236402, 2)\n",
      "(8793, 2)\n",
      "(227609, 2)\n"
     ]
    }
   ],
   "source": [
    "data_all = np.loadtxt(\"分类染色体/ch6.csv\" ,delimiter=\",\",skiprows=1,usecols=[2,3]) \n",
    "print(data_all.shape)\n",
    "idex = np.lexsort([data_all[:,0], -1*data_all[:,1]])\n",
    "datar = data_all[idex, :]\n",
    "data_t = np.loadtxt(\"训练位点和占据率/ch6训练.csv\",delimiter=\",\",skiprows=1,usecols=[0,1]) \n",
    "print(data_t.shape)\n",
    "idext = np.lexsort([data_t[:,0], -1*data_t[:,1]])\n",
    "datart = data_t[idext, :]\n",
    "indices = np.isin(datar[:, 0], datart[:, 0])\n",
    "s = np.where(indices)[0]\n",
    "c = np.delete(datar, s, axis=0)\n",
    "df = pd.DataFrame(c, columns=['site', 'value'])\n",
    "print(df.shape)\n",
    "df.to_csv('测试位点和占据率/ch6测试.csv',index=False)"
   ]
  },
  {
   "cell_type": "code",
   "execution_count": null,
   "id": "23dd2dcd-32a7-48eb-9d4f-1a606b765e2d",
   "metadata": {},
   "outputs": [],
   "source": []
  },
  {
   "cell_type": "code",
   "execution_count": 15,
   "id": "898d8291-467a-402b-9a8c-14f4abfaeffe",
   "metadata": {},
   "outputs": [
    {
     "name": "stdout",
     "output_type": "stream",
     "text": [
      "(983305, 2)\n",
      "(38445, 2)\n",
      "(944860, 2)\n"
     ]
    }
   ],
   "source": [
    "data_all = np.loadtxt(\"分类染色体/ch7.csv\" ,delimiter=\",\",skiprows=1,usecols=[2,3]) \n",
    "print(data_all.shape)\n",
    "idex = np.lexsort([data_all[:,0], -1*data_all[:,1]])\n",
    "datar = data_all[idex, :]\n",
    "data_t = np.loadtxt(\"训练位点和占据率/ch7训练.csv\",delimiter=\",\",skiprows=1,usecols=[0,1]) \n",
    "print(data_t.shape)\n",
    "idext = np.lexsort([data_t[:,0], -1*data_t[:,1]])\n",
    "datart = data_t[idext, :]\n",
    "indices = np.isin(datar[:, 0], datart[:, 0])\n",
    "s = np.where(indices)[0]\n",
    "c = np.delete(datar, s, axis=0)\n",
    "df = pd.DataFrame(c, columns=['site', 'value'])\n",
    "print(df.shape)\n",
    "df.to_csv('测试位点和占据率/ch7测试.csv',index=False)"
   ]
  },
  {
   "cell_type": "code",
   "execution_count": null,
   "id": "9e76fbf9-d15f-4539-889d-a8b5aef89d29",
   "metadata": {},
   "outputs": [],
   "source": []
  },
  {
   "cell_type": "code",
   "execution_count": 16,
   "id": "98ef5d27-7b82-42cf-b981-a01a979fe23d",
   "metadata": {},
   "outputs": [
    {
     "name": "stdout",
     "output_type": "stream",
     "text": [
      "(484641, 2)\n",
      "(19040, 2)\n",
      "(465601, 2)\n"
     ]
    }
   ],
   "source": [
    "data_all = np.loadtxt(\"分类染色体/ch8.csv\" ,delimiter=\",\",skiprows=1,usecols=[2,3]) \n",
    "print(data_all.shape)\n",
    "idex = np.lexsort([data_all[:,0], -1*data_all[:,1]])\n",
    "datar = data_all[idex, :]\n",
    "data_t = np.loadtxt(\"训练位点和占据率/ch8训练.csv\",delimiter=\",\",skiprows=1,usecols=[0,1]) \n",
    "print(data_t.shape)\n",
    "idext = np.lexsort([data_t[:,0], -1*data_t[:,1]])\n",
    "datart = data_t[idext, :]\n",
    "indices = np.isin(datar[:, 0], datart[:, 0])\n",
    "s = np.where(indices)[0]\n",
    "c = np.delete(datar, s, axis=0)\n",
    "df = pd.DataFrame(c, columns=['site', 'value'])\n",
    "print(df.shape)\n",
    "df.to_csv('测试位点和占据率/ch8测试.csv',index=False)"
   ]
  },
  {
   "cell_type": "code",
   "execution_count": null,
   "id": "c292a3a5-fbd4-4174-a271-f68132f2b634",
   "metadata": {},
   "outputs": [],
   "source": []
  },
  {
   "cell_type": "code",
   "execution_count": 17,
   "id": "289e726b-d363-47c0-b2ac-e5e658e331ee",
   "metadata": {},
   "outputs": [
    {
     "name": "stdout",
     "output_type": "stream",
     "text": [
      "(382415, 2)\n",
      "(14270, 2)\n",
      "(368145, 2)\n"
     ]
    }
   ],
   "source": [
    "data_all = np.loadtxt(\"分类染色体/ch9.csv\" ,delimiter=\",\",skiprows=1,usecols=[2,3]) \n",
    "print(data_all.shape)\n",
    "idex = np.lexsort([data_all[:,0], -1*data_all[:,1]])\n",
    "datar = data_all[idex, :]\n",
    "data_t = np.loadtxt(\"训练位点和占据率/ch9训练.csv\",delimiter=\",\",skiprows=1,usecols=[0,1]) \n",
    "print(data_t.shape)\n",
    "idext = np.lexsort([data_t[:,0], -1*data_t[:,1]])\n",
    "datart = data_t[idext, :]\n",
    "indices = np.isin(datar[:, 0], datart[:, 0])\n",
    "s = np.where(indices)[0]\n",
    "c = np.delete(datar, s, axis=0)\n",
    "df = pd.DataFrame(c, columns=['site', 'value'])\n",
    "print(df.shape)\n",
    "df.to_csv('测试位点和占据率/ch9测试.csv',index=False)"
   ]
  },
  {
   "cell_type": "code",
   "execution_count": null,
   "id": "9c58f86f-78e9-4ac3-b4e8-1da39028acc6",
   "metadata": {},
   "outputs": [],
   "source": []
  },
  {
   "cell_type": "code",
   "execution_count": 18,
   "id": "b7db96d6-7ebe-48a1-9927-c2cf5ca02944",
   "metadata": {},
   "outputs": [
    {
     "name": "stdout",
     "output_type": "stream",
     "text": [
      "(659529, 2)\n",
      "(25671, 2)\n",
      "(633858, 2)\n"
     ]
    }
   ],
   "source": [
    "data_all = np.loadtxt(\"分类染色体/ch10.csv\" ,delimiter=\",\",skiprows=1,usecols=[2,3]) \n",
    "print(data_all.shape)\n",
    "idex = np.lexsort([data_all[:,0], -1*data_all[:,1]])\n",
    "datar = data_all[idex, :]\n",
    "data_t = np.loadtxt(\"训练位点和占据率/ch10训练.csv\",delimiter=\",\",skiprows=1,usecols=[0,1]) \n",
    "print(data_t.shape)\n",
    "idext = np.lexsort([data_t[:,0], -1*data_t[:,1]])\n",
    "datart = data_t[idext, :]\n",
    "indices = np.isin(datar[:, 0], datart[:, 0])\n",
    "s = np.where(indices)[0]\n",
    "c = np.delete(datar, s, axis=0)\n",
    "df = pd.DataFrame(c, columns=['site', 'value'])\n",
    "print(df.shape)\n",
    "df.to_csv('测试位点和占据率/ch10测试.csv',index=False)"
   ]
  },
  {
   "cell_type": "code",
   "execution_count": null,
   "id": "f518a52f-53da-4b12-9bb5-0ba1a5bdb1c3",
   "metadata": {},
   "outputs": [],
   "source": []
  },
  {
   "cell_type": "code",
   "execution_count": 19,
   "id": "1434425b-9a29-438d-8202-007ffa9c6d48",
   "metadata": {},
   "outputs": [
    {
     "name": "stdout",
     "output_type": "stream",
     "text": [
      "(632626, 2)\n",
      "(25094, 2)\n",
      "(607532, 2)\n"
     ]
    }
   ],
   "source": [
    "data_all = np.loadtxt(\"分类染色体/ch11.csv\" ,delimiter=\",\",skiprows=1,usecols=[2,3]) \n",
    "print(data_all.shape)\n",
    "idex = np.lexsort([data_all[:,0], -1*data_all[:,1]])\n",
    "datar = data_all[idex, :]\n",
    "data_t = np.loadtxt(\"训练位点和占据率/ch11训练.csv\",delimiter=\",\",skiprows=1,usecols=[0,1]) \n",
    "print(data_t.shape)\n",
    "idext = np.lexsort([data_t[:,0], -1*data_t[:,1]])\n",
    "datart = data_t[idext, :]\n",
    "indices = np.isin(datar[:, 0], datart[:, 0])\n",
    "s = np.where(indices)[0]\n",
    "c = np.delete(datar, s, axis=0)\n",
    "df = pd.DataFrame(c, columns=['site', 'value'])\n",
    "print(df.shape)\n",
    "df.to_csv('测试位点和占据率/ch11测试.csv',index=False)"
   ]
  },
  {
   "cell_type": "code",
   "execution_count": null,
   "id": "e6159407-1aa6-46d7-919b-01f2106ddbbc",
   "metadata": {},
   "outputs": [],
   "source": []
  },
  {
   "cell_type": "code",
   "execution_count": 20,
   "id": "7662fc29-2d78-44be-8497-62dbb6815255",
   "metadata": {},
   "outputs": [
    {
     "name": "stdout",
     "output_type": "stream",
     "text": [
      "(931931, 2)\n",
      "(36380, 2)\n",
      "(895551, 2)\n"
     ]
    }
   ],
   "source": [
    "data_all = np.loadtxt(\"分类染色体/ch12.csv\" ,delimiter=\",\",skiprows=1,usecols=[2,3]) \n",
    "print(data_all.shape)\n",
    "idex = np.lexsort([data_all[:,0], -1*data_all[:,1]])\n",
    "datar = data_all[idex, :]\n",
    "data_t = np.loadtxt(\"训练位点和占据率/ch12训练.csv\",delimiter=\",\",skiprows=1,usecols=[0,1]) \n",
    "print(data_t.shape)\n",
    "idext = np.lexsort([data_t[:,0], -1*data_t[:,1]])\n",
    "datart = data_t[idext, :]\n",
    "indices = np.isin(datar[:, 0], datart[:, 0])\n",
    "s = np.where(indices)[0]\n",
    "c = np.delete(datar, s, axis=0)\n",
    "df = pd.DataFrame(c, columns=['site', 'value'])\n",
    "print(df.shape)\n",
    "df.to_csv('测试位点和占据率/ch12测试.csv',index=False)"
   ]
  },
  {
   "cell_type": "code",
   "execution_count": null,
   "id": "b379ba65-e6fe-4a90-b954-1e5d0b8ec7ae",
   "metadata": {},
   "outputs": [],
   "source": []
  },
  {
   "cell_type": "code",
   "execution_count": 21,
   "id": "c7f030bd-ced6-4f31-9e5b-204d72df8040",
   "metadata": {},
   "outputs": [
    {
     "name": "stdout",
     "output_type": "stream",
     "text": [
      "(848262, 2)\n",
      "(33587, 2)\n",
      "(814675, 2)\n"
     ]
    }
   ],
   "source": [
    "data_all = np.loadtxt(\"分类染色体/ch13.csv\" ,delimiter=\",\",skiprows=1,usecols=[2,3]) \n",
    "print(data_all.shape)\n",
    "idex = np.lexsort([data_all[:,0], -1*data_all[:,1]])\n",
    "datar = data_all[idex, :]\n",
    "data_t = np.loadtxt(\"训练位点和占据率/ch13训练.csv\",delimiter=\",\",skiprows=1,usecols=[0,1]) \n",
    "print(data_t.shape)\n",
    "idext = np.lexsort([data_t[:,0], -1*data_t[:,1]])\n",
    "datart = data_t[idext, :]\n",
    "indices = np.isin(datar[:, 0], datart[:, 0])\n",
    "s = np.where(indices)[0]\n",
    "c = np.delete(datar, s, axis=0)\n",
    "df = pd.DataFrame(c, columns=['site', 'value'])\n",
    "print(df.shape)\n",
    "df.to_csv('测试位点和占据率/ch13测试.csv',index=False)"
   ]
  },
  {
   "cell_type": "code",
   "execution_count": null,
   "id": "755195c1-a3da-4ebe-936f-f70b3a81ddd9",
   "metadata": {},
   "outputs": [],
   "source": []
  },
  {
   "cell_type": "code",
   "execution_count": 22,
   "id": "c3f2d8c4-2f2b-4d31-b571-1bd10ef93eef",
   "metadata": {},
   "outputs": [
    {
     "name": "stdout",
     "output_type": "stream",
     "text": [
      "(706446, 2)\n",
      "(27752, 2)\n",
      "(678694, 2)\n"
     ]
    }
   ],
   "source": [
    "data_all = np.loadtxt(\"分类染色体/ch14.csv\" ,delimiter=\",\",skiprows=1,usecols=[2,3]) \n",
    "print(data_all.shape)\n",
    "idex = np.lexsort([data_all[:,0], -1*data_all[:,1]])\n",
    "datar = data_all[idex, :]\n",
    "data_t = np.loadtxt(\"训练位点和占据率/ch14训练.csv\",delimiter=\",\",skiprows=1,usecols=[0,1]) \n",
    "print(data_t.shape)\n",
    "idext = np.lexsort([data_t[:,0], -1*data_t[:,1]])\n",
    "datart = data_t[idext, :]\n",
    "indices = np.isin(datar[:, 0], datart[:, 0])\n",
    "s = np.where(indices)[0]\n",
    "c = np.delete(datar, s, axis=0)\n",
    "df = pd.DataFrame(c, columns=['site', 'value'])\n",
    "print(df.shape)\n",
    "df.to_csv('测试位点和占据率/ch14测试.csv',index=False)"
   ]
  },
  {
   "cell_type": "code",
   "execution_count": null,
   "id": "f19da2b1-cdad-4663-be1b-dbe23d56de6b",
   "metadata": {},
   "outputs": [],
   "source": []
  },
  {
   "cell_type": "code",
   "execution_count": 23,
   "id": "a2927fd0-24b8-40ad-9f01-9de78fdede42",
   "metadata": {},
   "outputs": [
    {
     "name": "stdout",
     "output_type": "stream",
     "text": [
      "(997401, 2)\n",
      "(38604, 2)\n",
      "(958797, 2)\n"
     ]
    }
   ],
   "source": [
    "data_all = np.loadtxt(\"分类染色体/ch15.csv\" ,delimiter=\",\",skiprows=1,usecols=[2,3]) \n",
    "print(data_all.shape)\n",
    "idex = np.lexsort([data_all[:,0], -1*data_all[:,1]])\n",
    "datar = data_all[idex, :]\n",
    "data_t = np.loadtxt(\"训练位点和占据率/ch15训练.csv\",delimiter=\",\",skiprows=1,usecols=[0,1]) \n",
    "print(data_t.shape)\n",
    "idext = np.lexsort([data_t[:,0], -1*data_t[:,1]])\n",
    "datart = data_t[idext, :]\n",
    "indices = np.isin(datar[:, 0], datart[:, 0])\n",
    "s = np.where(indices)[0]\n",
    "c = np.delete(datar, s, axis=0)\n",
    "df = pd.DataFrame(c, columns=['site', 'value'])\n",
    "print(df.shape)\n",
    "df.to_csv('测试位点和占据率/ch15测试.csv',index=False)"
   ]
  },
  {
   "cell_type": "code",
   "execution_count": null,
   "id": "a531afbe-8dc0-4c0d-9a2d-7ef33f592dcb",
   "metadata": {},
   "outputs": [],
   "source": []
  },
  {
   "cell_type": "code",
   "execution_count": 24,
   "id": "09924065-0618-4743-81f7-182ed3271eca",
   "metadata": {},
   "outputs": [
    {
     "name": "stdout",
     "output_type": "stream",
     "text": [
      "(856960, 2)\n",
      "(34569, 2)\n",
      "(822391, 2)\n"
     ]
    }
   ],
   "source": [
    "data_all = np.loadtxt(\"分类染色体/ch16.csv\" ,delimiter=\",\",skiprows=1,usecols=[2,3]) \n",
    "print(data_all.shape)\n",
    "idex = np.lexsort([data_all[:,0], -1*data_all[:,1]])\n",
    "datar = data_all[idex, :]\n",
    "data_t = np.loadtxt(\"训练位点和占据率/ch16训练.csv\",delimiter=\",\",skiprows=1,usecols=[0,1]) \n",
    "print(data_t.shape)\n",
    "idext = np.lexsort([data_t[:,0], -1*data_t[:,1]])\n",
    "datart = data_t[idext, :]\n",
    "indices = np.isin(datar[:, 0], datart[:, 0])\n",
    "s = np.where(indices)[0]\n",
    "c = np.delete(datar, s, axis=0)\n",
    "df = pd.DataFrame(c, columns=['site', 'value'])\n",
    "print(df.shape)\n",
    "df.to_csv('测试位点和占据率/ch16测试.csv',index=False)"
   ]
  },
  {
   "cell_type": "code",
   "execution_count": null,
   "id": "517cc17a-998e-4c51-899c-5ea76c7662ca",
   "metadata": {},
   "outputs": [],
   "source": []
  }
 ],
 "metadata": {
  "kernelspec": {
   "display_name": "tf",
   "language": "python",
   "name": "tf"
  },
  "language_info": {
   "codemirror_mode": {
    "name": "ipython",
    "version": 3
   },
   "file_extension": ".py",
   "mimetype": "text/x-python",
   "name": "python",
   "nbconvert_exporter": "python",
   "pygments_lexer": "ipython3",
   "version": "3.7.1"
  }
 },
 "nbformat": 4,
 "nbformat_minor": 5
}
