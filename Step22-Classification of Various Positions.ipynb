{
 "cells": [
  {
   "cell_type": "code",
   "execution_count": 2,
   "id": "4442c7a9-3fd0-4f77-94d3-3998b168be18",
   "metadata": {},
   "outputs": [
    {
     "name": "stdout",
     "output_type": "stream",
     "text": [
      "合并后的数据形状: (13822, 16, 146)\n"
     ]
    }
   ],
   "source": [
    "import h5py\n",
    "import numpy as np\n",
    "file1 = h5py.File('TSS-TTS矩阵/+1N.h5', 'r')\n",
    "file2 = h5py.File('TSS-TTS矩阵/-1N.h5', 'r')\n",
    "nuar1 = file1['Nuar'][:]\n",
    "nuar2 = file2['Nuar'][:]\n",
    "merged_nuar = np.concatenate((nuar1, nuar2), axis=0)\n",
    "merged_file_path = 'TSS-TTS矩阵/1N.h5'\n",
    "with h5py.File(merged_file_path, 'w') as merged_file:\n",
    "    merged_file.create_dataset('Nuar', data=merged_nuar)\n",
    "file1.close()\n",
    "file2.close()\n",
    "with h5py.File(merged_file_path, 'r') as merged_file:\n",
    "    nuar_merged = merged_file['Nuar'][:]\n",
    "    print(f\"合并后的数据形状: {nuar_merged.shape}\")"
   ]
  },
  {
   "cell_type": "code",
   "execution_count": null,
   "id": "c4da8c24-f791-4fe2-8688-b57801ec4451",
   "metadata": {},
   "outputs": [],
   "source": []
  },
  {
   "cell_type": "code",
   "execution_count": 3,
   "id": "9191db66-97fd-4b3a-a2aa-487680ee4379",
   "metadata": {},
   "outputs": [
    {
     "name": "stdout",
     "output_type": "stream",
     "text": [
      "合并后的数据形状: (13822, 16, 146)\n"
     ]
    }
   ],
   "source": [
    "import h5py\n",
    "import numpy as np\n",
    "file1 = h5py.File('TSS-TTS矩阵/+2N.h5', 'r')\n",
    "file2 = h5py.File('TSS-TTS矩阵/-2N.h5', 'r')\n",
    "nuar1 = file1['Nuar'][:]\n",
    "nuar2 = file2['Nuar'][:]\n",
    "merged_nuar = np.concatenate((nuar1, nuar2), axis=0)\n",
    "merged_file_path = 'TSS-TTS矩阵/2N.h5'\n",
    "with h5py.File(merged_file_path, 'w') as merged_file:\n",
    "    merged_file.create_dataset('Nuar', data=merged_nuar)\n",
    "file1.close()\n",
    "file2.close()\n",
    "with h5py.File(merged_file_path, 'r') as merged_file:\n",
    "    nuar_merged = merged_file['Nuar'][:]\n",
    "    print(f\"合并后的数据形状: {nuar_merged.shape}\")"
   ]
  },
  {
   "cell_type": "code",
   "execution_count": null,
   "id": "fe0fd982-2326-4ec5-9692-e28c8bc9e903",
   "metadata": {},
   "outputs": [],
   "source": []
  },
  {
   "cell_type": "code",
   "execution_count": 4,
   "id": "9b80562e-6e7a-4bd5-8173-73e606f070ac",
   "metadata": {},
   "outputs": [
    {
     "name": "stdout",
     "output_type": "stream",
     "text": [
      "合并后的数据形状: (13822, 16, 146)\n"
     ]
    }
   ],
   "source": [
    "import h5py\n",
    "import numpy as np\n",
    "file1 = h5py.File('TSS-TTS矩阵/+3N.h5', 'r')\n",
    "file2 = h5py.File('TSS-TTS矩阵/-3N.h5', 'r')\n",
    "nuar1 = file1['Nuar'][:]\n",
    "nuar2 = file2['Nuar'][:]\n",
    "merged_nuar = np.concatenate((nuar1, nuar2), axis=0)\n",
    "merged_file_path = 'TSS-TTS矩阵/3N.h5'\n",
    "with h5py.File(merged_file_path, 'w') as merged_file:\n",
    "    merged_file.create_dataset('Nuar', data=merged_nuar)\n",
    "file1.close()\n",
    "file2.close()\n",
    "with h5py.File(merged_file_path, 'r') as merged_file:\n",
    "    nuar_merged = merged_file['Nuar'][:]\n",
    "    print(f\"合并后的数据形状: {nuar_merged.shape}\")"
   ]
  },
  {
   "cell_type": "code",
   "execution_count": null,
   "id": "82784261-0202-4af0-b988-53bf1e77e153",
   "metadata": {},
   "outputs": [],
   "source": []
  },
  {
   "cell_type": "code",
   "execution_count": null,
   "id": "c4608069-1912-4488-9125-ffb7f9ac25f4",
   "metadata": {},
   "outputs": [],
   "source": []
  },
  {
   "cell_type": "code",
   "execution_count": null,
   "id": "db5d5a9c-e4d1-4735-aa93-28da4ed36231",
   "metadata": {},
   "outputs": [],
   "source": []
  },
  {
   "cell_type": "code",
   "execution_count": null,
   "id": "94f75a03-01aa-4eeb-8ecf-91f988e766ce",
   "metadata": {},
   "outputs": [],
   "source": []
  },
  {
   "cell_type": "code",
   "execution_count": null,
   "id": "0cb72602-4a20-4b61-8fd4-033de37929b7",
   "metadata": {},
   "outputs": [],
   "source": []
  },
  {
   "cell_type": "code",
   "execution_count": 5,
   "id": "376745f7-7e96-4848-a7d2-100097989533",
   "metadata": {},
   "outputs": [
    {
     "name": "stdout",
     "output_type": "stream",
     "text": [
      "合并后的数据形状: (27644, 16, 146)\n",
      "合并后的标签形状: (27644,)\n",
      "标签分布情况: 0 - 13822, 1 - 13822\n"
     ]
    }
   ],
   "source": [
    "import h5py\n",
    "import numpy as np\n",
    "file1 = h5py.File('TSS-TTS矩阵/1N.h5', 'r')\n",
    "file2 = h5py.File('TSS-TTS矩阵/2N.h5', 'r')\n",
    "nuar1 = file1['Nuar'][:]\n",
    "nuar2 = file2['Nuar'][:]\n",
    "min_samples = min(nuar1.shape[0], nuar2.shape[0])\n",
    "nuar1 = nuar1[:min_samples]\n",
    "nuar2 = nuar2[:min_samples]\n",
    "X = np.concatenate((nuar1, nuar2), axis=0)\n",
    "y1 = np.zeros(min_samples, dtype=int)\n",
    "y2 = np.ones(min_samples, dtype=int)\n",
    "y = np.concatenate((y1, y2), axis=0)\n",
    "merged_file_path = 'TSS-TTS矩阵/1-2N.h5'\n",
    "with h5py.File(merged_file_path, 'w') as merged_file:\n",
    "    merged_file.create_dataset('Nuar', data=X)\n",
    "    merged_file.create_dataset('label', data=y)\n",
    "file1.close()\n",
    "file2.close()\n",
    "with h5py.File(merged_file_path, 'r') as merged_file:\n",
    "    nuar_merged = merged_file['Nuar'][:]\n",
    "    label_merged = merged_file['label'][:]\n",
    "    print(f\"合并后的数据形状: {nuar_merged.shape}\")\n",
    "    print(f\"合并后的标签形状: {label_merged.shape}\")\n",
    "    print(f\"标签分布情况: 0 - {np.sum(label_merged == 0)}, 1 - {np.sum(label_merged == 1)}\")"
   ]
  },
  {
   "cell_type": "code",
   "execution_count": null,
   "id": "04a3de21-b2a5-49cf-ad06-f6b5db1af399",
   "metadata": {},
   "outputs": [],
   "source": []
  },
  {
   "cell_type": "code",
   "execution_count": 6,
   "id": "97509bc4-f167-4546-9e15-c7ee70da5045",
   "metadata": {},
   "outputs": [
    {
     "name": "stdout",
     "output_type": "stream",
     "text": [
      "合并后的数据形状: (27644, 16, 146)\n",
      "合并后的标签形状: (27644,)\n",
      "标签分布情况: 0 - 13822, 1 - 13822\n"
     ]
    }
   ],
   "source": [
    "import h5py\n",
    "import numpy as np\n",
    "file1 = h5py.File('TSS-TTS矩阵/1N.h5', 'r')\n",
    "file2 = h5py.File('TSS-TTS矩阵/3N.h5', 'r')\n",
    "nuar1 = file1['Nuar'][:]\n",
    "nuar2 = file2['Nuar'][:]\n",
    "min_samples = min(nuar1.shape[0], nuar2.shape[0])\n",
    "nuar1 = nuar1[:min_samples]\n",
    "nuar2 = nuar2[:min_samples]\n",
    "X = np.concatenate((nuar1, nuar2), axis=0)\n",
    "y1 = np.zeros(min_samples, dtype=int)\n",
    "y2 = np.ones(min_samples, dtype=int)\n",
    "y = np.concatenate((y1, y2), axis=0)\n",
    "merged_file_path = 'TSS-TTS矩阵/1-3N.h5'\n",
    "with h5py.File(merged_file_path, 'w') as merged_file:\n",
    "    merged_file.create_dataset('Nuar', data=X)\n",
    "    merged_file.create_dataset('label', data=y)\n",
    "file1.close()\n",
    "file2.close()\n",
    "with h5py.File(merged_file_path, 'r') as merged_file:\n",
    "    nuar_merged = merged_file['Nuar'][:]\n",
    "    label_merged = merged_file['label'][:]\n",
    "    print(f\"合并后的数据形状: {nuar_merged.shape}\")\n",
    "    print(f\"合并后的标签形状: {label_merged.shape}\")\n",
    "    print(f\"标签分布情况: 0 - {np.sum(label_merged == 0)}, 1 - {np.sum(label_merged == 1)}\")"
   ]
  },
  {
   "cell_type": "code",
   "execution_count": null,
   "id": "914e4b58-0f93-45e5-a09b-cc33c24be919",
   "metadata": {},
   "outputs": [],
   "source": []
  },
  {
   "cell_type": "code",
   "execution_count": 7,
   "id": "97b42cba-66ba-4143-a01d-29280be22d50",
   "metadata": {},
   "outputs": [
    {
     "name": "stdout",
     "output_type": "stream",
     "text": [
      "合并后的数据形状: (27644, 16, 146)\n",
      "合并后的标签形状: (27644,)\n",
      "标签分布情况: 0 - 13822, 1 - 13822\n"
     ]
    }
   ],
   "source": [
    "import h5py\n",
    "import numpy as np\n",
    "file1 = h5py.File('TSS-TTS矩阵/2N.h5', 'r')\n",
    "file2 = h5py.File('TSS-TTS矩阵/3N.h5', 'r')\n",
    "nuar1 = file1['Nuar'][:]\n",
    "nuar2 = file2['Nuar'][:]\n",
    "min_samples = min(nuar1.shape[0], nuar2.shape[0])\n",
    "nuar1 = nuar1[:min_samples]\n",
    "nuar2 = nuar2[:min_samples]\n",
    "X = np.concatenate((nuar1, nuar2), axis=0)\n",
    "y1 = np.zeros(min_samples, dtype=int)\n",
    "y2 = np.ones(min_samples, dtype=int)\n",
    "y = np.concatenate((y1, y2), axis=0)\n",
    "merged_file_path = 'TSS-TTS矩阵/2-3N.h5'\n",
    "with h5py.File(merged_file_path, 'w') as merged_file:\n",
    "    merged_file.create_dataset('Nuar', data=X)\n",
    "    merged_file.create_dataset('label', data=y)\n",
    "file1.close()\n",
    "file2.close()\n",
    "with h5py.File(merged_file_path, 'r') as merged_file:\n",
    "    nuar_merged = merged_file['Nuar'][:]\n",
    "    label_merged = merged_file['label'][:]\n",
    "    print(f\"合并后的数据形状: {nuar_merged.shape}\")\n",
    "    print(f\"合并后的标签形状: {label_merged.shape}\")\n",
    "    print(f\"标签分布情况: 0 - {np.sum(label_merged == 0)}, 1 - {np.sum(label_merged == 1)}\")"
   ]
  },
  {
   "cell_type": "code",
   "execution_count": null,
   "id": "474619cf-ba34-457e-935b-1dc148731339",
   "metadata": {},
   "outputs": [],
   "source": []
  },
  {
   "cell_type": "code",
   "execution_count": null,
   "id": "c194ef8a-d5ab-4175-b220-f5f5145e3e92",
   "metadata": {},
   "outputs": [],
   "source": []
  },
  {
   "cell_type": "code",
   "execution_count": null,
   "id": "0ec68b42-b428-4fde-a41e-a19d026b892a",
   "metadata": {},
   "outputs": [],
   "source": []
  },
  {
   "cell_type": "code",
   "execution_count": null,
   "id": "cdb30cd2-c095-417e-a710-35dc31abba9f",
   "metadata": {},
   "outputs": [],
   "source": []
  },
  {
   "cell_type": "code",
   "execution_count": null,
   "id": "7655382a-11d0-466b-878d-0623b35ddcfe",
   "metadata": {},
   "outputs": [],
   "source": []
  },
  {
   "cell_type": "code",
   "execution_count": 2,
   "id": "597272b3-d649-47b8-ad62-07473e5c30eb",
   "metadata": {},
   "outputs": [
    {
     "name": "stdout",
     "output_type": "stream",
     "text": [
      "              precision    recall  f1-score   support\n",
      "\n",
      "      class0       0.62      0.50      0.56      2854\n",
      "      class1       0.56      0.68      0.61      2675\n",
      "\n",
      "    accuracy                           0.59      5529\n",
      "   macro avg       0.59      0.59      0.59      5529\n",
      "weighted avg       0.59      0.59      0.58      5529\n",
      "\n",
      "五折交叉验证的平均准确率为：0.6206\n"
     ]
    }
   ],
   "source": [
    "import h5py\n",
    "import numpy as np\n",
    "from tensorflow.keras.models import load_model\n",
    "from sklearn.model_selection import cross_val_score\n",
    "from sklearn.metrics import classification_report\n",
    "from sklearn.model_selection import KFold\n",
    "from sklearn.metrics import accuracy_score\n",
    "from sklearn.model_selection import train_test_split\n",
    "f = h5py.File('TSS-TTS矩阵/1-2N.h5', 'r')\n",
    "Nuar = f['Nuar']  \n",
    "Nuar = np.array(Nuar)\n",
    "label = f['label']   \n",
    "label = np.array(label)\n",
    "Nuar = Nuar.reshape(27644, 16, 146, 1)\n",
    "X_train,X_test,y_train,y_test=train_test_split(Nuar,label,test_size=0.2,random_state=1)\n",
    "model = load_model('TSS-TTS模型/分类模型4-1.h5')\n",
    "y_pred= model.predict(X_test) \n",
    "y_pred = (y_pred > 0.5).astype(\"int32\")\n",
    "target_names =['class0','class1']\n",
    "print(classification_report(y_test,y_pred,target_names=target_names))\n",
    "kf = KFold(n_splits=5, shuffle=True, random_state=42)\n",
    "accuracies = []\n",
    "for train_index, val_index in kf.split(Nuar):\n",
    "    X_val, y_val = Nuar[val_index], label[val_index]\n",
    "    y_pred = model.predict(X_val)\n",
    "    y_pred = (y_pred > 0.5).astype(\"int32\")\n",
    "    accuracy = accuracy_score(y_val, y_pred)\n",
    "    accuracies.append(accuracy)\n",
    "average_accuracy = np.mean(accuracies)\n",
    "print(f\"五折交叉验证的平均准确率为：{average_accuracy:.4f}\")"
   ]
  },
  {
   "cell_type": "code",
   "execution_count": null,
   "id": "ad6cf5c5-6a50-4bfe-820f-f559b1a744c6",
   "metadata": {},
   "outputs": [],
   "source": []
  },
  {
   "cell_type": "code",
   "execution_count": 3,
   "id": "39351717-a913-4b6e-b1c9-9d016c706499",
   "metadata": {},
   "outputs": [
    {
     "name": "stdout",
     "output_type": "stream",
     "text": [
      "              precision    recall  f1-score   support\n",
      "\n",
      "      class0       0.64      0.52      0.58      2854\n",
      "      class1       0.58      0.69      0.63      2675\n",
      "\n",
      "    accuracy                           0.60      5529\n",
      "   macro avg       0.61      0.61      0.60      5529\n",
      "weighted avg       0.61      0.60      0.60      5529\n",
      "\n",
      "五折交叉验证的平均准确率为：0.6387\n"
     ]
    }
   ],
   "source": [
    "import h5py\n",
    "import numpy as np\n",
    "from tensorflow.keras.models import load_model\n",
    "from sklearn.model_selection import cross_val_score\n",
    "from sklearn.metrics import classification_report\n",
    "from sklearn.model_selection import KFold\n",
    "from sklearn.metrics import accuracy_score\n",
    "from sklearn.model_selection import train_test_split\n",
    "f = h5py.File('TSS-TTS矩阵/1-3N.h5', 'r')\n",
    "Nuar = f['Nuar']  \n",
    "Nuar = np.array(Nuar)\n",
    "label = f['label']   \n",
    "label = np.array(label)\n",
    "Nuar = Nuar.reshape(27644, 16, 146, 1)\n",
    "X_train,X_test,y_train,y_test=train_test_split(Nuar,label,test_size=0.2,random_state=1)\n",
    "model = load_model('TSS-TTS模型/分类模型4-2.h5')\n",
    "y_pred= model.predict(X_test) \n",
    "y_pred = (y_pred > 0.5).astype(\"int32\")\n",
    "target_names =['class0','class1']\n",
    "print(classification_report(y_test,y_pred,target_names=target_names))\n",
    "kf = KFold(n_splits=5, shuffle=True, random_state=42)\n",
    "accuracies = []\n",
    "for train_index, val_index in kf.split(Nuar):\n",
    "    X_val, y_val = Nuar[val_index], label[val_index]\n",
    "    y_pred = model.predict(X_val)\n",
    "    y_pred = (y_pred > 0.5).astype(\"int32\")\n",
    "    accuracy = accuracy_score(y_val, y_pred)\n",
    "    accuracies.append(accuracy)\n",
    "average_accuracy = np.mean(accuracies)\n",
    "print(f\"五折交叉验证的平均准确率为：{average_accuracy:.4f}\")"
   ]
  },
  {
   "cell_type": "code",
   "execution_count": null,
   "id": "0973b48c-efed-407d-ad17-a9bef380cd42",
   "metadata": {},
   "outputs": [],
   "source": []
  },
  {
   "cell_type": "code",
   "execution_count": 1,
   "id": "7b8f7ba9-1df6-4585-aacb-421c79f7d560",
   "metadata": {},
   "outputs": [
    {
     "name": "stdout",
     "output_type": "stream",
     "text": [
      "              precision    recall  f1-score   support\n",
      "\n",
      "      class0       0.55      0.26      0.36      2854\n",
      "      class1       0.50      0.77      0.60      2675\n",
      "\n",
      "    accuracy                           0.51      5529\n",
      "   macro avg       0.52      0.52      0.48      5529\n",
      "weighted avg       0.52      0.51      0.48      5529\n",
      "\n",
      "五折交叉验证的平均准确率为：0.5333\n"
     ]
    }
   ],
   "source": [
    "import h5py\n",
    "import numpy as np\n",
    "from tensorflow.keras.models import load_model\n",
    "from sklearn.model_selection import cross_val_score\n",
    "from sklearn.metrics import classification_report\n",
    "from sklearn.model_selection import KFold\n",
    "from sklearn.metrics import accuracy_score\n",
    "from sklearn.model_selection import train_test_split\n",
    "f = h5py.File('TSS-TTS矩阵/2-3N.h5', 'r')\n",
    "Nuar = f['Nuar']  \n",
    "Nuar = np.array(Nuar)\n",
    "label = f['label']   \n",
    "label = np.array(label)\n",
    "Nuar = Nuar.reshape(27644, 16, 146, 1)\n",
    "X_train,X_test,y_train,y_test=train_test_split(Nuar,label,test_size=0.2,random_state=1)\n",
    "model = load_model('TSS-TTS模型/分类模型4-3.h5')\n",
    "y_pred= model.predict(X_test) \n",
    "y_pred = (y_pred > 0.5).astype(\"int32\")\n",
    "target_names =['class0','class1']\n",
    "print(classification_report(y_test,y_pred,target_names=target_names))\n",
    "kf = KFold(n_splits=5, shuffle=True, random_state=42)\n",
    "accuracies = []\n",
    "for train_index, val_index in kf.split(Nuar):\n",
    "    X_val, y_val = Nuar[val_index], label[val_index]\n",
    "    y_pred = model.predict(X_val)\n",
    "    y_pred = (y_pred > 0.5).astype(\"int32\")\n",
    "    accuracy = accuracy_score(y_val, y_pred)\n",
    "    accuracies.append(accuracy)\n",
    "average_accuracy = np.mean(accuracies)\n",
    "print(f\"五折交叉验证的平均准确率为：{average_accuracy:.4f}\")"
   ]
  },
  {
   "cell_type": "code",
   "execution_count": null,
   "id": "cceaa735-0ed7-4b37-8b7e-f5d54d5a43aa",
   "metadata": {},
   "outputs": [],
   "source": []
  }
 ],
 "metadata": {
  "kernelspec": {
   "display_name": "tf",
   "language": "python",
   "name": "tf"
  },
  "language_info": {
   "codemirror_mode": {
    "name": "ipython",
    "version": 3
   },
   "file_extension": ".py",
   "mimetype": "text/x-python",
   "name": "python",
   "nbconvert_exporter": "python",
   "pygments_lexer": "ipython3",
   "version": "3.7.1"
  }
 },
 "nbformat": 4,
 "nbformat_minor": 5
}
