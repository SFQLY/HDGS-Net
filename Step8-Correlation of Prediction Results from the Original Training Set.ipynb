{
 "cells": [
  {
   "cell_type": "code",
   "execution_count": 1,
   "id": "3a6f2002-e04a-4de8-a3a9-c16fa0e0b880",
   "metadata": {},
   "outputs": [],
   "source": [
    "import numpy as np\n",
    "import csv"
   ]
  },
  {
   "cell_type": "code",
   "execution_count": 2,
   "id": "27cf6ef6-d98a-4149-a18d-6471bc2e7f1c",
   "metadata": {},
   "outputs": [
    {
     "name": "stdout",
     "output_type": "stream",
     "text": [
      "(6557,)\n",
      "(6557,)\n",
      "[[1.         0.96072924]\n",
      " [0.96072924 1.        ]]\n"
     ]
    }
   ],
   "source": [
    "path_csv = \"训练位点和占据率/ch1训练.csv\" \n",
    "data = np.loadtxt(open(path_csv,\"rb\"),delimiter=\",\",skiprows=1,usecols=[0,1]) \n",
    "ori = data[:,1]\n",
    "print(ori.shape)\n",
    "res = np.loadtxt('染色体预测结果（训练）/ch1_levelp(t).txt',dtype=np.float32)\n",
    "print(res.shape)\n",
    "cor = np.vstack([ori,res]) \n",
    "print(np.corrcoef(cor))"
   ]
  },
  {
   "cell_type": "code",
   "execution_count": null,
   "id": "58c60d78-ba19-42dd-8cb3-770d221f27dd",
   "metadata": {},
   "outputs": [],
   "source": []
  },
  {
   "cell_type": "code",
   "execution_count": 3,
   "id": "b1d4cde2-9c86-405c-8bf9-98830e38e80b",
   "metadata": {},
   "outputs": [
    {
     "name": "stdout",
     "output_type": "stream",
     "text": [
      "(29077,)\n",
      "(29077,)\n",
      "[[1.         0.95044651]\n",
      " [0.95044651 1.        ]]\n"
     ]
    }
   ],
   "source": [
    "path_csv = \"训练位点和占据率/ch2训练.csv\" \n",
    "data = np.loadtxt(open(path_csv,\"rb\"),delimiter=\",\",skiprows=1,usecols=[0,1]) \n",
    "ori = data[:,1]\n",
    "print(ori.shape)\n",
    "res = np.loadtxt('染色体预测结果（训练）/ch2_levelp(t).txt',dtype=np.float32)\n",
    "print(res.shape)\n",
    "cor = np.vstack([ori,res]) \n",
    "print(np.corrcoef(cor))"
   ]
  },
  {
   "cell_type": "code",
   "execution_count": null,
   "id": "43cc3e66-a4af-4f8a-b052-9c25c1d4bbaa",
   "metadata": {},
   "outputs": [],
   "source": []
  },
  {
   "cell_type": "code",
   "execution_count": 4,
   "id": "95464b58-a51a-484a-b87d-6a06d7efc49b",
   "metadata": {},
   "outputs": [
    {
     "name": "stdout",
     "output_type": "stream",
     "text": [
      "(9140,)\n",
      "(9140,)\n",
      "[[1.         0.95755292]\n",
      " [0.95755292 1.        ]]\n"
     ]
    }
   ],
   "source": [
    "path_csv = \"训练位点和占据率/ch3训练.csv\" \n",
    "data = np.loadtxt(open(path_csv,\"rb\"),delimiter=\",\",skiprows=1,usecols=[0,1]) \n",
    "ori = data[:,1]\n",
    "print(ori.shape)\n",
    "res = np.loadtxt('染色体预测结果（训练）/ch3_levelp(t).txt',dtype=np.float32)\n",
    "print(res.shape)\n",
    "cor = np.vstack([ori,res]) \n",
    "print(np.corrcoef(cor))"
   ]
  },
  {
   "cell_type": "code",
   "execution_count": null,
   "id": "98e75e20-352a-4520-b9b1-73b35e6fd01b",
   "metadata": {},
   "outputs": [],
   "source": []
  },
  {
   "cell_type": "code",
   "execution_count": 5,
   "id": "c945b1ca-a11c-4782-a4f4-cc693f0e8b3f",
   "metadata": {},
   "outputs": [
    {
     "name": "stdout",
     "output_type": "stream",
     "text": [
      "(54086,)\n",
      "(54086,)\n",
      "[[1.         0.96662106]\n",
      " [0.96662106 1.        ]]\n"
     ]
    }
   ],
   "source": [
    "path_csv = \"训练位点和占据率/ch4训练.csv\" \n",
    "data = np.loadtxt(open(path_csv,\"rb\"),delimiter=\",\",skiprows=1,usecols=[0,1]) \n",
    "ori = data[:,1]\n",
    "print(ori.shape)\n",
    "res = np.loadtxt('染色体预测结果（训练）/ch4_levelp(t).txt',dtype=np.float32)\n",
    "print(res.shape)\n",
    "cor = np.vstack([ori,res]) \n",
    "print(np.corrcoef(cor))"
   ]
  },
  {
   "cell_type": "code",
   "execution_count": null,
   "id": "51ccdeed-9871-4e45-aba7-45e829011331",
   "metadata": {},
   "outputs": [],
   "source": []
  },
  {
   "cell_type": "code",
   "execution_count": 6,
   "id": "5c39ee77-7ada-49fd-be3a-9133e51c12ad",
   "metadata": {},
   "outputs": [
    {
     "name": "stdout",
     "output_type": "stream",
     "text": [
      "(19920,)\n",
      "(19920,)\n",
      "[[1.        0.9619783]\n",
      " [0.9619783 1.       ]]\n"
     ]
    }
   ],
   "source": [
    "path_csv = \"训练位点和占据率/ch5训练.csv\" \n",
    "data = np.loadtxt(open(path_csv,\"rb\"),delimiter=\",\",skiprows=1,usecols=[0,1]) \n",
    "ori = data[:,1]\n",
    "print(ori.shape)\n",
    "res = np.loadtxt('染色体预测结果（训练）/ch5_levelp(t).txt',dtype=np.float32)\n",
    "print(res.shape)\n",
    "cor = np.vstack([ori,res]) \n",
    "print(np.corrcoef(cor))"
   ]
  },
  {
   "cell_type": "code",
   "execution_count": null,
   "id": "cb933dad-8b49-4c41-bc2f-a9e0775ef018",
   "metadata": {},
   "outputs": [],
   "source": []
  },
  {
   "cell_type": "code",
   "execution_count": 7,
   "id": "fba02113-967f-4d0c-ae92-27aef5060aeb",
   "metadata": {},
   "outputs": [
    {
     "name": "stdout",
     "output_type": "stream",
     "text": [
      "(8793,)\n",
      "(8793,)\n",
      "[[1.         0.95276176]\n",
      " [0.95276176 1.        ]]\n"
     ]
    }
   ],
   "source": [
    "path_csv = \"训练位点和占据率/ch6训练.csv\" \n",
    "data = np.loadtxt(open(path_csv,\"rb\"),delimiter=\",\",skiprows=1,usecols=[0,1]) \n",
    "ori = data[:,1]\n",
    "print(ori.shape)\n",
    "res = np.loadtxt('染色体预测结果（训练）/ch6_levelp(t).txt',dtype=np.float32)\n",
    "print(res.shape)\n",
    "cor = np.vstack([ori,res]) \n",
    "print(np.corrcoef(cor))"
   ]
  },
  {
   "cell_type": "code",
   "execution_count": null,
   "id": "79c706c5-ebed-4918-8ded-bc3055a9ad25",
   "metadata": {},
   "outputs": [],
   "source": []
  },
  {
   "cell_type": "code",
   "execution_count": 8,
   "id": "b4f9c898-d6a1-439e-bc50-064662df2269",
   "metadata": {},
   "outputs": [
    {
     "name": "stdout",
     "output_type": "stream",
     "text": [
      "(38445,)\n",
      "(38445,)\n",
      "[[1.         0.96735796]\n",
      " [0.96735796 1.        ]]\n"
     ]
    }
   ],
   "source": [
    "path_csv = \"训练位点和占据率/ch7训练.csv\" \n",
    "data = np.loadtxt(open(path_csv,\"rb\"),delimiter=\",\",skiprows=1,usecols=[0,1]) \n",
    "ori = data[:,1]\n",
    "print(ori.shape)\n",
    "res = np.loadtxt('染色体预测结果（训练）/ch7_levelp(t).txt',dtype=np.float32)\n",
    "print(res.shape)\n",
    "cor = np.vstack([ori,res]) \n",
    "print(np.corrcoef(cor))"
   ]
  },
  {
   "cell_type": "code",
   "execution_count": null,
   "id": "47569cb3-d125-49c8-a56c-82d499dfccec",
   "metadata": {},
   "outputs": [],
   "source": []
  },
  {
   "cell_type": "code",
   "execution_count": 9,
   "id": "25b26ec4-dcf9-4ef0-a2cf-1e11df9a9217",
   "metadata": {},
   "outputs": [
    {
     "name": "stdout",
     "output_type": "stream",
     "text": [
      "(19040,)\n",
      "(19040,)\n",
      "[[1.         0.96453555]\n",
      " [0.96453555 1.        ]]\n"
     ]
    }
   ],
   "source": [
    "path_csv = \"训练位点和占据率/ch8训练.csv\" \n",
    "data = np.loadtxt(open(path_csv,\"rb\"),delimiter=\",\",skiprows=1,usecols=[0,1]) \n",
    "ori = data[:,1]\n",
    "print(ori.shape)\n",
    "res = np.loadtxt('染色体预测结果（训练）/ch8_levelp(t).txt',dtype=np.float32)\n",
    "print(res.shape)\n",
    "cor = np.vstack([ori,res]) \n",
    "print(np.corrcoef(cor))"
   ]
  },
  {
   "cell_type": "code",
   "execution_count": null,
   "id": "c98bd629-afa7-4cf1-ad33-63c243ea1363",
   "metadata": {},
   "outputs": [],
   "source": []
  },
  {
   "cell_type": "code",
   "execution_count": 10,
   "id": "ecdb8525-78de-49e3-a6db-21bdeb9b055d",
   "metadata": {},
   "outputs": [
    {
     "name": "stdout",
     "output_type": "stream",
     "text": [
      "(14270,)\n",
      "(14270,)\n",
      "[[1.         0.95229218]\n",
      " [0.95229218 1.        ]]\n"
     ]
    }
   ],
   "source": [
    "path_csv = \"训练位点和占据率/ch9训练.csv\" \n",
    "data = np.loadtxt(open(path_csv,\"rb\"),delimiter=\",\",skiprows=1,usecols=[0,1]) \n",
    "ori = data[:,1]\n",
    "print(ori.shape)\n",
    "res = np.loadtxt('染色体预测结果（训练）/ch9_levelp(t).txt',dtype=np.float32)\n",
    "print(res.shape)\n",
    "cor = np.vstack([ori,res]) \n",
    "print(np.corrcoef(cor))"
   ]
  },
  {
   "cell_type": "code",
   "execution_count": null,
   "id": "ae0fafbc-1725-47db-82f8-b6dbd05d2ec6",
   "metadata": {},
   "outputs": [],
   "source": []
  },
  {
   "cell_type": "code",
   "execution_count": 11,
   "id": "a114a1d5-c934-49e6-b6a6-da9ea3c379c4",
   "metadata": {},
   "outputs": [
    {
     "name": "stdout",
     "output_type": "stream",
     "text": [
      "(25671,)\n",
      "(25671,)\n",
      "[[1.         0.29811444]\n",
      " [0.29811444 1.        ]]\n"
     ]
    }
   ],
   "source": [
    "path_csv = \"训练位点和占据率/ch10训练.csv\" \n",
    "data = np.loadtxt(open(path_csv,\"rb\"),delimiter=\",\",skiprows=1,usecols=[0,1]) \n",
    "ori = data[:,1]\n",
    "print(ori.shape)\n",
    "res = np.loadtxt('染色体预测结果（训练）/ch10_levelp(t).txt',dtype=np.float32)\n",
    "print(res.shape)\n",
    "cor = np.vstack([ori,res]) \n",
    "print(np.corrcoef(cor))"
   ]
  },
  {
   "cell_type": "code",
   "execution_count": null,
   "id": "5687167a-cd18-4d97-948b-e9e6407574b7",
   "metadata": {},
   "outputs": [],
   "source": []
  },
  {
   "cell_type": "code",
   "execution_count": 12,
   "id": "9632ba17-36e9-4a26-94ba-ae40e8a666bd",
   "metadata": {},
   "outputs": [
    {
     "name": "stdout",
     "output_type": "stream",
     "text": [
      "(25094,)\n",
      "(25094,)\n",
      "[[1.         0.96528851]\n",
      " [0.96528851 1.        ]]\n"
     ]
    }
   ],
   "source": [
    "path_csv = \"训练位点和占据率/ch11训练.csv\" \n",
    "data = np.loadtxt(open(path_csv,\"rb\"),delimiter=\",\",skiprows=1,usecols=[0,1]) \n",
    "ori = data[:,1]\n",
    "print(ori.shape)\n",
    "res = np.loadtxt('染色体预测结果（训练）/ch11_levelp(t).txt',dtype=np.float32)\n",
    "print(res.shape)\n",
    "cor = np.vstack([ori,res]) \n",
    "print(np.corrcoef(cor))"
   ]
  },
  {
   "cell_type": "code",
   "execution_count": null,
   "id": "df65d938-c12e-4e19-9096-08239e420e7b",
   "metadata": {},
   "outputs": [],
   "source": []
  },
  {
   "cell_type": "code",
   "execution_count": 13,
   "id": "3bc3d2d0-ac20-4cca-b447-9a88a180d797",
   "metadata": {},
   "outputs": [
    {
     "name": "stdout",
     "output_type": "stream",
     "text": [
      "(36380,)\n",
      "(36380,)\n",
      "[[1.         0.96597612]\n",
      " [0.96597612 1.        ]]\n"
     ]
    }
   ],
   "source": [
    "path_csv = \"训练位点和占据率/ch12训练.csv\" \n",
    "data = np.loadtxt(open(path_csv,\"rb\"),delimiter=\",\",skiprows=1,usecols=[0,1]) \n",
    "ori = data[:,1]\n",
    "print(ori.shape)\n",
    "res = np.loadtxt('染色体预测结果（训练）/ch12_levelp(t).txt',dtype=np.float32)\n",
    "print(res.shape)\n",
    "cor = np.vstack([ori,res]) \n",
    "print(np.corrcoef(cor))"
   ]
  },
  {
   "cell_type": "code",
   "execution_count": null,
   "id": "9cf46f19-dbc3-48f8-b22f-6a66f45ec5c0",
   "metadata": {},
   "outputs": [],
   "source": []
  },
  {
   "cell_type": "code",
   "execution_count": 14,
   "id": "09e624bd-ba8b-49f0-90ec-9894c82edd07",
   "metadata": {},
   "outputs": [
    {
     "name": "stdout",
     "output_type": "stream",
     "text": [
      "(33587,)\n",
      "(33587,)\n",
      "[[1.         0.96765568]\n",
      " [0.96765568 1.        ]]\n"
     ]
    }
   ],
   "source": [
    "path_csv = \"训练位点和占据率/ch13训练.csv\" \n",
    "data = np.loadtxt(open(path_csv,\"rb\"),delimiter=\",\",skiprows=1,usecols=[0,1]) \n",
    "ori = data[:,1]\n",
    "print(ori.shape)\n",
    "res = np.loadtxt('染色体预测结果（训练）/ch13_levelp(t).txt',dtype=np.float32)\n",
    "print(res.shape)\n",
    "cor = np.vstack([ori,res]) \n",
    "print(np.corrcoef(cor))"
   ]
  },
  {
   "cell_type": "code",
   "execution_count": null,
   "id": "ef7e2e5d-7b00-4570-9199-d83dc4749a0d",
   "metadata": {},
   "outputs": [],
   "source": []
  },
  {
   "cell_type": "code",
   "execution_count": 15,
   "id": "21db2c1b-79af-4056-9201-42a834bc253d",
   "metadata": {},
   "outputs": [
    {
     "name": "stdout",
     "output_type": "stream",
     "text": [
      "(27752,)\n",
      "(27752,)\n",
      "[[1.         0.96571786]\n",
      " [0.96571786 1.        ]]\n"
     ]
    }
   ],
   "source": [
    "path_csv = \"训练位点和占据率/ch14训练.csv\" \n",
    "data = np.loadtxt(open(path_csv,\"rb\"),delimiter=\",\",skiprows=1,usecols=[0,1]) \n",
    "ori = data[:,1]\n",
    "print(ori.shape)\n",
    "res = np.loadtxt('染色体预测结果（训练）/ch14_levelp(t).txt',dtype=np.float32)\n",
    "print(res.shape)\n",
    "cor = np.vstack([ori,res]) \n",
    "print(np.corrcoef(cor))"
   ]
  },
  {
   "cell_type": "code",
   "execution_count": null,
   "id": "edfbd6e5-8a31-4392-8449-93d42b5d1be4",
   "metadata": {},
   "outputs": [],
   "source": []
  },
  {
   "cell_type": "code",
   "execution_count": 16,
   "id": "6449c2e2-5117-482f-ba30-214e2344f2e7",
   "metadata": {},
   "outputs": [
    {
     "name": "stdout",
     "output_type": "stream",
     "text": [
      "(38604,)\n",
      "(38604,)\n",
      "[[1.         0.96533065]\n",
      " [0.96533065 1.        ]]\n"
     ]
    }
   ],
   "source": [
    "path_csv = \"训练位点和占据率/ch15训练.csv\" \n",
    "data = np.loadtxt(open(path_csv,\"rb\"),delimiter=\",\",skiprows=1,usecols=[0,1]) \n",
    "ori = data[:,1]\n",
    "print(ori.shape)\n",
    "res = np.loadtxt('染色体预测结果（训练）/ch15_levelp(t).txt',dtype=np.float32)\n",
    "print(res.shape)\n",
    "cor = np.vstack([ori,res]) \n",
    "print(np.corrcoef(cor))"
   ]
  },
  {
   "cell_type": "code",
   "execution_count": null,
   "id": "746456f4-9561-4207-a54a-a4cb9d1b6249",
   "metadata": {},
   "outputs": [],
   "source": []
  },
  {
   "cell_type": "code",
   "execution_count": 17,
   "id": "c20d408a-2c90-4a97-a29e-b35462b4fe75",
   "metadata": {},
   "outputs": [
    {
     "name": "stdout",
     "output_type": "stream",
     "text": [
      "(34569,)\n",
      "(34569,)\n",
      "[[1.         0.96794162]\n",
      " [0.96794162 1.        ]]\n"
     ]
    }
   ],
   "source": [
    "path_csv = \"训练位点和占据率/ch16训练.csv\" \n",
    "data = np.loadtxt(open(path_csv,\"rb\"),delimiter=\",\",skiprows=1,usecols=[0,1]) \n",
    "ori = data[:,1]\n",
    "print(ori.shape)\n",
    "res = np.loadtxt('染色体预测结果（训练）/ch16_levelp(t).txt',dtype=np.float32)\n",
    "print(res.shape)\n",
    "cor = np.vstack([ori,res]) \n",
    "print(np.corrcoef(cor))"
   ]
  },
  {
   "cell_type": "code",
   "execution_count": null,
   "id": "a90dd8bc-a91e-4833-97b2-643c8eaa4a97",
   "metadata": {},
   "outputs": [],
   "source": []
  }
 ],
 "metadata": {
  "kernelspec": {
   "display_name": "tf",
   "language": "python",
   "name": "tf"
  },
  "language_info": {
   "codemirror_mode": {
    "name": "ipython",
    "version": 3
   },
   "file_extension": ".py",
   "mimetype": "text/x-python",
   "name": "python",
   "nbconvert_exporter": "python",
   "pygments_lexer": "ipython3",
   "version": "3.7.1"
  }
 },
 "nbformat": 4,
 "nbformat_minor": 5
}
