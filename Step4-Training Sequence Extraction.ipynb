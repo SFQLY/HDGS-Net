{
 "cells": [
  {
   "cell_type": "code",
   "execution_count": 1,
   "metadata": {},
   "outputs": [],
   "source": [
    "import numpy as np\n",
    "import pandas as pd"
   ]
  },
  {
   "cell_type": "code",
   "execution_count": 2,
   "metadata": {},
   "outputs": [
    {
     "data": {
      "text/plain": [
       "230208"
      ]
     },
     "execution_count": 2,
     "metadata": {},
     "output_type": "execute_result"
    }
   ],
   "source": [
    "with open('SAC1基因组去空格/CH1n.txt',\"r\") as f:    \n",
    "    strn = f.read() \n",
    "len(strn)"
   ]
  },
  {
   "cell_type": "code",
   "execution_count": 3,
   "metadata": {},
   "outputs": [
    {
     "name": "stdout",
     "output_type": "stream",
     "text": [
      "(6557,)\n",
      "(6557,)\n"
     ]
    }
   ],
   "source": [
    "f = pd.read_csv('训练位点和占据率/ch1训练.csv')\n",
    "site = f['site']    \n",
    "site = np.array(site)\n",
    "print(site.shape)\n",
    "level = f['value']    \n",
    "level = np.array(level)\n",
    "print(level.shape)"
   ]
  },
  {
   "cell_type": "code",
   "execution_count": 4,
   "metadata": {},
   "outputs": [],
   "source": [
    "fh = open('训练序列/CH1S.txt', 'w')\n",
    "for i in range(len(site)):\n",
    "    strs = strn[int(site[i])-74:int(site[i])+73]\n",
    "    fh.write(strs)\n",
    "    fh.write('\\n')\n",
    "fh.close()"
   ]
  },
  {
   "cell_type": "code",
   "execution_count": null,
   "metadata": {},
   "outputs": [],
   "source": []
  },
  {
   "cell_type": "code",
   "execution_count": 5,
   "metadata": {},
   "outputs": [
    {
     "name": "stdout",
     "output_type": "stream",
     "text": [
      "(29077,)\n",
      "(29077,)\n"
     ]
    }
   ],
   "source": [
    "import numpy as np\n",
    "import pandas as pd\n",
    "with open('SAC1基因组去空格/CH2n.txt',\"r\") as f:    \n",
    "    strn = f.read() \n",
    "len(strn)\n",
    "f = pd.read_csv('训练位点和占据率/ch2训练.csv')\n",
    "site = f['site']    \n",
    "site = np.array(site)\n",
    "print(site.shape)\n",
    "level = f['value']    \n",
    "level = np.array(level)\n",
    "print(level.shape)\n",
    "fh = open('训练序列/CH2S.txt', 'w')\n",
    "for i in range(len(site)):\n",
    "    strs = strn[int(site[i])-74:int(site[i])+73]\n",
    "    fh.write(strs)\n",
    "    fh.write('\\n')\n",
    "fh.close()"
   ]
  },
  {
   "cell_type": "code",
   "execution_count": null,
   "metadata": {},
   "outputs": [],
   "source": []
  },
  {
   "cell_type": "code",
   "execution_count": 6,
   "metadata": {},
   "outputs": [
    {
     "name": "stdout",
     "output_type": "stream",
     "text": [
      "(9140,)\n",
      "(9140,)\n"
     ]
    }
   ],
   "source": [
    "import numpy as np\n",
    "import pandas as pd\n",
    "with open('SAC1基因组去空格/CH3n.txt',\"r\") as f:    \n",
    "    strn = f.read() \n",
    "len(strn)\n",
    "f = pd.read_csv('训练位点和占据率/ch3训练.csv')\n",
    "site = f['site']    \n",
    "site = np.array(site)\n",
    "print(site.shape)\n",
    "level = f['value']    \n",
    "level = np.array(level)\n",
    "print(level.shape)\n",
    "fh = open('训练序列/CH3S.txt', 'w')\n",
    "for i in range(len(site)):\n",
    "    strs = strn[int(site[i])-74:int(site[i])+73]\n",
    "    fh.write(strs)\n",
    "    fh.write('\\n')\n",
    "fh.close()"
   ]
  },
  {
   "cell_type": "code",
   "execution_count": null,
   "metadata": {},
   "outputs": [],
   "source": []
  },
  {
   "cell_type": "code",
   "execution_count": 7,
   "metadata": {},
   "outputs": [
    {
     "name": "stdout",
     "output_type": "stream",
     "text": [
      "(54086,)\n",
      "(54086,)\n"
     ]
    }
   ],
   "source": [
    "import numpy as np\n",
    "import pandas as pd\n",
    "with open('SAC1基因组去空格/CH4n.txt',\"r\") as f:    \n",
    "    strn = f.read() \n",
    "len(strn)\n",
    "f = pd.read_csv('训练位点和占据率/ch4训练.csv')\n",
    "site = f['site']    \n",
    "site = np.array(site)\n",
    "print(site.shape)\n",
    "level = f['value']    \n",
    "level = np.array(level)\n",
    "print(level.shape)\n",
    "fh = open('训练序列/CH4S.txt', 'w')\n",
    "for i in range(len(site)):\n",
    "    strs = strn[int(site[i])-74:int(site[i])+73]\n",
    "    fh.write(strs)\n",
    "    fh.write('\\n')\n",
    "fh.close()"
   ]
  },
  {
   "cell_type": "code",
   "execution_count": null,
   "metadata": {},
   "outputs": [],
   "source": []
  },
  {
   "cell_type": "code",
   "execution_count": 8,
   "metadata": {},
   "outputs": [
    {
     "name": "stdout",
     "output_type": "stream",
     "text": [
      "(19920,)\n",
      "(19920,)\n"
     ]
    }
   ],
   "source": [
    "import numpy as np\n",
    "import pandas as pd\n",
    "with open('SAC1基因组去空格/CH5n.txt',\"r\") as f:    \n",
    "    strn = f.read() \n",
    "len(strn)\n",
    "f = pd.read_csv('训练位点和占据率/ch5训练.csv')\n",
    "site = f['site']    \n",
    "site = np.array(site)\n",
    "print(site.shape)\n",
    "level = f['value']    \n",
    "level = np.array(level)\n",
    "print(level.shape)\n",
    "fh = open('训练序列/CH5S.txt', 'w')\n",
    "for i in range(len(site)):\n",
    "    strs = strn[int(site[i])-74:int(site[i])+73]\n",
    "    fh.write(strs)\n",
    "    fh.write('\\n')\n",
    "fh.close()"
   ]
  },
  {
   "cell_type": "code",
   "execution_count": null,
   "metadata": {},
   "outputs": [],
   "source": []
  },
  {
   "cell_type": "code",
   "execution_count": 9,
   "metadata": {},
   "outputs": [
    {
     "name": "stdout",
     "output_type": "stream",
     "text": [
      "(8793,)\n",
      "(8793,)\n"
     ]
    }
   ],
   "source": [
    "import numpy as np\n",
    "import pandas as pd\n",
    "with open('SAC1基因组去空格/CH6n.txt',\"r\") as f:    \n",
    "    strn = f.read() \n",
    "len(strn)\n",
    "f = pd.read_csv('训练位点和占据率/ch6训练.csv')\n",
    "site = f['site']    \n",
    "site = np.array(site)\n",
    "print(site.shape)\n",
    "level = f['value']    \n",
    "level = np.array(level)\n",
    "print(level.shape)\n",
    "fh = open('训练序列/CH6S.txt', 'w')\n",
    "for i in range(len(site)):\n",
    "    strs = strn[int(site[i])-74:int(site[i])+73]\n",
    "    fh.write(strs)\n",
    "    fh.write('\\n')\n",
    "fh.close()"
   ]
  },
  {
   "cell_type": "code",
   "execution_count": null,
   "metadata": {},
   "outputs": [],
   "source": []
  },
  {
   "cell_type": "code",
   "execution_count": 10,
   "metadata": {},
   "outputs": [
    {
     "name": "stdout",
     "output_type": "stream",
     "text": [
      "(38445,)\n",
      "(38445,)\n"
     ]
    }
   ],
   "source": [
    "import numpy as np\n",
    "import pandas as pd\n",
    "with open('SAC1基因组去空格/CH7n.txt',\"r\") as f:    \n",
    "    strn = f.read() \n",
    "len(strn)\n",
    "f = pd.read_csv('训练位点和占据率/ch7训练.csv')\n",
    "site = f['site']    \n",
    "site = np.array(site)\n",
    "print(site.shape)\n",
    "level = f['value']    \n",
    "level = np.array(level)\n",
    "print(level.shape)\n",
    "fh = open('训练序列/CH7S.txt', 'w')\n",
    "for i in range(len(site)):\n",
    "    strs = strn[int(site[i])-74:int(site[i])+73]\n",
    "    fh.write(strs)\n",
    "    fh.write('\\n')\n",
    "fh.close()"
   ]
  },
  {
   "cell_type": "code",
   "execution_count": null,
   "metadata": {},
   "outputs": [],
   "source": []
  },
  {
   "cell_type": "code",
   "execution_count": 11,
   "metadata": {},
   "outputs": [
    {
     "name": "stdout",
     "output_type": "stream",
     "text": [
      "(19040,)\n",
      "(19040,)\n"
     ]
    }
   ],
   "source": [
    "import numpy as np\n",
    "import pandas as pd\n",
    "with open('SAC1基因组去空格/CH8n.txt',\"r\") as f:    \n",
    "    strn = f.read() \n",
    "len(strn)\n",
    "f = pd.read_csv('训练位点和占据率/ch8训练.csv')\n",
    "site = f['site']    \n",
    "site = np.array(site)\n",
    "print(site.shape)\n",
    "level = f['value']    \n",
    "level = np.array(level)\n",
    "print(level.shape)\n",
    "fh = open('训练序列/CH8S.txt', 'w')\n",
    "for i in range(len(site)):\n",
    "    strs = strn[int(site[i])-74:int(site[i])+73]\n",
    "    fh.write(strs)\n",
    "    fh.write('\\n')\n",
    "fh.close()"
   ]
  },
  {
   "cell_type": "code",
   "execution_count": null,
   "metadata": {},
   "outputs": [],
   "source": []
  },
  {
   "cell_type": "code",
   "execution_count": 12,
   "metadata": {},
   "outputs": [
    {
     "name": "stdout",
     "output_type": "stream",
     "text": [
      "(14270,)\n",
      "(14270,)\n"
     ]
    }
   ],
   "source": [
    "import numpy as np\n",
    "import pandas as pd\n",
    "with open('SAC1基因组去空格/CH9n.txt',\"r\") as f:    \n",
    "    strn = f.read() \n",
    "len(strn)\n",
    "f = pd.read_csv('训练位点和占据率/ch9训练.csv')\n",
    "site = f['site']    \n",
    "site = np.array(site)\n",
    "print(site.shape)\n",
    "level = f['value']    \n",
    "level = np.array(level)\n",
    "print(level.shape)\n",
    "fh = open('训练序列/CH9S.txt', 'w')\n",
    "for i in range(len(site)):\n",
    "    strs = strn[int(site[i])-74:int(site[i])+73]\n",
    "    fh.write(strs)\n",
    "    fh.write('\\n')\n",
    "fh.close()"
   ]
  },
  {
   "cell_type": "code",
   "execution_count": null,
   "metadata": {},
   "outputs": [],
   "source": []
  },
  {
   "cell_type": "code",
   "execution_count": 13,
   "metadata": {},
   "outputs": [
    {
     "name": "stdout",
     "output_type": "stream",
     "text": [
      "(25671,)\n",
      "(25671,)\n"
     ]
    }
   ],
   "source": [
    "import numpy as np\n",
    "import pandas as pd\n",
    "with open('SAC1基因组去空格/CH10n.txt',\"r\") as f:    \n",
    "    strn = f.read() \n",
    "len(strn)\n",
    "f = pd.read_csv('训练位点和占据率/ch10训练.csv')\n",
    "site = f['site']    \n",
    "site = np.array(site)\n",
    "print(site.shape)\n",
    "level = f['value']    \n",
    "level = np.array(level)\n",
    "print(level.shape)\n",
    "fh = open('训练序列/CH10S.txt', 'w')\n",
    "for i in range(len(site)):\n",
    "    strs = strn[int(site[i])-74:int(site[i])+73]\n",
    "    fh.write(strs)\n",
    "    fh.write('\\n')\n",
    "fh.close()"
   ]
  },
  {
   "cell_type": "code",
   "execution_count": null,
   "metadata": {},
   "outputs": [],
   "source": []
  },
  {
   "cell_type": "code",
   "execution_count": 14,
   "metadata": {},
   "outputs": [
    {
     "name": "stdout",
     "output_type": "stream",
     "text": [
      "(25094,)\n",
      "(25094,)\n"
     ]
    }
   ],
   "source": [
    "import numpy as np\n",
    "import pandas as pd\n",
    "with open('SAC1基因组去空格/CH11n.txt',\"r\") as f:    \n",
    "    strn = f.read() \n",
    "len(strn)\n",
    "f = pd.read_csv('训练位点和占据率/ch11训练.csv')\n",
    "site = f['site']    \n",
    "site = np.array(site)\n",
    "print(site.shape)\n",
    "level = f['value']    \n",
    "level = np.array(level)\n",
    "print(level.shape)\n",
    "fh = open('训练序列/CH11S.txt', 'w')\n",
    "for i in range(len(site)):\n",
    "    strs = strn[int(site[i])-74:int(site[i])+73]\n",
    "    fh.write(strs)\n",
    "    fh.write('\\n')\n",
    "fh.close()"
   ]
  },
  {
   "cell_type": "code",
   "execution_count": null,
   "metadata": {},
   "outputs": [],
   "source": []
  },
  {
   "cell_type": "code",
   "execution_count": 15,
   "metadata": {},
   "outputs": [
    {
     "name": "stdout",
     "output_type": "stream",
     "text": [
      "(36380,)\n",
      "(36380,)\n"
     ]
    }
   ],
   "source": [
    "import numpy as np\n",
    "import pandas as pd\n",
    "with open('SAC1基因组去空格/CH12n.txt',\"r\") as f:    \n",
    "    strn = f.read() \n",
    "len(strn)\n",
    "f = pd.read_csv('训练位点和占据率/ch12训练.csv')\n",
    "site = f['site']    \n",
    "site = np.array(site)\n",
    "print(site.shape)\n",
    "level = f['value']    \n",
    "level = np.array(level)\n",
    "print(level.shape)\n",
    "fh = open('训练序列/CH12S.txt', 'w')\n",
    "for i in range(len(site)):\n",
    "    strs = strn[int(site[i])-74:int(site[i])+73]\n",
    "    fh.write(strs)\n",
    "    fh.write('\\n')\n",
    "fh.close()"
   ]
  },
  {
   "cell_type": "code",
   "execution_count": null,
   "metadata": {},
   "outputs": [],
   "source": []
  },
  {
   "cell_type": "code",
   "execution_count": 16,
   "metadata": {},
   "outputs": [
    {
     "name": "stdout",
     "output_type": "stream",
     "text": [
      "(33587,)\n",
      "(33587,)\n"
     ]
    }
   ],
   "source": [
    "import numpy as np\n",
    "import pandas as pd\n",
    "with open('SAC1基因组去空格/CH13n.txt',\"r\") as f:    \n",
    "    strn = f.read() \n",
    "len(strn)\n",
    "f = pd.read_csv('训练位点和占据率/ch13训练.csv')\n",
    "site = f['site']    \n",
    "site = np.array(site)\n",
    "print(site.shape)\n",
    "level = f['value']    \n",
    "level = np.array(level)\n",
    "print(level.shape)\n",
    "fh = open('训练序列/CH13S.txt', 'w')\n",
    "for i in range(len(site)):\n",
    "    strs = strn[int(site[i])-74:int(site[i])+73]\n",
    "    fh.write(strs)\n",
    "    fh.write('\\n')\n",
    "fh.close()"
   ]
  },
  {
   "cell_type": "code",
   "execution_count": null,
   "metadata": {},
   "outputs": [],
   "source": []
  },
  {
   "cell_type": "code",
   "execution_count": 17,
   "metadata": {},
   "outputs": [
    {
     "name": "stdout",
     "output_type": "stream",
     "text": [
      "(27752,)\n",
      "(27752,)\n"
     ]
    }
   ],
   "source": [
    "import numpy as np\n",
    "import pandas as pd\n",
    "with open('SAC1基因组去空格/CH14n.txt',\"r\") as f:    \n",
    "    strn = f.read() \n",
    "len(strn)\n",
    "f = pd.read_csv('训练位点和占据率/ch14训练.csv')\n",
    "site = f['site']    \n",
    "site = np.array(site)\n",
    "print(site.shape)\n",
    "level = f['value']    \n",
    "level = np.array(level)\n",
    "print(level.shape)\n",
    "fh = open('训练序列/CH14S.txt', 'w')\n",
    "for i in range(len(site)):\n",
    "    strs = strn[int(site[i])-74:int(site[i])+73]\n",
    "    fh.write(strs)\n",
    "    fh.write('\\n')\n",
    "fh.close()"
   ]
  },
  {
   "cell_type": "code",
   "execution_count": null,
   "metadata": {},
   "outputs": [],
   "source": []
  },
  {
   "cell_type": "code",
   "execution_count": 18,
   "metadata": {},
   "outputs": [
    {
     "name": "stdout",
     "output_type": "stream",
     "text": [
      "(38604,)\n",
      "(38604,)\n"
     ]
    }
   ],
   "source": [
    "import numpy as np\n",
    "import pandas as pd\n",
    "with open('SAC1基因组去空格/CH15n.txt',\"r\") as f:    \n",
    "    strn = f.read() \n",
    "len(strn)\n",
    "f = pd.read_csv('训练位点和占据率/ch15训练.csv')\n",
    "site = f['site']    \n",
    "site = np.array(site)\n",
    "print(site.shape)\n",
    "level = f['value']    \n",
    "level = np.array(level)\n",
    "print(level.shape)\n",
    "fh = open('训练序列/CH15S.txt', 'w')\n",
    "for i in range(len(site)):\n",
    "    strs = strn[int(site[i])-74:int(site[i])+73]\n",
    "    fh.write(strs)\n",
    "    fh.write('\\n')\n",
    "fh.close()"
   ]
  },
  {
   "cell_type": "code",
   "execution_count": null,
   "metadata": {},
   "outputs": [],
   "source": []
  },
  {
   "cell_type": "code",
   "execution_count": 19,
   "metadata": {},
   "outputs": [
    {
     "name": "stdout",
     "output_type": "stream",
     "text": [
      "(34569,)\n",
      "(34569,)\n"
     ]
    }
   ],
   "source": [
    "import numpy as np\n",
    "import pandas as pd\n",
    "with open('SAC1基因组去空格/CH16n.txt',\"r\") as f:    \n",
    "    strn = f.read() \n",
    "len(strn)\n",
    "f = pd.read_csv('训练位点和占据率/ch16训练.csv')\n",
    "site = f['site']    \n",
    "site = np.array(site)\n",
    "print(site.shape)\n",
    "level = f['value']    \n",
    "level = np.array(level)\n",
    "print(level.shape)\n",
    "fh = open('训练序列/CH16S.txt', 'w')\n",
    "for i in range(len(site)):\n",
    "    strs = strn[int(site[i])-74:int(site[i])+73]\n",
    "    fh.write(strs)\n",
    "    fh.write('\\n')\n",
    "fh.close()"
   ]
  },
  {
   "cell_type": "code",
   "execution_count": null,
   "metadata": {},
   "outputs": [],
   "source": []
  },
  {
   "cell_type": "code",
   "execution_count": 20,
   "metadata": {},
   "outputs": [
    {
     "name": "stdout",
     "output_type": "stream",
     "text": [
      "970436\n",
      "4303396\n",
      "1352720\n",
      "8004728\n",
      "2948160\n",
      "1301364\n",
      "5689860\n",
      "2817920\n",
      "2111960\n",
      "2111960\n",
      "3713912\n",
      "5384240\n",
      "4970876\n",
      "4107296\n",
      "5713392\n",
      "5116212\n"
     ]
    }
   ],
   "source": [
    "import numpy as np\n",
    "with open('训练序列/CH1S.txt',\"r\") as strn:    \n",
    "    f1 = strn.read()\n",
    "print(len(f1))\n",
    "with open('训练序列/CH2S.txt',\"r\") as strn:    \n",
    "    f2 = strn.read()\n",
    "print(len(f2))\n",
    "with open('训练序列/CH3S.txt',\"r\") as strn:    \n",
    "    f3 = strn.read()\n",
    "print(len(f3))\n",
    "with open('训练序列/CH4S.txt',\"r\") as strn:    \n",
    "    f4 = strn.read()\n",
    "print(len(f4))\n",
    "with open('训练序列/CH5S.txt',\"r\") as strn:    \n",
    "    f5 = strn.read()\n",
    "print(len(f5))\n",
    "with open('训练序列/CH6S.txt',\"r\") as strn:    \n",
    "    f6 = strn.read()\n",
    "print(len(f6))\n",
    "with open('训练序列/CH7S.txt',\"r\") as strn:    \n",
    "    f7 = strn.read()\n",
    "print(len(f7))\n",
    "with open('训练序列/CH8S.txt',\"r\") as strn:    \n",
    "    f8 = strn.read()\n",
    "print(len(f8))\n",
    "with open('训练序列/CH9S.txt',\"r\") as strn:    \n",
    "    f9 = strn.read()\n",
    "print(len(f9))\n",
    "with open('训练序列/CH9S.txt',\"r\") as strn:    \n",
    "    f10 = strn.read()\n",
    "print(len(f10))\n",
    "with open('训练序列/CH11S.txt',\"r\") as strn:    \n",
    "    f11 = strn.read()\n",
    "print(len(f11))\n",
    "with open('训练序列/CH12S.txt',\"r\") as strn:    \n",
    "    f12 = strn.read()\n",
    "print(len(f12))\n",
    "with open('训练序列/CH13S.txt',\"r\") as strn:    \n",
    "    f13 = strn.read()\n",
    "print(len(f13))\n",
    "with open('训练序列/CH14S.txt',\"r\") as strn:    \n",
    "    f14 = strn.read()\n",
    "print(len(f14))\n",
    "with open('训练序列/CH15S.txt',\"r\") as strn:    \n",
    "    f15 = strn.read()\n",
    "print(len(f15))\n",
    "with open('训练序列/CH16S.txt',\"r\") as strn:    \n",
    "    f16 = strn.read()\n",
    "print(len(f16))"
   ]
  },
  {
   "cell_type": "code",
   "execution_count": 21,
   "metadata": {},
   "outputs": [
    {
     "name": "stdout",
     "output_type": "stream",
     "text": [
      "58506472\n",
      "60618432\n"
     ]
    }
   ],
   "source": [
    "f_15 = f1 + f2 + f3 + f4 + f5 + f6 + f7 + f8 + f9 + f11 + f12 + f13 + f14 + f15 + f16\n",
    "print(len(f_15))\n",
    "with open('训练序列/CHAS(No10).txt', \"w\") as combined_file:\n",
    "    combined_file.write(f_15)\n",
    "f_16 = f1 + f2 + f3 + f4 + f5 + f6 + f7 + f8 + f9 + f10 + f11 + f12 + f13 + f14 + f15 + f16\n",
    "print(len(f_16))\n",
    "with open('训练序列/CHAS.txt', \"w\") as combined_file:\n",
    "    combined_file.write(f_16)"
   ]
  },
  {
   "cell_type": "code",
   "execution_count": null,
   "metadata": {},
   "outputs": [],
   "source": []
  }
 ],
 "metadata": {
  "kernelspec": {
   "display_name": "Python 3 (ipykernel)",
   "language": "python",
   "name": "python3"
  },
  "language_info": {
   "codemirror_mode": {
    "name": "ipython",
    "version": 3
   },
   "file_extension": ".py",
   "mimetype": "text/x-python",
   "name": "python",
   "nbconvert_exporter": "python",
   "pygments_lexer": "ipython3",
   "version": "3.12.7"
  }
 },
 "nbformat": 4,
 "nbformat_minor": 4
}
