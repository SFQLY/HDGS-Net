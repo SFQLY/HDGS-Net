{
 "cells": [
  {
   "attachments": {},
   "cell_type": "markdown",
   "metadata": {},
   "source": [
    "分割值: 2.439  2.711  2.656  2.682  2.659  2.522  2.753  2.574  2.6  2.712  2.623  2.93  2.703  2.715  2.709  2.62"
   ]
  },
  {
   "cell_type": "markdown",
   "metadata": {},
   "source": [
    "分割值位点:  3166 13766 3249 27068 9180 3046 18894 9600 5080 12291 13356 17720 17706 14016 17859 20012"
   ]
  },
  {
   "cell_type": "code",
   "execution_count": 1,
   "metadata": {},
   "outputs": [],
   "source": [
    "import numpy as np\n",
    "import csv\n",
    "import pandas as pd"
   ]
  },
  {
   "cell_type": "code",
   "execution_count": 2,
   "metadata": {},
   "outputs": [],
   "source": [
    "path_csv = \"分类染色体/ch1.csv\"  \n",
    "data = np.loadtxt(open(path_csv,\"rb\"),delimiter=\",\",skiprows=1,usecols=[2,3]) "
   ]
  },
  {
   "cell_type": "code",
   "execution_count": 3,
   "metadata": {},
   "outputs": [
    {
     "data": {
      "text/plain": [
       "(168234, 2)"
      ]
     },
     "execution_count": 3,
     "metadata": {},
     "output_type": "execute_result"
    }
   ],
   "source": [
    "data.shape"
   ]
  },
  {
   "cell_type": "code",
   "execution_count": 4,
   "metadata": {},
   "outputs": [
    {
     "data": {
      "text/plain": [
       "array([4.158, 4.142, 4.142, 4.127, 4.127])"
      ]
     },
     "execution_count": 4,
     "metadata": {},
     "output_type": "execute_result"
    }
   ],
   "source": [
    "data[0:5,1]"
   ]
  },
  {
   "cell_type": "code",
   "execution_count": 5,
   "metadata": {},
   "outputs": [
    {
     "name": "stdout",
     "output_type": "stream",
     "text": [
      "3167\n"
     ]
    }
   ],
   "source": [
    "num = 0\n",
    "for i in range(len(data)):\n",
    "    if data[i][1] >= 2.439:\n",
    "        num = num+1\n",
    "print(num)"
   ]
  },
  {
   "cell_type": "code",
   "execution_count": 6,
   "metadata": {},
   "outputs": [
    {
     "name": "stdout",
     "output_type": "stream",
     "text": [
      "(3167, 2)\n"
     ]
    }
   ],
   "source": [
    "high = data[0:3167][:]\n",
    "print(high.shape)"
   ]
  },
  {
   "cell_type": "code",
   "execution_count": 7,
   "metadata": {},
   "outputs": [
    {
     "name": "stdout",
     "output_type": "stream",
     "text": [
      "(165067, 2)\n"
     ]
    }
   ],
   "source": [
    "mid = data[3167:168234][:]\n",
    "print(mid.shape)"
   ]
  },
  {
   "cell_type": "code",
   "execution_count": 8,
   "metadata": {},
   "outputs": [
    {
     "name": "stdout",
     "output_type": "stream",
     "text": [
      "(1055, 2)\n",
      "(5502, 2)\n"
     ]
    }
   ],
   "source": [
    "highx = np.zeros((int(3167/3), 2))\n",
    "midx = np.zeros((int(165067/30), 2))\n",
    "print(highx.shape)\n",
    "print(midx.shape)"
   ]
  },
  {
   "cell_type": "code",
   "execution_count": 9,
   "metadata": {},
   "outputs": [
    {
     "name": "stdout",
     "output_type": "stream",
     "text": [
      "[[1.68794e+05 4.15800e+00]\n",
      " [1.68797e+05 4.12700e+00]\n",
      " [1.68795e+05 4.12000e+00]\n",
      " ...\n",
      " [7.21660e+04 2.44000e+00]\n",
      " [4.32380e+04 2.43900e+00]\n",
      " [7.21620e+04 2.43900e+00]]\n"
     ]
    }
   ],
   "source": [
    "for h in range(int(3167/3)):\n",
    "    ht = h*3\n",
    "    highx[h][0] = high[ht][0]\n",
    "    highx[h][1] = high[ht][1]\n",
    "print(highx)"
   ]
  },
  {
   "cell_type": "code",
   "execution_count": 10,
   "metadata": {},
   "outputs": [
    {
     "name": "stdout",
     "output_type": "stream",
     "text": [
      "[[1.31037e+05 2.43800e+00]\n",
      " [4.40000e+04 2.43500e+00]\n",
      " [5.99560e+04 2.42700e+00]\n",
      " ...\n",
      " [1.99914e+05 1.55000e-02]\n",
      " [1.01289e+05 1.55000e-02]\n",
      " [1.76509e+05 1.55000e-02]]\n"
     ]
    }
   ],
   "source": [
    "for m in range(int(165067/30)):\n",
    "    mt = m*30\n",
    "    midx[m][0] = mid[mt][0]\n",
    "    midx[m][1] = mid[mt][1]\n",
    "print(midx)"
   ]
  },
  {
   "cell_type": "code",
   "execution_count": 11,
   "metadata": {},
   "outputs": [
    {
     "data": {
      "text/plain": [
       "(6557, 2)"
      ]
     },
     "execution_count": 11,
     "metadata": {},
     "output_type": "execute_result"
    }
   ],
   "source": [
    "Nuar = np.concatenate([highx, midx])\n",
    "Nuar.shape"
   ]
  },
  {
   "cell_type": "code",
   "execution_count": 12,
   "metadata": {},
   "outputs": [
    {
     "name": "stdout",
     "output_type": "stream",
     "text": [
      "(6557,)\n",
      "(6557,)\n"
     ]
    }
   ],
   "source": [
    "site = Nuar[:,0]\n",
    "level = Nuar[:,1]\n",
    "print(site.shape)\n",
    "print(level.shape)"
   ]
  },
  {
   "cell_type": "code",
   "execution_count": 13,
   "metadata": {},
   "outputs": [],
   "source": [
    "df = pd.DataFrame(Nuar,columns=['site','value'])"
   ]
  },
  {
   "cell_type": "code",
   "execution_count": 14,
   "metadata": {},
   "outputs": [
    {
     "data": {
      "text/html": [
       "<div>\n",
       "<style scoped>\n",
       "    .dataframe tbody tr th:only-of-type {\n",
       "        vertical-align: middle;\n",
       "    }\n",
       "\n",
       "    .dataframe tbody tr th {\n",
       "        vertical-align: top;\n",
       "    }\n",
       "\n",
       "    .dataframe thead th {\n",
       "        text-align: right;\n",
       "    }\n",
       "</style>\n",
       "<table border=\"1\" class=\"dataframe\">\n",
       "  <thead>\n",
       "    <tr style=\"text-align: right;\">\n",
       "      <th></th>\n",
       "      <th>site</th>\n",
       "      <th>value</th>\n",
       "    </tr>\n",
       "  </thead>\n",
       "  <tbody>\n",
       "    <tr>\n",
       "      <th>0</th>\n",
       "      <td>168794.0</td>\n",
       "      <td>4.158</td>\n",
       "    </tr>\n",
       "    <tr>\n",
       "      <th>1</th>\n",
       "      <td>168797.0</td>\n",
       "      <td>4.127</td>\n",
       "    </tr>\n",
       "    <tr>\n",
       "      <th>2</th>\n",
       "      <td>168795.0</td>\n",
       "      <td>4.120</td>\n",
       "    </tr>\n",
       "    <tr>\n",
       "      <th>3</th>\n",
       "      <td>168791.0</td>\n",
       "      <td>4.118</td>\n",
       "    </tr>\n",
       "    <tr>\n",
       "      <th>4</th>\n",
       "      <td>168803.0</td>\n",
       "      <td>4.112</td>\n",
       "    </tr>\n",
       "  </tbody>\n",
       "</table>\n",
       "</div>"
      ],
      "text/plain": [
       "       site  value\n",
       "0  168794.0  4.158\n",
       "1  168797.0  4.127\n",
       "2  168795.0  4.120\n",
       "3  168791.0  4.118\n",
       "4  168803.0  4.112"
      ]
     },
     "execution_count": 14,
     "metadata": {},
     "output_type": "execute_result"
    }
   ],
   "source": [
    "df.head()"
   ]
  },
  {
   "cell_type": "code",
   "execution_count": 15,
   "metadata": {},
   "outputs": [],
   "source": [
    "df.to_csv('训练位点和占据率/ch1训练.csv',index=False)"
   ]
  },
  {
   "cell_type": "code",
   "execution_count": 16,
   "metadata": {},
   "outputs": [],
   "source": [
    "data = pd.read_csv('训练位点和占据率/ch1训练.csv')"
   ]
  },
  {
   "cell_type": "code",
   "execution_count": 17,
   "metadata": {},
   "outputs": [
    {
     "data": {
      "text/html": [
       "<div>\n",
       "<style scoped>\n",
       "    .dataframe tbody tr th:only-of-type {\n",
       "        vertical-align: middle;\n",
       "    }\n",
       "\n",
       "    .dataframe tbody tr th {\n",
       "        vertical-align: top;\n",
       "    }\n",
       "\n",
       "    .dataframe thead th {\n",
       "        text-align: right;\n",
       "    }\n",
       "</style>\n",
       "<table border=\"1\" class=\"dataframe\">\n",
       "  <thead>\n",
       "    <tr style=\"text-align: right;\">\n",
       "      <th></th>\n",
       "      <th>site</th>\n",
       "      <th>value</th>\n",
       "    </tr>\n",
       "  </thead>\n",
       "  <tbody>\n",
       "    <tr>\n",
       "      <th>0</th>\n",
       "      <td>168794.0</td>\n",
       "      <td>4.158</td>\n",
       "    </tr>\n",
       "    <tr>\n",
       "      <th>1</th>\n",
       "      <td>168797.0</td>\n",
       "      <td>4.127</td>\n",
       "    </tr>\n",
       "    <tr>\n",
       "      <th>2</th>\n",
       "      <td>168795.0</td>\n",
       "      <td>4.120</td>\n",
       "    </tr>\n",
       "    <tr>\n",
       "      <th>3</th>\n",
       "      <td>168791.0</td>\n",
       "      <td>4.118</td>\n",
       "    </tr>\n",
       "    <tr>\n",
       "      <th>4</th>\n",
       "      <td>168803.0</td>\n",
       "      <td>4.112</td>\n",
       "    </tr>\n",
       "  </tbody>\n",
       "</table>\n",
       "</div>"
      ],
      "text/plain": [
       "       site  value\n",
       "0  168794.0  4.158\n",
       "1  168797.0  4.127\n",
       "2  168795.0  4.120\n",
       "3  168791.0  4.118\n",
       "4  168803.0  4.112"
      ]
     },
     "execution_count": 17,
     "metadata": {},
     "output_type": "execute_result"
    }
   ],
   "source": [
    "data.head()"
   ]
  },
  {
   "cell_type": "code",
   "execution_count": null,
   "metadata": {},
   "outputs": [],
   "source": []
  },
  {
   "cell_type": "code",
   "execution_count": 18,
   "metadata": {},
   "outputs": [
    {
     "name": "stdout",
     "output_type": "stream",
     "text": [
      "(748431, 2)\n",
      "13767\n"
     ]
    }
   ],
   "source": [
    "import numpy as np\n",
    "import csv\n",
    "import pandas as pd\n",
    "path_csv = \"分类染色体/ch2.csv\"  \n",
    "data = np.loadtxt(open(path_csv,\"rb\"),delimiter=\",\",skiprows=1,usecols=[2,3]) \n",
    "print(data.shape)\n",
    "num = 0\n",
    "for i in range(len(data)):\n",
    "    if data[i][1] >= 2.711:\n",
    "        num = num+1\n",
    "print(num)"
   ]
  },
  {
   "cell_type": "code",
   "execution_count": 19,
   "metadata": {},
   "outputs": [
    {
     "name": "stdout",
     "output_type": "stream",
     "text": [
      "(13767, 2)\n",
      "(734664, 2)\n"
     ]
    }
   ],
   "source": [
    "high = data[0:13767][:]\n",
    "print(high.shape)\n",
    "mid = data[13767:748431][:]\n",
    "print(mid.shape)"
   ]
  },
  {
   "cell_type": "code",
   "execution_count": 20,
   "metadata": {},
   "outputs": [
    {
     "name": "stdout",
     "output_type": "stream",
     "text": [
      "(4589, 2)\n",
      "(24488, 2)\n",
      "[[5.34314e+05 4.52700e+00]\n",
      " [5.34315e+05 4.51900e+00]\n",
      " [5.34320e+05 4.51100e+00]\n",
      " ...\n",
      " [4.97459e+05 2.71100e+00]\n",
      " [1.41297e+05 2.71100e+00]\n",
      " [4.70354e+05 2.71100e+00]]\n",
      "[[2.57538e+05 2.71000e+00]\n",
      " [7.33496e+05 2.71000e+00]\n",
      " [1.69789e+05 2.70900e+00]\n",
      " ...\n",
      " [5.63087e+05 1.55000e-02]\n",
      " [3.53632e+05 1.52000e-02]\n",
      " [3.53577e+05 1.52000e-02]]\n"
     ]
    }
   ],
   "source": [
    "highx = np.zeros((int(13767/3), 2))\n",
    "midx = np.zeros((int(734664/30), 2))\n",
    "print(highx.shape)\n",
    "print(midx.shape)\n",
    "for h in range(int(13767/3)):\n",
    "    ht = h*3\n",
    "    highx[h][0] = high[ht][0]\n",
    "    highx[h][1] = high[ht][1]\n",
    "print(highx)\n",
    "for m in range(int(734664/30)):\n",
    "    mt = m*30\n",
    "    midx[m][0] = mid[mt][0]\n",
    "    midx[m][1] = mid[mt][1]\n",
    "print(midx)"
   ]
  },
  {
   "cell_type": "code",
   "execution_count": 21,
   "metadata": {},
   "outputs": [
    {
     "name": "stdout",
     "output_type": "stream",
     "text": [
      "(29077, 2)\n"
     ]
    }
   ],
   "source": [
    "Nuar = np.concatenate([highx, midx])\n",
    "print(Nuar.shape)\n",
    "site = Nuar[:,0]\n",
    "level = Nuar[:,1]\n",
    "df = pd.DataFrame(Nuar,columns=['site','value'])\n",
    "df.to_csv('训练位点和占据率/ch2训练.csv',index=False)"
   ]
  },
  {
   "cell_type": "code",
   "execution_count": null,
   "metadata": {},
   "outputs": [],
   "source": []
  },
  {
   "cell_type": "code",
   "execution_count": 22,
   "metadata": {},
   "outputs": [
    {
     "name": "stdout",
     "output_type": "stream",
     "text": [
      "(244966, 2)\n",
      "3250\n"
     ]
    }
   ],
   "source": [
    "import numpy as np\n",
    "import csv\n",
    "import pandas as pd\n",
    "path_csv = \"分类染色体/ch3.csv\"  \n",
    "data = np.loadtxt(open(path_csv,\"rb\"),delimiter=\",\",skiprows=1,usecols=[2,3]) \n",
    "print(data.shape)\n",
    "num = 0\n",
    "for i in range(len(data)):\n",
    "    if data[i][1] >= 2.656:\n",
    "        num = num+1\n",
    "print(num)"
   ]
  },
  {
   "cell_type": "code",
   "execution_count": 23,
   "metadata": {},
   "outputs": [
    {
     "name": "stdout",
     "output_type": "stream",
     "text": [
      "(3250, 2)\n",
      "(241716, 2)\n"
     ]
    }
   ],
   "source": [
    "high = data[0:3250][:]\n",
    "print(high.shape)\n",
    "mid = data[3250:244966][:]\n",
    "print(mid.shape)"
   ]
  },
  {
   "cell_type": "code",
   "execution_count": 24,
   "metadata": {},
   "outputs": [
    {
     "name": "stdout",
     "output_type": "stream",
     "text": [
      "(1083, 2)\n",
      "(8057, 2)\n",
      "[[4.71450e+04 4.18600e+00]\n",
      " [4.71440e+04 4.17900e+00]\n",
      " [4.71360e+04 4.17100e+00]\n",
      " ...\n",
      " [2.22007e+05 2.65800e+00]\n",
      " [4.90300e+04 2.65800e+00]\n",
      " [3.99510e+04 2.65800e+00]]\n",
      "[[2.13550e+04 2.65500e+00]\n",
      " [2.47046e+05 2.65300e+00]\n",
      " [3.52830e+04 2.64800e+00]\n",
      " ...\n",
      " [2.60039e+05 1.55000e-02]\n",
      " [2.94600e+04 1.55000e-02]\n",
      " [2.92604e+05 1.55000e-02]]\n"
     ]
    }
   ],
   "source": [
    "highx = np.zeros((int(3250/3), 2))\n",
    "midx = np.zeros((int(241716/30), 2))\n",
    "print(highx.shape)\n",
    "print(midx.shape)\n",
    "for h in range(int(3250/3)):\n",
    "    ht = h*3\n",
    "    highx[h][0] = high[ht][0]\n",
    "    highx[h][1] = high[ht][1]\n",
    "print(highx)\n",
    "for m in range(int(241716/30)):\n",
    "    mt = m*30\n",
    "    midx[m][0] = mid[mt][0]\n",
    "    midx[m][1] = mid[mt][1]\n",
    "print(midx)"
   ]
  },
  {
   "cell_type": "code",
   "execution_count": 25,
   "metadata": {},
   "outputs": [
    {
     "name": "stdout",
     "output_type": "stream",
     "text": [
      "(9140, 2)\n"
     ]
    }
   ],
   "source": [
    "Nuar = np.concatenate([highx, midx])\n",
    "print(Nuar.shape)\n",
    "site = Nuar[:,0]\n",
    "level = Nuar[:,1]\n",
    "df = pd.DataFrame(Nuar,columns=['site','value'])\n",
    "df.to_csv('训练位点和占据率/ch3训练.csv',index=False)"
   ]
  },
  {
   "cell_type": "code",
   "execution_count": null,
   "metadata": {},
   "outputs": [],
   "source": []
  },
  {
   "cell_type": "code",
   "execution_count": 26,
   "metadata": {},
   "outputs": [
    {
     "name": "stdout",
     "output_type": "stream",
     "text": [
      "(1378420, 2)\n",
      "27129\n"
     ]
    }
   ],
   "source": [
    "import numpy as np\n",
    "import csv\n",
    "import pandas as pd\n",
    "path_csv = \"分类染色体/ch4.csv\"  \n",
    "data = np.loadtxt(open(path_csv,\"rb\"),delimiter=\",\",skiprows=1,usecols=[2,3]) \n",
    "print(data.shape)\n",
    "num = 0\n",
    "for i in range(len(data)):\n",
    "    if data[i][1] >= 2.682:\n",
    "        num = num+1\n",
    "print(num)"
   ]
  },
  {
   "cell_type": "code",
   "execution_count": 27,
   "metadata": {},
   "outputs": [
    {
     "name": "stdout",
     "output_type": "stream",
     "text": [
      "(27129, 2)\n",
      "(1351291, 2)\n"
     ]
    }
   ],
   "source": [
    "high = data[0:27129][:]\n",
    "print(high.shape)\n",
    "mid = data[27129:1378420][:]\n",
    "print(mid.shape)"
   ]
  },
  {
   "cell_type": "code",
   "execution_count": 28,
   "metadata": {},
   "outputs": [
    {
     "name": "stdout",
     "output_type": "stream",
     "text": [
      "(9043, 2)\n",
      "(45043, 2)\n",
      "[[3.80350e+04 4.56500e+00]\n",
      " [3.80380e+04 4.56500e+00]\n",
      " [3.80330e+04 4.56500e+00]\n",
      " ...\n",
      " [3.34340e+05 2.68200e+00]\n",
      " [5.54208e+05 2.68200e+00]\n",
      " [3.18510e+05 2.68200e+00]]\n",
      "[[1.286756e+06 2.681000e+00]\n",
      " [1.140185e+06 2.681000e+00]\n",
      " [1.494020e+06 2.680000e+00]\n",
      " ...\n",
      " [2.125190e+05 1.550000e-02]\n",
      " [1.095496e+06 1.520000e-02]\n",
      " [1.095512e+06 1.520000e-02]]\n"
     ]
    }
   ],
   "source": [
    "highx = np.zeros((int(27129/3), 2))\n",
    "midx = np.zeros((int(1351291/30), 2))\n",
    "print(highx.shape)\n",
    "print(midx.shape)\n",
    "for h in range(int(27129/3)):\n",
    "    ht = h*3\n",
    "    highx[h][0] = high[ht][0]\n",
    "    highx[h][1] = high[ht][1]\n",
    "print(highx)\n",
    "for m in range(int(1351291/30)):\n",
    "    mt = m*30\n",
    "    midx[m][0] = mid[mt][0]\n",
    "    midx[m][1] = mid[mt][1]\n",
    "print(midx)"
   ]
  },
  {
   "cell_type": "code",
   "execution_count": 29,
   "metadata": {},
   "outputs": [
    {
     "name": "stdout",
     "output_type": "stream",
     "text": [
      "(54086, 2)\n"
     ]
    }
   ],
   "source": [
    "Nuar = np.concatenate([highx, midx])\n",
    "print(Nuar.shape)\n",
    "site = Nuar[:,0]\n",
    "level = Nuar[:,1]\n",
    "df = pd.DataFrame(Nuar,columns=['site','value'])\n",
    "df.to_csv('训练位点和占据率/ch4训练.csv',index=False)"
   ]
  },
  {
   "cell_type": "code",
   "execution_count": null,
   "metadata": {},
   "outputs": [],
   "source": []
  },
  {
   "cell_type": "code",
   "execution_count": 30,
   "metadata": {},
   "outputs": [
    {
     "name": "stdout",
     "output_type": "stream",
     "text": [
      "(515003, 2)\n",
      "9181\n"
     ]
    }
   ],
   "source": [
    "import numpy as np\n",
    "import csv\n",
    "import pandas as pd\n",
    "path_csv = \"分类染色体/ch5.csv\"  \n",
    "data = np.loadtxt(open(path_csv,\"rb\"),delimiter=\",\",skiprows=1,usecols=[2,3]) \n",
    "print(data.shape)\n",
    "num = 0\n",
    "for i in range(len(data)):\n",
    "    if data[i][1] >= 2.659:\n",
    "        num = num+1\n",
    "print(num)"
   ]
  },
  {
   "cell_type": "code",
   "execution_count": 31,
   "metadata": {},
   "outputs": [
    {
     "name": "stdout",
     "output_type": "stream",
     "text": [
      "(9181, 2)\n",
      "(505822, 2)\n"
     ]
    }
   ],
   "source": [
    "high = data[0:9181][:]\n",
    "print(high.shape)\n",
    "mid = data[9181:515003][:]\n",
    "print(mid.shape)"
   ]
  },
  {
   "cell_type": "code",
   "execution_count": 32,
   "metadata": {},
   "outputs": [
    {
     "name": "stdout",
     "output_type": "stream",
     "text": [
      "(3060, 2)\n",
      "(16860, 2)\n",
      "[[3.49700e+05 4.30600e+00]\n",
      " [3.49703e+05 4.25800e+00]\n",
      " [3.49708e+05 4.24900e+00]\n",
      " ...\n",
      " [2.88994e+05 2.65900e+00]\n",
      " [4.40286e+05 2.65900e+00]\n",
      " [4.08550e+04 2.65900e+00]]\n",
      "[[4.40323e+05 2.65800e+00]\n",
      " [1.43633e+05 2.65800e+00]\n",
      " [3.34702e+05 2.65600e+00]\n",
      " ...\n",
      " [5.38382e+05 1.55000e-02]\n",
      " [5.20853e+05 1.55000e-02]\n",
      " [5.20845e+05 1.55000e-02]]\n"
     ]
    }
   ],
   "source": [
    "highx = np.zeros((int(9181/3), 2))\n",
    "midx = np.zeros((int(505822/30), 2))\n",
    "print(highx.shape)\n",
    "print(midx.shape)\n",
    "for h in range(int(9181/3)):\n",
    "    ht = h*3\n",
    "    highx[h][0] = high[ht][0]\n",
    "    highx[h][1] = high[ht][1]\n",
    "print(highx)\n",
    "for m in range(int(505822/30)):\n",
    "    mt = m*30\n",
    "    midx[m][0] = mid[mt][0]\n",
    "    midx[m][1] = mid[mt][1]\n",
    "print(midx)"
   ]
  },
  {
   "cell_type": "code",
   "execution_count": 33,
   "metadata": {},
   "outputs": [
    {
     "name": "stdout",
     "output_type": "stream",
     "text": [
      "(19920, 2)\n"
     ]
    }
   ],
   "source": [
    "Nuar = np.concatenate([highx, midx])\n",
    "print(Nuar.shape)\n",
    "site = Nuar[:,0]\n",
    "level = Nuar[:,1]\n",
    "df = pd.DataFrame(Nuar,columns=['site','value'])\n",
    "df.to_csv('训练位点和占据率/ch5训练.csv',index=False)"
   ]
  },
  {
   "cell_type": "code",
   "execution_count": null,
   "metadata": {},
   "outputs": [],
   "source": []
  },
  {
   "cell_type": "code",
   "execution_count": 34,
   "metadata": {},
   "outputs": [
    {
     "name": "stdout",
     "output_type": "stream",
     "text": [
      "(236402, 2)\n",
      "3047\n"
     ]
    }
   ],
   "source": [
    "import numpy as np\n",
    "import csv\n",
    "import pandas as pd\n",
    "path_csv = \"分类染色体/ch6.csv\"  \n",
    "data = np.loadtxt(open(path_csv,\"rb\"),delimiter=\",\",skiprows=1,usecols=[2,3]) \n",
    "print(data.shape)\n",
    "num = 0\n",
    "for i in range(len(data)):\n",
    "    if data[i][1] >= 2.522:\n",
    "        num = num+1\n",
    "print(num)"
   ]
  },
  {
   "cell_type": "code",
   "execution_count": 35,
   "metadata": {},
   "outputs": [
    {
     "name": "stdout",
     "output_type": "stream",
     "text": [
      "(3047, 2)\n",
      "(233355, 2)\n"
     ]
    }
   ],
   "source": [
    "high = data[0:3047][:]\n",
    "print(high.shape)\n",
    "mid = data[3047:236402][:]\n",
    "print(mid.shape)"
   ]
  },
  {
   "cell_type": "code",
   "execution_count": 36,
   "metadata": {},
   "outputs": [
    {
     "name": "stdout",
     "output_type": "stream",
     "text": [
      "(1015, 2)\n",
      "(7778, 2)\n",
      "[[4.95210e+04 4.27700e+00]\n",
      " [4.95200e+04 4.26900e+00]\n",
      " [4.95280e+04 4.26100e+00]\n",
      " ...\n",
      " [5.19630e+04 2.52300e+00]\n",
      " [1.07396e+05 2.52200e+00]\n",
      " [2.28366e+05 2.52200e+00]]\n",
      "[[2.28019e+05 2.52100e+00]\n",
      " [2.13668e+05 2.51700e+00]\n",
      " [2.28021e+05 2.51400e+00]\n",
      " ...\n",
      " [6.90020e+04 1.55000e-02]\n",
      " [1.86238e+05 1.55000e-02]\n",
      " [2.20414e+05 1.55000e-02]]\n"
     ]
    }
   ],
   "source": [
    "highx = np.zeros((int(3047/3), 2))\n",
    "midx = np.zeros((int(233355/30), 2))\n",
    "print(highx.shape)\n",
    "print(midx.shape)\n",
    "for h in range(int(3047/3)):\n",
    "    ht = h*3\n",
    "    highx[h][0] = high[ht][0]\n",
    "    highx[h][1] = high[ht][1]\n",
    "print(highx)\n",
    "for m in range(int(233355/30)):\n",
    "    mt = m*30\n",
    "    midx[m][0] = mid[mt][0]\n",
    "    midx[m][1] = mid[mt][1]\n",
    "print(midx)"
   ]
  },
  {
   "cell_type": "code",
   "execution_count": 37,
   "metadata": {},
   "outputs": [
    {
     "name": "stdout",
     "output_type": "stream",
     "text": [
      "(8793, 2)\n"
     ]
    }
   ],
   "source": [
    "Nuar = np.concatenate([highx, midx])\n",
    "print(Nuar.shape)\n",
    "site = Nuar[:,0]\n",
    "level = Nuar[:,1]\n",
    "df = pd.DataFrame(Nuar,columns=['site','value'])\n",
    "df.to_csv('训练位点和占据率/ch6训练.csv',index=False)"
   ]
  },
  {
   "cell_type": "code",
   "execution_count": null,
   "metadata": {},
   "outputs": [],
   "source": []
  },
  {
   "cell_type": "code",
   "execution_count": 38,
   "metadata": {},
   "outputs": [
    {
     "name": "stdout",
     "output_type": "stream",
     "text": [
      "(983305, 2)\n",
      "18895\n"
     ]
    }
   ],
   "source": [
    "import numpy as np\n",
    "import csv\n",
    "import pandas as pd\n",
    "path_csv = \"分类染色体/ch7.csv\"  \n",
    "data = np.loadtxt(open(path_csv,\"rb\"),delimiter=\",\",skiprows=1,usecols=[2,3]) \n",
    "print(data.shape)\n",
    "num = 0\n",
    "for i in range(len(data)):\n",
    "    if data[i][1] >= 2.753:\n",
    "        num = num+1\n",
    "print(num)"
   ]
  },
  {
   "cell_type": "code",
   "execution_count": 39,
   "metadata": {},
   "outputs": [
    {
     "name": "stdout",
     "output_type": "stream",
     "text": [
      "(18895, 2)\n",
      "(964410, 2)\n"
     ]
    }
   ],
   "source": [
    "high = data[0:18895][:]\n",
    "print(high.shape)\n",
    "mid = data[18895:983305][:]\n",
    "print(mid.shape)"
   ]
  },
  {
   "cell_type": "code",
   "execution_count": 40,
   "metadata": {},
   "outputs": [
    {
     "name": "stdout",
     "output_type": "stream",
     "text": [
      "(6298, 2)\n",
      "(32147, 2)\n",
      "[[1.026191e+06 6.125000e+00]\n",
      " [1.026210e+06 6.097000e+00]\n",
      " [1.026216e+06 6.090000e+00]\n",
      " ...\n",
      " [6.473580e+05 2.753000e+00]\n",
      " [9.825770e+05 2.753000e+00]\n",
      " [9.682120e+05 2.753000e+00]]\n",
      "[[4.120020e+05 2.752000e+00]\n",
      " [9.362810e+05 2.752000e+00]\n",
      " [1.043355e+06 2.751000e+00]\n",
      " ...\n",
      " [6.077000e+03 1.550000e-02]\n",
      " [8.996500e+04 1.550000e-02]\n",
      " [8.994800e+04 1.550000e-02]]\n"
     ]
    }
   ],
   "source": [
    "highx = np.zeros((int(18895/3), 2))\n",
    "midx = np.zeros((int(964410/30), 2))\n",
    "print(highx.shape)\n",
    "print(midx.shape)\n",
    "for h in range(int(18895/3)):\n",
    "    ht = h*3\n",
    "    highx[h][0] = high[ht][0]\n",
    "    highx[h][1] = high[ht][1]\n",
    "print(highx)\n",
    "for m in range(int(964410/30)):\n",
    "    mt = m*30\n",
    "    midx[m][0] = mid[mt][0]\n",
    "    midx[m][1] = mid[mt][1]\n",
    "print(midx)"
   ]
  },
  {
   "cell_type": "code",
   "execution_count": 41,
   "metadata": {},
   "outputs": [
    {
     "name": "stdout",
     "output_type": "stream",
     "text": [
      "(38445, 2)\n"
     ]
    }
   ],
   "source": [
    "Nuar = np.concatenate([highx, midx])\n",
    "print(Nuar.shape)\n",
    "site = Nuar[:,0]\n",
    "level = Nuar[:,1]\n",
    "df = pd.DataFrame(Nuar,columns=['site','value'])\n",
    "df.to_csv('训练位点和占据率/ch7训练.csv',index=False)"
   ]
  },
  {
   "cell_type": "code",
   "execution_count": null,
   "metadata": {},
   "outputs": [],
   "source": []
  },
  {
   "cell_type": "code",
   "execution_count": 42,
   "metadata": {},
   "outputs": [
    {
     "name": "stdout",
     "output_type": "stream",
     "text": [
      "(484641, 2)\n",
      "9618\n"
     ]
    }
   ],
   "source": [
    "import numpy as np\n",
    "import csv\n",
    "import pandas as pd\n",
    "path_csv = \"分类染色体/ch8.csv\"  \n",
    "data = np.loadtxt(open(path_csv,\"rb\"),delimiter=\",\",skiprows=1,usecols=[2,3]) \n",
    "print(data.shape)\n",
    "num = 0\n",
    "for i in range(len(data)):\n",
    "    if data[i][1] >= 2.574:\n",
    "        num = num+1\n",
    "print(num)"
   ]
  },
  {
   "cell_type": "code",
   "execution_count": 43,
   "metadata": {},
   "outputs": [
    {
     "name": "stdout",
     "output_type": "stream",
     "text": [
      "(9618, 2)\n",
      "(475023, 2)\n"
     ]
    }
   ],
   "source": [
    "high = data[0:9618][:]\n",
    "print(high.shape)\n",
    "mid = data[9618:484641][:]\n",
    "print(mid.shape)"
   ]
  },
  {
   "cell_type": "code",
   "execution_count": 44,
   "metadata": {},
   "outputs": [
    {
     "name": "stdout",
     "output_type": "stream",
     "text": [
      "(3206, 2)\n",
      "(15834, 2)\n",
      "[[5.55890e+04 4.41400e+00]\n",
      " [5.55830e+04 4.40700e+00]\n",
      " [5.55790e+04 4.40600e+00]\n",
      " ...\n",
      " [3.25346e+05 2.57400e+00]\n",
      " [5.50800e+04 2.57400e+00]\n",
      " [3.41088e+05 2.57400e+00]]\n",
      "[[2.32717e+05 2.57300e+00]\n",
      " [1.88922e+05 2.57200e+00]\n",
      " [3.28510e+05 2.56900e+00]\n",
      " ...\n",
      " [2.21377e+05 1.55000e-02]\n",
      " [1.08303e+05 1.55000e-02]\n",
      " [2.82612e+05 1.52000e-02]]\n"
     ]
    }
   ],
   "source": [
    "highx = np.zeros((int(9618/3), 2))\n",
    "midx = np.zeros((int(475023/30), 2))\n",
    "print(highx.shape)\n",
    "print(midx.shape)\n",
    "for h in range(int(9618/3)):\n",
    "    ht = h*3\n",
    "    highx[h][0] = high[ht][0]\n",
    "    highx[h][1] = high[ht][1]\n",
    "print(highx)\n",
    "for m in range(int(475023/30)):\n",
    "    mt = m*30\n",
    "    midx[m][0] = mid[mt][0]\n",
    "    midx[m][1] = mid[mt][1]\n",
    "print(midx)"
   ]
  },
  {
   "cell_type": "code",
   "execution_count": 45,
   "metadata": {},
   "outputs": [
    {
     "name": "stdout",
     "output_type": "stream",
     "text": [
      "(19040, 2)\n"
     ]
    }
   ],
   "source": [
    "Nuar = np.concatenate([highx, midx])\n",
    "print(Nuar.shape)\n",
    "site = Nuar[:,0]\n",
    "level = Nuar[:,1]\n",
    "df = pd.DataFrame(Nuar,columns=['site','value'])\n",
    "df.to_csv('训练位点和占据率/ch8训练.csv',index=False)"
   ]
  },
  {
   "cell_type": "code",
   "execution_count": null,
   "metadata": {},
   "outputs": [],
   "source": []
  },
  {
   "cell_type": "code",
   "execution_count": 46,
   "metadata": {},
   "outputs": [
    {
     "name": "stdout",
     "output_type": "stream",
     "text": [
      "(382415, 2)\n",
      "5081\n"
     ]
    }
   ],
   "source": [
    "import numpy as np\n",
    "import csv\n",
    "import pandas as pd\n",
    "path_csv = \"分类染色体/ch9.csv\"  \n",
    "data = np.loadtxt(open(path_csv,\"rb\"),delimiter=\",\",skiprows=1,usecols=[2,3]) \n",
    "print(data.shape)\n",
    "num = 0\n",
    "for i in range(len(data)):\n",
    "    if data[i][1] >= 2.6:\n",
    "        num = num+1\n",
    "print(num)"
   ]
  },
  {
   "cell_type": "code",
   "execution_count": 47,
   "metadata": {},
   "outputs": [
    {
     "name": "stdout",
     "output_type": "stream",
     "text": [
      "(5081, 2)\n",
      "(377334, 2)\n"
     ]
    }
   ],
   "source": [
    "high = data[0:5081][:]\n",
    "print(high.shape)\n",
    "mid = data[5081:382415][:]\n",
    "print(mid.shape)"
   ]
  },
  {
   "cell_type": "code",
   "execution_count": 48,
   "metadata": {},
   "outputs": [
    {
     "name": "stdout",
     "output_type": "stream",
     "text": [
      "(1693, 2)\n",
      "(12577, 2)\n",
      "[[1.06648e+05 3.64600e+00]\n",
      " [1.99986e+05 3.62600e+00]\n",
      " [1.99974e+05 3.62600e+00]\n",
      " ...\n",
      " [4.31273e+05 2.60000e+00]\n",
      " [4.31274e+05 2.60000e+00]\n",
      " [4.31278e+05 2.60000e+00]]\n",
      "[[1.49501e+05 2.59900e+00]\n",
      " [2.53193e+05 2.59800e+00]\n",
      " [5.23850e+04 2.59700e+00]\n",
      " ...\n",
      " [1.05786e+05 1.55000e-02]\n",
      " [2.46001e+05 1.55000e-02]\n",
      " [2.45968e+05 1.55000e-02]]\n"
     ]
    }
   ],
   "source": [
    "highx = np.zeros((int(5081/3), 2))\n",
    "midx = np.zeros((int(377334/30), 2))\n",
    "print(highx.shape)\n",
    "print(midx.shape)\n",
    "for h in range(int(5081/3)):\n",
    "    ht = h*3\n",
    "    highx[h][0] = high[ht][0]\n",
    "    highx[h][1] = high[ht][1]\n",
    "print(highx)\n",
    "for m in range(int(377334/30)):\n",
    "    mt = m*30\n",
    "    midx[m][0] = mid[mt][0]\n",
    "    midx[m][1] = mid[mt][1]\n",
    "print(midx)"
   ]
  },
  {
   "cell_type": "code",
   "execution_count": 49,
   "metadata": {},
   "outputs": [
    {
     "name": "stdout",
     "output_type": "stream",
     "text": [
      "(14270, 2)\n"
     ]
    }
   ],
   "source": [
    "Nuar = np.concatenate([highx, midx])\n",
    "print(Nuar.shape)\n",
    "site = Nuar[:,0]\n",
    "level = Nuar[:,1]\n",
    "df = pd.DataFrame(Nuar,columns=['site','value'])\n",
    "df.to_csv('训练位点和占据率/ch9训练.csv',index=False)"
   ]
  },
  {
   "cell_type": "code",
   "execution_count": null,
   "metadata": {},
   "outputs": [],
   "source": []
  },
  {
   "cell_type": "code",
   "execution_count": 50,
   "metadata": {},
   "outputs": [
    {
     "name": "stdout",
     "output_type": "stream",
     "text": [
      "(659529, 2)\n",
      "12292\n"
     ]
    }
   ],
   "source": [
    "import numpy as np\n",
    "import csv\n",
    "import pandas as pd\n",
    "path_csv = \"分类染色体/ch10.csv\"  \n",
    "data = np.loadtxt(open(path_csv,\"rb\"),delimiter=\",\",skiprows=1,usecols=[2,3]) \n",
    "print(data.shape)\n",
    "num = 0\n",
    "for i in range(len(data)):\n",
    "    if data[i][1] >= 2.712:\n",
    "        num = num+1\n",
    "print(num)"
   ]
  },
  {
   "cell_type": "code",
   "execution_count": 51,
   "metadata": {},
   "outputs": [
    {
     "name": "stdout",
     "output_type": "stream",
     "text": [
      "(12292, 2)\n",
      "(647237, 2)\n"
     ]
    }
   ],
   "source": [
    "high = data[0:12292][:]\n",
    "print(high.shape)\n",
    "mid = data[12292:659529][:]\n",
    "print(mid.shape)"
   ]
  },
  {
   "cell_type": "code",
   "execution_count": 52,
   "metadata": {},
   "outputs": [
    {
     "name": "stdout",
     "output_type": "stream",
     "text": [
      "(4097, 2)\n",
      "(21574, 2)\n",
      "[[3.56328e+05 4.62500e+00]\n",
      " [3.56327e+05 4.59500e+00]\n",
      " [3.56286e+05 4.59200e+00]\n",
      " ...\n",
      " [6.47657e+05 2.71200e+00]\n",
      " [3.37901e+05 2.71200e+00]\n",
      " [3.82550e+05 2.71200e+00]]\n",
      "[[3.59831e+05 2.71100e+00]\n",
      " [6.23744e+05 2.71100e+00]\n",
      " [5.57249e+05 2.71000e+00]\n",
      " ...\n",
      " [3.47283e+05 1.55000e-02]\n",
      " [9.95630e+04 1.55000e-02]\n",
      " [4.36299e+05 1.55000e-02]]\n"
     ]
    }
   ],
   "source": [
    "highx = np.zeros((int(12292/3), 2))\n",
    "midx = np.zeros((int(647237/30), 2))\n",
    "print(highx.shape)\n",
    "print(midx.shape)\n",
    "for h in range(int(12292/3)):\n",
    "    ht = h*3\n",
    "    highx[h][0] = high[ht][0]\n",
    "    highx[h][1] = high[ht][1]\n",
    "print(highx)\n",
    "for m in range(int(647237/30)):\n",
    "    mt = m*30\n",
    "    midx[m][0] = mid[mt][0]\n",
    "    midx[m][1] = mid[mt][1]\n",
    "print(midx)"
   ]
  },
  {
   "cell_type": "code",
   "execution_count": 53,
   "metadata": {},
   "outputs": [
    {
     "name": "stdout",
     "output_type": "stream",
     "text": [
      "(25671, 2)\n"
     ]
    }
   ],
   "source": [
    "Nuar = np.concatenate([highx, midx])\n",
    "print(Nuar.shape)\n",
    "site = Nuar[:,0]\n",
    "level = Nuar[:,1]\n",
    "df = pd.DataFrame(Nuar,columns=['site','value'])\n",
    "df.to_csv('训练位点和占据率/ch10训练.csv',index=False)"
   ]
  },
  {
   "cell_type": "code",
   "execution_count": null,
   "metadata": {},
   "outputs": [],
   "source": []
  },
  {
   "cell_type": "code",
   "execution_count": 54,
   "metadata": {},
   "outputs": [
    {
     "name": "stdout",
     "output_type": "stream",
     "text": [
      "(632626, 2)\n",
      "13357\n"
     ]
    }
   ],
   "source": [
    "import numpy as np\n",
    "import csv\n",
    "import pandas as pd\n",
    "path_csv = \"分类染色体/ch11.csv\"  \n",
    "data = np.loadtxt(open(path_csv,\"rb\"),delimiter=\",\",skiprows=1,usecols=[2,3]) \n",
    "print(data.shape)\n",
    "num = 0\n",
    "for i in range(len(data)):\n",
    "    if data[i][1] >= 2.623:\n",
    "        num = num+1\n",
    "print(num)"
   ]
  },
  {
   "cell_type": "code",
   "execution_count": 55,
   "metadata": {},
   "outputs": [
    {
     "name": "stdout",
     "output_type": "stream",
     "text": [
      "(13357, 2)\n",
      "(619269, 2)\n"
     ]
    }
   ],
   "source": [
    "high = data[0:13357][:]\n",
    "print(high.shape)\n",
    "mid = data[13357:632626][:]\n",
    "print(mid.shape)"
   ]
  },
  {
   "cell_type": "code",
   "execution_count": 56,
   "metadata": {},
   "outputs": [
    {
     "name": "stdout",
     "output_type": "stream",
     "text": [
      "(4452, 2)\n",
      "(20642, 2)\n",
      "[[5.19608e+05 4.88200e+00]\n",
      " [5.19603e+05 4.88200e+00]\n",
      " [5.19606e+05 4.88200e+00]\n",
      " ...\n",
      " [4.99952e+05 2.62300e+00]\n",
      " [3.26811e+05 2.62300e+00]\n",
      " [1.78570e+04 2.62300e+00]]\n",
      "[[5.08801e+05 2.62200e+00]\n",
      " [2.07170e+04 2.62100e+00]\n",
      " [3.69607e+05 2.61900e+00]\n",
      " ...\n",
      " [3.25935e+05 1.55000e-02]\n",
      " [4.39817e+05 1.55000e-02]\n",
      " [4.39857e+05 1.55000e-02]]\n"
     ]
    }
   ],
   "source": [
    "highx = np.zeros((int(13357/3), 2))\n",
    "midx = np.zeros((int(619269/30), 2))\n",
    "print(highx.shape)\n",
    "print(midx.shape)\n",
    "for h in range(int(13357/3)):\n",
    "    ht = h*3\n",
    "    highx[h][0] = high[ht][0]\n",
    "    highx[h][1] = high[ht][1]\n",
    "print(highx)\n",
    "for m in range(int(619269/30)):\n",
    "    mt = m*30\n",
    "    midx[m][0] = mid[mt][0]\n",
    "    midx[m][1] = mid[mt][1]\n",
    "print(midx)"
   ]
  },
  {
   "cell_type": "code",
   "execution_count": 57,
   "metadata": {},
   "outputs": [
    {
     "name": "stdout",
     "output_type": "stream",
     "text": [
      "(25094, 2)\n"
     ]
    }
   ],
   "source": [
    "Nuar = np.concatenate([highx, midx])\n",
    "print(Nuar.shape)\n",
    "site = Nuar[:,0]\n",
    "level = Nuar[:,1]\n",
    "df = pd.DataFrame(Nuar,columns=['site','value'])\n",
    "df.to_csv('训练位点和占据率/ch11训练.csv',index=False)"
   ]
  },
  {
   "cell_type": "code",
   "execution_count": null,
   "metadata": {},
   "outputs": [],
   "source": []
  },
  {
   "cell_type": "code",
   "execution_count": 58,
   "metadata": {},
   "outputs": [
    {
     "name": "stdout",
     "output_type": "stream",
     "text": [
      "(931931, 2)\n",
      "17721\n"
     ]
    }
   ],
   "source": [
    "import numpy as np\n",
    "import csv\n",
    "import pandas as pd\n",
    "path_csv = \"分类染色体/ch12.csv\"  \n",
    "data = np.loadtxt(open(path_csv,\"rb\"),delimiter=\",\",skiprows=1,usecols=[2,3]) \n",
    "print(data.shape)\n",
    "num = 0\n",
    "for i in range(len(data)):\n",
    "    if data[i][1] >= 2.93:\n",
    "        num = num+1\n",
    "print(num)"
   ]
  },
  {
   "cell_type": "code",
   "execution_count": 59,
   "metadata": {},
   "outputs": [
    {
     "name": "stdout",
     "output_type": "stream",
     "text": [
      "(17721, 2)\n",
      "(914210, 2)\n"
     ]
    }
   ],
   "source": [
    "high = data[0:17721][:]\n",
    "print(high.shape)\n",
    "mid = data[17721:931931][:]\n",
    "print(mid.shape)"
   ]
  },
  {
   "cell_type": "code",
   "execution_count": 60,
   "metadata": {},
   "outputs": [
    {
     "name": "stdout",
     "output_type": "stream",
     "text": [
      "(5907, 2)\n",
      "(30473, 2)\n",
      "[[2.51692e+05 5.02900e+00]\n",
      " [2.51694e+05 5.02100e+00]\n",
      " [2.51671e+05 5.01400e+00]\n",
      " ...\n",
      " [8.84443e+05 2.93000e+00]\n",
      " [9.49838e+05 2.93000e+00]\n",
      " [2.54817e+05 2.93000e+00]]\n",
      "[[7.15795e+05 2.92900e+00]\n",
      " [3.89519e+05 2.92800e+00]\n",
      " [1.69521e+05 2.92800e+00]\n",
      " ...\n",
      " [6.99944e+05 1.55000e-02]\n",
      " [5.07612e+05 1.52000e-02]\n",
      " [4.12470e+04 1.52000e-02]]\n"
     ]
    }
   ],
   "source": [
    "highx = np.zeros((int(17721/3), 2))\n",
    "midx = np.zeros((int(914210/30), 2))\n",
    "print(highx.shape)\n",
    "print(midx.shape)\n",
    "for h in range(int(17721/3)):\n",
    "    ht = h*3\n",
    "    highx[h][0] = high[ht][0]\n",
    "    highx[h][1] = high[ht][1]\n",
    "print(highx)\n",
    "for m in range(int(914210/30)):\n",
    "    mt = m*30\n",
    "    midx[m][0] = mid[mt][0]\n",
    "    midx[m][1] = mid[mt][1]\n",
    "print(midx)"
   ]
  },
  {
   "cell_type": "code",
   "execution_count": 61,
   "metadata": {},
   "outputs": [
    {
     "name": "stdout",
     "output_type": "stream",
     "text": [
      "(36380, 2)\n"
     ]
    }
   ],
   "source": [
    "Nuar = np.concatenate([highx, midx])\n",
    "print(Nuar.shape)\n",
    "site = Nuar[:,0]\n",
    "level = Nuar[:,1]\n",
    "df = pd.DataFrame(Nuar,columns=['site','value'])\n",
    "df.to_csv('训练位点和占据率/ch12训练.csv',index=False)"
   ]
  },
  {
   "cell_type": "code",
   "execution_count": null,
   "metadata": {},
   "outputs": [],
   "source": []
  },
  {
   "cell_type": "code",
   "execution_count": 62,
   "metadata": {},
   "outputs": [
    {
     "name": "stdout",
     "output_type": "stream",
     "text": [
      "(848262, 2)\n",
      "17707\n"
     ]
    }
   ],
   "source": [
    "import numpy as np\n",
    "import csv\n",
    "import pandas as pd\n",
    "path_csv = \"分类染色体/ch13.csv\"  \n",
    "data = np.loadtxt(open(path_csv,\"rb\"),delimiter=\",\",skiprows=1,usecols=[2,3]) \n",
    "print(data.shape)\n",
    "num = 0\n",
    "for i in range(len(data)):\n",
    "    if data[i][1] >= 2.703:\n",
    "        num = num+1\n",
    "print(num)"
   ]
  },
  {
   "cell_type": "code",
   "execution_count": 63,
   "metadata": {},
   "outputs": [
    {
     "name": "stdout",
     "output_type": "stream",
     "text": [
      "(17707, 2)\n",
      "(830555, 2)\n"
     ]
    }
   ],
   "source": [
    "high = data[0:17707][:]\n",
    "print(high.shape)\n",
    "mid = data[17707:848262][:]\n",
    "print(mid.shape)"
   ]
  },
  {
   "cell_type": "code",
   "execution_count": 64,
   "metadata": {},
   "outputs": [
    {
     "name": "stdout",
     "output_type": "stream",
     "text": [
      "(5902, 2)\n",
      "(27685, 2)\n",
      "[[1.61213e+05 4.66800e+00]\n",
      " [1.61237e+05 4.66000e+00]\n",
      " [1.61212e+05 4.66000e+00]\n",
      " ...\n",
      " [2.40744e+05 2.70300e+00]\n",
      " [7.10852e+05 2.70300e+00]\n",
      " [6.57949e+05 2.70300e+00]]\n",
      "[[4.6509e+05 2.7020e+00]\n",
      " [1.9971e+04 2.7020e+00]\n",
      " [4.5489e+04 2.7010e+00]\n",
      " ...\n",
      " [8.7036e+04 1.5200e-02]\n",
      " [8.6980e+04 1.5200e-02]\n",
      " [8.6976e+04 1.5200e-02]]\n"
     ]
    }
   ],
   "source": [
    "highx = np.zeros((int(17707/3), 2))\n",
    "midx = np.zeros((int(830555/30), 2))\n",
    "print(highx.shape)\n",
    "print(midx.shape)\n",
    "for h in range(int(17707/3)):\n",
    "    ht = h*3\n",
    "    highx[h][0] = high[ht][0]\n",
    "    highx[h][1] = high[ht][1]\n",
    "print(highx)\n",
    "for m in range(int(830555/30)):\n",
    "    mt = m*30\n",
    "    midx[m][0] = mid[mt][0]\n",
    "    midx[m][1] = mid[mt][1]\n",
    "print(midx)"
   ]
  },
  {
   "cell_type": "code",
   "execution_count": 65,
   "metadata": {},
   "outputs": [
    {
     "name": "stdout",
     "output_type": "stream",
     "text": [
      "(33587, 2)\n"
     ]
    }
   ],
   "source": [
    "Nuar = np.concatenate([highx, midx])\n",
    "print(Nuar.shape)\n",
    "site = Nuar[:,0]\n",
    "level = Nuar[:,1]\n",
    "df = pd.DataFrame(Nuar,columns=['site','value'])\n",
    "df.to_csv('训练位点和占据率/ch13训练.csv',index=False)"
   ]
  },
  {
   "cell_type": "code",
   "execution_count": null,
   "metadata": {},
   "outputs": [],
   "source": []
  },
  {
   "cell_type": "code",
   "execution_count": 66,
   "metadata": {},
   "outputs": [
    {
     "name": "stdout",
     "output_type": "stream",
     "text": [
      "(706446, 2)\n",
      "14017\n"
     ]
    }
   ],
   "source": [
    "import numpy as np\n",
    "import csv\n",
    "import pandas as pd\n",
    "path_csv = \"分类染色体/ch14.csv\"  \n",
    "data = np.loadtxt(open(path_csv,\"rb\"),delimiter=\",\",skiprows=1,usecols=[2,3]) \n",
    "print(data.shape)\n",
    "num = 0\n",
    "for i in range(len(data)):\n",
    "    if data[i][1] >= 2.715:\n",
    "        num = num+1\n",
    "print(num)"
   ]
  },
  {
   "cell_type": "code",
   "execution_count": 67,
   "metadata": {},
   "outputs": [
    {
     "name": "stdout",
     "output_type": "stream",
     "text": [
      "(14017, 2)\n",
      "(692429, 2)\n"
     ]
    }
   ],
   "source": [
    "high = data[0:14017][:]\n",
    "print(high.shape)\n",
    "mid = data[14017:706446][:]\n",
    "print(mid.shape)"
   ]
  },
  {
   "cell_type": "code",
   "execution_count": 68,
   "metadata": {},
   "outputs": [
    {
     "name": "stdout",
     "output_type": "stream",
     "text": [
      "(4672, 2)\n",
      "(23080, 2)\n",
      "[[5.58244e+05 5.19000e+00]\n",
      " [5.58249e+05 5.15800e+00]\n",
      " [5.58236e+05 5.15100e+00]\n",
      " ...\n",
      " [5.87640e+04 2.71500e+00]\n",
      " [6.03014e+05 2.71500e+00]\n",
      " [7.41254e+05 2.71500e+00]]\n",
      "[[5.26312e+05 2.71400e+00]\n",
      " [2.25622e+05 2.71400e+00]\n",
      " [6.20216e+05 2.71300e+00]\n",
      " ...\n",
      " [2.35829e+05 1.55000e-02]\n",
      " [2.83546e+05 1.55000e-02]\n",
      " [2.83520e+05 1.55000e-02]]\n"
     ]
    }
   ],
   "source": [
    "highx = np.zeros((int(14017/3), 2))\n",
    "midx = np.zeros((int(692429/30), 2))\n",
    "print(highx.shape)\n",
    "print(midx.shape)\n",
    "for h in range(int(14017/3)):\n",
    "    ht = h*3\n",
    "    highx[h][0] = high[ht][0]\n",
    "    highx[h][1] = high[ht][1]\n",
    "print(highx)\n",
    "for m in range(int(692429/30)):\n",
    "    mt = m*30\n",
    "    midx[m][0] = mid[mt][0]\n",
    "    midx[m][1] = mid[mt][1]\n",
    "print(midx)"
   ]
  },
  {
   "cell_type": "code",
   "execution_count": 69,
   "metadata": {},
   "outputs": [
    {
     "name": "stdout",
     "output_type": "stream",
     "text": [
      "(27752, 2)\n"
     ]
    }
   ],
   "source": [
    "Nuar = np.concatenate([highx, midx])\n",
    "print(Nuar.shape)\n",
    "site = Nuar[:,0]\n",
    "level = Nuar[:,1]\n",
    "df = pd.DataFrame(Nuar,columns=['site','value'])\n",
    "df.to_csv('训练位点和占据率/ch14训练.csv',index=False)"
   ]
  },
  {
   "cell_type": "code",
   "execution_count": null,
   "metadata": {},
   "outputs": [],
   "source": []
  },
  {
   "cell_type": "code",
   "execution_count": 70,
   "metadata": {},
   "outputs": [
    {
     "name": "stdout",
     "output_type": "stream",
     "text": [
      "(997401, 2)\n",
      "17860\n"
     ]
    }
   ],
   "source": [
    "import numpy as np\n",
    "import csv\n",
    "import pandas as pd\n",
    "path_csv = \"分类染色体/ch15.csv\"  \n",
    "data = np.loadtxt(open(path_csv,\"rb\"),delimiter=\",\",skiprows=1,usecols=[2,3]) \n",
    "print(data.shape)\n",
    "num = 0\n",
    "for i in range(len(data)):\n",
    "    if data[i][1] >= 2.709:\n",
    "        num = num+1\n",
    "print(num)"
   ]
  },
  {
   "cell_type": "code",
   "execution_count": 71,
   "metadata": {},
   "outputs": [
    {
     "name": "stdout",
     "output_type": "stream",
     "text": [
      "(17860, 2)\n",
      "(979541, 2)\n"
     ]
    }
   ],
   "source": [
    "high = data[0:17860][:]\n",
    "print(high.shape)\n",
    "mid = data[17860:997401][:]\n",
    "print(mid.shape)"
   ]
  },
  {
   "cell_type": "code",
   "execution_count": 72,
   "metadata": {},
   "outputs": [
    {
     "name": "stdout",
     "output_type": "stream",
     "text": [
      "(5953, 2)\n",
      "(32651, 2)\n",
      "[[1.62894e+05 4.59800e+00]\n",
      " [1.62892e+05 4.59000e+00]\n",
      " [1.62897e+05 4.59000e+00]\n",
      " ...\n",
      " [5.58970e+04 2.70900e+00]\n",
      " [3.16751e+05 2.70900e+00]\n",
      " [2.04955e+05 2.70900e+00]]\n",
      "[[3.185690e+05 2.708000e+00]\n",
      " [1.064183e+06 2.707000e+00]\n",
      " [4.448360e+05 2.707000e+00]\n",
      " ...\n",
      " [4.570600e+04 1.550000e-02]\n",
      " [1.451820e+05 1.550000e-02]\n",
      " [1.074128e+06 1.520000e-02]]\n"
     ]
    }
   ],
   "source": [
    "highx = np.zeros((int(17860/3), 2))\n",
    "midx = np.zeros((int(979541/30), 2))\n",
    "print(highx.shape)\n",
    "print(midx.shape)\n",
    "for h in range(int(17860/3)):\n",
    "    ht = h*3\n",
    "    highx[h][0] = high[ht][0]\n",
    "    highx[h][1] = high[ht][1]\n",
    "print(highx)\n",
    "for m in range(int(979541/30)):\n",
    "    mt = m*30\n",
    "    midx[m][0] = mid[mt][0]\n",
    "    midx[m][1] = mid[mt][1]\n",
    "print(midx)"
   ]
  },
  {
   "cell_type": "code",
   "execution_count": 73,
   "metadata": {},
   "outputs": [
    {
     "name": "stdout",
     "output_type": "stream",
     "text": [
      "(38604, 2)\n"
     ]
    }
   ],
   "source": [
    "Nuar = np.concatenate([highx, midx])\n",
    "print(Nuar.shape)\n",
    "site = Nuar[:,0]\n",
    "level = Nuar[:,1]\n",
    "df = pd.DataFrame(Nuar,columns=['site','value'])\n",
    "df.to_csv('训练位点和占据率/ch15训练.csv',index=False)"
   ]
  },
  {
   "cell_type": "code",
   "execution_count": null,
   "metadata": {},
   "outputs": [],
   "source": []
  },
  {
   "cell_type": "code",
   "execution_count": 74,
   "metadata": {},
   "outputs": [
    {
     "name": "stdout",
     "output_type": "stream",
     "text": [
      "(856960, 2)\n",
      "20013\n"
     ]
    }
   ],
   "source": [
    "import numpy as np\n",
    "import csv\n",
    "import pandas as pd\n",
    "path_csv = \"分类染色体/ch16.csv\"  \n",
    "data = np.loadtxt(open(path_csv,\"rb\"),delimiter=\",\",skiprows=1,usecols=[2,3]) \n",
    "print(data.shape)\n",
    "num = 0\n",
    "for i in range(len(data)):\n",
    "    if data[i][1] >= 2.62:\n",
    "        num = num+1\n",
    "print(num)"
   ]
  },
  {
   "cell_type": "code",
   "execution_count": 75,
   "metadata": {},
   "outputs": [
    {
     "name": "stdout",
     "output_type": "stream",
     "text": [
      "(20013, 2)\n",
      "(836947, 2)\n"
     ]
    }
   ],
   "source": [
    "high = data[0:20013][:]\n",
    "print(high.shape)\n",
    "mid = data[20013:856960][:]\n",
    "print(mid.shape)"
   ]
  },
  {
   "cell_type": "code",
   "execution_count": 76,
   "metadata": {},
   "outputs": [
    {
     "name": "stdout",
     "output_type": "stream",
     "text": [
      "(6671, 2)\n",
      "(27898, 2)\n",
      "[[5.74588e+05 5.68100e+00]\n",
      " [5.74593e+05 5.68100e+00]\n",
      " [5.74590e+05 5.68100e+00]\n",
      " ...\n",
      " [2.63022e+05 2.62000e+00]\n",
      " [4.61313e+05 2.62000e+00]\n",
      " [7.34301e+05 2.62000e+00]]\n",
      "[[4.22523e+05 2.61900e+00]\n",
      " [8.61912e+05 2.61900e+00]\n",
      " [1.10726e+05 2.61800e+00]\n",
      " ...\n",
      " [6.81024e+05 1.55000e-02]\n",
      " [9.39159e+05 1.55000e-02]\n",
      " [6.81090e+05 1.55000e-02]]\n"
     ]
    }
   ],
   "source": [
    "highx = np.zeros((int(20013/3), 2))\n",
    "midx = np.zeros((int(836947/30), 2))\n",
    "print(highx.shape)\n",
    "print(midx.shape)\n",
    "for h in range(int(20013/3)):\n",
    "    ht = h*3\n",
    "    highx[h][0] = high[ht][0]\n",
    "    highx[h][1] = high[ht][1]\n",
    "print(highx)\n",
    "for m in range(int(836947/30)):\n",
    "    mt = m*30\n",
    "    midx[m][0] = mid[mt][0]\n",
    "    midx[m][1] = mid[mt][1]\n",
    "print(midx)"
   ]
  },
  {
   "cell_type": "code",
   "execution_count": 77,
   "metadata": {},
   "outputs": [
    {
     "name": "stdout",
     "output_type": "stream",
     "text": [
      "(34569, 2)\n"
     ]
    }
   ],
   "source": [
    "Nuar = np.concatenate([highx, midx])\n",
    "print(Nuar.shape)\n",
    "site = Nuar[:,0]\n",
    "level = Nuar[:,1]\n",
    "df = pd.DataFrame(Nuar,columns=['site','value'])\n",
    "df.to_csv('训练位点和占据率/ch16训练.csv',index=False)"
   ]
  },
  {
   "cell_type": "code",
   "execution_count": null,
   "metadata": {},
   "outputs": [],
   "source": []
  },
  {
   "cell_type": "markdown",
   "metadata": {},
   "source": [
    "训练位点数:    6557    29077    9140    54068    19920    8793    38445    19040    14270    25671    25094    36380    33587    27752    38604    34569"
   ]
  },
  {
   "cell_type": "code",
   "execution_count": null,
   "metadata": {},
   "outputs": [],
   "source": []
  },
  {
   "cell_type": "code",
   "execution_count": 78,
   "metadata": {},
   "outputs": [],
   "source": [
    "import numpy as np\n",
    "import pandas as pd\n",
    "import h5py"
   ]
  },
  {
   "cell_type": "code",
   "execution_count": 80,
   "metadata": {},
   "outputs": [
    {
     "name": "stdout",
     "output_type": "stream",
     "text": [
      "(6557,)\n",
      "(29077,)\n",
      "(9140,)\n",
      "(54086,)\n",
      "(19920,)\n",
      "(8793,)\n",
      "(38445,)\n",
      "(19040,)\n",
      "(14270,)\n",
      "(25671,)\n",
      "(25094,)\n",
      "(36380,)\n",
      "(33587,)\n",
      "(27752,)\n",
      "(38604,)\n",
      "(34569,)\n",
      "(420985,)\n",
      "(395314,)\n"
     ]
    }
   ],
   "source": [
    "f1 = np.loadtxt('训练位点和占据率/ch1训练.csv',delimiter=\",\", skiprows=1, usecols=[1]) \n",
    "print(f1.shape)\n",
    "f2 = np.loadtxt('训练位点和占据率/ch2训练.csv',delimiter=\",\", skiprows=1, usecols=[1]) \n",
    "print(f2.shape)\n",
    "f3 = np.loadtxt('训练位点和占据率/ch3训练.csv',delimiter=\",\", skiprows=1, usecols=[1]) \n",
    "print(f3.shape)\n",
    "f4 = np.loadtxt('训练位点和占据率/ch4训练.csv',delimiter=\",\", skiprows=1, usecols=[1]) \n",
    "print(f4.shape)\n",
    "f5 = np.loadtxt('训练位点和占据率/ch5训练.csv',delimiter=\",\", skiprows=1, usecols=[1]) \n",
    "print(f5.shape)\n",
    "f6 = np.loadtxt('训练位点和占据率/ch6训练.csv',delimiter=\",\", skiprows=1, usecols=[1]) \n",
    "print(f6.shape)\n",
    "f7 = np.loadtxt('训练位点和占据率/ch7训练.csv',delimiter=\",\", skiprows=1, usecols=[1]) \n",
    "print(f7.shape)\n",
    "f8 = np.loadtxt('训练位点和占据率/ch8训练.csv',delimiter=\",\", skiprows=1, usecols=[1]) \n",
    "print(f8.shape)\n",
    "f9 = np.loadtxt('训练位点和占据率/ch9训练.csv',delimiter=\",\", skiprows=1, usecols=[1]) \n",
    "print(f9.shape)\n",
    "f10 = np.loadtxt('训练位点和占据率/ch10训练.csv',delimiter=\",\", skiprows=1, usecols=[1]) \n",
    "print(f10.shape)\n",
    "f11 = np.loadtxt('训练位点和占据率/ch11训练.csv',delimiter=\",\", skiprows=1, usecols=[1]) \n",
    "print(f11.shape)\n",
    "f12 = np.loadtxt('训练位点和占据率/ch12训练.csv',delimiter=\",\", skiprows=1, usecols=[1]) \n",
    "print(f12.shape)\n",
    "f13 = np.loadtxt('训练位点和占据率/ch13训练.csv',delimiter=\",\", skiprows=1, usecols=[1]) \n",
    "print(f13.shape)\n",
    "f14 = np.loadtxt('训练位点和占据率/ch14训练.csv',delimiter=\",\", skiprows=1, usecols=[1]) \n",
    "print(f14.shape)\n",
    "f15 = np.loadtxt('训练位点和占据率/ch15训练.csv',delimiter=\",\", skiprows=1, usecols=[1]) \n",
    "print(f15.shape)\n",
    "f16 = np.loadtxt('训练位点和占据率/ch16训练.csv',delimiter=\",\", skiprows=1, usecols=[1]) \n",
    "print(f16.shape)\n",
    "level = np.hstack((f1,f2,f3,f4,f5,f6,f7,f8,f9,f10,f11,f12,f13,f14,f15,f16)) \n",
    "print(level.shape)\n",
    "level_no10 = np.hstack((f1,f2,f3,f4,f5,f6,f7,f8,f9,f11,f12,f13,f14,f15,f16)) \n",
    "print(level_no10.shape)\n",
    "f = h5py.File('训练位点和占据率/训练标签A.h5', 'w')\n",
    "f.create_dataset('level', data=level)\n",
    "f.close()\n",
    "f = h5py.File('训练位点和占据率/训练标签A(no10).h5', 'w')\n",
    "f.create_dataset('level', data=level_no10)\n",
    "f.close()"
   ]
  },
  {
   "cell_type": "code",
   "execution_count": null,
   "metadata": {},
   "outputs": [],
   "source": []
  }
 ],
 "metadata": {
  "kernelspec": {
   "display_name": "Python 3 (ipykernel)",
   "language": "python",
   "name": "python3"
  },
  "language_info": {
   "codemirror_mode": {
    "name": "ipython",
    "version": 3
   },
   "file_extension": ".py",
   "mimetype": "text/x-python",
   "name": "python",
   "nbconvert_exporter": "python",
   "pygments_lexer": "ipython3",
   "version": "3.12.7"
  }
 },
 "nbformat": 4,
 "nbformat_minor": 4
}
