{
 "cells": [
  {
   "cell_type": "code",
   "execution_count": 1,
   "metadata": {},
   "outputs": [],
   "source": [
    "import numpy as np\n",
    "import time\n",
    "from tqdm import tqdm\n",
    "from tensorflow import keras\n",
    "import pandas as pd"
   ]
  },
  {
   "cell_type": "code",
   "execution_count": 2,
   "metadata": {},
   "outputs": [
    {
     "name": "stderr",
     "output_type": "stream",
     "text": [
      "Predicting: 100%|████████████████████| 161677/161677 [2:05:03<00:00, 21.55it/s]\n"
     ]
    }
   ],
   "source": [
    "with open('SAC1基因组去空格/CH1n.txt', \"r\") as f:\n",
    "    strn = f.read()\n",
    "data = np.loadtxt(\"测试位点和占据率/ch1测试.csv\", delimiter=\",\", skiprows=1, usecols=[0, 1])\n",
    "base = ['AA', 'AC', 'AG', 'AT', 'CA', 'CC', 'CG', 'CT', 'GA', 'GC', 'GG', 'GT', 'TA', 'TC', 'TG', 'TT']\n",
    "levelp = np.zeros(data.shape[0])\n",
    "model1 = keras.models.load_model('卷积神经网络模型/chA(no10)模型.h5')\n",
    "for i in tqdm(range(data.shape[0]), desc=\"Predicting\"):\n",
    "    Nuar = np.zeros((1, 16, 146, 1))\n",
    "    s = int(data[i][0])\n",
    "    strs = strn[s-74:s+73]\n",
    "    for n in range(len(base)):\n",
    "        for m in range(len(strs) - 1):\n",
    "            dinu = strs[m] + strs[m + 1]\n",
    "            if dinu == base[n]:\n",
    "                Nuar[0][n][m][0] = 1\n",
    "    result = model1.predict(Nuar)\n",
    "    levelp[i] = result[0][0]\n",
    "np.savetxt(\"染色体预测结果（测试）/ch1_levelp(f).txt\", levelp, fmt='%f', delimiter=',')"
   ]
  },
  {
   "cell_type": "code",
   "execution_count": null,
   "metadata": {},
   "outputs": [],
   "source": []
  },
  {
   "cell_type": "code",
   "execution_count": null,
   "metadata": {},
   "outputs": [],
   "source": [
    "with open('SAC1基因组去空格/CH2n.txt', \"r\") as f:\n",
    "    strn = f.read()\n",
    "data = np.loadtxt(\"测试位点和占据率/ch2测试.csv\", delimiter=\",\", skiprows=1, usecols=[0, 1])\n",
    "base = ['AA', 'AC', 'AG', 'AT', 'CA', 'CC', 'CG', 'CT', 'GA', 'GC', 'GG', 'GT', 'TA', 'TC', 'TG', 'TT']\n",
    "levelp = np.zeros(data.shape[0])\n",
    "model1 = keras.models.load_model('卷积神经网络模型/chA(no10)模型.h5')\n",
    "for i in tqdm(range(data.shape[0]), desc=\"Predicting\"):\n",
    "    Nuar = np.zeros((1, 16, 146, 1))\n",
    "    s = int(data[i][0])\n",
    "    strs = strn[s-74:s+73]\n",
    "    for n in range(len(base)):\n",
    "        for m in range(len(strs) - 1):\n",
    "            dinu = strs[m] + strs[m + 1]\n",
    "            if dinu == base[n]:\n",
    "                Nuar[0][n][m][0] = 1\n",
    "    result = model1.predict(Nuar)\n",
    "    levelp[i] = result[0][0]\n",
    "np.savetxt(\"染色体预测结果（测试）/ch2_levelp(f).txt\", levelp, fmt='%f', delimiter=',')"
   ]
  },
  {
   "cell_type": "code",
   "execution_count": null,
   "metadata": {},
   "outputs": [],
   "source": []
  },
  {
   "cell_type": "code",
   "execution_count": null,
   "metadata": {},
   "outputs": [],
   "source": [
    "with open('SAC1基因组去空格/CH3n.txt', \"r\") as f:\n",
    "    strn = f.read()\n",
    "data = np.loadtxt(\"测试位点和占据率/ch3测试.csv\", delimiter=\",\", skiprows=1, usecols=[0, 1])\n",
    "base = ['AA', 'AC', 'AG', 'AT', 'CA', 'CC', 'CG', 'CT', 'GA', 'GC', 'GG', 'GT', 'TA', 'TC', 'TG', 'TT']\n",
    "levelp = np.zeros(data.shape[0])\n",
    "model1 = keras.models.load_model('卷积神经网络模型/chA(no10)模型.h5')\n",
    "for i in tqdm(range(data.shape[0]), desc=\"Predicting\"):\n",
    "    Nuar = np.zeros((1, 16, 146, 1))\n",
    "    s = int(data[i][0])\n",
    "    strs = strn[s-74:s+73]\n",
    "    for n in range(len(base)):\n",
    "        for m in range(len(strs) - 1):\n",
    "            dinu = strs[m] + strs[m + 1]\n",
    "            if dinu == base[n]:\n",
    "                Nuar[0][n][m][0] = 1\n",
    "    result = model1.predict(Nuar)\n",
    "    levelp[i] = result[0][0]\n",
    "np.savetxt(\"染色体预测结果（测试）/ch3_levelp(f).txt\", levelp, fmt='%f', delimiter=',')"
   ]
  },
  {
   "cell_type": "code",
   "execution_count": null,
   "metadata": {},
   "outputs": [],
   "source": []
  },
  {
   "cell_type": "code",
   "execution_count": null,
   "metadata": {},
   "outputs": [],
   "source": [
    "with open('SAC1基因组去空格/CH4n.txt', \"r\") as f:\n",
    "    strn = f.read()\n",
    "data = np.loadtxt(\"测试位点和占据率/ch4测试.csv\", delimiter=\",\", skiprows=1, usecols=[0, 1])\n",
    "base = ['AA', 'AC', 'AG', 'AT', 'CA', 'CC', 'CG', 'CT', 'GA', 'GC', 'GG', 'GT', 'TA', 'TC', 'TG', 'TT']\n",
    "levelp = np.zeros(data.shape[0])\n",
    "model1 = keras.models.load_model('卷积神经网络模型/chA(no10)模型.h5')\n",
    "for i in tqdm(range(data.shape[0]), desc=\"Predicting\"):\n",
    "    Nuar = np.zeros((1, 16, 146, 1))\n",
    "    s = int(data[i][0])\n",
    "    strs = strn[s-74:s+73]\n",
    "    for n in range(len(base)):\n",
    "        for m in range(len(strs) - 1):\n",
    "            dinu = strs[m] + strs[m + 1]\n",
    "            if dinu == base[n]:\n",
    "                Nuar[0][n][m][0] = 1\n",
    "    result = model1.predict(Nuar)\n",
    "    levelp[i] = result[0][0]\n",
    "np.savetxt(\"染色体预测结果（测试）/ch4_levelp(f).txt\", levelp, fmt='%f', delimiter=',')"
   ]
  },
  {
   "cell_type": "code",
   "execution_count": null,
   "metadata": {},
   "outputs": [],
   "source": []
  },
  {
   "cell_type": "code",
   "execution_count": null,
   "metadata": {},
   "outputs": [],
   "source": [
    "with open('SAC1基因组去空格/CH5n.txt', \"r\") as f:\n",
    "    strn = f.read()\n",
    "data = np.loadtxt(\"测试位点和占据率/ch5测试.csv\", delimiter=\",\", skiprows=1, usecols=[0, 1])\n",
    "base = ['AA', 'AC', 'AG', 'AT', 'CA', 'CC', 'CG', 'CT', 'GA', 'GC', 'GG', 'GT', 'TA', 'TC', 'TG', 'TT']\n",
    "levelp = np.zeros(data.shape[0])\n",
    "model1 = keras.models.load_model('卷积神经网络模型/chA(no10)模型.h5')\n",
    "for i in tqdm(range(data.shape[0]), desc=\"Predicting\"):\n",
    "    Nuar = np.zeros((1, 16, 146, 1))\n",
    "    s = int(data[i][0])\n",
    "    strs = strn[s-74:s+73]\n",
    "    for n in range(len(base)):\n",
    "        for m in range(len(strs) - 1):\n",
    "            dinu = strs[m] + strs[m + 1]\n",
    "            if dinu == base[n]:\n",
    "                Nuar[0][n][m][0] = 1\n",
    "    result = model1.predict(Nuar)\n",
    "    levelp[i] = result[0][0]\n",
    "np.savetxt(\"染色体预测结果（测试）/ch5_levelp(f).txt\", levelp, fmt='%f', delimiter=',')"
   ]
  },
  {
   "cell_type": "code",
   "execution_count": null,
   "metadata": {},
   "outputs": [],
   "source": []
  },
  {
   "cell_type": "code",
   "execution_count": null,
   "metadata": {},
   "outputs": [],
   "source": [
    "with open('SAC1基因组去空格/CH6n.txt', \"r\") as f:\n",
    "    strn = f.read()\n",
    "data = np.loadtxt(\"测试位点和占据率/ch6测试.csv\", delimiter=\",\", skiprows=1, usecols=[0, 1])\n",
    "base = ['AA', 'AC', 'AG', 'AT', 'CA', 'CC', 'CG', 'CT', 'GA', 'GC', 'GG', 'GT', 'TA', 'TC', 'TG', 'TT']\n",
    "levelp = np.zeros(data.shape[0])\n",
    "model1 = keras.models.load_model('卷积神经网络模型/chA(no10)模型.h5')\n",
    "for i in tqdm(range(data.shape[0]), desc=\"Predicting\"):\n",
    "    Nuar = np.zeros((1, 16, 146, 1))\n",
    "    s = int(data[i][0])\n",
    "    strs = strn[s-74:s+73]\n",
    "    for n in range(len(base)):\n",
    "        for m in range(len(strs) - 1):\n",
    "            dinu = strs[m] + strs[m + 1]\n",
    "            if dinu == base[n]:\n",
    "                Nuar[0][n][m][0] = 1\n",
    "    result = model1.predict(Nuar)\n",
    "    levelp[i] = result[0][0]\n",
    "np.savetxt(\"染色体预测结果（测试）/ch6_levelp(f).txt\", levelp, fmt='%f', delimiter=',')"
   ]
  },
  {
   "cell_type": "code",
   "execution_count": null,
   "metadata": {},
   "outputs": [],
   "source": []
  },
  {
   "cell_type": "code",
   "execution_count": null,
   "metadata": {},
   "outputs": [],
   "source": [
    "with open('SAC1基因组去空格/CH7n.txt', \"r\") as f:\n",
    "    strn = f.read()\n",
    "data = np.loadtxt(\"测试位点和占据率/ch7测试.csv\", delimiter=\",\", skiprows=1, usecols=[0, 1])\n",
    "base = ['AA', 'AC', 'AG', 'AT', 'CA', 'CC', 'CG', 'CT', 'GA', 'GC', 'GG', 'GT', 'TA', 'TC', 'TG', 'TT']\n",
    "levelp = np.zeros(data.shape[0])\n",
    "model1 = keras.models.load_model('卷积神经网络模型/chA(no10)模型.h5')\n",
    "for i in tqdm(range(data.shape[0]), desc=\"Predicting\"):\n",
    "    Nuar = np.zeros((1, 16, 146, 1))\n",
    "    s = int(data[i][0])\n",
    "    strs = strn[s-74:s+73]\n",
    "    for n in range(len(base)):\n",
    "        for m in range(len(strs) - 1):\n",
    "            dinu = strs[m] + strs[m + 1]\n",
    "            if dinu == base[n]:\n",
    "                Nuar[0][n][m][0] = 1\n",
    "    result = model1.predict(Nuar)\n",
    "    levelp[i] = result[0][0]\n",
    "np.savetxt(\"染色体预测结果（测试）/ch7_levelp(f).txt\", levelp, fmt='%f', delimiter=',')"
   ]
  },
  {
   "cell_type": "code",
   "execution_count": null,
   "metadata": {},
   "outputs": [],
   "source": []
  },
  {
   "cell_type": "code",
   "execution_count": null,
   "metadata": {},
   "outputs": [],
   "source": [
    "with open('SAC1基因组去空格/CH8n.txt', \"r\") as f:\n",
    "    strn = f.read()\n",
    "data = np.loadtxt(\"测试位点和占据率/ch8测试.csv\", delimiter=\",\", skiprows=1, usecols=[0, 1])\n",
    "base = ['AA', 'AC', 'AG', 'AT', 'CA', 'CC', 'CG', 'CT', 'GA', 'GC', 'GG', 'GT', 'TA', 'TC', 'TG', 'TT']\n",
    "levelp = np.zeros(data.shape[0])\n",
    "model1 = keras.models.load_model('卷积神经网络模型/chA(no10)模型.h5')\n",
    "for i in tqdm(range(data.shape[0]), desc=\"Predicting\"):\n",
    "    Nuar = np.zeros((1, 16, 146, 1))\n",
    "    s = int(data[i][0])\n",
    "    strs = strn[s-74:s+73]\n",
    "    for n in range(len(base)):\n",
    "        for m in range(len(strs) - 1):\n",
    "            dinu = strs[m] + strs[m + 1]\n",
    "            if dinu == base[n]:\n",
    "                Nuar[0][n][m][0] = 1\n",
    "    result = model1.predict(Nuar)\n",
    "    levelp[i] = result[0][0]\n",
    "np.savetxt(\"染色体预测结果（测试）/ch8_levelp(f).txt\", levelp, fmt='%f', delimiter=',')"
   ]
  },
  {
   "cell_type": "code",
   "execution_count": null,
   "metadata": {},
   "outputs": [],
   "source": []
  },
  {
   "cell_type": "code",
   "execution_count": null,
   "metadata": {},
   "outputs": [],
   "source": [
    "with open('SAC1基因组去空格/CH9n.txt', \"r\") as f:\n",
    "    strn = f.read()\n",
    "data = np.loadtxt(\"测试位点和占据率/ch9测试.csv\", delimiter=\",\", skiprows=1, usecols=[0, 1])\n",
    "base = ['AA', 'AC', 'AG', 'AT', 'CA', 'CC', 'CG', 'CT', 'GA', 'GC', 'GG', 'GT', 'TA', 'TC', 'TG', 'TT']\n",
    "levelp = np.zeros(data.shape[0])\n",
    "model1 = keras.models.load_model('卷积神经网络模型/chA(no10)模型.h5')\n",
    "for i in tqdm(range(data.shape[0]), desc=\"Predicting\"):\n",
    "    Nuar = np.zeros((1, 16, 146, 1))\n",
    "    s = int(data[i][0])\n",
    "    strs = strn[s-74:s+73]\n",
    "    for n in range(len(base)):\n",
    "        for m in range(len(strs) - 1):\n",
    "            dinu = strs[m] + strs[m + 1]\n",
    "            if dinu == base[n]:\n",
    "                Nuar[0][n][m][0] = 1\n",
    "    result = model1.predict(Nuar)\n",
    "    levelp[i] = result[0][0]\n",
    "np.savetxt(\"染色体预测结果（测试）/ch9_levelp(f).txt\", levelp, fmt='%f', delimiter=',')"
   ]
  },
  {
   "cell_type": "code",
   "execution_count": null,
   "metadata": {},
   "outputs": [],
   "source": []
  },
  {
   "cell_type": "code",
   "execution_count": null,
   "metadata": {},
   "outputs": [],
   "source": [
    "with open('SAC1基因组去空格/CH10n.txt', \"r\") as f:\n",
    "    strn = f.read()\n",
    "data = np.loadtxt(\"测试位点和占据率/ch10测试.csv\", delimiter=\",\", skiprows=1, usecols=[0, 1])\n",
    "base = ['AA', 'AC', 'AG', 'AT', 'CA', 'CC', 'CG', 'CT', 'GA', 'GC', 'GG', 'GT', 'TA', 'TC', 'TG', 'TT']\n",
    "levelp = np.zeros(data.shape[0])\n",
    "model1 = keras.models.load_model('卷积神经网络模型/chA(no10)模型.h5')\n",
    "for i in tqdm(range(data.shape[0]), desc=\"Predicting\"):\n",
    "    Nuar = np.zeros((1, 16, 146, 1))\n",
    "    s = int(data[i][0])\n",
    "    strs = strn[s-74:s+73]\n",
    "    for n in range(len(base)):\n",
    "        for m in range(len(strs) - 1):\n",
    "            dinu = strs[m] + strs[m + 1]\n",
    "            if dinu == base[n]:\n",
    "                Nuar[0][n][m][0] = 1\n",
    "    result = model1.predict(Nuar)\n",
    "    levelp[i] = result[0][0]\n",
    "np.savetxt(\"染色体预测结果（测试）/ch10_levelp(f).txt\", levelp, fmt='%f', delimiter=',')"
   ]
  },
  {
   "cell_type": "code",
   "execution_count": null,
   "metadata": {},
   "outputs": [],
   "source": []
  },
  {
   "cell_type": "code",
   "execution_count": null,
   "metadata": {},
   "outputs": [],
   "source": [
    "with open('SAC1基因组去空格/CH11n.txt', \"r\") as f:\n",
    "    strn = f.read()\n",
    "data = np.loadtxt(\"测试位点和占据率/ch11测试.csv\", delimiter=\",\", skiprows=1, usecols=[0, 1])\n",
    "base = ['AA', 'AC', 'AG', 'AT', 'CA', 'CC', 'CG', 'CT', 'GA', 'GC', 'GG', 'GT', 'TA', 'TC', 'TG', 'TT']\n",
    "levelp = np.zeros(data.shape[0])\n",
    "model1 = keras.models.load_model('卷积神经网络模型/chA(no10)模型.h5')\n",
    "for i in tqdm(range(data.shape[0]), desc=\"Predicting\"):\n",
    "    Nuar = np.zeros((1, 16, 146, 1))\n",
    "    s = int(data[i][0])\n",
    "    strs = strn[s-74:s+73]\n",
    "    for n in range(len(base)):\n",
    "        for m in range(len(strs) - 1):\n",
    "            dinu = strs[m] + strs[m + 1]\n",
    "            if dinu == base[n]:\n",
    "                Nuar[0][n][m][0] = 1\n",
    "    result = model1.predict(Nuar)\n",
    "    levelp[i] = result[0][0]\n",
    "np.savetxt(\"染色体预测结果（测试）/ch11_levelp(f).txt\", levelp, fmt='%f', delimiter=',')"
   ]
  },
  {
   "cell_type": "code",
   "execution_count": null,
   "metadata": {},
   "outputs": [],
   "source": []
  },
  {
   "cell_type": "code",
   "execution_count": null,
   "metadata": {},
   "outputs": [],
   "source": [
    "with open('SAC1基因组去空格/CH12n.txt', \"r\") as f:\n",
    "    strn = f.read()\n",
    "data = np.loadtxt(\"测试位点和占据率/ch12测试.csv\", delimiter=\",\", skiprows=1, usecols=[0, 1])\n",
    "base = ['AA', 'AC', 'AG', 'AT', 'CA', 'CC', 'CG', 'CT', 'GA', 'GC', 'GG', 'GT', 'TA', 'TC', 'TG', 'TT']\n",
    "levelp = np.zeros(data.shape[0])\n",
    "model1 = keras.models.load_model('卷积神经网络模型/chA(no10)模型.h5')\n",
    "for i in tqdm(range(data.shape[0]), desc=\"Predicting\"):\n",
    "    Nuar = np.zeros((1, 16, 146, 1))\n",
    "    s = int(data[i][0])\n",
    "    strs = strn[s-74:s+73]\n",
    "    for n in range(len(base)):\n",
    "        for m in range(len(strs) - 1):\n",
    "            dinu = strs[m] + strs[m + 1]\n",
    "            if dinu == base[n]:\n",
    "                Nuar[0][n][m][0] = 1\n",
    "    result = model1.predict(Nuar)\n",
    "    levelp[i] = result[0][0]\n",
    "np.savetxt(\"染色体预测结果（测试）/ch12_levelp(f).txt\", levelp, fmt='%f', delimiter=',')"
   ]
  },
  {
   "cell_type": "code",
   "execution_count": null,
   "metadata": {},
   "outputs": [],
   "source": []
  },
  {
   "cell_type": "code",
   "execution_count": null,
   "metadata": {},
   "outputs": [],
   "source": [
    "with open('SAC1基因组去空格/CH13n.txt', \"r\") as f:\n",
    "    strn = f.read()\n",
    "data = np.loadtxt(\"测试位点和占据率/ch13测试.csv\", delimiter=\",\", skiprows=1, usecols=[0, 1])\n",
    "base = ['AA', 'AC', 'AG', 'AT', 'CA', 'CC', 'CG', 'CT', 'GA', 'GC', 'GG', 'GT', 'TA', 'TC', 'TG', 'TT']\n",
    "levelp = np.zeros(data.shape[0])\n",
    "model1 = keras.models.load_model('卷积神经网络模型/chA(no10)模型.h5')\n",
    "for i in tqdm(range(data.shape[0]), desc=\"Predicting\"):\n",
    "    Nuar = np.zeros((1, 16, 146, 1))\n",
    "    s = int(data[i][0])\n",
    "    strs = strn[s-74:s+73]\n",
    "    for n in range(len(base)):\n",
    "        for m in range(len(strs) - 1):\n",
    "            dinu = strs[m] + strs[m + 1]\n",
    "            if dinu == base[n]:\n",
    "                Nuar[0][n][m][0] = 1\n",
    "    result = model1.predict(Nuar)\n",
    "    levelp[i] = result[0][0]\n",
    "np.savetxt(\"染色体预测结果（测试）/ch13_levelp(f).txt\", levelp, fmt='%f', delimiter=',')"
   ]
  },
  {
   "cell_type": "code",
   "execution_count": null,
   "metadata": {},
   "outputs": [],
   "source": []
  },
  {
   "cell_type": "code",
   "execution_count": null,
   "metadata": {},
   "outputs": [],
   "source": [
    "with open('SAC1基因组去空格/CH14n.txt', \"r\") as f:\n",
    "    strn = f.read()\n",
    "data = np.loadtxt(\"测试位点和占据率/ch14测试.csv\", delimiter=\",\", skiprows=1, usecols=[0, 1])\n",
    "base = ['AA', 'AC', 'AG', 'AT', 'CA', 'CC', 'CG', 'CT', 'GA', 'GC', 'GG', 'GT', 'TA', 'TC', 'TG', 'TT']\n",
    "levelp = np.zeros(data.shape[0])\n",
    "model1 = keras.models.load_model('卷积神经网络模型/chA(no10)模型.h5')\n",
    "for i in tqdm(range(data.shape[0]), desc=\"Predicting\"):\n",
    "    Nuar = np.zeros((1, 16, 146, 1))\n",
    "    s = int(data[i][0])\n",
    "    strs = strn[s-74:s+73]\n",
    "    for n in range(len(base)):\n",
    "        for m in range(len(strs) - 1):\n",
    "            dinu = strs[m] + strs[m + 1]\n",
    "            if dinu == base[n]:\n",
    "                Nuar[0][n][m][0] = 1\n",
    "    result = model1.predict(Nuar)\n",
    "    levelp[i] = result[0][0]\n",
    "np.savetxt(\"染色体预测结果（测试）/ch14_levelp(f).txt\", levelp, fmt='%f', delimiter=',')"
   ]
  },
  {
   "cell_type": "code",
   "execution_count": null,
   "metadata": {},
   "outputs": [],
   "source": []
  },
  {
   "cell_type": "code",
   "execution_count": null,
   "metadata": {},
   "outputs": [],
   "source": [
    "with open('SAC1基因组去空格/CH15n.txt', \"r\") as f:\n",
    "    strn = f.read()\n",
    "data = np.loadtxt(\"测试位点和占据率/ch15测试.csv\", delimiter=\",\", skiprows=1, usecols=[0, 1])\n",
    "base = ['AA', 'AC', 'AG', 'AT', 'CA', 'CC', 'CG', 'CT', 'GA', 'GC', 'GG', 'GT', 'TA', 'TC', 'TG', 'TT']\n",
    "levelp = np.zeros(data.shape[0])\n",
    "model1 = keras.models.load_model('卷积神经网络模型/chA(no10)模型.h5')\n",
    "for i in tqdm(range(data.shape[0]), desc=\"Predicting\"):\n",
    "    Nuar = np.zeros((1, 16, 146, 1))\n",
    "    s = int(data[i][0])\n",
    "    strs = strn[s-74:s+73]\n",
    "    for n in range(len(base)):\n",
    "        for m in range(len(strs) - 1):\n",
    "            dinu = strs[m] + strs[m + 1]\n",
    "            if dinu == base[n]:\n",
    "                Nuar[0][n][m][0] = 1\n",
    "    result = model1.predict(Nuar)\n",
    "    levelp[i] = result[0][0]\n",
    "np.savetxt(\"染色体预测结果（测试）/ch15_levelp(f).txt\", levelp, fmt='%f', delimiter=',')"
   ]
  },
  {
   "cell_type": "code",
   "execution_count": null,
   "metadata": {},
   "outputs": [],
   "source": []
  },
  {
   "cell_type": "code",
   "execution_count": null,
   "metadata": {},
   "outputs": [],
   "source": [
    "with open('SAC1基因组去空格/CH16n.txt', \"r\") as f:\n",
    "    strn = f.read()\n",
    "data = np.loadtxt(\"测试位点和占据率/ch16测试.csv\", delimiter=\",\", skiprows=1, usecols=[0, 1])\n",
    "base = ['AA', 'AC', 'AG', 'AT', 'CA', 'CC', 'CG', 'CT', 'GA', 'GC', 'GG', 'GT', 'TA', 'TC', 'TG', 'TT']\n",
    "levelp = np.zeros(data.shape[0])\n",
    "model1 = keras.models.load_model('卷积神经网络模型/chA(no10)模型.h5')\n",
    "for i in tqdm(range(data.shape[0]), desc=\"Predicting\"):\n",
    "    Nuar = np.zeros((1, 16, 146, 1))\n",
    "    s = int(data[i][0])\n",
    "    strs = strn[s-74:s+73]\n",
    "    for n in range(len(base)):\n",
    "        for m in range(len(strs) - 1):\n",
    "            dinu = strs[m] + strs[m + 1]\n",
    "            if dinu == base[n]:\n",
    "                Nuar[0][n][m][0] = 1\n",
    "    result = model1.predict(Nuar)\n",
    "    levelp[i] = result[0][0]\n",
    "np.savetxt(\"染色体预测结果（测试）/ch16_levelp(f).txt\", levelp, fmt='%f', delimiter=',')"
   ]
  },
  {
   "cell_type": "code",
   "execution_count": null,
   "metadata": {},
   "outputs": [],
   "source": []
  }
 ],
 "metadata": {
  "kernelspec": {
   "display_name": "Python 3 (ipykernel)",
   "language": "python",
   "name": "python3"
  },
  "language_info": {
   "codemirror_mode": {
    "name": "ipython",
    "version": 3
   },
   "file_extension": ".py",
   "mimetype": "text/x-python",
   "name": "python",
   "nbconvert_exporter": "python",
   "pygments_lexer": "ipython3",
   "version": "3.12.7"
  }
 },
 "nbformat": 4,
 "nbformat_minor": 4
}
